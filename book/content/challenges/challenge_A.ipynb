{
 "cells": [
  {
   "cell_type": "markdown",
   "metadata": {},
   "source": [
    "# Description\n",
    "\n",
    "## Description\n",
    "\n",
    "A $2 \\ \\mathrm{cm}$-thick substrate of Eurofer is coated with alumina to reduce hydrogen permeation. \n",
    "\n",
    "The 2.5 $\\mu \\text{m}$-thick coating is applied **to the right-hand side only** ($\\Gamma_\\mathrm{R}$).\n",
    "\n",
    "The left-hand side surface ($\\Gamma_\\mathrm{L}$) is exposed to a partial pressure of $\\mathrm{H}_2$ of 10 bar at a fixed temperature of $600 \\ \\mathrm{K}$.\n",
    "\n",
    "Edge-effects are negligible, therefore the geometry is assumed to be 1D.\n",
    "\n",
    "<div align=\"center\">\n",
    "\t<img src=\"https://github.com/user-attachments/assets/6e783b47-923d-46d2-acd8-da8df6dde4f9\">\n",
    "</div>\n",
    "\n",
    "**📖 Task: Evaluate the effectiveness of this barrier by quantifying the PRF:**\n",
    "\n",
    "$$\n",
    "\\text{PRF} = \\frac{\\Phi_{\\text{uncoated}}}{\\Phi_{\\text{coated}}}\n",
    "$$\n",
    "\n",
    "The transport properties for the Eurofer and alumina can be found below:"
   ]
  },
  {
   "cell_type": "code",
   "execution_count": 1,
   "metadata": {},
   "outputs": [
    {
     "name": "stdout",
     "output_type": "stream",
     "text": [
      "Diffusivity of Eurofer: \n",
      " \n",
      "        Author: Chen\n",
      "        Material: eurofer_97\n",
      "        Year: 2021\n",
      "        Isotope: D\n",
      "        Pre-exponential factor: 3.12×10⁻⁸ m²/s\n",
      "        Activation energy: 6.14×10⁻² eV/particle\n",
      "        \n",
      "Solubility of Eurofer: \n",
      " \n",
      "        Author: Chen\n",
      "        Material: eurofer_97\n",
      "        Year: 2021\n",
      "        Isotope: D\n",
      "        Pre-exponential factor: 2.41×10²³ particle/m³/Pa⁰⋅⁵\n",
      "        Activation energy: 3.03×10⁻¹ eV/particle\n",
      "        \n"
     ]
    }
   ],
   "source": [
    "import h_transport_materials as htm\n",
    "\n",
    "# eurofer properties\n",
    "D_eurofer = htm.diffusivities.filter(material=\"eurofer_97\").filter(\n",
    "    author=\"chen\"\n",
    ")[0]\n",
    "\n",
    "S_eurofer = htm.solubilities.filter(material=\"eurofer_97\").filter(\n",
    "    author=\"chen\"\n",
    ")[0]\n",
    "\n",
    "print(f\"Diffusivity of Eurofer: \\n {D_eurofer}\")\n",
    "print(f\"Solubility of Eurofer: \\n {S_eurofer}\")"
   ]
  },
  {
   "cell_type": "code",
   "execution_count": 2,
   "metadata": {},
   "outputs": [
    {
     "name": "stdout",
     "output_type": "stream",
     "text": [
      "Diffusivity of alumina: \n",
      " \n",
      "        Author: Serra\n",
      "        Material: alumina\n",
      "        Year: 2004\n",
      "        Isotope: H\n",
      "        Pre-exponential factor: 7.87×10⁻⁸ m²/s\n",
      "        Activation energy: 8.07×10⁻¹ eV/particle\n",
      "        \n",
      "Solubility of alumina: \n",
      " \n",
      "        Author: Serra\n",
      "        Material: alumina\n",
      "        Year: 2004\n",
      "        Isotope: H\n",
      "        Pre-exponential factor: 3.74×10²¹ particle/m³/Pa⁰⋅⁵\n",
      "        Activation energy: 2.45×10⁻¹ eV/particle\n",
      "        \n"
     ]
    }
   ],
   "source": [
    "# Al2O3 properties\n",
    "diffusivity_al2o3 = (\n",
    "    htm.diffusivities.filter(material=\"alumina\")\n",
    "    .filter(isotope=\"h\")\n",
    "    .filter(author=\"serra\")\n",
    ")[0]\n",
    "\n",
    "solubility_al2o3 = (\n",
    "    htm.solubilities.filter(material=\"alumina\")\n",
    "    .filter(isotope=\"h\")\n",
    "    .filter(author=\"serra\")\n",
    ")[0]\n",
    "\n",
    "print(f\"Diffusivity of alumina: \\n {diffusivity_al2o3}\")\n",
    "print(f\"Solubility of alumina: \\n {solubility_al2o3}\")"
   ]
  },
  {
   "cell_type": "markdown",
   "metadata": {},
   "source": [
    "💡**Hint**: remember that you don't have to manually copy-paste these values and you can directly integrate HTM with FESTIM. See [Task 09](https://github.com/festim-dev/FESTIM-workshop/blob/UKAEA_workshop/tasks/task09.ipynb)."
   ]
  },
  {
   "cell_type": "markdown",
   "metadata": {},
   "source": [
    "## Your answer"
   ]
  },
  {
   "cell_type": "code",
   "execution_count": 3,
   "metadata": {},
   "outputs": [],
   "source": [
    "import festim as F\n",
    "\n",
    "# YOUR CODE GOES HERE ..."
   ]
  }
 ],
 "metadata": {
  "kernelspec": {
   "display_name": "festim-env",
   "language": "python",
   "name": "python3"
  },
  "language_info": {
   "codemirror_mode": {
    "name": "ipython",
    "version": 3
   },
   "file_extension": ".py",
   "mimetype": "text/x-python",
   "name": "python",
   "nbconvert_exporter": "python",
   "pygments_lexer": "ipython3",
   "version": "3.11.9"
  }
 },
 "nbformat": 4,
 "nbformat_minor": 2
}
