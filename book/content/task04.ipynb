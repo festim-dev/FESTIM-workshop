{
   "cells": [
      {
         "attachments": {},
         "cell_type": "markdown",
         "metadata": {},
         "source": [
            "# Permeation barrier modelling\n",
            "\n",
            "In this task, we will model permeation barriers on tungsten and compute the associated Permeation Reduction Factor (PRF).\n",
            "\n",
            "The PRF is the ratio of the steady state permeation flux without barriers by that of the case with barriers."
         ]
      },
      {
         "attachments": {},
         "cell_type": "markdown",
         "metadata": {},
         "source": [
            "## 1) Model with barrier\n",
            "\n",
            "Let's first create a model where tungsten is coated with 1 micron of barrier material on both sides."
         ]
      },
      {
         "cell_type": "code",
         "execution_count": 1,
         "metadata": {},
         "outputs": [],
         "source": [
            "import festim as F\n",
            "\n",
            "model_barrier = F.HydrogenTransportProblemDiscontinuous()"
         ]
      },
      {
         "attachments": {},
         "cell_type": "markdown",
         "metadata": {},
         "source": [
            "Let's create three `Material` instances for the three subdomains and assign it to `model_barrier.materials`.\n",
            "\n",
            "> Note:\n",
            ">\n",
            "> By default, the solubility law of the materials is `\"sievert\"`.\n",
            ">\n",
            "> However, it can be changed by overriding the `solubility_law` argument to `\"henry\"`"
         ]
      },
      {
         "cell_type": "code",
         "execution_count": 2,
         "metadata": {},
         "outputs": [],
         "source": [
            "barrier_thick = 1e-6\n",
            "substrate_thick = 3e-3\n",
            "\n",
            "barrier = F.Material(\n",
            "    D_0=1e-8,\n",
            "    E_D=0.39,\n",
            "    K_S_0=1e22,\n",
            "    E_K_S=1.04,\n",
            ")\n",
            "\n",
            "tungsten = F.Material(\n",
            "    D_0=4.1e-7,\n",
            "    E_D=0.39,\n",
            "    K_S_0=1.87e24,\n",
            "    E_K_S=1.04,\n",
            ")\n",
            "\n",
            "volume_barrier_left = F.VolumeSubdomain1D(\n",
            "    id=1, borders=[0, barrier_thick], material=barrier\n",
            ")\n",
            "volume_tungsten = F.VolumeSubdomain1D(\n",
            "    id=2, borders=[barrier_thick, substrate_thick + barrier_thick], material=tungsten\n",
            ")\n",
            "volume_barrier_right = F.VolumeSubdomain1D(\n",
            "    id=3,\n",
            "    borders=[substrate_thick + barrier_thick, substrate_thick + 2 * barrier_thick],\n",
            "    material=barrier,\n",
            ")\n",
            "\n",
            "boundary_left = F.SurfaceSubdomain1D(id=1, x=0)\n",
            "boundary_right = F.SurfaceSubdomain1D(id=2, x=substrate_thick + 2 * barrier_thick)\n",
            "\n",
            "model_barrier.subdomains = [\n",
            "    volume_barrier_left,\n",
            "    volume_tungsten,\n",
            "    volume_barrier_right,\n",
            "    boundary_left,\n",
            "    boundary_right,\n",
            "]\n"
         ]
      },
      {
         "cell_type": "code",
         "execution_count": 3,
         "metadata": {},
         "outputs": [],
         "source": [
            "model_barrier.surface_to_volume = {\n",
            "    boundary_left: volume_barrier_left,\n",
            "    boundary_right: volume_barrier_right,\n",
            "}\n",
            "\n",
            "model_barrier.interfaces = [\n",
            "    F.Interface(id=3, subdomains=[volume_barrier_left, volume_tungsten], penalty_term=1e10),\n",
            "    F.Interface(id=4, subdomains=[volume_tungsten, volume_barrier_right], penalty_term=1e10),\n",
            "]"
         ]
      },
      {
         "cell_type": "code",
         "execution_count": 4,
         "metadata": {},
         "outputs": [],
         "source": [
            "H = F.Species(\"H\", subdomains=model_barrier.volume_subdomains)\n",
            "model_barrier.species = [H]"
         ]
      },
      {
         "attachments": {},
         "cell_type": "markdown",
         "metadata": {},
         "source": [
            "To avoid cells overlapping the domains boundaries, we create 3 lists of vertices."
         ]
      },
      {
         "cell_type": "code",
         "execution_count": 5,
         "metadata": {},
         "outputs": [],
         "source": [
            "import numpy as np\n",
            "\n",
            "vertices_left = np.linspace(0, barrier_thick, num=50)\n",
            "\n",
            "vertices_mid = np.linspace(barrier_thick, substrate_thick + barrier_thick, num=50)\n",
            "\n",
            "vertices_right = np.linspace(\n",
            "    substrate_thick + barrier_thick, substrate_thick + 2 * barrier_thick, num=50\n",
            ")\n",
            "\n",
            "vertices = np.concatenate([vertices_left, vertices_mid, vertices_right])\n",
            "\n",
            "model_barrier.mesh = F.Mesh1D(vertices)"
         ]
      },
      {
         "attachments": {},
         "cell_type": "markdown",
         "metadata": {},
         "source": [
            "The temperature is homogeneous across the domain."
         ]
      },
      {
         "cell_type": "code",
         "execution_count": 6,
         "metadata": {},
         "outputs": [],
         "source": [
            "model_barrier.temperature = 600"
         ]
      },
      {
         "attachments": {},
         "cell_type": "markdown",
         "metadata": {},
         "source": [
            "A Sievert's boundary condition is applied on the left surface and the concentration is assumed to be zero on the right surface."
         ]
      },
      {
         "cell_type": "code",
         "execution_count": 7,
         "metadata": {},
         "outputs": [],
         "source": [
            "left_bc = F.SievertsBC(\n",
            "    subdomain=boundary_left, S_0=barrier.K_S_0, E_S=barrier.E_K_S, pressure=100, species=H\n",
            ")\n",
            "\n",
            "right_bc = F.FixedConcentrationBC(species=H, subdomain=boundary_right, value=0)\n",
            "\n",
            "model_barrier.boundary_conditions = [left_bc, right_bc]"
         ]
      },
      {
         "attachments": {},
         "cell_type": "markdown",
         "metadata": {},
         "source": [
            "For this task, we want to compute the permeation flux, that is the flux at the right surface.\n",
            "\n",
            "We will also export the concentration profiles at three different times"
         ]
      },
      {
         "cell_type": "code",
         "execution_count": 8,
         "metadata": {},
         "outputs": [],
         "source": [
            "class ProfileExport(F.TotalVolume):\n",
            "\n",
            "    def compute(self, u, dx, entity_maps):\n",
            "        profile = u.x.array[:].copy()\n",
            "\n",
            "        self.data.append(profile)\n"
         ]
      },
      {
         "cell_type": "code",
         "execution_count": 9,
         "metadata": {},
         "outputs": [],
         "source": [
            "permeation_flux = F.SurfaceFlux(field=H, surface=boundary_right)\n",
            "\n",
            "model_barrier.exports = [permeation_flux]"
         ]
      },
      {
         "attachments": {},
         "cell_type": "markdown",
         "metadata": {},
         "source": [
            "In order to ensure the conservation of chemical potential at interfaces, the argument `chemical_pot=True` has to be specified.\n",
            "\n",
            "The reason it is fault by default is to save performance."
         ]
      },
      {
         "cell_type": "code",
         "execution_count": 10,
         "metadata": {},
         "outputs": [],
         "source": [
            "model_barrier.settings = F.Settings(\n",
            "    atol=1e0,\n",
            "    rtol=1e-09,\n",
            "    final_time=8e5,\n",
            ")\n",
            "\n",
            "\n",
            "model_barrier.settings.stepsize = F.Stepsize(\n",
            "    initial_value=5, growth_factor=1.1, cutback_factor=0.9, target_nb_iterations=4, milestones=[100, 17000, 8e5]\n",
            ")"
         ]
      },
      {
         "cell_type": "code",
         "execution_count": 11,
         "metadata": {},
         "outputs": [
            {
               "data": {
                  "application/vnd.jupyter.widget-view+json": {
                     "model_id": "5713e8c92c9f4a0bbc3b624508b0c37a",
                     "version_major": 2,
                     "version_minor": 0
                  },
                  "text/plain": [
                     "Solving HydrogenTransportProblemDiscontinuous:   0%|          | 0.00/800k [00:00<?, ?it/s]"
                  ]
               },
               "metadata": {},
               "output_type": "display_data"
            }
         ],
         "source": [
            "model_barrier.initialise()\n",
            "model_barrier.run()"
         ]
      },
      {
         "attachments": {},
         "cell_type": "markdown",
         "metadata": {},
         "source": [
            "We can plot the concentration profiles at different times and notice the jump of concentrations at interfaces:"
         ]
      },
      {
         "attachments": {},
         "cell_type": "markdown",
         "metadata": {},
         "source": [
            "## 2) Model without barrier\n",
            "\n",
            "We can also run the equivalent model without permeation barriers with bare tungsten.\n",
            "Let's make a few modifications:"
         ]
      },
      {
         "cell_type": "code",
         "execution_count": 12,
         "metadata": {},
         "outputs": [
            {
               "data": {
                  "application/vnd.jupyter.widget-view+json": {
                     "model_id": "1d536fcafc904632afa31ce48943c9f6",
                     "version_major": 2,
                     "version_minor": 0
                  },
                  "text/plain": [
                     "Solving HydrogenTransportProblem:   0%|          | 0.00/800k [00:00<?, ?it/s]"
                  ]
               },
               "metadata": {},
               "output_type": "display_data"
            }
         ],
         "source": [
            "model_no_barrier = F.HydrogenTransportProblem()\n",
            "\n",
            "boundary_left = F.SurfaceSubdomain1D(id=1, x=barrier_thick)\n",
            "boundary_right = F.SurfaceSubdomain1D(id=2, x=substrate_thick + 1 * barrier_thick)\n",
            "model_no_barrier.subdomains = [volume_tungsten, boundary_left, boundary_right]\n",
            "\n",
            "# new mesh\n",
            "model_no_barrier.mesh = F.Mesh1D(np.linspace(*volume_tungsten.borders, num=50))\n",
            "\n",
            "# change the solubility of the Sievert's condition\n",
            "left_bc.S_0 = tungsten.K_S_0\n",
            "left_bc.E_S = tungsten.E_K_S\n",
            "\n",
            "model_no_barrier.temperature = model_barrier.temperature\n",
            "model_no_barrier.boundary_conditions = model_barrier.boundary_conditions\n",
            "model_no_barrier.species = model_barrier.species\n",
            "\n",
            "model_no_barrier.settings = model_barrier.settings\n",
            "\n",
            "\n",
            "permeation_flux_no_barrier = F.SurfaceFlux(field=H, surface=boundary_right)\n",
            "model_no_barrier.exports = [permeation_flux_no_barrier]\n",
            "\n",
            "model_no_barrier.initialise()\n",
            "model_no_barrier.run()"
         ]
      },
      {
         "attachments": {},
         "cell_type": "markdown",
         "metadata": {},
         "source": [
            "## 3) Calculate the PRF"
         ]
      },
      {
         "attachments": {},
         "cell_type": "markdown",
         "metadata": {},
         "source": [
            "We can plot the temporal evolution of permeation flux with or without permeation barriers:"
         ]
      },
      {
         "cell_type": "code",
         "execution_count": 13,
         "metadata": {},
         "outputs": [
            {
               "data": {
                  "image/png": "[encoded data removed]",
                  "text/plain": [
                     "<Figure size 640x480 with 1 Axes>"
                  ]
               },
               "metadata": {},
               "output_type": "display_data"
            }
         ],
         "source": [
            "import matplotlib.pyplot as plt\n",
            "plt.figure()\n",
            "\n",
            "plt.plot(permeation_flux_no_barrier.t, permeation_flux_no_barrier.data, label=\"without barrier\")\n",
            "plt.plot(permeation_flux.t, permeation_flux.data, label=\"with barrier\")\n",
            "\n",
            "plt.xscale(\"log\")\n",
            "plt.legend()\n",
            "plt.xlabel(\"Time (s)\")\n",
            "plt.ylabel(\"Permeation flux (H/m2/s)\")\n",
            "plt.show()"
         ]
      },
      {
         "attachments": {},
         "cell_type": "markdown",
         "metadata": {},
         "source": [
            "Clearly, having the coating on both sides reduces the permeation flux!\n",
            "\n",
            "Moreover, it can be shown that the PRF of this configuration is:\n",
            "\n",
            "$$\\mathrm{PRF} = 1 + 2 \\alpha \\beta \\gamma$$\n",
            "\n",
            "With \n",
            "\n",
            "$$\\alpha = D_\\mathrm{substrate} / D_\\mathrm{barrier} $$\n",
            "\n",
            "$$\\beta = S_\\mathrm{substrate} / S_\\mathrm{barrier} $$\n",
            "\n",
            "$$\\gamma = e_\\mathrm{barrier} / e_\\mathrm{substrate} $$\n",
            "\n",
            "We can compare the computed PRF to the theory."
         ]
      },
      {
         "cell_type": "code",
         "execution_count": 14,
         "metadata": {},
         "outputs": [
            {
               "name": "stdout",
               "output_type": "stream",
               "text": [
                  "Theoretical PRF = 6.1113\n",
                  "Computed PRF = 6.0617\n",
                  "Error = -0.81%\n"
               ]
            }
         ],
         "source": [
            "computed_PRF = permeation_flux_no_barrier.data[-1] / permeation_flux.data[-1]\n",
            "\n",
            "diff_ratio = tungsten.D_0 / barrier.D_0\n",
            "sol_ratio = tungsten.K_S_0 / barrier.K_S_0\n",
            "length_ratio = barrier_thick / substrate_thick\n",
            "\n",
            "theoretical_PRF = 1 + 2 * diff_ratio * sol_ratio * length_ratio\n",
            "\n",
            "print(f\"Theoretical PRF = {theoretical_PRF:.4f}\")\n",
            "print(f\"Computed PRF = {computed_PRF:.4f}\")\n",
            "print(f\"Error = {(computed_PRF - theoretical_PRF)/theoretical_PRF:.2%}\")"
         ]
      },
      {
         "attachments": {},
         "cell_type": "markdown",
         "metadata": {},
         "source": [
            "# Question\n",
            "Will adding traps to the simulation change the value of the PRF?\n",
            "\n",
            "<details>\n",
            "<summary>Show solution</summary>\n",
            "<br>\n",
            "No. The PRF is a measure of the flux of mobile particles and is computed at steady state.\n",
            "\n",
            "At steady state, the McNabb & Foster model states that the concentration of mobile particle is independent of the trapped concentration.\n",
            "\n",
            "Therefore, the steady state PRF is independent of trapping.\n",
            "\n",
            "</details>"
         ]
      }
   ],
   "metadata": {
      "kernelspec": {
         "display_name": "festim-workshop",
         "language": "python",
         "name": "python3"
      },
      "language_info": {
         "codemirror_mode": {
            "name": "ipython",
            "version": 3
         },
         "file_extension": ".py",
         "mimetype": "text/x-python",
         "name": "python",
         "nbconvert_exporter": "python",
         "pygments_lexer": "ipython3",
         "version": "3.13.3"
      },
      "orig_nbformat": 4
   },
   "nbformat": 4,
   "nbformat_minor": 2
}
