{
 "cells": [
  {
   "cell_type": "markdown",
   "metadata": {},
   "source": [
    "# Fitting a TDS spectrum\n",
    "\n",
    "In this task, we'll perform an automated identification of trapping site properties using a parametric optimisation algorithm.\n",
    "See [R. Delaporte-Mathurin et al. NME (2021)](https://doi.org/10.1016/j.nme.2021.100984) for more details."
   ]
  },
  {
   "cell_type": "markdown",
   "metadata": {},
   "source": [
    "## TDS model"
   ]
  },
  {
   "cell_type": "markdown",
   "metadata": {},
   "source": [
    "We have to define our FESTIM model, which we'll use in both task steps. The simulation will be performed for the case of H desorption from a W domain. Using the HTM library, we can get parameters of the H diffusivity in W that are required to set up the model."
   ]
  },
  {
   "cell_type": "code",
   "execution_count": null,
   "metadata": {},
   "outputs": [],
   "source": [
    "import h_transport_materials as htm\n",
    "\n",
    "D = (\n",
    "    htm.diffusivities.filter(material=\"tungsten\")\n",
    "    .filter(isotope=\"h\")\n",
    "    .filter(author=\"fernandez\")[0]\n",
    ")\n",
    "print(D)"
   ]
  },
  {
   "cell_type": "markdown",
   "metadata": {},
   "source": [
    "For this task, we'll consider a simplified simulation scenario. Firstly, we'll set only one sort of trapping site characterised by a detrapping barrier `E_p` [eV] and uniformly distributed in the W domain with concentration `n` [at. fr.]. Secondly, we'll assume that this W sample was kept in a H environment infinetly long, so all the trap sites were filled with H atoms. Thirdly, we'll suppose that all mobile H atoms leave the sample before the TDS. Finally, we'll simulate simulate the TDS phase assuming a uniform heating ramp of 5 K/s.\n",
    "\n",
    "The initial conditions are:\n",
    "$$ \\left.c_{\\mathrm{m}}\\right\\vert_{t=0}=0 $$\n",
    "$$ \\left.c_{\\mathrm{t}}\\right\\vert_{t=0}=n $$\n",
    "which we'll set using the `InitialCondition` class.\n",
    "\n",
    "For the boundary conditions, we'll use the assumption of an instantaneous recombination (using `DirichletBC`):\n",
    "$$ \\left.c_{\\mathrm{m}}\\right\\vert_{x=0}=\\left.c_{\\mathrm{m}}\\right\\vert_{x=L}=0 $$\n",
    "\n",
    "For the fitting stage, we have to treat the detrapping energy and the trap concentration as variable parameters. Therefore, we'll define a function that encapsulates our `Simulation` object and accepts two input parameters: the trap density and detrapping energy."
   ]
  },
  {
   "cell_type": "code",
   "execution_count": null,
   "metadata": {},
   "outputs": [],
   "source": [
    "import festim as F\n",
    "import numpy as np\n",
    "\n",
    "import warnings\n",
    "\n",
    "warnings.filterwarnings(\"ignore\", category=DeprecationWarning)\n",
    "\n",
    "\n",
    "def TDS(n, E_p):\n",
    "    \"\"\"Runs the simulation with parameters p that represent:\n",
    "\n",
    "    Args:\n",
    "        n (float): concentration of trap 1, at. fr.\n",
    "        E_p (float): detrapping barrier from trap 1, eV\n",
    "\n",
    "    Returns:\n",
    "        F.DerivedQuantities: the derived quantities of the simulation\n",
    "    \"\"\"\n",
    "    w_atom_density = 6.3e28  # atom/m3\n",
    "    trap_conc = n * w_atom_density\n",
    "\n",
    "    # Define Simulation object\n",
    "    synthetic_TDS = F.Simulation()\n",
    "\n",
    "    # Define a simple mesh\n",
    "    vertices = np.linspace(0, 20e-6, num=200)\n",
    "    synthetic_TDS.mesh = F.MeshFromVertices(vertices)\n",
    "\n",
    "    # Define material properties\n",
    "    tungsten = F.Material(\n",
    "        id=1,\n",
    "        D_0=D.pre_exp.magnitude,\n",
    "        E_D=D.act_energy.magnitude,\n",
    "    )\n",
    "    synthetic_TDS.materials = tungsten\n",
    "\n",
    "    # Define traps\n",
    "    trap_1 = F.Trap(\n",
    "        k_0=D.pre_exp.magnitude / (1.1e-10**2 * 6 * w_atom_density),\n",
    "        E_k=D.act_energy.magnitude,\n",
    "        p_0=1e13,\n",
    "        E_p=E_p,\n",
    "        density=trap_conc,\n",
    "        materials=tungsten,\n",
    "    )\n",
    "\n",
    "    synthetic_TDS.traps = [trap_1]\n",
    "\n",
    "    # Set initial conditions\n",
    "    synthetic_TDS.initial_conditions = [\n",
    "        F.InitialCondition(field=\"1\", value=trap_conc),\n",
    "    ]\n",
    "\n",
    "    # Set boundary conditions\n",
    "    synthetic_TDS.boundary_conditions = [\n",
    "        F.DirichletBC(surfaces=[1, 2], value=0, field=0)\n",
    "    ]\n",
    "\n",
    "    # Define the material temperature evolution\n",
    "    ramp = 5  # K/s\n",
    "    synthetic_TDS.T = 300 + ramp * (F.t)\n",
    "\n",
    "    # Define the simulation settings\n",
    "    synthetic_TDS.dt = F.Stepsize(\n",
    "        initial_value=0.01,\n",
    "        stepsize_change_ratio=1.2,\n",
    "        max_stepsize=lambda t: None if t < 1 else 1,\n",
    "        dt_min=1e-6,\n",
    "    )\n",
    "\n",
    "    synthetic_TDS.settings = F.Settings(\n",
    "        absolute_tolerance=1e10,\n",
    "        relative_tolerance=1e-10,\n",
    "        final_time=140,\n",
    "        maximum_iterations=50,\n",
    "    )\n",
    "\n",
    "    # Define the exports\n",
    "    derived_quantities = F.DerivedQuantities(\n",
    "        [\n",
    "            F.HydrogenFlux(surface=1),\n",
    "            F.HydrogenFlux(surface=2),\n",
    "            F.AverageVolume(field=\"T\", volume=1),\n",
    "        ]\n",
    "    )\n",
    "\n",
    "    synthetic_TDS.exports = [derived_quantities]\n",
    "    synthetic_TDS.initialise()\n",
    "    synthetic_TDS.run()\n",
    "\n",
    "    return derived_quantities"
   ]
  },
  {
   "cell_type": "markdown",
   "metadata": {},
   "source": [
    "## Generate dummy data\n",
    "\n",
    "Now we can generate a reference TDS spectrum. For the reference case, we'll consider the following parameters: $n=0.01~\\text{at.fr}$ and $E_p=1~\\text{eV}$."
   ]
  },
  {
   "cell_type": "code",
   "execution_count": null,
   "metadata": {},
   "outputs": [],
   "source": [
    "# Get the flux dependence\n",
    "reference_prms = [1e-2, 1.0]\n",
    "data = TDS(*reference_prms)"
   ]
  },
  {
   "cell_type": "markdown",
   "metadata": {},
   "source": [
    "Additionally, we can add some noise to the generated TDS spectra to mimic the experimental conditions. We'll also save the noisy flux dependence on temperature into a file to use it further as a reference data."
   ]
  },
  {
   "cell_type": "code",
   "execution_count": null,
   "metadata": {},
   "outputs": [],
   "source": [
    "import matplotlib.pyplot as plt\n",
    "import os \n",
    "\n",
    "# Get temperature\n",
    "T = data.filter(fields=\"T\").data\n",
    "\n",
    "# Calculate the total desorptio flux\n",
    "flux_left = data.filter(fields=\"solute\", surfaces=1).data\n",
    "flux_right = data.filter(fields=\"solute\", surfaces=2).data\n",
    "flux_total = -(np.array(flux_left) + np.array(flux_right))\n",
    "\n",
    "# Add random noise\n",
    "noise = np.random.normal(0, 0.05 * max(flux_total), len(flux_total))\n",
    "noisy_flux = flux_total + noise\n",
    "\n",
    "# Save to file\n",
    "np.savetxt(\n",
    "    \"./task10/Noisy_TDS.csv\", np.column_stack([T, noisy_flux]), delimiter=\";\", fmt=\"%f\"\n",
    ")\n",
    "\n",
    "# Visualise\n",
    "plt.plot(T, noisy_flux, linewidth=2)\n",
    "\n",
    "plt.ylabel(r\"Desorption flux (m$^{-2}$ s$^{-1}$)\")\n",
    "plt.xlabel(r\"Temperature (K)\")\n",
    "plt.show()"
   ]
  },
  {
   "cell_type": "markdown",
   "metadata": {},
   "source": [
    "# Automated TDS fit"
   ]
  },
  {
   "cell_type": "markdown",
   "metadata": {},
   "source": [
    "Here we'll define the algorithm to fit the generated TDS spectra using the [`minimize`](https://docs.scipy.org/doc/scipy/reference/generated/scipy.optimize.minimize.html) method from the `scipy.optimize` python library. The initial implementation of the algorithm can be found in [this repository](https://github.com/RemDelaporteMathurin/tds_optimisation/tree/main). We'll try to find the values of the detrapping barrier and the trap concetration so the average absolute error between the reference and the fitted spectras satisfies the required tolerance. To start with, we'll read our reference data and define an auxiliary method to display information on the status of fitting."
   ]
  },
  {
   "cell_type": "code",
   "execution_count": null,
   "metadata": {},
   "outputs": [],
   "source": [
    "ref = np.genfromtxt(\"./task10/Noisy_TDS.csv\", delimiter=\";\")\n",
    "\n",
    "\n",
    "def info(i, p):\n",
    "    \"\"\"\n",
    "    Print information during the fitting procedure\n",
    "    \"\"\"\n",
    "    print(\"-\" * 40)\n",
    "    print(f\"i = {i}\")\n",
    "    print(\"New simulation.\")\n",
    "    print(f\"Point is: {p}\")"
   ]
  },
  {
   "cell_type": "markdown",
   "metadata": {},
   "source": [
    "Then, we define an error function `error_function` that:\n",
    "- runs the TDS model with a given set of parameters\n",
    "- calculates the mean absolute error between the reference and the simulated TDS\n",
    "- collects intermediate values of parameters and the calculated errors for visualisation purposes"
   ]
  },
  {
   "cell_type": "code",
   "execution_count": null,
   "metadata": {},
   "outputs": [],
   "source": [
    "from scipy.interpolate import interp1d\n",
    "\n",
    "prms = []\n",
    "errors = []\n",
    "\n",
    "\n",
    "def error_function(prm):\n",
    "    \"\"\"\n",
    "    Compute average absolute error between simulation and reference\n",
    "    \"\"\"\n",
    "    global i\n",
    "    global prms\n",
    "    global errors\n",
    "    prms.append(prm)\n",
    "    i += 1\n",
    "    info(i, prm)\n",
    "\n",
    "    # Filter the results if a negative value is found\n",
    "    if any([e < 0 for e in prm]):\n",
    "        return 1e30\n",
    "\n",
    "    # Get the simulation result\n",
    "    n, Ep = prm\n",
    "    res = TDS(n, Ep)\n",
    "\n",
    "    T = np.array(res.filter(fields=\"T\").data)\n",
    "    flux = -np.array(res.filter(fields=\"solute\", surfaces=1).data) - np.array(\n",
    "        res.filter(fields=\"solute\", surfaces=2).data\n",
    "    )\n",
    "\n",
    "    # Plot the intermediate TDS spectra\n",
    "    if i == 1:\n",
    "        plt.plot(T, flux, color=\"tab:red\", lw=2, label=\"Initial guess\")\n",
    "    else:\n",
    "        plt.plot(T, flux, color=\"tab:grey\", lw=0.5)\n",
    "\n",
    "    interp_tds = interp1d(T, flux, fill_value=\"extrapolate\")\n",
    "\n",
    "    # Compute the mean absolute error between sim and ref\n",
    "    err = np.abs(interp_tds(ref[:, 0]) - ref[:, 1]).mean()\n",
    "\n",
    "    print(f\"Average absolute error is : {err:.2e}\")\n",
    "    errors.append(err)\n",
    "    return err"
   ]
  },
  {
   "cell_type": "markdown",
   "metadata": {},
   "source": [
    "Finally, we'll minimise `error_function` to find the set of trap properties reproducing the reference TDS (within some tolerance). \n",
    "\n",
    "We'll use the Nelder-Mead minimisation algorithm with the initial guess: $n=0.02~\\text{at.fr.}$ and $E_p=1.1~\\text{eV}$."
   ]
  },
  {
   "cell_type": "code",
   "execution_count": null,
   "metadata": {},
   "outputs": [],
   "source": [
    "from scipy.optimize import minimize\n",
    "\n",
    "i = 0  # initialise counter\n",
    "\n",
    "# Set the tolerances\n",
    "fatol = 1e18\n",
    "xatol = 1e-3\n",
    "\n",
    "initial_guess = [2e-2, 1.1]\n",
    "\n",
    "# Minimise the error function\n",
    "res = minimize(\n",
    "    error_function,\n",
    "    np.array(initial_guess),\n",
    "    method=\"Nelder-Mead\",\n",
    "    options={\"disp\": True, \"fatol\": fatol, \"xatol\": xatol},\n",
    ")\n",
    "\n",
    "# Process the obtained results\n",
    "predicted_data = TDS(*res.x)\n",
    "\n",
    "T = predicted_data.filter(fields=\"T\").data\n",
    "\n",
    "flux_left = predicted_data.filter(fields=\"solute\", surfaces=1).data\n",
    "flux_right = predicted_data.filter(fields=\"solute\", surfaces=2).data\n",
    "flux_total = -(np.array(flux_left) + np.array(flux_right))\n",
    "\n",
    "# Visualise\n",
    "plt.plot(ref[:, 0], ref[:, 1], linewidth=2, label=\"Reference\")\n",
    "plt.plot(T, flux_total, linewidth=2, label=\"Optimised\")\n",
    "\n",
    "plt.ylabel(r\"Desorption flux (m$^{-2}$ s$^{-1}$)\")\n",
    "plt.xlabel(r\"Temperature (K)\")\n",
    "plt.legend()\n",
    "plt.show()"
   ]
  },
  {
   "cell_type": "markdown",
   "metadata": {},
   "source": [
    "Additionally, we can visualise how the parameters and the computed error varied during the optimisation process."
   ]
  },
  {
   "cell_type": "code",
   "execution_count": null,
   "metadata": {},
   "outputs": [],
   "source": [
    "plt.scatter(\n",
    "    np.array(prms)[:, 0], np.array(prms)[:, 1], c=np.array(errors), cmap=\"viridis\"\n",
    ")\n",
    "plt.plot(np.array(prms)[:, 0], np.array(prms)[:, 1], color=\"tab:grey\", lw=0.5)\n",
    "\n",
    "plt.scatter(*reference_prms, c=\"tab:red\")\n",
    "plt.annotate(\n",
    "    \"Reference\",\n",
    "    xy=reference_prms,\n",
    "    xytext=(reference_prms[0] - 0.003, reference_prms[1] + 0.1),\n",
    "    arrowprops=dict(facecolor=\"black\", arrowstyle=\"-|>\"),\n",
    ")\n",
    "plt.annotate(\n",
    "    \"Initial guess\",\n",
    "    xy=initial_guess,\n",
    "    xytext=(initial_guess[0] - 0.004, initial_guess[1] + 0.05),\n",
    "    arrowprops=dict(facecolor=\"black\", arrowstyle=\"-|>\"),\n",
    ")\n",
    "\n",
    "plt.xlabel(r\"Trap 1 concentration (at. fr.)\")\n",
    "plt.ylabel(r\"Detrapping barrier (eV)\")\n",
    "plt.show()"
   ]
  }
 ],
 "metadata": {
  "kernelspec": {
   "display_name": "festim-workshop",
   "language": "python",
   "name": "python3"
  },
  "language_info": {
   "codemirror_mode": {
    "name": "ipython",
    "version": 3
   },
   "file_extension": ".py",
   "mimetype": "text/x-python",
   "name": "python",
   "nbconvert_exporter": "python",
   "pygments_lexer": "ipython3",
   "version": "3.11.11"
  }
 },
 "nbformat": 4,
 "nbformat_minor": 2
}
