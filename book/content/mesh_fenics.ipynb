{
 "cells": [
  {
   "cell_type": "markdown",
   "id": "fb7b6492",
   "metadata": {},
   "source": [
    "# DOLFINx meshes\n",
    "\n",
    "DOLFINx provides a range of simple built-in meshes that are useful for quick testing and solving basic problems. You can find more information about the available mesh types, as well as tools for creating, refining, and marking meshes, in the [DOLFINx mesh documentation](https://docs.fenicsproject.org/dolfinx/v0.9.0/python/generated/dolfinx.mesh.html).\n",
    "\n",
    "In this tutorial, we will cover the following:\n",
    "\n",
    "- How to create basic meshes using DOLFINx  \n",
    "- How to apply mesh transformations  \n",
    "- How to use these meshes in a FESTIM simulation  \n",
    "- How to define and label subdomains on DOLFINx meshes  "
   ]
  },
  {
   "cell_type": "markdown",
   "id": "a9dcb577",
   "metadata": {},
   "source": [
    "## Built-in DOLFINx meshes\n",
    "\n",
    "The `create_unit_square` function in DOLFINx generates a structured, 2D mesh of the unit square, divided into a specified number of cells in the x and y directions. This is useful for simple test cases and provides a convenient starting point for setting up simulations."
   ]
  },
  {
   "cell_type": "code",
   "execution_count": 1,
   "id": "5167f89b",
   "metadata": {},
   "outputs": [],
   "source": [
    "from dolfinx.mesh import create_unit_square\n",
    "from mpi4py import MPI\n",
    "\n",
    "nx, ny = 10, 10  # Number of divisions in x and y directions\n",
    "mesh = create_unit_square(MPI.COMM_WORLD, nx, ny)"
   ]
  },
  {
   "cell_type": "code",
   "execution_count": 2,
   "id": "1ff3a04d",
   "metadata": {
    "tags": [
     "hide-input"
    ]
   },
   "outputs": [
    {
     "data": {
      "application/vnd.jupyter.widget-view+json": {
       "model_id": "1ac1ae31a909438f8fe29cdb776d4c2c",
       "version_major": 2,
       "version_minor": 0
      },
      "text/plain": [
       "EmbeddableWidget(value='<iframe srcdoc=\"<!DOCTYPE html>\\n<html>\\n  <head>\\n    <meta http-equiv=&quot;Content-…"
      ]
     },
     "metadata": {},
     "output_type": "display_data"
    }
   ],
   "source": [
    "from dolfinx import plot\n",
    "import pyvista\n",
    "\n",
    "pyvista.start_xvfb()\n",
    "pyvista.set_jupyter_backend(\"html\")\n",
    "\n",
    "\n",
    "tdim = mesh.topology.dim\n",
    "\n",
    "mesh.topology.create_connectivity(tdim, tdim)\n",
    "topology, cell_types, geometry = plot.vtk_mesh(mesh, tdim)\n",
    "grid = pyvista.UnstructuredGrid(topology, cell_types, geometry)\n",
    "\n",
    "plotter = pyvista.Plotter()\n",
    "plotter.add_mesh(grid, show_edges=True)\n",
    "plotter.view_xy()\n",
    "if not pyvista.OFF_SCREEN:\n",
    "    plotter.show()\n",
    "else:\n",
    "    figure = plotter.screenshot(\"mesh.png\")"
   ]
  },
  {
   "cell_type": "markdown",
   "id": "7eaae4fb",
   "metadata": {},
   "source": [
    "Similarly, the `create_unit_cube` function creates a 3D mesh of the unit cube, subdivided into a specified number of cells along the x, y, and z directions. It is useful for testing and developing 3D simulations."
   ]
  },
  {
   "cell_type": "code",
   "execution_count": 3,
   "id": "67a19260",
   "metadata": {},
   "outputs": [],
   "source": [
    "from dolfinx.mesh import create_unit_cube\n",
    "from mpi4py import MPI\n",
    "\n",
    "nx, ny, nz = 10, 10, 10  # Number of divisions in x, y, and z directions\n",
    "mesh = create_unit_cube(MPI.COMM_WORLD, nx, ny, nz)"
   ]
  },
  {
   "cell_type": "code",
   "execution_count": 4,
   "id": "031b93af",
   "metadata": {
    "tags": [
     "hide-input"
    ]
   },
   "outputs": [
    {
     "data": {
      "application/vnd.jupyter.widget-view+json": {
       "model_id": "c1e22a9deb6f4a99a55a997c6a9d7b93",
       "version_major": 2,
       "version_minor": 0
      },
      "text/plain": [
       "EmbeddableWidget(value='<iframe srcdoc=\"<!DOCTYPE html>\\n<html>\\n  <head>\\n    <meta http-equiv=&quot;Content-…"
      ]
     },
     "metadata": {},
     "output_type": "display_data"
    }
   ],
   "source": [
    "tdim = mesh.topology.dim\n",
    "\n",
    "mesh.topology.create_connectivity(tdim, tdim)\n",
    "topology, cell_types, geometry = plot.vtk_mesh(mesh, tdim)\n",
    "grid = pyvista.UnstructuredGrid(topology, cell_types, geometry)\n",
    "\n",
    "plotter = pyvista.Plotter()\n",
    "plotter.add_mesh(grid, show_edges=True)\n",
    "plotter.view_isometric()\n",
    "if not pyvista.OFF_SCREEN:\n",
    "    plotter.show()\n",
    "else:\n",
    "    figure = plotter.screenshot(\"mesh.png\")"
   ]
  },
  {
   "cell_type": "markdown",
   "id": "2cd64bda",
   "metadata": {},
   "source": [
    "The `create_rectangle` function enables the definition of a 2D rectangular mesh over any axis-aligned domain by specifying custom corner coordinates, unlike `create_unit_square`, which has a fixed domain. This provides more flexibility for modelling geometries of arbitrary size."
   ]
  },
  {
   "cell_type": "code",
   "execution_count": 5,
   "id": "92610879",
   "metadata": {},
   "outputs": [],
   "source": [
    "from dolfinx.mesh import create_rectangle\n",
    "from mpi4py import MPI\n",
    "\n",
    "mesh = create_rectangle(MPI.COMM_WORLD, [[0, 0], [2, 1]], [20, 10])"
   ]
  },
  {
   "cell_type": "code",
   "execution_count": 6,
   "id": "59574163",
   "metadata": {
    "tags": [
     "hide-input"
    ]
   },
   "outputs": [
    {
     "data": {
      "application/vnd.jupyter.widget-view+json": {
       "model_id": "9cdbfd071776470d86f6625e78b85a99",
       "version_major": 2,
       "version_minor": 0
      },
      "text/plain": [
       "EmbeddableWidget(value='<iframe srcdoc=\"<!DOCTYPE html>\\n<html>\\n  <head>\\n    <meta http-equiv=&quot;Content-…"
      ]
     },
     "metadata": {},
     "output_type": "display_data"
    }
   ],
   "source": [
    "tdim = mesh.topology.dim\n",
    "\n",
    "mesh.topology.create_connectivity(tdim, tdim)\n",
    "topology, cell_types, geometry = plot.vtk_mesh(mesh, tdim)\n",
    "grid = pyvista.UnstructuredGrid(topology, cell_types, geometry)\n",
    "\n",
    "plotter = pyvista.Plotter()\n",
    "plotter.add_mesh(grid, show_edges=True)\n",
    "plotter.view_isometric()\n",
    "if not pyvista.OFF_SCREEN:\n",
    "    plotter.show()\n",
    "else:\n",
    "    figure = plotter.screenshot(\"mesh.png\")"
   ]
  },
  {
   "cell_type": "markdown",
   "id": "bdd7a2a7",
   "metadata": {},
   "source": [
    "The type of mesh cells can also be specified:"
   ]
  },
  {
   "cell_type": "code",
   "execution_count": 7,
   "id": "4482b695",
   "metadata": {},
   "outputs": [],
   "source": [
    "from dolfinx.mesh import CellType\n",
    "\n",
    "mesh = create_unit_square(MPI.COMM_WORLD, 10, 10, cell_type=CellType.quadrilateral)"
   ]
  },
  {
   "cell_type": "markdown",
   "id": "30ae77b8",
   "metadata": {},
   "source": [
    "## Mesh transformations\n",
    "\n",
    "Sometimes it can be useful to apply some transformations to the coordinates of a mesh. Unit conversion, moving a mesh, rotating...\n",
    "\n",
    "These operations can be done by modifying the ``.geometry.x`` attribute of the dolfinx mesh.\n",
    "\n",
    "### Scaling\n",
    "\n",
    "Scaling all dimensions of a mesh:"
   ]
  },
  {
   "cell_type": "code",
   "execution_count": 8,
   "id": "63a277c9",
   "metadata": {},
   "outputs": [],
   "source": [
    "mesh = create_unit_square(MPI.COMM_WORLD, 10, 10)\n",
    "\n",
    "mesh.geometry.x[:] *= 1e-3"
   ]
  },
  {
   "cell_type": "markdown",
   "id": "456500e4",
   "metadata": {},
   "source": [
    "Scaling only the first dimension of a mesh:"
   ]
  },
  {
   "cell_type": "code",
   "execution_count": 9,
   "id": "58dd29e3",
   "metadata": {},
   "outputs": [],
   "source": [
    "mesh = create_unit_square(MPI.COMM_WORLD, 10, 10)\n",
    "\n",
    "mesh.geometry.x[:, 0] *= 0.5"
   ]
  },
  {
   "cell_type": "code",
   "execution_count": 10,
   "id": "cc27a47a",
   "metadata": {
    "tags": [
     "hide-input"
    ]
   },
   "outputs": [
    {
     "data": {
      "application/vnd.jupyter.widget-view+json": {
       "model_id": "762a08208ab844fc86cf7cb8b7830480",
       "version_major": 2,
       "version_minor": 0
      },
      "text/plain": [
       "EmbeddableWidget(value='<iframe srcdoc=\"<!DOCTYPE html>\\n<html>\\n  <head>\\n    <meta http-equiv=&quot;Content-…"
      ]
     },
     "metadata": {},
     "output_type": "display_data"
    }
   ],
   "source": [
    "tdim = mesh.topology.dim\n",
    "\n",
    "mesh.topology.create_connectivity(tdim, tdim)\n",
    "topology, cell_types, geometry = plot.vtk_mesh(mesh, tdim)\n",
    "grid = pyvista.UnstructuredGrid(topology, cell_types, geometry)\n",
    "\n",
    "plotter = pyvista.Plotter()\n",
    "plotter.add_mesh(grid, show_edges=True)\n",
    "plotter.view_isometric()\n",
    "if not pyvista.OFF_SCREEN:\n",
    "    plotter.show()\n",
    "else:\n",
    "    figure = plotter.screenshot(\"mesh.png\")"
   ]
  },
  {
   "cell_type": "markdown",
   "id": "e40b6e11",
   "metadata": {},
   "source": [
    "### Translating"
   ]
  },
  {
   "cell_type": "code",
   "execution_count": 11,
   "id": "d245e405",
   "metadata": {},
   "outputs": [],
   "source": [
    "mesh = create_unit_square(MPI.COMM_WORLD, 10, 10)\n",
    "\n",
    "mesh.geometry.x[:, 0] += 10"
   ]
  },
  {
   "cell_type": "markdown",
   "id": "15b4adc6",
   "metadata": {},
   "source": [
    "### Rotating\n",
    "\n",
    "Rotating 90 degrees"
   ]
  },
  {
   "cell_type": "code",
   "execution_count": 12,
   "id": "db02027d",
   "metadata": {},
   "outputs": [],
   "source": [
    "mesh = create_rectangle(MPI.COMM_WORLD, [[0, 0], [2, 1]], [20, 10])\n",
    "\n",
    "x_vals = mesh.geometry.x[:, 0].copy()\n",
    "\n",
    "mesh.geometry.x[:, 0] = mesh.geometry.x[:, 1].copy()\n",
    "mesh.geometry.x[:, 1] = x_vals"
   ]
  },
  {
   "cell_type": "code",
   "execution_count": 13,
   "id": "1c178fe9",
   "metadata": {
    "tags": [
     "hide-input"
    ]
   },
   "outputs": [
    {
     "data": {
      "application/vnd.jupyter.widget-view+json": {
       "model_id": "ebd769ceccda48e38ec13ee507406015",
       "version_major": 2,
       "version_minor": 0
      },
      "text/plain": [
       "EmbeddableWidget(value='<iframe srcdoc=\"<!DOCTYPE html>\\n<html>\\n  <head>\\n    <meta http-equiv=&quot;Content-…"
      ]
     },
     "metadata": {},
     "output_type": "display_data"
    }
   ],
   "source": [
    "tdim = mesh.topology.dim\n",
    "\n",
    "mesh.topology.create_connectivity(tdim, tdim)\n",
    "topology, cell_types, geometry = plot.vtk_mesh(mesh, tdim)\n",
    "grid = pyvista.UnstructuredGrid(topology, cell_types, geometry)\n",
    "\n",
    "plotter = pyvista.Plotter()\n",
    "plotter.add_mesh(grid, show_edges=True)\n",
    "plotter.view_xy()\n",
    "\n",
    "# show orientation\n",
    "plotter.show_axes()\n",
    "\n",
    "if not pyvista.OFF_SCREEN:\n",
    "    plotter.show()\n",
    "else:\n",
    "    figure = plotter.screenshot(\"mesh.png\")"
   ]
  },
  {
   "cell_type": "markdown",
   "id": "d88960fc",
   "metadata": {},
   "source": [
    "Rotate by 30 degrees:"
   ]
  },
  {
   "cell_type": "code",
   "execution_count": 14,
   "id": "3db8feb3",
   "metadata": {},
   "outputs": [],
   "source": [
    "from scipy.spatial.transform import Rotation\n",
    "\n",
    "mesh = create_unit_square(MPI.COMM_WORLD, 10, 10)\n",
    "\n",
    "degrees = 30\n",
    "rotation = Rotation.from_euler(\"z\", degrees, degrees=True)\n",
    "mesh.geometry.x[:,:] = rotation.apply(mesh.geometry.x)"
   ]
  },
  {
   "cell_type": "code",
   "execution_count": 15,
   "id": "a43c40b1",
   "metadata": {
    "tags": [
     "hide-input"
    ]
   },
   "outputs": [
    {
     "data": {
      "application/vnd.jupyter.widget-view+json": {
       "model_id": "327b62b7248e41ec8dd4887a34bd5e6a",
       "version_major": 2,
       "version_minor": 0
      },
      "text/plain": [
       "EmbeddableWidget(value='<iframe srcdoc=\"<!DOCTYPE html>\\n<html>\\n  <head>\\n    <meta http-equiv=&quot;Content-…"
      ]
     },
     "metadata": {},
     "output_type": "display_data"
    }
   ],
   "source": [
    "tdim = mesh.topology.dim\n",
    "\n",
    "mesh.topology.create_connectivity(tdim, tdim)\n",
    "topology, cell_types, geometry = plot.vtk_mesh(mesh, tdim)\n",
    "grid = pyvista.UnstructuredGrid(topology, cell_types, geometry)\n",
    "\n",
    "plotter = pyvista.Plotter()\n",
    "plotter.add_mesh(grid, show_edges=True)\n",
    "plotter.view_xy()\n",
    "\n",
    "# show orientation\n",
    "plotter.show_axes()\n",
    "\n",
    "if not pyvista.OFF_SCREEN:\n",
    "    plotter.show()\n",
    "else:\n",
    "    figure = plotter.screenshot(\"mesh.png\")"
   ]
  },
  {
   "cell_type": "markdown",
   "id": "c17be2aa",
   "metadata": {},
   "source": [
    "## Passing a dolfinx mesh to FESTIM\n",
    "\n",
    "To pass a dolfinx mesh to a FESTIM model, simply pass it to a `festim.Mesh` object:"
   ]
  },
  {
   "cell_type": "code",
   "execution_count": 16,
   "id": "47d783b1",
   "metadata": {},
   "outputs": [],
   "source": [
    "import festim as F\n",
    "\n",
    "fenics_mesh = create_unit_square(MPI.COMM_WORLD, 10, 10)\n",
    "\n",
    "festim_mesh = F.Mesh(fenics_mesh)"
   ]
  },
  {
   "cell_type": "markdown",
   "id": "275ccf85",
   "metadata": {},
   "source": [
    "## Defining subdomains\n",
    "\n",
    "Now that we know how to pass a dolfinx mesh to FESTIM, we need to mark mesh entities to define subdomains (volume subdomains or surface subdomains).\n",
    "\n",
    "```{note}\n",
    "This will be greatly simplified once [PR #1005](https://github.com/festim-dev/FESTIM/pull/1005) is merged.\n",
    "```\n",
    "\n",
    "### Surface subdomains\n",
    "\n",
    "To define surface subdomains, we make use of the ``festim.SurfaceSubdomain`` class and override the ``locate_boundary_facet_indices()`` method:"
   ]
  },
  {
   "cell_type": "code",
   "execution_count": 17,
   "id": "c45c7b89",
   "metadata": {},
   "outputs": [],
   "source": [
    "from dolfinx.mesh import locate_entities_boundary\n",
    "import numpy as np\n",
    "\n",
    "\n",
    "class TopSurface(F.SurfaceSubdomain):\n",
    "    def locate_boundary_facet_indices(self, mesh):\n",
    "        fdim = mesh.topology.dim - 1\n",
    "\n",
    "        locator = lambda x: np.isclose(x[1], 1.0)\n",
    "\n",
    "        indices = locate_entities_boundary(mesh, fdim, locator)\n",
    "        return indices\n",
    "\n",
    "\n",
    "class BottomSurface(F.SurfaceSubdomain):\n",
    "    def locate_boundary_facet_indices(self, mesh):\n",
    "        fdim = mesh.topology.dim - 1\n",
    "\n",
    "        locator = lambda x: np.isclose(x[1], 0.0)\n",
    "\n",
    "        indices = locate_entities_boundary(mesh, fdim, locator)\n",
    "        return indices\n",
    "\n",
    "\n",
    "top_surface = TopSurface(id=1)\n",
    "bottom_surface = BottomSurface(id=2)"
   ]
  },
  {
   "cell_type": "markdown",
   "id": "82f42058",
   "metadata": {},
   "source": [
    "### Volume subdomains\n",
    "\n",
    "Similarily for volume subdomains, we override the ``locate_subdomain_entities()`` method:"
   ]
  },
  {
   "cell_type": "code",
   "execution_count": 18,
   "id": "5bd01b2b",
   "metadata": {},
   "outputs": [],
   "source": [
    "from dolfinx.mesh import locate_entities\n",
    "\n",
    "# volume subdomains need a material\n",
    "material = F.Material(name=\"test_material\", D_0=1, E_D=0)\n",
    "\n",
    "\n",
    "class TopVolume(F.VolumeSubdomain):\n",
    "    def locate_subdomain_entities(self, mesh):\n",
    "        locator = lambda x: x[1] >= 0.5\n",
    "        entities = locate_entities(mesh, mesh.topology.dim, locator)\n",
    "        return entities\n",
    "\n",
    "\n",
    "class BottomVolume(F.VolumeSubdomain):\n",
    "    def locate_subdomain_entities(self, mesh):\n",
    "        locator = lambda x: x[1] <= 0.5\n",
    "        entities = locate_entities(mesh, mesh.topology.dim, locator)\n",
    "        return entities\n",
    "\n",
    "\n",
    "top_volume = TopVolume(id=1, material=material)\n",
    "bottom_volume = BottomVolume(id=2, material=material)"
   ]
  },
  {
   "cell_type": "markdown",
   "id": "b946415c",
   "metadata": {},
   "source": [
    "### Visualise subdomains\n",
    "\n",
    "Subdomains can be visualised by passing them to a FESTIM problem and then call ``define_meshtags_and_measures()``. This will generate ``dolfinx.mesh.MeshTags`` objects that can then be used for visualisation:"
   ]
  },
  {
   "cell_type": "code",
   "execution_count": 19,
   "id": "cad16c33",
   "metadata": {},
   "outputs": [
    {
     "name": "stdout",
     "output_type": "stream",
     "text": [
      "<dolfinx.mesh.MeshTags object at 0x7f5356887d90>\n",
      "<dolfinx.mesh.MeshTags object at 0x7f53568e6ba0>\n"
     ]
    }
   ],
   "source": [
    "my_model = F.HydrogenTransportProblem()\n",
    "my_model.mesh = festim_mesh\n",
    "my_model.subdomains = [top_surface, bottom_surface, top_volume, bottom_volume]\n",
    "\n",
    "my_model.define_meshtags_and_measures()\n",
    "\n",
    "print(my_model.facet_meshtags)\n",
    "print(my_model.volume_meshtags)"
   ]
  },
  {
   "cell_type": "markdown",
   "id": "9c033b4d",
   "metadata": {},
   "source": [
    "``pyvista`` can be used for visualisation:"
   ]
  },
  {
   "cell_type": "code",
   "execution_count": 20,
   "id": "3d7c94b5",
   "metadata": {},
   "outputs": [
    {
     "data": {
      "application/vnd.jupyter.widget-view+json": {
       "model_id": "d1b81e4ccc4543a3892d31c14c10ef59",
       "version_major": 2,
       "version_minor": 0
      },
      "text/plain": [
       "EmbeddableWidget(value='<iframe srcdoc=\"<!DOCTYPE html>\\n<html>\\n  <head>\\n    <meta http-equiv=&quot;Content-…"
      ]
     },
     "metadata": {},
     "output_type": "display_data"
    }
   ],
   "source": [
    "fdim = my_model.mesh.mesh.topology.dim - 1\n",
    "tdim = my_model.mesh.mesh.topology.dim\n",
    "my_model.mesh.mesh.topology.create_connectivity(fdim, tdim)\n",
    "topology, cell_types, x = plot.vtk_mesh(\n",
    "    my_model.mesh.mesh, tdim, my_model.volume_meshtags.indices\n",
    ")\n",
    "\n",
    "p = pyvista.Plotter(window_size=[800, 800])\n",
    "grid = pyvista.UnstructuredGrid(topology, cell_types, x)\n",
    "grid.cell_data[\"Cell Marker\"] = my_model.volume_meshtags.values\n",
    "grid.set_active_scalars(\"Cell Marker\")\n",
    "p.add_mesh(grid, show_edges=True)\n",
    "if pyvista.OFF_SCREEN:\n",
    "    figure = p.screenshot(\"volume_marker.png\")\n",
    "p.show()"
   ]
  },
  {
   "cell_type": "code",
   "execution_count": 21,
   "id": "4fb6ad69",
   "metadata": {},
   "outputs": [
    {
     "data": {
      "application/vnd.jupyter.widget-view+json": {
       "model_id": "06f183ed3e5b4aab9d975c787df8d943",
       "version_major": 2,
       "version_minor": 0
      },
      "text/plain": [
       "EmbeddableWidget(value='<iframe srcdoc=\"<!DOCTYPE html>\\n<html>\\n  <head>\\n    <meta http-equiv=&quot;Content-…"
      ]
     },
     "metadata": {},
     "output_type": "display_data"
    }
   ],
   "source": [
    "my_model.mesh.mesh.topology.create_connectivity(fdim, tdim)\n",
    "topology, cell_types, x = plot.vtk_mesh(\n",
    "    my_model.mesh.mesh, fdim, my_model.facet_meshtags.indices\n",
    ")\n",
    "\n",
    "p = pyvista.Plotter(window_size=[800, 800])\n",
    "grid = pyvista.UnstructuredGrid(topology, cell_types, x)\n",
    "grid.cell_data[\"Facet Marker\"] = my_model.facet_meshtags.values\n",
    "grid.set_active_scalars(\"Facet Marker\")\n",
    "p.add_mesh(grid, show_edges=True)\n",
    "if pyvista.OFF_SCREEN:\n",
    "    figure = p.screenshot(\"facet_marker.png\")\n",
    "p.show()"
   ]
  },
  {
   "cell_type": "markdown",
   "id": "0a15cf0f",
   "metadata": {},
   "source": [
    "The meshtags can also be stored to a VTX file using ``adios4dolfinx`` to be read later by another script:"
   ]
  },
  {
   "cell_type": "code",
   "execution_count": 22,
   "id": "baeb89e6",
   "metadata": {},
   "outputs": [],
   "source": [
    "import adios4dolfinx\n",
    "\n",
    "my_model.facet_meshtags.name = \"facet_tags\"\n",
    "\n",
    "# write\n",
    "adios4dolfinx.write_meshtags(\"facet_tags.bp\", my_model.mesh.mesh, my_model.facet_meshtags)\n",
    "\n",
    "# read\n",
    "ft = adios4dolfinx.read_meshtags(\"facet_tags.bp\", my_model.mesh.mesh, meshtag_name=\"facet_tags\")"
   ]
  },
  {
   "cell_type": "markdown",
   "id": "5295c73c",
   "metadata": {},
   "source": [
    "## Complete example\n",
    "\n",
    "### Implementation"
   ]
  },
  {
   "cell_type": "code",
   "execution_count": 23,
   "id": "ce17c165",
   "metadata": {},
   "outputs": [],
   "source": [
    "import festim as F\n",
    "from dolfinx.mesh import locate_entities_boundary\n",
    "from dolfinx.mesh import locate_entities\n",
    "\n",
    "import numpy as np\n",
    "\n",
    "fenics_mesh = create_unit_square(MPI.COMM_WORLD, 10, 10)\n",
    "\n",
    "festim_mesh = F.Mesh(fenics_mesh)\n",
    "\n",
    "\n",
    "class TopSurface(F.SurfaceSubdomain):\n",
    "    def locate_boundary_facet_indices(self, mesh):\n",
    "        fdim = mesh.topology.dim - 1\n",
    "        indices = locate_entities_boundary(mesh, fdim, lambda x: np.isclose(x[1], 1.0))\n",
    "        return indices\n",
    "\n",
    "\n",
    "class BottomSurface(F.SurfaceSubdomain):\n",
    "    def locate_boundary_facet_indices(self, mesh):\n",
    "        fdim = mesh.topology.dim - 1\n",
    "        indices = locate_entities_boundary(mesh, fdim, lambda x: np.isclose(x[1], 0.0))\n",
    "        return indices\n",
    "\n",
    "\n",
    "class TopVolume(F.VolumeSubdomain):\n",
    "    def locate_subdomain_entities(self, mesh):\n",
    "        entities = locate_entities(\n",
    "            mesh,\n",
    "            mesh.topology.dim,\n",
    "            lambda x: x[1] >= 0.5,\n",
    "        )\n",
    "        return entities\n",
    "\n",
    "\n",
    "class BottomVolume(F.VolumeSubdomain):\n",
    "    def locate_subdomain_entities(self, mesh):\n",
    "        entities = locate_entities(\n",
    "            mesh,\n",
    "            mesh.topology.dim,\n",
    "            lambda x: x[1] <= 0.5,\n",
    "        )\n",
    "        return entities\n",
    "\n",
    "\n",
    "material_top = F.Material(D_0=1, E_D=0)\n",
    "material_bot = F.Material(D_0=2, E_D=0)\n",
    "\n",
    "\n",
    "top_volume = TopVolume(id=1, material=material_top)\n",
    "bottom_volume = BottomVolume(id=2, material=material_bot)\n",
    "\n",
    "top_surface = TopSurface(id=1)\n",
    "bottom_surface = BottomSurface(id=2)\n",
    "\n",
    "my_model = F.HydrogenTransportProblem()\n",
    "my_model.mesh = festim_mesh\n",
    "my_model.subdomains = [top_surface, bottom_surface, top_volume, bottom_volume]\n",
    "\n",
    "H = F.Species(\"H\")\n",
    "my_model.species = [H]\n",
    "\n",
    "my_model.temperature = 400\n",
    "\n",
    "my_model.boundary_conditions = [\n",
    "    F.FixedConcentrationBC(subdomain=top_surface, value=1.0, species=H),\n",
    "    F.FixedConcentrationBC(subdomain=bottom_surface, value=0.0, species=H),\n",
    "]\n",
    "\n",
    "my_model.settings = F.Settings(atol=1e-10, rtol=1e-10, transient=False)\n",
    "\n",
    "my_model.initialise()\n",
    "my_model.run()"
   ]
  },
  {
   "cell_type": "markdown",
   "id": "ed5e4a93",
   "metadata": {},
   "source": [
    "### Visualisation"
   ]
  },
  {
   "cell_type": "code",
   "execution_count": 24,
   "id": "51bec038",
   "metadata": {},
   "outputs": [
    {
     "data": {
      "application/vnd.jupyter.widget-view+json": {
       "model_id": "f7cfeca5dac7433885de0ba398177800",
       "version_major": 2,
       "version_minor": 0
      },
      "text/plain": [
       "EmbeddableWidget(value='<iframe srcdoc=\"<!DOCTYPE html>\\n<html>\\n  <head>\\n    <meta http-equiv=&quot;Content-…"
      ]
     },
     "metadata": {},
     "output_type": "display_data"
    }
   ],
   "source": [
    "hydrogen_concentration = H.solution\n",
    "\n",
    "topology, cell_types, geometry = plot.vtk_mesh(hydrogen_concentration.function_space)\n",
    "u_grid = pyvista.UnstructuredGrid(topology, cell_types, geometry)\n",
    "u_grid.point_data[\"c\"] = hydrogen_concentration.x.array.real\n",
    "u_grid.set_active_scalars(\"c\")\n",
    "u_plotter = pyvista.Plotter()\n",
    "u_plotter.add_mesh(u_grid, show_edges=True)\n",
    "u_plotter.view_xy()\n",
    "\n",
    "if not pyvista.OFF_SCREEN:\n",
    "    u_plotter.show()\n",
    "else:\n",
    "    figure = u_plotter.screenshot(\"concentration.png\")"
   ]
  }
 ],
 "metadata": {
  "kernelspec": {
   "display_name": "festim-workshop-2",
   "language": "python",
   "name": "python3"
  },
  "language_info": {
   "codemirror_mode": {
    "name": "ipython",
    "version": 3
   },
   "file_extension": ".py",
   "mimetype": "text/x-python",
   "name": "python",
   "nbconvert_exporter": "python",
   "pygments_lexer": "ipython3",
   "version": "3.13.5"
  }
 },
 "nbformat": 4,
 "nbformat_minor": 5
}
