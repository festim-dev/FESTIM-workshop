{
 "cells": [
  {
   "cell_type": "markdown",
   "id": "94dd76be",
   "metadata": {},
   "source": [
    "# Chemical species\n",
    "\n",
    "**Objectives**\n",
    "\n",
    "- Learn how to define chemical species in FESTIM\n",
    "- Understand the concept of implicit species"
   ]
  },
  {
   "cell_type": "markdown",
   "id": "e777a16b",
   "metadata": {},
   "source": [
    "## Define explicit species\n",
    "\n",
    "In FESTIM, *explicit* species are species which concentrations are explicitly governed by a PDE in the governing equations.\n",
    "\n",
    "For example, if consider the following problem:\n",
    "\n",
    "\\begin{align}\n",
    "    \\frac{\\partial c_1}{\\partial t} &= \\nabla \\cdot (D_1 \\nabla c_1)\\\\\n",
    "    \\frac{\\partial c_2}{\\partial t} &= \\nabla \\cdot (D_2 \\nabla c_2)\n",
    "\\end{align}\n"
   ]
  },
  {
   "cell_type": "markdown",
   "id": "4699bed3",
   "metadata": {},
   "source": [
    "In this case, the concentration of species 1 and 2 (namely $c_1$ and $c_2$) are governed by a PDE. Species 1 and 2 are *explicit* species. In addition, they are mobile species since their governing equations exhibit a diffusive term.\n",
    "\n",
    "In a FESTIM model, these species would be defined using the ``F.Species`` class:\n"
   ]
  },
  {
   "cell_type": "code",
   "execution_count": 1,
   "id": "913452c6",
   "metadata": {},
   "outputs": [],
   "source": [
    "import festim as F\n",
    "\n",
    "my_model = F.HydrogenTransportProblem()\n",
    "\n",
    "species_1 = F.Species(name=\"Species 1\", mobile=True)\n",
    "species_2 = F.Species(name=\"Species 2\", mobile=True)\n",
    "\n",
    "my_model.species = [species_1, species_2]"
   ]
  },
  {
   "cell_type": "markdown",
   "id": "626fa244",
   "metadata": {},
   "source": [
    "````{margin}\n",
    "```{admonition} Note\n",
    "``mobile`` is ``True`` by default.\n",
    "``` \n",
    "````"
   ]
  },
  {
   "cell_type": "markdown",
   "id": "09926679",
   "metadata": {},
   "source": [
    "Here's another problem:\n",
    "\n",
    "\\begin{align}\n",
    "    \\frac{\\partial c_1}{\\partial t} &= \\nabla \\cdot (D_1 \\nabla c_1) - k c_1 c_2 + p c_3\\\\\n",
    "    \\frac{\\partial c_2}{\\partial t} &= -k c_1 c_2 + p c_3\\\\\n",
    "    \\frac{\\partial c_3}{\\partial t} &= k c_1 c_2 - p c_3\n",
    "\\end{align}\n"
   ]
  },
  {
   "cell_type": "markdown",
   "id": "ac514527",
   "metadata": {},
   "source": [
    "\n",
    "Here again, all species (1, 2, and 3) are explicitly accounted for in the governing equations. The three PDEs are coupled by a reaction. For more information on reactions, have a look at the [Reactions](reactions.ipynb) tutorial.\n",
    "\n",
    "This time Species 2 and 3 are immobile (ie. their governing equation don't have a diffusive term).\n",
    "\n",
    "The species would therefore be defined as:"
   ]
  },
  {
   "cell_type": "code",
   "execution_count": 2,
   "id": "005ab8e5",
   "metadata": {},
   "outputs": [],
   "source": [
    "my_model = F.HydrogenTransportProblem()\n",
    "\n",
    "species_1 = F.Species(name=\"Species 1\")\n",
    "species_2 = F.Species(name=\"Species 2\", mobile=False)\n",
    "species_3 = F.Species(name=\"Species 3\", mobile=False)\n",
    "\n",
    "my_model.species = [species_1, species_2]"
   ]
  },
  {
   "cell_type": "markdown",
   "id": "1b1e4ade",
   "metadata": {},
   "source": [
    "## Implicit species\n",
    "\n",
    "In some cases where we don't want to explicitly define some species. Consider the following problem:\n",
    "\n",
    "\\begin{align}\n",
    "    \\frac{\\partial c_1}{\\partial t} &= \\nabla \\cdot (D_1 \\nabla c_1) - k c_1 c_2 + p c_3\\\\\n",
    "    \\frac{\\partial c_3}{\\partial t} &= k c_1 c_2 - p c_3\n",
    "\\end{align}\n"
   ]
  },
  {
   "cell_type": "markdown",
   "id": "4f39bdac",
   "metadata": {},
   "source": [
    "\n",
    "If we express $c_2$ as:\n"
   ]
  },
  {
   "cell_type": "markdown",
   "id": "880f1254",
   "metadata": {},
   "source": [
    "\n",
    "\\begin{equation}\n",
    "    c_2 = n - c_3\n",
    "\\end{equation}\n"
   ]
  },
  {
   "cell_type": "markdown",
   "id": "ebca4bb6",
   "metadata": {},
   "source": [
    "\n",
    "And if we assume that $n$ is known, then governing equations can therefore be written as:\n",
    "\n",
    "\\begin{align}\n",
    "    \\frac{\\partial c_1}{\\partial t} &= \\nabla \\cdot (D_1 \\nabla c_1) - k c_1 (n-c_3) + p c_3\\\\\n",
    "    \\frac{\\partial c_3}{\\partial t} &= k c_1 (n-c_3) - p c_3\n",
    "\\end{align}\n"
   ]
  },
  {
   "cell_type": "markdown",
   "id": "88e4655e",
   "metadata": {},
   "source": [
    "\n",
    "Species 2 is, in this case, an *implicit* species. That is because its concentration can be directly expressed form other concentrations (here, $n$ and $c_3$)."
   ]
  },
  {
   "cell_type": "code",
   "execution_count": 3,
   "id": "f724950d",
   "metadata": {},
   "outputs": [],
   "source": [
    "my_model = F.HydrogenTransportProblem()\n",
    "\n",
    "species_1 = F.Species(name=\"Species 1\")\n",
    "species_3 = F.Species(name=\"Species 3\", mobile=False)\n",
    "\n",
    "species_2 = F.ImplicitSpecies(name=\"Species 2\", n=20, others=[species_3])\n",
    "\n",
    "# only pass explicit species to the model\n",
    "my_model.species = [species_1, species_3]"
   ]
  },
  {
   "cell_type": "markdown",
   "id": "acb002d7",
   "metadata": {},
   "source": [
    "In this case, $n$ can be any function of space and time. For example, $n=2 x + y + 20 \\ t$:"
   ]
  },
  {
   "cell_type": "code",
   "execution_count": 4,
   "id": "803f3d3a",
   "metadata": {},
   "outputs": [],
   "source": [
    "def n_fun(x, t):\n",
    "    return 2 * x[0] + x[1] + 20 * t\n",
    "\n",
    "species_2 = F.ImplicitSpecies(name=\"Species 2\", n=n_fun, others=[species_3])"
   ]
  },
  {
   "cell_type": "markdown",
   "id": "8832d294",
   "metadata": {},
   "source": [
    "or in a more compact form:"
   ]
  },
  {
   "cell_type": "code",
   "execution_count": 5,
   "id": "a3f95c4c",
   "metadata": {},
   "outputs": [],
   "source": [
    "species_2 = F.ImplicitSpecies(\n",
    "    name=\"Species 2\",\n",
    "    n=lambda x, t: 2 * x[0] + x[1] + 20 * t,\n",
    "    others=[species_3],\n",
    ")"
   ]
  },
  {
   "cell_type": "markdown",
   "id": "f135e4fa",
   "metadata": {},
   "source": [
    "Using implicit species is useful for reducing the number of degrees of freedom in a problem.\n",
    "\n",
    "```{warning} \n",
    "``ImplicitSpecies`` isn't suitable for mobile species. That's because their concentration cannot be expressed from other concentrations.\n",
    "```"
   ]
  },
  {
   "cell_type": "markdown",
   "id": "6b1c7926",
   "metadata": {},
   "source": [
    "## Complete example\n",
    "\n",
    "We consider the following problem on a 1D domain:\n",
    "\n",
    "\\begin{align}\n",
    "    \\frac{\\partial c_H}{\\partial t} &= \\nabla \\cdot (D \\nabla c_H)\\\\\n",
    "    \\frac{\\partial c_D}{\\partial t} &= \\nabla \\cdot (D \\nabla c_D)\\\\\n",
    "    \\frac{\\partial c_T}{\\partial t} &= \\nabla \\cdot (D \\nabla c_T)\\\\\n",
    "\\end{align}\n",
    "\n",
    "For simplicity, we assume that all three species have the same diffusivity.\n",
    "\n",
    "Fixed concentration boundary conditions are set on both surfaces."
   ]
  },
  {
   "cell_type": "code",
   "execution_count": 6,
   "id": "4a08d706",
   "metadata": {},
   "outputs": [],
   "source": [
    "import festim as F\n",
    "import numpy as np\n",
    "\n",
    "my_model = F.HydrogenTransportProblem()\n",
    "\n",
    "protium = F.Species(\"H\")\n",
    "deuterium = F.Species(\"D\")\n",
    "tritium = F.Species(\"T\")\n",
    "my_model.species = [protium, deuterium, tritium]\n",
    "\n",
    "my_model.mesh = F.Mesh1D(np.linspace(0, 1, 100))\n",
    "\n",
    "left_surf = F.SurfaceSubdomain1D(id=1, x=0)\n",
    "right_surf = F.SurfaceSubdomain1D(id=2, x=1)\n",
    "\n",
    "# assumes the same diffusivity for all species\n",
    "material = F.Material(D_0=1, E_D=0)\n",
    "\n",
    "vol = F.VolumeSubdomain1D(id=1, borders=[0, 1], material=material)\n",
    "\n",
    "my_model.subdomains = [vol, left_surf, right_surf]\n",
    "\n",
    "my_model.boundary_conditions = [\n",
    "    # Protium BCs\n",
    "    F.FixedConcentrationBC(left_surf, value=10, species=protium),\n",
    "    F.FixedConcentrationBC(right_surf, value=0, species=protium),\n",
    "    # Deuterium BCs\n",
    "    F.FixedConcentrationBC(left_surf, value=5, species=deuterium),\n",
    "    F.FixedConcentrationBC(right_surf, value=0, species=deuterium),\n",
    "    # Tritium BCs\n",
    "    F.FixedConcentrationBC(left_surf, value=0, species=tritium),\n",
    "    F.FixedConcentrationBC(right_surf, value=2, species=tritium),\n",
    "]\n",
    "\n",
    "my_model.temperature = 300\n",
    "\n",
    "my_model.settings = F.Settings(atol=1e-10, rtol=1e-10, final_time=100)\n",
    "\n",
    "my_model.settings.stepsize = F.Stepsize(1)"
   ]
  },
  {
   "cell_type": "code",
   "execution_count": 7,
   "id": "a77e3c7d",
   "metadata": {},
   "outputs": [
    {
     "data": {
      "application/vnd.jupyter.widget-view+json": {
       "model_id": "14bdf3b2259244259f1c3df32f8f3eac",
       "version_major": 2,
       "version_minor": 0
      },
      "text/plain": [
       "Solving HydrogenTransportProblem:   0%|          | 0.00/100 [00:00<?, ?it/s]"
      ]
     },
     "metadata": {},
     "output_type": "display_data"
    }
   ],
   "source": [
    "my_model.initialise()\n",
    "my_model.run()"
   ]
  },
  {
   "cell_type": "code",
   "execution_count": 8,
   "id": "2d450032",
   "metadata": {
    "tags": [
     "hide-input"
    ]
   },
   "outputs": [
    {
     "data": {
      "image/png": "[encoded data removed]",
      "text/plain": [
       "<Figure size 640x480 with 1 Axes>"
      ]
     },
     "metadata": {},
     "output_type": "display_data"
    }
   ],
   "source": [
    "import matplotlib.pyplot as plt\n",
    "\n",
    "def plot_profile(species, **kwargs):\n",
    "    c = species.post_processing_solution.x.array[:]\n",
    "    x = species.post_processing_solution.function_space.mesh.geometry.x[:,0]\n",
    "    return plt.plot(x, c, **kwargs)\n",
    "\n",
    "for species in my_model.species:\n",
    "    plot_profile(species, label=species.name)\n",
    "\n",
    "plt.xlabel('Position')\n",
    "plt.ylabel('Concentration')\n",
    "plt.legend()\n",
    "plt.show()"
   ]
  }
 ],
 "metadata": {
  "kernelspec": {
   "display_name": "festim-workshop",
   "language": "python",
   "name": "python3"
  },
  "language_info": {
   "codemirror_mode": {
    "name": "ipython",
    "version": 3
   },
   "file_extension": ".py",
   "mimetype": "text/x-python",
   "name": "python",
   "nbconvert_exporter": "python",
   "pygments_lexer": "ipython3",
   "version": "3.13.5"
  }
 },
 "nbformat": 4,
 "nbformat_minor": 5
}
