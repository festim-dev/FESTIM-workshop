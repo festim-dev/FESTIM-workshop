{
 "cells": [
  {
   "cell_type": "markdown",
   "id": "3e13639c",
   "metadata": {},
   "source": [
    "# Basic Material Features #\n",
    "\n",
    "Materials are key components of hydrogen transport simulations. They hold the properties like diffusivity, solubility and even thermal properties like thermal conductivity or heat capacity. Read more about the `Materials` class and syntax at __[Materials](https://festim.readthedocs.io/en/fenicsx/userguide/subdomains.html)__.\n",
    "\n",
    "\n",
    "Objectives:\n",
    "* Learn how to define material properties (thermal, solubility, diffusivity)\n",
    "* Learn how to define materials on different subdomains\n",
    "* Solve a multi-material diffusion problem"
   ]
  },
  {
   "cell_type": "markdown",
   "id": "f74f6710",
   "metadata": {},
   "source": [
    "## Defining material properties ##\n",
    "\n",
    "We can define a material using the diffusion exponential pre-factor $D_0$ and activation energy $E_D$. By default, FESTIM assumes they follow an Arrhenius law, which is of the following form:\n",
    "\n",
    "$$\n",
    "    D = D_0 \\exp{(-E_D/k_B T)}\n",
    "$$\n",
    "\n",
    "where $k_B$ is the Boltzmann constant in eV/K and $T$ is the temperature in K. To define a material using these two properties:"
   ]
  },
  {
   "cell_type": "code",
   "execution_count": 1,
   "id": "49eb9b3f",
   "metadata": {},
   "outputs": [],
   "source": [
    "import festim as F\n",
    "\n",
    "mat = F.Material(D_0=1.11e-6, E_D=0.4)  # m2/s, eV"
   ]
  },
  {
   "cell_type": "markdown",
   "id": "8e6b12b8",
   "metadata": {},
   "source": [
    "When considering chemical potential conservation at material interfaces, hydrogen solubility can be defined using the solubility coeffeicient prefactor `K_S_0`, solubility activation energy `E_K_S`, and solubility law `solubility_law` (either `\"henry\"` or `\"sievert\"`):"
   ]
  },
  {
   "cell_type": "code",
   "execution_count": 2,
   "id": "27fa60d5",
   "metadata": {},
   "outputs": [],
   "source": [
    "mat.K_S_0 = 1.0\n",
    "mat.E_K_S = 3.0\n",
    "mat.solubility_law = \"sievert\""
   ]
  },
  {
   "cell_type": "markdown",
   "id": "1a46777c",
   "metadata": {},
   "source": [
    "## Defining thermal properties ## \n",
    "\n",
    "Users can define thermal properties, such as thermal conductivity, heat capacity, and density as function of temperature in the following way:"
   ]
  },
  {
   "cell_type": "code",
   "execution_count": 3,
   "id": "6d52c3db",
   "metadata": {},
   "outputs": [],
   "source": [
    "import ufl\n",
    "\n",
    "mat.thermal_conductivity = lambda T: 3*T + 2*ufl.exp(-20*T)\n",
    "mat.heat_capacity = lambda T: 4*T + 8\n",
    "mat.density = lambda T: 7*T + 5"
   ]
  },
  {
   "cell_type": "markdown",
   "id": "8a92c46d",
   "metadata": {},
   "source": [
    "## Defining materials on different subdomains ##\n",
    "\n",
    "Volume subdomains are used to assign different materials or define regions with specific physical properties. Each volume subdomain must be associated with a `festim.Material` object. Read more about subdomains __[here](https://festim-workshop.readthedocs.io/en/festim2/content/meshes/mesh_fenics.html#defining-subdomains)__.\n",
    "\n",
    "Consider the following volume with two subdomains separated halfway through the mesh:"
   ]
  },
  {
   "cell_type": "markdown",
   "id": "3c595efa",
   "metadata": {},
   "source": [
    "To define one material on each subdomain:"
   ]
  },
  {
   "cell_type": "code",
   "execution_count": 4,
   "id": "31319b72",
   "metadata": {},
   "outputs": [],
   "source": [
    "mat1 = F.Material(D_0=1.11e-6, E_D=0.4)  # m2/s, eV\n",
    "\n",
    "top = F.VolumeSubdomain(id=1, material=mat, locator=lambda x: x[0] >= 0.5)\n",
    "bottom = F.VolumeSubdomain(id=2, material=mat, locator=lambda x: x[0] < 0.5)"
   ]
  },
  {
   "cell_type": "markdown",
   "id": "7032ee9b",
   "metadata": {},
   "source": [
    "Similarly, for two materials:"
   ]
  },
  {
   "cell_type": "code",
   "execution_count": 5,
   "id": "34e1adac",
   "metadata": {},
   "outputs": [],
   "source": [
    "mat1 = F.Material(D_0=1.11e-6, E_D=0.4)  # m2/s, eV\n",
    "mat2 = F.Material(D_0=2e-6, E_D=0.3)  # m2/s, eV\n",
    "\n",
    "top = F.VolumeSubdomain(id=1, material=mat1, locator=lambda x: x[0] >= 0.5)\n",
    "bottom = F.VolumeSubdomain(id=2, material=mat2, locator=lambda x: x[0] < 0.5)"
   ]
  },
  {
   "cell_type": "markdown",
   "id": "d5e000ca",
   "metadata": {},
   "source": [
    "## Multi-material example ##\n",
    "\n",
    "Considering the following 2D example, where hydrogen diffuses through a 2D domain composed of two materials with different diffusion and solubility properties. The top half (Material A) has a lower diffusion coefficient and solubility than the bottom half (Material B). The interface at $𝑦=0.5$ clearly separates the two materials, and the steady-state hydrogen distribution illustrates how material properties impact transport."
   ]
  },
  {
   "cell_type": "markdown",
   "id": "ce246803",
   "metadata": {},
   "source": [
    "First, we create the mesh for our discontinuous (materials have different solubility properties) problem. Note that we use `HydrogenTransportProblemDiscontinuous` to define our multi-material problem:"
   ]
  },
  {
   "cell_type": "code",
   "execution_count": 6,
   "id": "a2cc1e2f",
   "metadata": {},
   "outputs": [],
   "source": [
    "import festim as F\n",
    "import numpy as np\n",
    "from dolfinx.mesh import create_unit_square\n",
    "from mpi4py import MPI\n",
    "import pyvista\n",
    "from dolfinx import plot\n",
    "\n",
    "fenics_mesh = create_unit_square(MPI.COMM_WORLD, 10, 10)\n",
    "festim_mesh = F.Mesh(fenics_mesh)\n",
    "\n",
    "my_model = F.HydrogenTransportProblemDiscontinuous()"
   ]
  },
  {
   "cell_type": "markdown",
   "id": "d7298ccc",
   "metadata": {},
   "source": [
    "<div class=\"alert alert-block alert-info\">\n",
    "Be sure to use an even number of cells in each direction when creating the mesh in a discontinuous problem.\n",
    "</div>"
   ]
  },
  {
   "cell_type": "markdown",
   "id": "9f941c7e",
   "metadata": {},
   "source": [
    "Next, we define materials with different solubility properties. If the solubilties were the same, we'd expect to see a smooth \"continous\" concentration profile. For this problem, we have different solubilities:"
   ]
  },
  {
   "cell_type": "code",
   "execution_count": 7,
   "id": "5c93fa7b",
   "metadata": {},
   "outputs": [],
   "source": [
    "# Top material (Material A)\n",
    "material_top = F.Material(\n",
    "    name=\"Material_A\",\n",
    "    D_0=1,    # m²/s\n",
    "    E_D=0,     # eV\n",
    "    K_S_0=2,    # mol/m³/Pa  (solubility prefactor)\n",
    "    E_K_S=0,     # eV (activation energy for solubility)\n",
    ")\n",
    "\n",
    "# Bottom material (Material B)\n",
    "material_bottom = F.Material(\n",
    "    name=\"Material_B\",\n",
    "    D_0=2,    # m²/s\n",
    "    E_D=0,     # eV\n",
    "    K_S_0=3,    # mol/m³/Pa\n",
    "    E_K_S=0,     # eV\n",
    ")"
   ]
  },
  {
   "cell_type": "markdown",
   "id": "a12422bc",
   "metadata": {},
   "source": [
    "Now we must assemble the subdomains for our volumes, surfaces, interfaces, and species. A penalty term is also used when defining the interface to ensure a well-behaved solution at the interface between both materials:"
   ]
  },
  {
   "cell_type": "code",
   "execution_count": 8,
   "id": "7613540c",
   "metadata": {},
   "outputs": [],
   "source": [
    "top_volume = F.VolumeSubdomain(id=3, material=material_top, locator=lambda x: x[1] >= 0.5)\n",
    "bottom_volume = F.VolumeSubdomain(id=4, material=material_bottom, locator=lambda x: x[1] <= 0.5)\n",
    "\n",
    "top_surface = F.SurfaceSubdomain(id=1, locator=lambda x: np.isclose(x[1], 1.0))\n",
    "bottom_surface = F.SurfaceSubdomain(id=2, locator=lambda x: np.isclose(x[1], 0.0))\n",
    "\n",
    "my_model.mesh = festim_mesh\n",
    "my_model.subdomains = [top_surface, bottom_surface, top_volume, bottom_volume]\n",
    "\n",
    "my_model.interfaces = [F.Interface(5, (bottom_volume, top_volume), penalty_term=1000)]\n",
    "my_model.surface_to_volume = {\n",
    "    top_surface: top_volume,\n",
    "    bottom_surface: bottom_volume,\n",
    "}\n",
    "\n",
    "H = F.Species(\"H\")\n",
    "my_model.species = [H]\n",
    "\n",
    "for species in my_model.species:\n",
    "    species.subdomains = [bottom_volume, top_volume]"
   ]
  },
  {
   "cell_type": "markdown",
   "id": "73d33226",
   "metadata": {},
   "source": [
    "Finally, we define the temperature, boundary conditions, and then solve:"
   ]
  },
  {
   "cell_type": "code",
   "execution_count": 9,
   "id": "10384f58",
   "metadata": {},
   "outputs": [],
   "source": [
    "my_model.temperature = 400\n",
    "\n",
    "my_model.boundary_conditions = [\n",
    "    F.FixedConcentrationBC(subdomain=top_surface, value=1.0, species=H),\n",
    "    F.FixedConcentrationBC(subdomain=bottom_surface, value=0.0, species=H),\n",
    "]\n",
    "\n",
    "my_model.settings = F.Settings(atol=1e-10, rtol=1e-10, transient=False)\n",
    "\n",
    "my_model.initialise()\n",
    "my_model.run()"
   ]
  },
  {
   "cell_type": "markdown",
   "id": "697be0f7",
   "metadata": {},
   "source": [
    "To visualize the results of the multi-material problem, we need to look at each subdomain separately. We can use `H.subdomain_to_post_processing_solution' to define a plotting function `make_ugrid` that visualizes each domain:"
   ]
  },
  {
   "cell_type": "code",
   "execution_count": 10,
   "id": "7a58a26a",
   "metadata": {},
   "outputs": [
    {
     "data": {
      "application/vnd.jupyter.widget-view+json": {
       "model_id": "535993bd549944e584b204c8f286a1b0",
       "version_major": 2,
       "version_minor": 0
      },
      "text/plain": [
       "Widget(value='<iframe src=\"http://localhost:55486/index.html?ui=P_0x17564f3d0_0&reconnect=auto\" class=\"pyvista…"
      ]
     },
     "metadata": {},
     "output_type": "display_data"
    }
   ],
   "source": [
    "def make_ugrid(solution):\n",
    "    topology, cell_types, geometry = plot.vtk_mesh(solution.function_space)\n",
    "    u_grid = pyvista.UnstructuredGrid(topology, cell_types, geometry)\n",
    "    u_grid.point_data[\"c\"] = solution.x.array.real\n",
    "    u_grid.set_active_scalars(\"c\")\n",
    "    return u_grid\n",
    "\n",
    "u_plotter = pyvista.Plotter()\n",
    "u_grid_top = make_ugrid(H.subdomain_to_post_processing_solution[top_volume])\n",
    "u_grid_bottom = make_ugrid(H.subdomain_to_post_processing_solution[bottom_volume])\n",
    "u_plotter.add_mesh(u_grid_top, cmap=\"magma\", show_edges=False)\n",
    "u_plotter.add_mesh(u_grid_bottom, cmap=\"magma\", show_edges=False)\n",
    "u_plotter.view_xy()\n",
    "u_plotter.add_text(\"Hydrogen concentration in multi-material problem\", font_size=12)\n",
    "\n",
    "if not pyvista.OFF_SCREEN:\n",
    "    u_plotter.show()\n",
    "else:\n",
    "    figure = u_plotter.screenshot(\"concentration.png\")"
   ]
  },
  {
   "cell_type": "markdown",
   "id": "3b27d672",
   "metadata": {},
   "source": [
    "<div class=\"alert alert-block alert-success\">\n",
    "Sucess! We see diffusion from the top surface downwards, with a discontinuity at the interface! \n",
    "</div>"
   ]
  }
 ],
 "metadata": {
  "jupytext": {
   "default_lexer": "ipython3",
   "formats": "md:myst,ipynb"
  },
  "kernelspec": {
   "display_name": "festim-workshop",
   "language": "python",
   "name": "python3"
  },
  "language_info": {
   "codemirror_mode": {
    "name": "ipython",
    "version": 3
   },
   "file_extension": ".py",
   "mimetype": "text/x-python",
   "name": "python",
   "nbconvert_exporter": "python",
   "pygments_lexer": "ipython3",
   "version": "3.13.7"
  }
 },
 "nbformat": 4,
 "nbformat_minor": 5
}
