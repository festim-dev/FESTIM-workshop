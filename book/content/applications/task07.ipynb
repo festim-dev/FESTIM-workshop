{
    "cells": [
        {
            "attachments": {},
            "cell_type": "markdown",
            "metadata": {},
            "source": [
                "(heat_transfer_sims)=\n",
                "# Heat transfer simulations\n",
                "\n",
                "In this task, we'll learn how to run a heat transfer simulation and couple it to H transport.\n",
                "\n",
                "The governing equation for transient heat transfer is:\n",
                "\n",
                "$$\\rho \\ C_p \\frac{\\partial T}{\\partial t} = \\nabla \\cdot (\\lambda \\ \\nabla T) + \\dot{Q} $$\n",
                "\n",
                "where $\\rho$ is the density in kg/m3, $C_p$ is the heat capacity in J/kg/K, $\\lambda$ is the thermal conductivity in W/m/K, and $\\dot{Q}$ is the volumetric heat source in W/m3.\n",
                "\n",
                "In steady state, this becomes:\n",
                "\n",
                "$$\\nabla \\cdot (\\lambda \\ \\nabla T) + \\dot{Q} = 0$$"
            ]
        },
        {
            "attachments": {},
            "cell_type": "markdown",
            "metadata": {},
            "source": [
                "To use the temperature from a Heat Transfer simulation instead of a prescribed temperature, we are using the `festim.HeatTransferProblem` class."
            ]
        },
        {
            "attachments": {},
            "cell_type": "markdown",
            "metadata": {},
            "source": [
                "Since we want to run a heat transfer simulation, the thermal conductivity $\\lambda$ in W/m/K has to be specified in the material.\n",
                "It is possible to set a temperature-dependent thermal conductivity by creating a function and passing it to the `thermal_conductivity` argument.\n",
                "\n",
                "Here, $\\lambda = 3 + 0.1\\ T$"
            ]
        },
        {
            "cell_type": "code",
            "execution_count": 1,
            "metadata": {},
            "outputs": [],
            "source": [
                "import festim as F\n",
                "\n",
                "my_model = F.HeatTransferProblem()\n",
                "\n",
                "\n",
                "def thermal_cond_function(T):\n",
                "    return 3 + 0.1 * T\n",
                "\n",
                "\n",
                "mat = F.Material(D_0=4.1e-7, E_D=0.39, thermal_conductivity=thermal_cond_function)"
            ]
        },
        {
            "attachments": {},
            "cell_type": "markdown",
            "metadata": {},
            "source": [
                "We create a simple mesh with FEniCS and create subdomains (surfaces and volume)."
            ]
        },
        {
            "cell_type": "code",
            "execution_count": 2,
            "metadata": {},
            "outputs": [],
            "source": [
                "import dolfinx\n",
                "from mpi4py import MPI\n",
                "import numpy as np\n",
                "\n",
                "# creating a mesh with FEniCS\n",
                "nx = ny = 20\n",
                "mesh_fenics = dolfinx.mesh.create_unit_square(MPI.COMM_WORLD, nx, ny)\n",
                "\n",
                "# creating mesh with festim\n",
                "my_model.mesh = F.Mesh(mesh=mesh_fenics)\n",
                "\n",
                "volume_subdomain = F.VolumeSubdomain(id=1, material=mat)\n",
                "\n",
                "\n",
                "top_bot = F.SurfaceSubdomain(id=2, locator=lambda x: np.logical_or(np.isclose(x[1], 0.0), np.isclose(x[1], 1.0)))\n",
                "left = F.SurfaceSubdomain(id=3, locator=lambda x: np.isclose(x[0], 0.0))\n",
                "right = F.SurfaceSubdomain(id=4, locator=lambda x: np.isclose(x[0], 1.0))\n",
                "\n",
                "my_model.subdomains = [volume_subdomain, top_bot, left, right]"
            ]
        },
        {
            "attachments": {},
            "cell_type": "markdown",
            "metadata": {},
            "source": [
                "For the heat source and boundary conditions, we'll use spatially dependent values."
            ]
        },
        {
            "cell_type": "code",
            "execution_count": null,
            "metadata": {},
            "outputs": [],
            "source": [
                "my_model.sources = [\n",
                "    F.HeatSource(value=lambda x: 1 + 0.1 * x[0], volume=volume_subdomain)\n",
                "]\n",
                "\n",
                "import ufl\n",
                "\n",
                "fixed_temperature_left = F.FixedTemperatureBC(\n",
                "    subdomain=left, value=lambda x: 350 + 20 * ufl.cos(x[0]) * ufl.sin(x[1])\n",
                ")\n",
                "\n",
                "def h_coeff(x):\n",
                "    return 100 * x[0]\n",
                "\n",
                "def T_ext(x):\n",
                "    return 300 + 3 * x[1]\n",
                "\n",
                "convective_heat_transfer = F.HeatFluxBC(\n",
                "    subdomain=top_bot, value=lambda x, T: h_coeff(x) * (T_ext(x) - T)\n",
                ")\n",
                "\n",
                "heat_flux = F.HeatFluxBC(\n",
                "    subdomain=right, value=lambda x: 10 + 3 * ufl.cos(x[0]) + ufl.sin(x[1])\n",
                ")\n",
                "\n",
                "\n",
                "my_model.boundary_conditions = [\n",
                "    fixed_temperature_left,\n",
                "    convective_heat_transfer,\n",
                "    heat_flux,\n",
                "]"
            ]
        },
        {
            "attachments": {},
            "cell_type": "markdown",
            "metadata": {},
            "source": [
                "Final settings, and we run the simulation:"
            ]
        },
        {
            "cell_type": "code",
            "execution_count": 4,
            "metadata": {},
            "outputs": [],
            "source": [
                "my_model.settings = F.Settings(\n",
                "    transient=False,\n",
                "    atol=1e-09,\n",
                "    rtol=1e-09,\n",
                ")\n",
                "\n",
                "my_model.initialise()\n",
                "my_model.run()"
            ]
        },
        {
            "cell_type": "code",
            "execution_count": 5,
            "metadata": {
                "tags": [
                    "hide-cell"
                ]
            },
            "outputs": [],
            "source": [
                "import pyvista\n",
                "\n",
                "pyvista.start_xvfb()\n",
                "pyvista.set_jupyter_backend(\"html\")"
            ]
        },
        {
            "cell_type": "code",
            "execution_count": 6,
            "metadata": {},
            "outputs": [
                {
                    "data": {
                        "application/vnd.jupyter.widget-view+json": {
                            "model_id": "0f3836f4232448209aa34b48470c4f03",
                            "version_major": 2,
                            "version_minor": 0
                        },
                        "text/plain": [
                            "EmbeddableWidget(value='<iframe srcdoc=\"<!DOCTYPE html>\\n<html>\\n  <head>\\n    <meta http-equiv=&quot;Content-…"
                        ]
                    },
                    "metadata": {},
                    "output_type": "display_data"
                }
            ],
            "source": [
                "from dolfinx import plot\n",
                "\n",
                "T = my_model.u\n",
                "\n",
                "topology, cell_types, geometry = plot.vtk_mesh(T.function_space)\n",
                "u_grid = pyvista.UnstructuredGrid(topology, cell_types, geometry)\n",
                "u_grid.point_data[\"T\"] = T.x.array.real\n",
                "u_grid.set_active_scalars(\"T\")\n",
                "u_plotter = pyvista.Plotter()\n",
                "u_plotter.add_mesh(u_grid, cmap=\"inferno\", show_edges=False)\n",
                "u_plotter.add_mesh(u_grid, style=\"wireframe\", color=\"white\", opacity=0.2)\n",
                "\n",
                "contours = u_grid.contour(9)\n",
                "u_plotter.add_mesh(contours, color=\"white\")\n",
                "\n",
                "u_plotter.view_xy()\n",
                "\n",
                "if not pyvista.OFF_SCREEN:\n",
                "    u_plotter.show()\n",
                "else:\n",
                "    figure = u_plotter.screenshot(\"temperature.png\")"
            ]
        }
    ],
    "metadata": {
        "kernelspec": {
            "display_name": "festim-workshop",
            "language": "python",
            "name": "python3"
        },
        "language_info": {
            "codemirror_mode": {
                "name": "ipython",
                "version": 3
            },
            "file_extension": ".py",
            "mimetype": "text/x-python",
            "name": "python",
            "nbconvert_exporter": "python",
            "pygments_lexer": "ipython3",
            "version": "3.13.5"
        },
        "orig_nbformat": 4
    },
    "nbformat": 4,
    "nbformat_minor": 2
}
