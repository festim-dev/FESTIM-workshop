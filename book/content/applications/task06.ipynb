{
    "cells": [
        {
            "attachments": {},
            "cell_type": "markdown",
            "metadata": {},
            "source": [
                "# Advection-diffusion problem\n",
                "\n",
                "In this task, we'll simulate advection-diffusion in a fluid domain.\n",
                "\n",
                "Natively, advection is not taken into account in FESTIM. The idea is therefore to modify the governing equations by adding an advection term."
            ]
        },
        {
            "cell_type": "code",
            "execution_count": 1,
            "metadata": {},
            "outputs": [],
            "source": [
                "import festim as F\n",
                "\n",
                "my_model = F.HydrogenTransportProblem()\n",
                "\n",
                "H = F.Species(\"H\")\n",
                "my_model.species = [H]"
            ]
        },
        {
            "attachments": {},
            "cell_type": "markdown",
            "metadata": {},
            "source": [
                "Create a mesh with FEniCS:"
            ]
        },
        {
            "cell_type": "code",
            "execution_count": 2,
            "metadata": {},
            "outputs": [],
            "source": [
                "from dolfinx.mesh import create_unit_square\n",
                "from mpi4py import MPI\n",
                "\n",
                "# creating a mesh with FEniCS\n",
                "nx = ny = 20\n",
                "mesh_fenics = create_unit_square(MPI.COMM_WORLD, nx, ny)"
            ]
        },
        {
            "cell_type": "code",
            "execution_count": 3,
            "metadata": {
                "tags": [
                    "hide-cell"
                ]
            },
            "outputs": [],
            "source": [
                "import pyvista\n",
                "\n",
                "pyvista.start_xvfb()\n",
                "pyvista.set_jupyter_backend('html')"
            ]
        },
        {
            "cell_type": "code",
            "execution_count": 4,
            "metadata": {},
            "outputs": [
                {
                    "data": {
                        "application/vnd.jupyter.widget-view+json": {
                            "model_id": "0cae32a2a8d5456ea092a74ae0201c4f",
                            "version_major": 2,
                            "version_minor": 0
                        },
                        "text/plain": [
                            "EmbeddableWidget(value='<iframe srcdoc=\"<!DOCTYPE html>\\n<html>\\n  <head>\\n    <meta http-equiv=&quot;Content-…"
                        ]
                    },
                    "metadata": {},
                    "output_type": "display_data"
                }
            ],
            "source": [
                "from dolfinx import plot\n",
                "\n",
                "pyvista.start_xvfb()\n",
                "\n",
                "tdim = mesh_fenics.topology.dim\n",
                "\n",
                "mesh_fenics.topology.create_connectivity(tdim, tdim)\n",
                "topology, cell_types, geometry = plot.vtk_mesh(mesh_fenics, tdim)\n",
                "grid = pyvista.UnstructuredGrid(topology, cell_types, geometry)\n",
                "\n",
                "plotter = pyvista.Plotter()\n",
                "plotter.add_mesh(grid, show_edges=True)\n",
                "plotter.view_xy()\n",
                "if not pyvista.OFF_SCREEN:\n",
                "    plotter.show()\n",
                "else:\n",
                "    figure = plotter.screenshot(\"mesh.png\")"
            ]
        },
        {
            "attachments": {},
            "cell_type": "markdown",
            "metadata": {},
            "source": [
                "The mesh can now be passed to a `festim.Mesh` instance."
            ]
        },
        {
            "cell_type": "code",
            "execution_count": 5,
            "metadata": {},
            "outputs": [],
            "source": [
                "my_model.mesh = F.Mesh(mesh_fenics)"
            ]
        },
        {
            "cell_type": "markdown",
            "metadata": {},
            "source": [
                "We create subdomains for volumes and boundaries"
            ]
        },
        {
            "cell_type": "code",
            "execution_count": 6,
            "metadata": {},
            "outputs": [],
            "source": [
                "import numpy as np\n",
                "import dolfinx\n",
                "\n",
                "topbot_boundary = F.SurfaceSubdomain(id=1, locator=lambda x: np.logical_or(np.isclose(x[1], 0.0), np.isclose(x[1], 1.0)))\n",
                "left_boundary = F.SurfaceSubdomain(id=2, locator=lambda x: np.isclose(x[0], 0.0))\n",
                "right_boundary = F.SurfaceSubdomain(id=3, locator=lambda x: np.isclose(x[0], 1.0))\n",
                "volume_subdomain = F.VolumeSubdomain(id=1, material=F.Material(D_0=1, E_D=0))\n",
                "\n",
                "my_model.subdomains = [\n",
                "    topbot_boundary,\n",
                "    left_boundary,\n",
                "    volume_subdomain,\n",
                "]"
            ]
        },
        {
            "attachments": {},
            "cell_type": "markdown",
            "metadata": {},
            "source": [
                "Let's add the rest of the parameters.\n",
                "For this case, the concentration will be set to 1 on the left surface and to zero on the top and bottom surfaces."
            ]
        },
        {
            "cell_type": "code",
            "execution_count": 7,
            "metadata": {},
            "outputs": [],
            "source": [
                "my_model.temperature = 500\n",
                "\n",
                "my_model.boundary_conditions = [\n",
                "    F.FixedConcentrationBC(species=H, subdomain=topbot_boundary, value=0),\n",
                "    F.FixedConcentrationBC(species=H, subdomain=left_boundary, value=1),\n",
                "]\n",
                "\n",
                "my_model.settings = F.Settings(atol=1e-10, rtol=1e-10, transient=False)"
            ]
        },
        {
            "attachments": {},
            "cell_type": "markdown",
            "metadata": {},
            "source": [
                "We can now run the pure diffusion simulation and visualise the hydrogen concentration field."
            ]
        },
        {
            "cell_type": "code",
            "execution_count": 8,
            "metadata": {},
            "outputs": [],
            "source": [
                "my_model.initialise()\n",
                "my_model.run()"
            ]
        },
        {
            "cell_type": "code",
            "execution_count": 9,
            "metadata": {},
            "outputs": [
                {
                    "data": {
                        "application/vnd.jupyter.widget-view+json": {
                            "model_id": "7f0d115164a5485a814122e80b2efdbf",
                            "version_major": 2,
                            "version_minor": 0
                        },
                        "text/plain": [
                            "EmbeddableWidget(value='<iframe srcdoc=\"<!DOCTYPE html>\\n<html>\\n  <head>\\n    <meta http-equiv=&quot;Content-…"
                        ]
                    },
                    "metadata": {},
                    "output_type": "display_data"
                }
            ],
            "source": [
                "hydrogen_concentration = H.solution\n",
                "\n",
                "topology, cell_types, geometry = plot.vtk_mesh(hydrogen_concentration.function_space)\n",
                "u_grid = pyvista.UnstructuredGrid(topology, cell_types, geometry)\n",
                "u_grid.point_data[\"c\"] = hydrogen_concentration.x.array.real\n",
                "u_grid.set_active_scalars(\"c\")\n",
                "u_plotter = pyvista.Plotter()\n",
                "u_plotter.add_mesh(u_grid, show_edges=True)\n",
                "u_plotter.view_xy()\n",
                "\n",
                "if not pyvista.OFF_SCREEN:\n",
                "    u_plotter.show()\n",
                "else:\n",
                "    figure = u_plotter.screenshot(\"concentration_diff_only.png\")"
            ]
        },
        {
            "attachments": {},
            "cell_type": "markdown",
            "metadata": {},
            "source": [
                "## Adding advection\n",
                "\n",
                "Let's now add an advection term. To do so, we first need to create a velocity field.\n",
                "For simplicity sake, we will create an arbitrary field `velocity`.\n",
                "\n",
                "> \n",
                "> Note: this velocity field can be obtained from solving the Navier-Stokes equations with FEniCS or with another code (OpenFOAM).\n",
                "> "
            ]
        },
        {
            "cell_type": "code",
            "execution_count": 10,
            "metadata": {},
            "outputs": [],
            "source": [
                "from basix.ufl import element\n",
                "\n",
                "el = element(\"Lagrange\", mesh_fenics.topology.cell_name(), 2, shape=(mesh_fenics.geometry.dim, ))\n",
                "\n",
                "\n",
                "V = dolfinx.fem.functionspace(my_model.mesh.mesh, el)\n",
                "\n",
                "velocity = dolfinx.fem.Function(V)\n",
                "\n",
                "velocity.interpolate(lambda x: (-100*x[1]*(x[1]-1), np.full_like(x[0], 0.0)))"
            ]
        },
        {
            "attachments": {},
            "cell_type": "markdown",
            "metadata": {},
            "source": [
                "Here's what `velocity` looks like:"
            ]
        },
        {
            "cell_type": "code",
            "execution_count": 11,
            "metadata": {},
            "outputs": [
                {
                    "data": {
                        "application/vnd.jupyter.widget-view+json": {
                            "model_id": "6d65a6f875ca4d46b6386d18b122e745",
                            "version_major": 2,
                            "version_minor": 0
                        },
                        "text/plain": [
                            "EmbeddableWidget(value='<iframe srcdoc=\"<!DOCTYPE html>\\n<html>\\n  <head>\\n    <meta http-equiv=&quot;Content-…"
                        ]
                    },
                    "metadata": {},
                    "output_type": "display_data"
                }
            ],
            "source": [
                "topology, cell_types, geometry = plot.vtk_mesh(V)\n",
                "values = np.zeros((geometry.shape[0], 3), dtype=np.float64)\n",
                "values[:, :len(velocity)] = velocity.x.array.real.reshape((geometry.shape[0], len(velocity)))\n",
                "\n",
                "# Create a point cloud of glyphs\n",
                "function_grid = pyvista.UnstructuredGrid(topology, cell_types, geometry)\n",
                "function_grid[\"v\"] = values\n",
                "glyphs = function_grid.glyph(orient=\"v\", factor=0.005)\n",
                "\n",
                "# Create a pyvista-grid for the mesh\n",
                "mesh_fenics.topology.create_connectivity(mesh_fenics.topology.dim, mesh_fenics.topology.dim)\n",
                "grid = pyvista.UnstructuredGrid(*plot.vtk_mesh(mesh_fenics, mesh_fenics.topology.dim))\n",
                "\n",
                "# Create plotter\n",
                "plotter = pyvista.Plotter()\n",
                "plotter.add_mesh(grid, style=\"wireframe\", color=\"k\")\n",
                "plotter.add_mesh(glyphs)\n",
                "plotter.view_xy()\n",
                "if not pyvista.OFF_SCREEN:\n",
                "    plotter.show()\n",
                "else:\n",
                "    fig_as_array = plotter.screenshot(\"glyphs.png\")"
            ]
        },
        {
            "attachments": {},
            "cell_type": "markdown",
            "metadata": {},
            "source": [
                "Now that we created a FEniCS function representing the velocity, let's add an advection term to the governing equation.\n",
                "\n",
                "The governing equation for steady state advection-diffusion is:\n",
                "\n",
                "$$\\nabla \\cdot (D \\nabla c) - v \\cdot \\nabla c = 0$$\n",
                "\n",
                "where $D$ is the diffusion coefficient, $c$ is the hydrogen concentration and $v$ is the velocity.\n"
            ]
        },
        {
            "cell_type": "code",
            "execution_count": 12,
            "metadata": {},
            "outputs": [],
            "source": [
                "advection_term = F.AdvectionTerm(\n",
                "    velocity=velocity,\n",
                "    subdomain=volume_subdomain,\n",
                "    species=H,\n",
                ")\n",
                "\n",
                "my_model.advection_terms = [advection_term]"
            ]
        },
        {
            "cell_type": "code",
            "execution_count": 13,
            "metadata": {},
            "outputs": [],
            "source": [
                "my_model.initialise()\n",
                "my_model.run()"
            ]
        },
        {
            "attachments": {},
            "cell_type": "markdown",
            "metadata": {},
            "source": [
                "Now that the governing equation has been modified, let's run the simulation again and check the new concentration field."
            ]
        },
        {
            "cell_type": "code",
            "execution_count": 14,
            "metadata": {},
            "outputs": [
                {
                    "data": {
                        "application/vnd.jupyter.widget-view+json": {
                            "model_id": "bdf64ec3d8424818bde07c9d6f7e05e1",
                            "version_major": 2,
                            "version_minor": 0
                        },
                        "text/plain": [
                            "EmbeddableWidget(value='<iframe srcdoc=\"<!DOCTYPE html>\\n<html>\\n  <head>\\n    <meta http-equiv=&quot;Content-…"
                        ]
                    },
                    "metadata": {},
                    "output_type": "display_data"
                }
            ],
            "source": [
                "hydrogen_concentration = H.solution\n",
                "\n",
                "topology, cell_types, geometry = plot.vtk_mesh(hydrogen_concentration.function_space)\n",
                "u_grid = pyvista.UnstructuredGrid(topology, cell_types, geometry)\n",
                "u_grid.point_data[\"c\"] = hydrogen_concentration.x.array.real\n",
                "u_grid.set_active_scalars(\"c\")\n",
                "u_plotter = pyvista.Plotter()\n",
                "u_plotter.add_mesh(u_grid, show_edges=False)\n",
                "u_plotter.add_mesh(glyphs, color=\"black\", opacity=0.2)\n",
                "u_plotter.view_xy()\n",
                "\n",
                "if not pyvista.OFF_SCREEN:\n",
                "    u_plotter.show()\n",
                "else:\n",
                "    figure = u_plotter.screenshot(\"concentration_with_adv.png\")"
            ]
        },
        {
            "attachments": {},
            "cell_type": "markdown",
            "metadata": {},
            "source": [
                "The concentration field is greatly affected as particles are now pushed towards the right hand side of the domain.\n",
                "\n",
                "# Task:\n",
                "\n",
                "Vary the velocity field to investigate its influence on the mobile concentration"
            ]
        }
    ],
    "metadata": {
        "kernelspec": {
            "display_name": "festim-workshop",
            "language": "python",
            "name": "python3"
        },
        "language_info": {
            "codemirror_mode": {
                "name": "ipython",
                "version": 3
            },
            "file_extension": ".py",
            "mimetype": "text/x-python",
            "name": "python",
            "nbconvert_exporter": "python",
            "pygments_lexer": "ipython3",
            "version": "3.13.5"
        },
        "orig_nbformat": 4
    },
    "nbformat": 4,
    "nbformat_minor": 2
}
