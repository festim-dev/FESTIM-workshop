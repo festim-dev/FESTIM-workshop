{
 "cells": [
  {
   "cell_type": "markdown",
   "id": "fb7b6492",
   "metadata": {},
   "source": [
    "# DOLFINx meshes\n",
    "\n",
    "DOLFINx provides a range of simple built-in meshes that are useful for quick testing and solving basic problems. You can find more information about the available mesh types, as well as tools for creating, refining, and marking meshes, in the [DOLFINx mesh documentation](https://docs.fenicsproject.org/dolfinx/v0.9.0/python/generated/dolfinx.mesh.html).\n",
    "\n",
    "In this tutorial, we will cover the following:\n",
    "\n",
    "- How to create basic meshes using DOLFINx  \n",
    "- How to apply mesh transformations  \n",
    "- How to use these meshes in a FESTIM simulation  \n",
    "- How to define and label subdomains on DOLFINx meshes  "
   ]
  },
  {
   "cell_type": "markdown",
   "id": "a9dcb577",
   "metadata": {},
   "source": [
    "## Built-in DOLFINx meshes\n",
    "\n",
    "The `create_unit_square` function in DOLFINx generates a structured, 2D mesh of the unit square, divided into a specified number of cells in the x and y directions. This is useful for simple test cases and provides a convenient starting point for setting up simulations."
   ]
  },
  {
   "cell_type": "code",
   "execution_count": 59,
   "id": "5167f89b",
   "metadata": {},
   "outputs": [],
   "source": [
    "from dolfinx.mesh import create_unit_square\n",
    "from mpi4py import MPI\n",
    "\n",
    "nx, ny = 10, 10  # Number of divisions in x and y directions\n",
    "mesh = create_unit_square(MPI.COMM_WORLD, nx, ny)"
   ]
  },
  {
   "cell_type": "code",
   "execution_count": 60,
   "id": "1ff3a04d",
   "metadata": {
    "tags": [
     "hide-input"
    ]
   },
   "outputs": [
    {
     "data": {
      "application/vnd.jupyter.widget-view+json": {
       "model_id": "54002dc33df14c07b83a98d0fef9eafd",
       "version_major": 2,
       "version_minor": 0
      },
      "text/plain": [
       "EmbeddableWidget(value='<iframe srcdoc=\"<!DOCTYPE html>\\n<html>\\n  <head>\\n    <meta http-equiv=&quot;Content-…"
      ]
     },
     "metadata": {},
     "output_type": "display_data"
    }
   ],
   "source": [
    "from dolfinx import plot\n",
    "import pyvista\n",
    "\n",
    "pyvista.start_xvfb()\n",
    "pyvista.set_jupyter_backend(\"html\")\n",
    "\n",
    "\n",
    "tdim = mesh.topology.dim\n",
    "\n",
    "mesh.topology.create_connectivity(tdim, tdim)\n",
    "topology, cell_types, geometry = plot.vtk_mesh(mesh, tdim)\n",
    "grid = pyvista.UnstructuredGrid(topology, cell_types, geometry)\n",
    "\n",
    "plotter = pyvista.Plotter()\n",
    "plotter.add_mesh(grid, show_edges=True)\n",
    "plotter.view_xy()\n",
    "if not pyvista.OFF_SCREEN:\n",
    "    plotter.show()\n",
    "else:\n",
    "    figure = plotter.screenshot(\"mesh.png\")"
   ]
  },
  {
   "cell_type": "markdown",
   "id": "7eaae4fb",
   "metadata": {},
   "source": [
    "Similarly, the `create_unit_cube` function creates a 3D mesh of the unit cube, subdivided into a specified number of cells along the x, y, and z directions. It is useful for testing and developing 3D simulations."
   ]
  },
  {
   "cell_type": "code",
   "execution_count": 61,
   "id": "67a19260",
   "metadata": {},
   "outputs": [],
   "source": [
    "from dolfinx.mesh import create_unit_cube\n",
    "from mpi4py import MPI\n",
    "\n",
    "nx, ny, nz = 10, 10, 10  # Number of divisions in x, y, and z directions\n",
    "mesh = create_unit_cube(MPI.COMM_WORLD, nx, ny, nz)"
   ]
  },
  {
   "cell_type": "code",
   "execution_count": 62,
   "id": "031b93af",
   "metadata": {
    "tags": [
     "hide-input"
    ]
   },
   "outputs": [
    {
     "data": {
      "application/vnd.jupyter.widget-view+json": {
       "model_id": "1708d2d7b996497b9cdbcea2693a32e8",
       "version_major": 2,
       "version_minor": 0
      },
      "text/plain": [
       "EmbeddableWidget(value='<iframe srcdoc=\"<!DOCTYPE html>\\n<html>\\n  <head>\\n    <meta http-equiv=&quot;Content-…"
      ]
     },
     "metadata": {},
     "output_type": "display_data"
    }
   ],
   "source": [
    "tdim = mesh.topology.dim\n",
    "\n",
    "mesh.topology.create_connectivity(tdim, tdim)\n",
    "topology, cell_types, geometry = plot.vtk_mesh(mesh, tdim)\n",
    "grid = pyvista.UnstructuredGrid(topology, cell_types, geometry)\n",
    "\n",
    "plotter = pyvista.Plotter()\n",
    "plotter.add_mesh(grid, show_edges=True)\n",
    "plotter.view_isometric()\n",
    "if not pyvista.OFF_SCREEN:\n",
    "    plotter.show()\n",
    "else:\n",
    "    figure = plotter.screenshot(\"mesh.png\")"
   ]
  },
  {
   "cell_type": "markdown",
   "id": "2cd64bda",
   "metadata": {},
   "source": [
    "The `create_rectangle` function enables the definition of a 2D rectangular mesh over any axis-aligned domain by specifying custom corner coordinates, unlike `create_unit_square`, which has a fixed domain. This provides more flexibility for modelling geometries of arbitrary size."
   ]
  },
  {
   "cell_type": "code",
   "execution_count": 63,
   "id": "92610879",
   "metadata": {},
   "outputs": [],
   "source": [
    "from dolfinx.mesh import create_rectangle\n",
    "from mpi4py import MPI\n",
    "\n",
    "mesh = create_rectangle(MPI.COMM_WORLD, [[0, 0], [2, 1]], [20, 10])"
   ]
  },
  {
   "cell_type": "code",
   "execution_count": 64,
   "id": "8b381af0",
   "metadata": {
    "tags": [
     "hide-input"
    ]
   },
   "outputs": [
    {
     "data": {
      "application/vnd.jupyter.widget-view+json": {
       "model_id": "f68db87e9c4a47a9a25046bbe0a945f7",
       "version_major": 2,
       "version_minor": 0
      },
      "text/plain": [
       "EmbeddableWidget(value='<iframe srcdoc=\"<!DOCTYPE html>\\n<html>\\n  <head>\\n    <meta http-equiv=&quot;Content-…"
      ]
     },
     "metadata": {},
     "output_type": "display_data"
    }
   ],
   "source": [
    "tdim = mesh.topology.dim\n",
    "\n",
    "mesh.topology.create_connectivity(tdim, tdim)\n",
    "topology, cell_types, geometry = plot.vtk_mesh(mesh, tdim)\n",
    "grid = pyvista.UnstructuredGrid(topology, cell_types, geometry)\n",
    "\n",
    "plotter = pyvista.Plotter()\n",
    "plotter.add_mesh(grid, show_edges=True)\n",
    "plotter.view_isometric()\n",
    "if not pyvista.OFF_SCREEN:\n",
    "    plotter.show()\n",
    "else:\n",
    "    figure = plotter.screenshot(\"mesh.png\")"
   ]
  },
  {
   "cell_type": "markdown",
   "id": "bdd7a2a7",
   "metadata": {},
   "source": [
    "All of the built-in mesh creation functions in DOLFINx, such as `create_unit_square`, `create_unit_cube`, and `create_rectangle`, accept a `cell_type` argument. This specifies the type of elements used to construct the mesh.\n",
    "\n",
    "Common options include:\n",
    "\n",
    "- `\"triangle\"` for 2D triangular elements  \n",
    "- `\"quadrilateral\"` for 2D quadrilateral elements  \n",
    "- `\"tetrahedron\"` for 3D tetrahedral elements  \n",
    "- `\"hexahedron\"` for 3D hexahedral (brick-like) elements\n",
    "\n",
    "Choosing the appropriate `cell_type` is important, as it determines the structure of the mesh and which finite elements can be used later in the simulation."
   ]
  },
  {
   "cell_type": "code",
   "execution_count": 65,
   "id": "4482b695",
   "metadata": {},
   "outputs": [],
   "source": [
    "from dolfinx.mesh import CellType\n",
    "\n",
    "mesh = create_unit_square(MPI.COMM_WORLD, 10, 10, cell_type=CellType.quadrilateral)"
   ]
  },
  {
   "cell_type": "markdown",
   "id": "30ae77b8",
   "metadata": {},
   "source": [
    "## Mesh transformations\n",
    "\n",
    "In some cases, it is useful to apply transformations to a mesh's coordinates—such as scaling, translating, or rotating the domain. This can help with unit conversion, adjusting the position of the mesh, or aligning it with physical geometry.\n",
    "\n",
    "These operations can be performed directly by modifying the `.geometry.x` attribute of a DOLFINx mesh, which stores the coordinate array of all mesh vertices.\n",
    "\n",
    "### Scaling\n",
    "\n",
    "To scale a mesh uniformly or anisotropically, you can multiply the coordinate array by a scalar or a vector. This changes the physical size of the domain without altering its topological structure."
   ]
  },
  {
   "cell_type": "code",
   "execution_count": 66,
   "id": "63a277c9",
   "metadata": {},
   "outputs": [],
   "source": [
    "mesh = create_unit_square(MPI.COMM_WORLD, 10, 10)\n",
    "\n",
    "mesh.geometry.x[:] *= 1e-3"
   ]
  },
  {
   "cell_type": "markdown",
   "id": "456500e4",
   "metadata": {},
   "source": [
    "The following example shows how to scale only the x-dimension of a mesh, effectively compressing the domain in one direction:"
   ]
  },
  {
   "cell_type": "code",
   "execution_count": 67,
   "id": "58dd29e3",
   "metadata": {},
   "outputs": [],
   "source": [
    "mesh = create_unit_square(MPI.COMM_WORLD, 10, 10)\n",
    "\n",
    "mesh.geometry.x[:, 0] *= 0.5"
   ]
  },
  {
   "cell_type": "markdown",
   "id": "1c36d048",
   "metadata": {},
   "source": [
    "This creates a 2D unit square mesh with 10 divisions in each direction. The second line accesses the mesh’s geometry array and modifies only the first column, which corresponds to the x-coordinates of all vertices. Multiplying these values by 0.5 scales the mesh in the x-direction, transforming the original square into a rectangle. This approach is useful when you need to stretch or compress a mesh in a single direction, for example to simulate an anisotropic domain or convert units along one axis."
   ]
  },
  {
   "cell_type": "code",
   "execution_count": 68,
   "id": "cc27a47a",
   "metadata": {
    "tags": [
     "hide-input"
    ]
   },
   "outputs": [
    {
     "data": {
      "application/vnd.jupyter.widget-view+json": {
       "model_id": "349513a038e741bebeaf8cd35507122c",
       "version_major": 2,
       "version_minor": 0
      },
      "text/plain": [
       "EmbeddableWidget(value='<iframe srcdoc=\"<!DOCTYPE html>\\n<html>\\n  <head>\\n    <meta http-equiv=&quot;Content-…"
      ]
     },
     "metadata": {},
     "output_type": "display_data"
    }
   ],
   "source": [
    "tdim = mesh.topology.dim\n",
    "\n",
    "mesh.topology.create_connectivity(tdim, tdim)\n",
    "topology, cell_types, geometry = plot.vtk_mesh(mesh, tdim)\n",
    "grid = pyvista.UnstructuredGrid(topology, cell_types, geometry)\n",
    "\n",
    "plotter = pyvista.Plotter()\n",
    "plotter.add_mesh(grid, show_edges=True)\n",
    "plotter.view_isometric()\n",
    "if not pyvista.OFF_SCREEN:\n",
    "    plotter.show()\n",
    "else:\n",
    "    figure = plotter.screenshot(\"mesh.png\")"
   ]
  },
  {
   "cell_type": "markdown",
   "id": "e40b6e11",
   "metadata": {},
   "source": [
    "### Translating\n",
    "\n",
    "To move (translate) a mesh to a different position, simply add a constant offset to all coordinates:"
   ]
  },
  {
   "cell_type": "code",
   "execution_count": 69,
   "id": "d245e405",
   "metadata": {},
   "outputs": [],
   "source": [
    "mesh = create_unit_square(MPI.COMM_WORLD, 10, 10)\n",
    "\n",
    "# Move mesh 10 units in x-direction\n",
    "mesh.geometry.x[:, 0] += 10"
   ]
  },
  {
   "cell_type": "markdown",
   "id": "15b4adc6",
   "metadata": {},
   "source": [
    "### Rotating\n",
    "\n",
    "Example 1: Rotating a Mesh by 90 Degrees via Coordinate Swapping\n",
    "\n",
    "This method rotates a 2D mesh 90 degrees counter-clockwise by swapping its x- and y-coordinates.\n",
    "\n",
    "The mesh is originally defined over the domain $([0, 2] \\times [0, 1])$. After swapping coordinates, the domain becomes $([0, 1] \\times [0, 2])$, effectively rotating the mesh about the origin.\n",
    "\n",
    "This approach is simple and efficient but limited to 90° rotations and rotation about the origin.\n",
    "\n",
    "```{note} Note\n",
    "The rotation is performed about the origin $(0, 0)$. If your mesh is defined elsewhere, you may need to shift it to the origin before rotation and shift it back afterward.\n",
    "```"
   ]
  },
  {
   "cell_type": "code",
   "execution_count": 70,
   "id": "db02027d",
   "metadata": {},
   "outputs": [],
   "source": [
    "# Create a rectangular mesh over the domain [0, 2] x [0, 1]\n",
    "mesh = create_rectangle(MPI.COMM_WORLD, [[0, 0], [2, 1]], [20, 10])\n",
    "\n",
    "# Store a copy of the x-coordinates\n",
    "x_vals = mesh.geometry.x[:, 0].copy()\n",
    "\n",
    "# Swap x and y to perform a 90-degree rotation\n",
    "mesh.geometry.x[:, 0] = mesh.geometry.x[:, 1].copy()\n",
    "mesh.geometry.x[:, 1] = x_vals"
   ]
  },
  {
   "cell_type": "code",
   "execution_count": 71,
   "id": "1c178fe9",
   "metadata": {
    "tags": [
     "hide-input"
    ]
   },
   "outputs": [
    {
     "data": {
      "application/vnd.jupyter.widget-view+json": {
       "model_id": "e1135e79255a48679047e24a3c64219e",
       "version_major": 2,
       "version_minor": 0
      },
      "text/plain": [
       "EmbeddableWidget(value='<iframe srcdoc=\"<!DOCTYPE html>\\n<html>\\n  <head>\\n    <meta http-equiv=&quot;Content-…"
      ]
     },
     "metadata": {},
     "output_type": "display_data"
    }
   ],
   "source": [
    "tdim = mesh.topology.dim\n",
    "\n",
    "mesh.topology.create_connectivity(tdim, tdim)\n",
    "topology, cell_types, geometry = plot.vtk_mesh(mesh, tdim)\n",
    "grid = pyvista.UnstructuredGrid(topology, cell_types, geometry)\n",
    "\n",
    "plotter = pyvista.Plotter()\n",
    "plotter.add_mesh(grid, show_edges=True)\n",
    "plotter.view_xy()\n",
    "\n",
    "# show orientation\n",
    "plotter.show_axes()\n",
    "\n",
    "if not pyvista.OFF_SCREEN:\n",
    "    plotter.show()\n",
    "else:\n",
    "    figure = plotter.screenshot(\"mesh.png\")"
   ]
  },
  {
   "cell_type": "markdown",
   "id": "d88960fc",
   "metadata": {},
   "source": [
    "Example 2: Rotating a Mesh by an Arbitrary Angle Using `scipy`\n",
    "\n",
    "To rotate a mesh by any angle, you can apply a rotation matrix using the `Rotation` class from `scipy.spatial.transform`.\n",
    "\n",
    "In this example, the mesh is rotated by 30 degrees counter-clockwise about the origin. The rotation is performed by applying the rotation matrix to all mesh coordinates.\n",
    "\n",
    "If your mesh is not centred at the origin, you should translate it so the rotation point aligns with the origin before rotating, and translate it back afterward."
   ]
  },
  {
   "cell_type": "code",
   "execution_count": 72,
   "id": "3db8feb3",
   "metadata": {},
   "outputs": [],
   "source": [
    "from scipy.spatial.transform import Rotation\n",
    "\n",
    "mesh = create_unit_square(MPI.COMM_WORLD, 10, 10)\n",
    "\n",
    "# Define rotation angle in degrees\n",
    "degrees = 30\n",
    "\n",
    "# Create a rotation object for rotation about the z-axis\n",
    "rotation = Rotation.from_euler(\"z\", degrees, degrees=True)\n",
    "\n",
    "# Apply rotation to all mesh coordinates\n",
    "mesh.geometry.x[:, :] = rotation.apply(mesh.geometry.x)"
   ]
  },
  {
   "cell_type": "code",
   "execution_count": 73,
   "id": "a43c40b1",
   "metadata": {
    "tags": [
     "hide-input"
    ]
   },
   "outputs": [
    {
     "data": {
      "application/vnd.jupyter.widget-view+json": {
       "model_id": "7f6f5d8aa599442d9f00beabb75be7a3",
       "version_major": 2,
       "version_minor": 0
      },
      "text/plain": [
       "EmbeddableWidget(value='<iframe srcdoc=\"<!DOCTYPE html>\\n<html>\\n  <head>\\n    <meta http-equiv=&quot;Content-…"
      ]
     },
     "metadata": {},
     "output_type": "display_data"
    }
   ],
   "source": [
    "tdim = mesh.topology.dim\n",
    "\n",
    "mesh.topology.create_connectivity(tdim, tdim)\n",
    "topology, cell_types, geometry = plot.vtk_mesh(mesh, tdim)\n",
    "grid = pyvista.UnstructuredGrid(topology, cell_types, geometry)\n",
    "\n",
    "plotter = pyvista.Plotter()\n",
    "plotter.add_mesh(grid, show_edges=True)\n",
    "plotter.view_xy()\n",
    "\n",
    "# show orientation\n",
    "plotter.show_axes()\n",
    "\n",
    "if not pyvista.OFF_SCREEN:\n",
    "    plotter.show()\n",
    "else:\n",
    "    figure = plotter.screenshot(\"mesh.png\")"
   ]
  },
  {
   "cell_type": "markdown",
   "id": "c17be2aa",
   "metadata": {},
   "source": [
    "## Passing a dolfinx mesh to FESTIM\n",
    "\n",
    "To use a DOLFINx mesh in a FESTIM simulation, simply pass it to a `festim.Mesh` object. This allows FESTIM to internally work with the same mesh data structure used by DOLFINx.\n",
    "\n",
    "You can pass any 2D or 3D DOLFINx mesh, created manually or through `create_unit_square`, `create_rectangle`, `create_unit_cube`, etc., directly into FESTIM."
   ]
  },
  {
   "cell_type": "code",
   "execution_count": 74,
   "id": "47d783b1",
   "metadata": {},
   "outputs": [],
   "source": [
    "import festim as F\n",
    "\n",
    "fenics_mesh = create_unit_square(MPI.COMM_WORLD, 10, 10)\n",
    "\n",
    "festim_mesh = F.Mesh(fenics_mesh)"
   ]
  },
  {
   "cell_type": "markdown",
   "id": "275ccf85",
   "metadata": {},
   "source": [
    "## Defining subdomains\n",
    "\n",
    "Now that we know how to pass a DOLFINx mesh to FESTIM, the next step is to define subdomains. These are required to assign different materials, boundary conditions, or sources to specific regions of the mesh.\n",
    "\n",
    "In FESTIM, subdomains can be defined on:\n",
    "\n",
    "- **Volumes** (used for material properties, sources, etc.)\n",
    "- **Surfaces** (used for boundary conditions like Dirichlet, Neumann, or Robin)\n",
    "\n",
    "```{note}\n",
    "This process will be greatly simplified once [PR #1005](https://github.com/festim-dev/FESTIM/pull/1005) is merged.\n",
    "```\n",
    "\n",
    "### Surface subdomains\n",
    "\n",
    "To define surface (boundary) subdomains in FESTIM, we make use of the `festim.SurfaceSubdomain` class and override the `locate_boundary_facet_indices()` method. This method should return the indices of mesh facets (edges in 2D, faces in 3D) that match a given geometric condition.\n",
    "\n",
    "Here's an example for the top and bottom boundaries of a 2D mesh:"
   ]
  },
  {
   "cell_type": "code",
   "execution_count": null,
   "id": "c45c7b89",
   "metadata": {},
   "outputs": [],
   "source": [
    "from dolfinx.mesh import locate_entities_boundary\n",
    "import numpy as np\n",
    "\n",
    "# Define the top boundary (where y ≈ 1.0)\n",
    "class TopSurface(F.SurfaceSubdomain):\n",
    "    def locate_boundary_facet_indices(self, mesh):\n",
    "        fdim = mesh.topology.dim - 1 # boundary facets\n",
    "        locator = lambda x: np.isclose(x[1], 1.0)\n",
    "        indices = locate_entities_boundary(mesh, fdim, locator)\n",
    "        return indices\n",
    "\n",
    "\n",
    "# Define the bottom boundary (where y ≈ 0.0)\n",
    "class BottomSurface(F.SurfaceSubdomain):\n",
    "    def locate_boundary_facet_indices(self, mesh):\n",
    "        fdim = mesh.topology.dim - 1\n",
    "\n",
    "        locator = lambda x: np.isclose(x[1], 0.0)\n",
    "\n",
    "        indices = locate_entities_boundary(mesh, fdim, locator)\n",
    "        return indices\n",
    "\n",
    "\n",
    "# Instantiate the surface subdomains with unique IDs\n",
    "top_surface = TopSurface(id=1)\n",
    "bottom_surface = BottomSurface(id=2)"
   ]
  },
  {
   "cell_type": "markdown",
   "id": "82f42058",
   "metadata": {},
   "source": [
    "### Volume subdomains\n",
    "\n",
    "Similarly to surface subdomains, FESTIM allows you to define volume subdomains by subclassing `festim.VolumeSubdomain` and overriding the `locate_subdomain_entities()` method.\n",
    "\n",
    "Volume subdomains are used to assign different materials or define regions with specific physical properties. Each volume subdomain must be associated with a `festim.Material` object.\n",
    "\n",
    "In the example below, we divide a mesh into two regions along the y-axis: the **top half** $(y \\geq 0.5)$ and the **bottom half** $(y \\leq 0.5)$. Both subdomains are assigned the same test material."
   ]
  },
  {
   "cell_type": "code",
   "execution_count": null,
   "id": "5bd01b2b",
   "metadata": {},
   "outputs": [],
   "source": [
    "from dolfinx.mesh import locate_entities\n",
    "\n",
    "# volume subdomains need a material\n",
    "material = F.Material(name=\"test_material\", D_0=1, E_D=0)\n",
    "\n",
    "\n",
    "# Define the top half of the domain (y >= 0.5)\n",
    "class TopVolume(F.VolumeSubdomain):\n",
    "    def locate_subdomain_entities(self, mesh):\n",
    "        locator = lambda x: x[1] >= 0.5\n",
    "        entities = locate_entities(mesh, mesh.topology.dim, locator)\n",
    "        return entities\n",
    "\n",
    "\n",
    "# Define the bottom half of the domain (y <= 0.5)\n",
    "class BottomVolume(F.VolumeSubdomain):\n",
    "    def locate_subdomain_entities(self, mesh):\n",
    "        locator = lambda x: x[1] <= 0.5\n",
    "        entities = locate_entities(mesh, mesh.topology.dim, locator)\n",
    "        return entities\n",
    "\n",
    "\n",
    "# Instantiate the volume subdomains, both using the same material\n",
    "top_volume = TopVolume(id=1, material=material)\n",
    "bottom_volume = BottomVolume(id=2, material=material)"
   ]
  },
  {
   "cell_type": "markdown",
   "id": "b946415c",
   "metadata": {},
   "source": [
    "### Visualising subdomains\n",
    "\n",
    "Once surface and volume subdomains are defined, they can be visualised by passing them to a FESTIM model and calling the `define_meshtags_and_measures()` method.\n",
    "\n",
    "This method internally generates `dolfinx.mesh.MeshTags` objects for both volume and facet entities. These tags associate mesh entities with their corresponding subdomain IDs, making them suitable for visualisation or for use in boundary conditions and material assignment.\n",
    "\n",
    "You can access the generated mesh tags using:\n",
    "\n",
    "- `my_model.facet_meshtags` for surface subdomains\n",
    "- `my_model.volume_meshtags` for volume subdomains"
   ]
  },
  {
   "cell_type": "code",
   "execution_count": null,
   "id": "cad16c33",
   "metadata": {},
   "outputs": [
    {
     "name": "stdout",
     "output_type": "stream",
     "text": [
      "<dolfinx.mesh.MeshTags object at 0x7f535690b4d0>\n",
      "<dolfinx.mesh.MeshTags object at 0x7f535690b110>\n"
     ]
    }
   ],
   "source": [
    "my_model = F.HydrogenTransportProblem()\n",
    "my_model.mesh = festim_mesh\n",
    "\n",
    "# Assign subdomains (surface and volume)\n",
    "my_model.subdomains = [top_surface, bottom_surface, top_volume, bottom_volume]\n",
    "\n",
    "# Generate dolfinx.MeshTags for visualisation and boundary/material definition\n",
    "my_model.define_meshtags_and_measures()\n",
    "\n",
    "print(my_model.facet_meshtags)\n",
    "print(my_model.volume_meshtags)"
   ]
  },
  {
   "cell_type": "markdown",
   "id": "9c033b4d",
   "metadata": {},
   "source": [
    "After calling `define_meshtags_and_measures()` on your FESTIM model, you can use `pyvista` to visualise both **volume subdomains** and **surface subdomains**. \n",
    "\n",
    "This is especially helpful for verifying that subdomains are correctly defined before running a simulation.\n",
    "\n",
    "The examples below show how to extract the mesh data and associated subdomain IDs and render them using PyVista. The resulting mesh will highlight different subdomains using distinct colours."
   ]
  },
  {
   "cell_type": "code",
   "execution_count": null,
   "id": "3d7c94b5",
   "metadata": {},
   "outputs": [
    {
     "data": {
      "application/vnd.jupyter.widget-view+json": {
       "model_id": "499d9a03f5a545deb7b19c26c37f1046",
       "version_major": 2,
       "version_minor": 0
      },
      "text/plain": [
       "EmbeddableWidget(value='<iframe srcdoc=\"<!DOCTYPE html>\\n<html>\\n  <head>\\n    <meta http-equiv=&quot;Content-…"
      ]
     },
     "metadata": {},
     "output_type": "display_data"
    }
   ],
   "source": [
    "fdim = my_model.mesh.mesh.topology.dim - 1\n",
    "tdim = my_model.mesh.mesh.topology.dim\n",
    "my_model.mesh.mesh.topology.create_connectivity(fdim, tdim)\n",
    "topology, cell_types, x = plot.vtk_mesh(\n",
    "    my_model.mesh.mesh, tdim, my_model.volume_meshtags.indices\n",
    ")\n",
    "\n",
    "p = pyvista.Plotter()\n",
    "grid = pyvista.UnstructuredGrid(topology, cell_types, x)\n",
    "grid.cell_data[\"Cell Marker\"] = my_model.volume_meshtags.values\n",
    "grid.set_active_scalars(\"Cell Marker\")\n",
    "p.add_mesh(grid, show_edges=True)\n",
    "\n",
    "if not pyvista.OFF_SCREEN:\n",
    "    p.show()\n",
    "else:\n",
    "    figure = p.screenshot(\"volume_markers.png\")\n"
   ]
  },
  {
   "cell_type": "code",
   "execution_count": null,
   "id": "4fb6ad69",
   "metadata": {},
   "outputs": [
    {
     "data": {
      "application/vnd.jupyter.widget-view+json": {
       "model_id": "4b52f55f9b984b848017537c711cbc91",
       "version_major": 2,
       "version_minor": 0
      },
      "text/plain": [
       "EmbeddableWidget(value='<iframe srcdoc=\"<!DOCTYPE html>\\n<html>\\n  <head>\\n    <meta http-equiv=&quot;Content-…"
      ]
     },
     "metadata": {},
     "output_type": "display_data"
    }
   ],
   "source": [
    "my_model.mesh.mesh.topology.create_connectivity(fdim, tdim)\n",
    "topology, cell_types, x = plot.vtk_mesh(\n",
    "    my_model.mesh.mesh, fdim, my_model.facet_meshtags.indices\n",
    ")\n",
    "\n",
    "p = pyvista.Plotter()\n",
    "grid = pyvista.UnstructuredGrid(topology, cell_types, x)\n",
    "grid.cell_data[\"Facet Marker\"] = my_model.facet_meshtags.values\n",
    "grid.set_active_scalars(\"Facet Marker\")\n",
    "p.add_mesh(grid, show_edges=True)\n",
    "\n",
    "if not pyvista.OFF_SCREEN:\n",
    "    p.show()\n",
    "else:\n",
    "    figure = p.screenshot(\"facet_markers.png\")\n"
   ]
  },
  {
   "cell_type": "markdown",
   "id": "0a15cf0f",
   "metadata": {},
   "source": [
    "To reuse subdomain information across different scripts or simulation runs, you can save your `MeshTags` to a file using the `adios4dolfinx` library. This is particularly useful for workflows where subdomain definition is done separately from the main simulation.\n",
    "\n",
    "The example below shows how to store surface (facet) subdomains to a `.bp` file and read them back later. You can follow the same procedure for volume subdomains.\n",
    "\n",
    "Make sure to assign a unique name to the `MeshTags` before writing, as this is required for identifying them when reading."
   ]
  },
  {
   "cell_type": "code",
   "execution_count": 80,
   "id": "baeb89e6",
   "metadata": {},
   "outputs": [],
   "source": [
    "import adios4dolfinx\n",
    "\n",
    "my_model.facet_meshtags.name = \"facet_tags\"\n",
    "\n",
    "# write\n",
    "adios4dolfinx.write_meshtags(\"facet_tags.bp\", my_model.mesh.mesh, my_model.facet_meshtags)\n",
    "\n",
    "# read\n",
    "ft = adios4dolfinx.read_meshtags(\"facet_tags.bp\", my_model.mesh.mesh, meshtag_name=\"facet_tags\")"
   ]
  },
  {
   "cell_type": "markdown",
   "id": "5295c73c",
   "metadata": {},
   "source": [
    "## Complete example\n",
    "\n",
    "### Implementation"
   ]
  },
  {
   "cell_type": "code",
   "execution_count": 81,
   "id": "ce17c165",
   "metadata": {},
   "outputs": [],
   "source": [
    "import festim as F\n",
    "from dolfinx.mesh import locate_entities_boundary\n",
    "from dolfinx.mesh import locate_entities\n",
    "\n",
    "import numpy as np\n",
    "\n",
    "fenics_mesh = create_unit_square(MPI.COMM_WORLD, 10, 10)\n",
    "\n",
    "festim_mesh = F.Mesh(fenics_mesh)\n",
    "\n",
    "\n",
    "class TopSurface(F.SurfaceSubdomain):\n",
    "    def locate_boundary_facet_indices(self, mesh):\n",
    "        fdim = mesh.topology.dim - 1\n",
    "        indices = locate_entities_boundary(mesh, fdim, lambda x: np.isclose(x[1], 1.0))\n",
    "        return indices\n",
    "\n",
    "\n",
    "class BottomSurface(F.SurfaceSubdomain):\n",
    "    def locate_boundary_facet_indices(self, mesh):\n",
    "        fdim = mesh.topology.dim - 1\n",
    "        indices = locate_entities_boundary(mesh, fdim, lambda x: np.isclose(x[1], 0.0))\n",
    "        return indices\n",
    "\n",
    "\n",
    "class TopVolume(F.VolumeSubdomain):\n",
    "    def locate_subdomain_entities(self, mesh):\n",
    "        entities = locate_entities(\n",
    "            mesh,\n",
    "            mesh.topology.dim,\n",
    "            lambda x: x[1] >= 0.5,\n",
    "        )\n",
    "        return entities\n",
    "\n",
    "\n",
    "class BottomVolume(F.VolumeSubdomain):\n",
    "    def locate_subdomain_entities(self, mesh):\n",
    "        entities = locate_entities(\n",
    "            mesh,\n",
    "            mesh.topology.dim,\n",
    "            lambda x: x[1] <= 0.5,\n",
    "        )\n",
    "        return entities\n",
    "\n",
    "\n",
    "material_top = F.Material(D_0=1, E_D=0)\n",
    "material_bot = F.Material(D_0=2, E_D=0)\n",
    "\n",
    "\n",
    "top_volume = TopVolume(id=1, material=material_top)\n",
    "bottom_volume = BottomVolume(id=2, material=material_bot)\n",
    "\n",
    "top_surface = TopSurface(id=1)\n",
    "bottom_surface = BottomSurface(id=2)\n",
    "\n",
    "my_model = F.HydrogenTransportProblem()\n",
    "my_model.mesh = festim_mesh\n",
    "my_model.subdomains = [top_surface, bottom_surface, top_volume, bottom_volume]\n",
    "\n",
    "H = F.Species(\"H\")\n",
    "my_model.species = [H]\n",
    "\n",
    "my_model.temperature = 400\n",
    "\n",
    "my_model.boundary_conditions = [\n",
    "    F.FixedConcentrationBC(subdomain=top_surface, value=1.0, species=H),\n",
    "    F.FixedConcentrationBC(subdomain=bottom_surface, value=0.0, species=H),\n",
    "]\n",
    "\n",
    "my_model.settings = F.Settings(atol=1e-10, rtol=1e-10, transient=False)\n",
    "\n",
    "my_model.initialise()\n",
    "my_model.run()"
   ]
  },
  {
   "cell_type": "markdown",
   "id": "ed5e4a93",
   "metadata": {},
   "source": [
    "### Visualisation"
   ]
  },
  {
   "cell_type": "code",
   "execution_count": 82,
   "id": "51bec038",
   "metadata": {},
   "outputs": [
    {
     "data": {
      "application/vnd.jupyter.widget-view+json": {
       "model_id": "31072dd0ce7d46968151661c4317a2d6",
       "version_major": 2,
       "version_minor": 0
      },
      "text/plain": [
       "EmbeddableWidget(value='<iframe srcdoc=\"<!DOCTYPE html>\\n<html>\\n  <head>\\n    <meta http-equiv=&quot;Content-…"
      ]
     },
     "metadata": {},
     "output_type": "display_data"
    }
   ],
   "source": [
    "hydrogen_concentration = H.solution\n",
    "\n",
    "topology, cell_types, geometry = plot.vtk_mesh(hydrogen_concentration.function_space)\n",
    "u_grid = pyvista.UnstructuredGrid(topology, cell_types, geometry)\n",
    "u_grid.point_data[\"c\"] = hydrogen_concentration.x.array.real\n",
    "u_grid.set_active_scalars(\"c\")\n",
    "u_plotter = pyvista.Plotter()\n",
    "u_plotter.add_mesh(u_grid, show_edges=True)\n",
    "u_plotter.view_xy()\n",
    "\n",
    "if not pyvista.OFF_SCREEN:\n",
    "    u_plotter.show()\n",
    "else:\n",
    "    figure = u_plotter.screenshot(\"concentration.png\")"
   ]
  }
 ],
 "metadata": {
  "kernelspec": {
   "display_name": "festim-workshop",
   "language": "python",
   "name": "python3"
  },
  "language_info": {
   "codemirror_mode": {
    "name": "ipython",
    "version": 3
   },
   "file_extension": ".py",
   "mimetype": "text/x-python",
   "name": "python",
   "nbconvert_exporter": "python",
   "pygments_lexer": "ipython3",
   "version": "3.13.5"
  }
 },
 "nbformat": 4,
 "nbformat_minor": 5
}
