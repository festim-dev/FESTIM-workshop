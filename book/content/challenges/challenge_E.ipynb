{
 "cells": [
  {
   "cell_type": "markdown",
   "metadata": {},
   "source": [
    "# Description\n",
    "\n",
    "In a Permeation Against Vacuum (PAV) extractor, liquid LiPb is entering a EUROFER pipe with an initial tritium concentration of $10^{18} \\ \\mathrm{m^{-3}}$.\n",
    "The outer surface of the pipe is exposed to a perfect vacuum.\n",
    "The tritium concentration on this surface is assumed to be zero.\n",
    "\n",
    "The whole domain is assumed to be at $800 \\ \\mathrm{K}$.\n",
    "\n",
    "The pipe is $4 \\ \\mathrm{mm}$-thick, $30 \\ \\mathrm{cm}$-long, and has an inner radius of  $1 \\ \\mathrm{cm}$.\n",
    "\n",
    "We will assume a parabolic velocity profile:\n",
    "\n",
    "$$\n",
    "v_y = v_{y,0} \\ (x - r_i) \\ (x + r_i)\n",
    "$$\n",
    "\n",
    "where $v_{y,0}=40 \\ \\mathrm{cm/s}$ and $r_i$ is the inner radius.\n",
    "\n",
    "\n",
    "**📖 Task: compute the extraction efficiency of the PAV.**\n",
    "\n",
    "The approximate efficiency $\\eta$ can be computed as:\n",
    "\n",
    "$$\n",
    "\\eta = \\frac{c_\\mathrm{inlet} - c_\\mathrm{outlet}}{c_\\mathrm{inlet}}\n",
    "$$\n",
    "\n",
    "where $c_\\mathrm{inlet}$ and $c_\\mathrm{outlet}$ are the inlet and outlet average tritium concentrations, respectively.\n",
    "\n",
    "**💡Hint**: use the cylindrical system of coordinates."
   ]
  },
  {
   "cell_type": "markdown",
   "metadata": {},
   "source": [
    "## Meshing function\n",
    "\n",
    "We will give you the meshing function ``create_mesh`` that takes several geometrical arguments.\n",
    "\n",
    "You don't need to modify it."
   ]
  },
  {
   "cell_type": "code",
   "execution_count": 1,
   "metadata": {},
   "outputs": [],
   "source": [
    "from fenics import Point, CompiledSubDomain, MeshFunction, XDMFFile, SubDomain\n",
    "from mshr import Rectangle, generate_mesh\n",
    "\n",
    "inlet_id = 1\n",
    "vacuum_id = 2\n",
    "outlet_id = 3\n",
    "axis_id = 4\n",
    "\n",
    "id_fluid = 5\n",
    "id_pipe_walls = 6\n",
    "\n",
    "\n",
    "def create_mesh(length, inner_radius, pipe_thickness, refinement=300):\n",
    "    \"\"\"Creates a mesh for the challenge E and writes the XDMF files\n",
    "    to the challenge_E folder.\n",
    "\n",
    "    Args:\n",
    "        length (float): length of the pipe (m)\n",
    "        inner_radius (float): inner radius of the pipe (m)\n",
    "        pipe_thickness (float): pipe thickness (m)\n",
    "        refinement (int, optional): refinement index, the higher the index\n",
    "            the finer the mesh. Defaults to 300.\n",
    "    \"\"\"\n",
    "    p1 = Point(0, 0)\n",
    "    p2 = Point(inner_radius, length)\n",
    "    fluid_rectangle = Rectangle(p1, p2)\n",
    "\n",
    "    p1 = Point(inner_radius, 0)\n",
    "    p2 = Point(inner_radius + pipe_thickness, length)\n",
    "    pipe_rectangle = Rectangle(p1, p2)\n",
    "\n",
    "    domain = fluid_rectangle + pipe_rectangle\n",
    "\n",
    "    domain.set_subdomain(1, fluid_rectangle)\n",
    "    domain.set_subdomain(2, pipe_rectangle)\n",
    "    mesh = generate_mesh(domain, refinement)\n",
    "\n",
    "    # marking physical groups (volumes and surfaces)\n",
    "    volume_markers = MeshFunction(\"size_t\", mesh, mesh.topology().dim())\n",
    "    volume_markers.set_all(1)\n",
    "\n",
    "    tol = 1e-14\n",
    "\n",
    "    id_fluid = 5\n",
    "    id_pipe_walls = 6\n",
    "\n",
    "    class Fluid(SubDomain):\n",
    "        def inside(self, x, on_boundary):\n",
    "            return x[0] <= inner_radius + tol\n",
    "\n",
    "    class Pipe(SubDomain):\n",
    "        def inside(self, x, on_boundary):\n",
    "            return x[0] >= inner_radius - tol\n",
    "\n",
    "    fluid = Fluid()\n",
    "    pipe = Pipe()\n",
    "    # marking volumes\n",
    "    fluid.mark(volume_markers, id_fluid)\n",
    "    pipe.mark(volume_markers, id_pipe_walls)\n",
    "\n",
    "    tol = 1e-14\n",
    "\n",
    "    inlet_surface = CompiledSubDomain(\n",
    "        \"on_boundary && near(x[1], 0, tol) && x[0] < inner_radius + tol\",\n",
    "        tol=tol,\n",
    "        inner_radius=inner_radius,\n",
    "    )\n",
    "    outlet_surface = CompiledSubDomain(\n",
    "        \"on_boundary && near(x[1], outlet_x, tol) && x[0] < inner_radius + tol\",\n",
    "        tol=tol,\n",
    "        inner_radius=inner_radius,\n",
    "        outlet_x=length,\n",
    "    )\n",
    "    bottom_surface = CompiledSubDomain(\"on_boundary && near(x[0], 0, tol)\", tol=tol)\n",
    "    top_surface = CompiledSubDomain(\n",
    "        \"on_boundary && near(x[0], top_y, tol)\",\n",
    "        tol=tol,\n",
    "        top_y=inner_radius + pipe_thickness,\n",
    "    )\n",
    "\n",
    "    surface_markers = MeshFunction(\"size_t\", mesh, mesh.topology().dim() - 1)\n",
    "    surface_markers.set_all(0)\n",
    "\n",
    "    inlet_surface.mark(surface_markers, inlet_id)\n",
    "    outlet_surface.mark(surface_markers, outlet_id)\n",
    "    top_surface.mark(surface_markers, vacuum_id)\n",
    "    bottom_surface.mark(surface_markers, axis_id)\n",
    "\n",
    "    output_file = XDMFFile(\"challenge_E/surface_markers.xdmf\")\n",
    "    output_file.write(surface_markers)\n",
    "\n",
    "    output_file2 = XDMFFile(\"challenge_E/volume_markers.xdmf\")\n",
    "    output_file2.write(volume_markers)"
   ]
  },
  {
   "cell_type": "markdown",
   "metadata": {},
   "source": [
    "## Custom `AverageSurfaceCylindrical` class\n",
    "\n",
    "For this task we will need a custom derived quantity class to compute the average value on a surface in cylindrical coordinates.\n",
    "For more info on custom classes, see the **Task Custom classes**."
   ]
  },
  {
   "cell_type": "code",
   "execution_count": 2,
   "metadata": {},
   "outputs": [],
   "source": [
    "import festim as F\n",
    "import fenics as f\n",
    "\n",
    "\n",
    "class AverageSurfaceCylindrical(F.AverageSurface):\n",
    "    \"\"\"\n",
    "    Computes the average value of a field on a given surface\n",
    "    int(f ds) / int (1 * ds)\n",
    "    ds is the surface measure in cylindrical coordinates.\n",
    "    ds = r dr dtheta\n",
    "\n",
    "    Args:\n",
    "        field (str, int):  the field (\"solute\", 0, 1, \"T\", \"retention\")\n",
    "        surface (int): the surface id\n",
    "    \"\"\"\n",
    "\n",
    "    def __init__(self, field, surface) -> None:\n",
    "        super().__init__(field=field, surface=surface)\n",
    "        self.r = None\n",
    "\n",
    "    @property\n",
    "    def allowed_meshes(self):\n",
    "        return [\"cylindrical\"]\n",
    "\n",
    "    def compute(self):\n",
    "\n",
    "        if self.r is None:\n",
    "            mesh = (\n",
    "                self.function.function_space().mesh()\n",
    "            )  # get the mesh from the function\n",
    "            rthetaz = f.SpatialCoordinate(mesh)  # get the coordinates from the mesh\n",
    "            self.r = rthetaz[0]  # only care about r here\n",
    "\n",
    "        # dS_z = r dr dtheta , assuming axisymmetry dS_z = theta r dr\n",
    "        # dS_r = r dz dtheta , assuming axisymmetry dS_r = theta r dz\n",
    "        # in both cases the expression with self.dx is the same\n",
    "\n",
    "        avg_surf = f.assemble(\n",
    "            self.function * self.r * self.ds(self.surface)\n",
    "        ) / f.assemble(1 * self.r * self.ds(self.surface))\n",
    "\n",
    "        return avg_surf"
   ]
  },
  {
   "cell_type": "markdown",
   "metadata": {},
   "source": [
    "## Your answer\n",
    "\n",
    "We'll start by creating the mesh."
   ]
  },
  {
   "cell_type": "code",
   "execution_count": 3,
   "metadata": {},
   "outputs": [],
   "source": [
    "temperature = 800  # K\n",
    "length = 0.3  # m\n",
    "inner_radius = 1e-2  # m\n",
    "pipe_thickness = 4e-3  # m\n",
    "velocity = 40e-2  # m/s\n",
    "\n",
    "create_mesh(length, inner_radius, pipe_thickness)"
   ]
  },
  {
   "cell_type": "markdown",
   "metadata": {},
   "source": [
    "We will also use the following material properties:"
   ]
  },
  {
   "cell_type": "code",
   "execution_count": 4,
   "metadata": {},
   "outputs": [],
   "source": [
    "import h_transport_materials as htm\n",
    "\n",
    "D_pbli = (\n",
    "    htm.diffusivities.filter(material=\"lipb\")\n",
    "    .filter(isotope=\"h\")\n",
    "    .filter(author=\"reiter\")\n",
    ")[0]\n",
    "S_pbli = (\n",
    "    htm.solubilities.filter(material=\"lipb\").filter(isotope=\"h\").filter(author=\"aiello\")\n",
    ")[0]\n",
    "\n",
    "D_eurofer = htm.diffusivities.filter(material=\"eurofer_97\").filter(author=\"chen\")[0]\n",
    "S_eurofer = htm.solubilities.filter(material=\"eurofer_97\").filter(author=\"chen\")[0]"
   ]
  },
  {
   "cell_type": "code",
   "execution_count": null,
   "metadata": {
    "tags": [
     "skip-execution"
    ]
   },
   "outputs": [],
   "source": [
    "my_model = F.Simulation()\n",
    "\n",
    "# --------------\n",
    "# YOUR CODE HERE\n",
    "\n",
    "\n",
    "# --------------\n",
    "\n",
    "my_model.initialise()"
   ]
  },
  {
   "cell_type": "markdown",
   "metadata": {},
   "source": [
    "We need to add the advection field. This is almost identical to the task **Advection-diffusion problem** but adapted to work in a multi-material case.\n",
    "\n",
    "⚠️Do not modify the following code block."
   ]
  },
  {
   "cell_type": "code",
   "execution_count": null,
   "metadata": {
    "tags": [
     "skip-execution"
    ]
   },
   "outputs": [
    {
     "ename": "AttributeError",
     "evalue": "'NoneType' object has no attribute 'mesh'",
     "output_type": "error",
     "traceback": [
      "\u001b[31m---------------------------------------------------------------------------\u001b[39m",
      "\u001b[31mAttributeError\u001b[39m                            Traceback (most recent call last)",
      "\u001b[36mCell\u001b[39m\u001b[36m \u001b[39m\u001b[32mIn[6]\u001b[39m\u001b[32m, line 1\u001b[39m\n\u001b[32m----> \u001b[39m\u001b[32m1\u001b[39m mesh_sub = f.SubMesh(\u001b[43mmy_model\u001b[49m\u001b[43m.\u001b[49m\u001b[43mmesh\u001b[49m\u001b[43m.\u001b[49m\u001b[43mmesh\u001b[49m, my_model.mesh.volume_markers, id_fluid)\n\u001b[32m      3\u001b[39m functionspace = f.VectorFunctionSpace(mesh_sub, \u001b[33m\"\u001b[39m\u001b[33mCG\u001b[39m\u001b[33m\"\u001b[39m, \u001b[32m1\u001b[39m)\n\u001b[32m      5\u001b[39m velocity_expr = f.Expression(\n\u001b[32m      6\u001b[39m     (\u001b[33m\"\u001b[39m\u001b[33m0\u001b[39m\u001b[33m\"\u001b[39m, \u001b[33m\"\u001b[39m\u001b[33mv*(x[0] - inner_radius)*(x[0] + inner_radius)\u001b[39m\u001b[33m\"\u001b[39m),\n\u001b[32m      7\u001b[39m     v=velocity,\n\u001b[32m      8\u001b[39m     inner_radius=inner_radius,\n\u001b[32m      9\u001b[39m     degree=\u001b[32m2\u001b[39m,\n\u001b[32m     10\u001b[39m )\n",
      "\u001b[31mAttributeError\u001b[39m: 'NoneType' object has no attribute 'mesh'"
     ]
    }
   ],
   "source": [
    "mesh_sub = f.SubMesh(my_model.mesh.mesh, my_model.mesh.volume_markers, id_fluid)\n",
    "\n",
    "functionspace = f.VectorFunctionSpace(mesh_sub, \"CG\", 1)\n",
    "\n",
    "velocity_expr = f.Expression(\n",
    "    (\"0\", \"v*(x[0] - inner_radius)*(x[0] + inner_radius)\"),\n",
    "    v=velocity,\n",
    "    inner_radius=inner_radius,\n",
    "    degree=2,\n",
    ")\n",
    "\n",
    "velocity_function = f.interpolate(velocity_expr, functionspace)\n",
    "\n",
    "V = f.VectorFunctionSpace(my_model.mesh.mesh, \"CG\", 1)\n",
    "u = f.Function(V)\n",
    "v = f.TestFunction(V)\n",
    "\n",
    "form = f.inner(u, v) * my_model.mesh.dx\n",
    "form += f.inner(velocity_function, v) * my_model.mesh.dx(id_fluid)\n",
    "f.solve(form == 0, u, bcs=[])\n",
    "\n",
    "velocity_function = u\n",
    "\n",
    "XDMFFile(\"challenge_E/velocity_field.xdmf\").write(velocity_function)\n",
    "hydrogen_concentration = my_model.h_transport_problem.mobile.mobile_concentration()\n",
    "test_function_mobile = my_model.h_transport_problem.mobile.test_function\n",
    "advection_term = f.inner(\n",
    "    f.dot(f.grad(hydrogen_concentration), velocity_function), test_function_mobile\n",
    ") * my_model.mesh.dx(id_fluid)\n",
    "my_model.h_transport_problem.F += advection_term\n",
    "\n",
    "my_model.run()"
   ]
  },
  {
   "cell_type": "code",
   "execution_count": null,
   "metadata": {},
   "outputs": [],
   "source": [
    "# YOUR CODE GOES HERE\n",
    "\n",
    "\n",
    "print(f\"Efficiency: \")"
   ]
  }
 ],
 "metadata": {
  "kernelspec": {
   "display_name": "festim-workshop",
   "language": "python",
   "name": "python3"
  },
  "language_info": {
   "codemirror_mode": {
    "name": "ipython",
    "version": 3
   },
   "file_extension": ".py",
   "mimetype": "text/x-python",
   "name": "python",
   "nbconvert_exporter": "python",
   "pygments_lexer": "ipython3",
   "version": "3.11.11"
  }
 },
 "nbformat": 4,
 "nbformat_minor": 2
}
