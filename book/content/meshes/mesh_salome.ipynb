{
 "cells": [
  {
   "cell_type": "markdown",
   "id": "fb7b6492",
   "metadata": {},
   "source": [
    "# Mesh with SALOME\n",
    "\n",
    "In this tutorial, we demonstrate how to use [SALOME](https://www.salome-platform.org/) to generate 2D meshes for use in FESTIM.\n",
    "\n",
    "SALOME is a powerful open-source platform for CAD modelling and mesh generation. It provides a graphical interface to define geometries, assign mesh parameters, and export meshes in the MED file format.\n",
    "\n",
    "**Objectives**\n",
    "\n",
    "- Make a 2D geometry with SALOME\n",
    "- Generate a 2D mesh with SALOME and export it to a MED file  \n",
    "- Convert the mesh to XDMF format, compatible with DOLFINx  \n",
    "- Load and use the mesh in a FESTIM simulation\n",
    "\n",
    "This approach is useful when working with more complex geometries that are easier to define and control in a graphical environment like SALOME."
   ]
  },
  {
   "cell_type": "markdown",
   "id": "31f8a86a",
   "metadata": {},
   "source": [
    "## Building the geometry in SALOME\n",
    "\n",
    "This is a step-by-step guide to meshing with [SALOME 9.12.0](https://www.salome-platform.org/>).\n",
    "\n",
    "The geometry will be a 2x1 rectangle with two unit squares as subdomains.\n",
    "\n",
    "1. Open SALOME and create a new study.\n",
    "2. Activate the Geometry module\n",
    "\n",
    "   ```{figure} salome/salome_guide_1.png\n",
    "   ---\n",
    "   width: 400\n",
    "   ---\n",
    "   ```\n",
    "\n",
    "3. Create a first square by clicking \"Create rectangular face\". Keep the default parameters. Click \"Apply and Close\"\n",
    "\n",
    "   ```{figure} salome/salome_guide_2.png\n",
    "   ---\n",
    "   width: 400\n",
    "   ---\n",
    "   ```\n",
    "\n",
    "4. Repeat the operation to create a second square\n",
    "\n",
    "5. Translate the second square by clicking \"Operations/Transformation/Translation\"\n",
    "\n",
    "\n",
    "   ```{figure} salome/salome_guide_3.png\n",
    "   ---\n",
    "   width: 400\n",
    "   ---\n",
    "   ```\n",
    "\n",
    "6. Make sure Face 2 is selected. Enter 100 for the Dx value. Click \"Apply and Close\"\n",
    "\n",
    "   ```{figure} salome/salome_guide_4.png\n",
    "   ---\n",
    "   width: 400\n",
    "   ---\n",
    "   ```\n",
    "\n",
    "7. Create a compound by clicking \"New Entity/Build/Compound\" make sure Face_1 and Translation_1 are selected then click \"Apply and Close\".\n",
    "\n",
    "   ```{figure} salome/salome_guide_5.png\n",
    "   ---\n",
    "   width: 400\n",
    "   ---\n",
    "   ```\n",
    "\n",
    "8. Create a group \"New Entity/Group/Create group\". In Shape Type, select the 2D surface. Name the group \"left_volume\". Make sure Compound_1 is selected.\n",
    "   Click on the left square and click \"Add\" (2 should appear in the white window). Click \"Apply and Close\".\n",
    "\n",
    "   ```{figure} salome/salome_guide_6.png\n",
    "   ---\n",
    "   width: 400\n",
    "   ---\n",
    "   ```\n",
    "\n",
    "9. Repeat the operation to create a group \"right_volume\" with the right square (12 should appear in the white window).\n",
    "\n",
    "10. Create another group \"left_boundary\" but this time in Shape Type select the 1D curve. Click on the left edge of the left square and click \"Add\". Click \"Apply and Close\".\n",
    "\n",
    "   ```{figure} salome/salome_guide_7.png\n",
    "   ---\n",
    "   width: 400\n",
    "   ---\n",
    "   ```\n",
    "\n",
    "11. Repeat the operation to create a group \"right_boundary\" with the right edge of the right square. Your study should look like:\n",
    "\n",
    "   ```{figure} salome/salome_guide_8.png\n",
    "   ---\n",
    "   width: 400\n",
    "   ---\n",
    "   ```\n",
    "\n",
    "12. Click on \"Mesh\" to activate the mesh module.\n",
    "\n",
    "   ```{figure} salome/salome_guide_9.png\n",
    "   ---\n",
    "   width: 400\n",
    "   ---\n",
    "   ```\n",
    "\n",
    "13. Create a mesh by clicking \"Mesh/Create Mesh\".\n",
    "\n",
    "14. Make sure Compound_1 is selected in \"Geometry\". Under the 2D tab, select \"NETGEN 1D-2D\" as algorithm.\n",
    "\n",
    "   ```{figure} salome/salome_guide_10.png\n",
    "   ---\n",
    "   width: 400\n",
    "   ---\n",
    "   ```\n",
    "\n",
    "15. Next to \"Hypothesis\" click on the gear symbol. Select \"NETGEN 2D Simple Parameters\". Click Ok. Click \"Apply and Close\".\n",
    "\n",
    "   ```{figure} salome/salome_guide_11.png\n",
    "   ---\n",
    "   width: 400\n",
    "   ---\n",
    "   ```\n",
    "\n",
    "   In the Objet Browser, under Mesh_1 you should see Groups of Edges and Groups of Faces, containing left_boundary, right_boundary, left_volume and right_volume.\n",
    "\n",
    "16. Export the mesh to MED by right clicking on Mesh_1 in the Object Browser, then Export/MED file. Choose a location where you want to write your MED file and click Save.\n",
    "\n",
    "   ```{figure} salome/salome_guide_12.png\n",
    "   ---\n",
    "   width: 400\n",
    "   ---\n",
    "   ```\n"
   ]
  },
  {
   "cell_type": "markdown",
   "id": "6e0fe5b9",
   "metadata": {},
   "source": [
    "## Convert the mesh to XDMF format\n",
    "\n",
    "To use meshes generated in SALOME with FESTIM, we first need to convert them from the `.med` format to the `.xdmf` format supported by DOLFINx.\n",
    "\n",
    "Using the [`meshio`](https://github.com/nschloe/meshio) library, this conversion can be done easily from Python.\n",
    "\n",
    "Here is an example utility function, `convert_med_to_xdmf`, which reads a `.med` file and writes out the corresponding `.xdmf` mesh and boundary data.\n",
    "\n",
    "\n",
    "````{admonition} Install meshio\n",
    ":class: tip\n",
    "If you've installed FESTIM with conda, we strongly recommend installing meshio with:\n",
    "\n",
    "```\n",
    "conda install -c conda-forge meshio\n",
    "```\n",
    "\n",
    "Otherwise, you can install meshio with pypi:\n",
    "\n",
    "```\n",
    "python -m pip install meshio[all]\n",
    "```\n",
    "\n",
    "````"
   ]
  },
  {
   "cell_type": "code",
   "execution_count": 1,
   "id": "cfadc916",
   "metadata": {},
   "outputs": [],
   "source": [
    "import meshio\n",
    "from typing import Optional\n",
    "\n",
    "def convert_med_to_xdmf(\n",
    "    med_file : str,\n",
    "    cell_file: Optional[str] = \"mesh_domains.xdmf\",\n",
    "    facet_file: Optional[str] = \"mesh_boundaries.xdmf\",\n",
    "    cell_type: Optional[str] = \"tetra\",\n",
    "    facet_type: Optional[str] = \"triangle\",\n",
    "):\n",
    "    \"\"\"Converts a .med mesh to .xdmf\n",
    "    \n",
    "    Args:\n",
    "        med_file: the name of the MED file\n",
    "        cell_file: the name of the file containing the volume markers. Defaults to \"mesh_domains.xdmf\".\n",
    "        facet_file: the name of the file containing the surface markers.. Defaults to \"mesh_boundaries.xdmf\".\n",
    "        cell_type: The topology of the cells. Defaults to \"tetra\".\n",
    "        facet_type: The topology of the facets. Defaults to \"triangle\".\n",
    "    \n",
    "    Returns:\n",
    "        dict, dict: the correspondence dict, the cell types\n",
    "    \"\"\"\n",
    "    \n",
    "    msh = meshio.read(med_file)\n",
    "\n",
    "    correspondance_dict = {-k: v for k, v in msh.cell_tags.items()}\n",
    "\n",
    "    cell_data_types = msh.cell_data_dict[\"cell_tags\"].keys()\n",
    "\n",
    "    for mesh_block in msh.cells:\n",
    "        if mesh_block.type == cell_type:\n",
    "            meshio.write_points_cells(\n",
    "                cell_file,\n",
    "                msh.points,\n",
    "                [mesh_block],\n",
    "                cell_data={\"f\": [-1 * msh.cell_data_dict[\"cell_tags\"][cell_type]]},\n",
    "            )\n",
    "        elif mesh_block.type == facet_type:\n",
    "            meshio.write_points_cells(\n",
    "                facet_file,\n",
    "                msh.points,\n",
    "                [mesh_block],\n",
    "                cell_data={\"f\": [-1 * msh.cell_data_dict[\"cell_tags\"][facet_type]]},\n",
    "            )\n",
    "\n",
    "    return correspondance_dict, cell_data_types"
   ]
  },
  {
   "cell_type": "markdown",
   "id": "3c599b5d",
   "metadata": {},
   "source": [
    "The subdomains (both volumes and surfaces) defined in the `.med` file were assigned tags in SALOME.\n",
    "\n",
    "These tags are essential, as they allow FESTIM to associate material properties and boundary conditions with specific regions of the mesh.\n",
    "\n",
    "The `convert_med_to_xdmf` function returns a dictionary that maps subdomain names to their corresponding tag values.\n",
    "\n",
    "For example, in the mesh used here, the volume corresponding to `tungsten` is tagged with the value `6`."
   ]
  },
  {
   "cell_type": "code",
   "execution_count": 2,
   "id": "14a963f8",
   "metadata": {},
   "outputs": [
    {
     "name": "stdout",
     "output_type": "stream",
     "text": [
      "{np.int64(6): ['left_volume'], np.int64(7): ['right_volume'], np.int64(8): ['left_boundary'], np.int64(9): ['right_boundary']}\n"
     ]
    }
   ],
   "source": [
    "correspondance_dict, cell_data_types = convert_med_to_xdmf(\n",
    "    \"salome/Mesh_1.med\",\n",
    "    cell_file=\"salome/mesh_domains.xdmf\",\n",
    "    facet_file=\"salome/mesh_boundaries.xdmf\",\n",
    "    cell_type=\"triangle\",\n",
    "    facet_type=\"line\",\n",
    ")\n",
    "\n",
    "print(correspondance_dict)"
   ]
  },
  {
   "cell_type": "code",
   "execution_count": 3,
   "id": "804fc33d",
   "metadata": {},
   "outputs": [
    {
     "name": "stdout",
     "output_type": "stream",
     "text": [
      "{np.int64(6): ['tungsten'], np.int64(7): ['cu'], np.int64(8): ['cucrzr'], np.int64(9): ['top_surface'], np.int64(10): ['cooling_surface'], np.int64(11): ['poloidal_gap'], np.int64(12): ['toroidal_gap'], np.int64(13): ['bottom']}\n",
      "dict_keys(['line', 'tetra', 'triangle'])\n"
     ]
    }
   ],
   "source": [
    "correspondance_dict, cell_data_types = convert_med_to_xdmf(\n",
    "    \"mesh.med\",\n",
    "    cell_file=\"temp/mesh_domains.xdmf\",\n",
    "    facet_file=\"temp/mesh_boundaries.xdmf\",\n",
    "    cell_type=\"tetra\",\n",
    "    facet_type=\"triangle\",\n",
    ")\n",
    "\n",
    "print(correspondance_dict)\n",
    "print(cell_data_types)"
   ]
  },
  {
   "cell_type": "code",
   "execution_count": null,
   "id": "7410c2dc",
   "metadata": {},
   "outputs": [],
   "source": [
    "print(meshio.__version__)"
   ]
  },
  {
   "cell_type": "markdown",
   "id": "a5302b05",
   "metadata": {},
   "source": [
    "## Read in FESTIM\n",
    "\n",
    "Once the mesh has been converted to `.xdmf` format, it can be directly imported into a FESTIM simulation using the `MeshFromXDMF` class.\n",
    "\n",
    "This class automatically reads the mesh geometry, volume tags, and facet tags from the corresponding `.xdmf` and `.h5` files.\n",
    "\n",
    "Here’s a basic example:"
   ]
  },
  {
   "cell_type": "code",
   "execution_count": 4,
   "id": "603fd229",
   "metadata": {},
   "outputs": [],
   "source": [
    "import festim as F\n",
    "\n",
    "mesh = F.MeshFromXDMF(\"temp/mesh_domains.xdmf\", \"temp/mesh_boundaries.xdmf\")"
   ]
  },
  {
   "cell_type": "markdown",
   "id": "cfe6c5c6",
   "metadata": {},
   "source": [
    "Optionally, the mesh can be scaled:"
   ]
  },
  {
   "cell_type": "code",
   "execution_count": 5,
   "id": "f81f34dd",
   "metadata": {},
   "outputs": [],
   "source": [
    "mesh.mesh.geometry.x[:] *= 1e-3"
   ]
  },
  {
   "cell_type": "markdown",
   "id": "3ed37bc4",
   "metadata": {},
   "source": [
    "### Visualise subdomains\n",
    "\n",
    "To visualise the subdomains, the meshtags must be generated first."
   ]
  },
  {
   "cell_type": "code",
   "execution_count": 6,
   "id": "122ba7c7",
   "metadata": {},
   "outputs": [],
   "source": [
    "ft = mesh.define_surface_meshtags()\n",
    "ct = mesh.define_volume_meshtags()"
   ]
  },
  {
   "cell_type": "code",
   "execution_count": 7,
   "id": "fb935b14",
   "metadata": {
    "tags": [
     "hide-input"
    ]
   },
   "outputs": [
    {
     "data": {
      "application/vnd.jupyter.widget-view+json": {
       "model_id": "0e7fc859005a4641bc4b101eece1152b",
       "version_major": 2,
       "version_minor": 0
      },
      "text/plain": [
       "EmbeddableWidget(value='<iframe srcdoc=\"<!DOCTYPE html>\\n<html>\\n  <head>\\n    <meta http-equiv=&quot;Content-…"
      ]
     },
     "metadata": {},
     "output_type": "display_data"
    }
   ],
   "source": [
    "from dolfinx import plot\n",
    "import pyvista\n",
    "\n",
    "pyvista.start_xvfb()\n",
    "pyvista.set_jupyter_backend(\"html\")\n",
    "\n",
    "fdim = mesh.mesh.topology.dim - 1\n",
    "tdim = mesh.mesh.topology.dim\n",
    "mesh.mesh.topology.create_connectivity(fdim, tdim)\n",
    "topology, cell_types, x = plot.vtk_mesh(\n",
    "    mesh.mesh, tdim, ct.indices\n",
    ")\n",
    "\n",
    "p = pyvista.Plotter()\n",
    "grid = pyvista.UnstructuredGrid(topology, cell_types, x)\n",
    "grid.cell_data[\"Cell Marker\"] = ct.values\n",
    "grid.set_active_scalars(\"Cell Marker\")\n",
    "p.add_mesh(grid, show_edges=True)\n",
    "if pyvista.OFF_SCREEN:\n",
    "    figure = p.screenshot(\"volume_marker.png\")\n",
    "p.show()"
   ]
  },
  {
   "cell_type": "code",
   "execution_count": 8,
   "id": "2db57f32",
   "metadata": {
    "tags": [
     "hide-input"
    ]
   },
   "outputs": [
    {
     "data": {
      "application/vnd.jupyter.widget-view+json": {
       "model_id": "c7c9a8f9b919449bb8b55a9de3e18b56",
       "version_major": 2,
       "version_minor": 0
      },
      "text/plain": [
       "EmbeddableWidget(value='<iframe srcdoc=\"<!DOCTYPE html>\\n<html>\\n  <head>\\n    <meta http-equiv=&quot;Content-…"
      ]
     },
     "metadata": {},
     "output_type": "display_data"
    }
   ],
   "source": [
    "mesh.mesh.topology.create_connectivity(fdim, tdim)\n",
    "topology, cell_types, x = plot.vtk_mesh(\n",
    "    mesh.mesh, fdim, ft.indices\n",
    ")\n",
    "\n",
    "p = pyvista.Plotter()\n",
    "grid = pyvista.UnstructuredGrid(topology, cell_types, x)\n",
    "grid.cell_data[\"Facet Marker\"] = ft.values\n",
    "grid.set_active_scalars(\"Facet Marker\")\n",
    "p.add_mesh(grid, show_edges=True)\n",
    "if pyvista.OFF_SCREEN:\n",
    "    figure = p.screenshot(\"facet_marker.png\")\n",
    "p.show()"
   ]
  },
  {
   "cell_type": "markdown",
   "id": "fc1113b4",
   "metadata": {},
   "source": [
    "### Complete example"
   ]
  },
  {
   "cell_type": "code",
   "execution_count": 9,
   "id": "a1384f59",
   "metadata": {
    "tags": [
     "hide-input"
    ]
   },
   "outputs": [
    {
     "data": {
      "application/vnd.jupyter.widget-view+json": {
       "model_id": "2e1fbf3a8f974e86b91151ba6153ba5e",
       "version_major": 2,
       "version_minor": 0
      },
      "text/plain": [
       "EmbeddableWidget(value='<iframe srcdoc=\"<!DOCTYPE html>\\n<html>\\n  <head>\\n    <meta http-equiv=&quot;Content-…"
      ]
     },
     "metadata": {},
     "output_type": "display_data"
    }
   ],
   "source": [
    "tdim = mesh.mesh.topology.dim\n",
    "\n",
    "mesh.mesh.topology.create_connectivity(tdim, tdim)\n",
    "topology, cell_types, geometry = plot.vtk_mesh(mesh.mesh, tdim)\n",
    "grid = pyvista.UnstructuredGrid(topology, cell_types, geometry)\n",
    "\n",
    "plotter = pyvista.Plotter()\n",
    "plotter.add_mesh(grid, show_edges=True)\n",
    "plotter.view_isometric()\n",
    "if not pyvista.OFF_SCREEN:\n",
    "    plotter.show()\n",
    "else:\n",
    "    figure = plotter.screenshot(\"mesh.png\")"
   ]
  },
  {
   "cell_type": "markdown",
   "id": "bff52110",
   "metadata": {},
   "source": [
    "Here's a complete example:"
   ]
  },
  {
   "cell_type": "code",
   "execution_count": 10,
   "id": "1450434f",
   "metadata": {},
   "outputs": [],
   "source": [
    "import festim as F\n",
    "\n",
    "model = F.HydrogenTransportProblem()\n",
    "\n",
    "model.mesh = F.MeshFromXDMF(\n",
    "    volume_file=\"salome/mesh_domains.xdmf\", facet_file=\"salome/mesh_boundaries.xdmf\"\n",
    ")\n",
    "\n",
    "volume_left = F.VolumeSubdomain(id=6, material=F.Material(D_0=1, E_D=0.1))\n",
    "volume_right = F.VolumeSubdomain(id=7, material=F.Material(D_0=5, E_D=0.3))\n",
    "\n",
    "left_surface = F.SurfaceSubdomain(id=8)\n",
    "right_surface = F.SurfaceSubdomain(id=9)\n",
    "\n",
    "model.subdomains = [volume_left, volume_right, left_surface, right_surface]\n",
    "\n",
    "H = F.Species(\"H\")\n",
    "model.species = [H]\n",
    "\n",
    "model.boundary_conditions = [\n",
    "    F.FixedConcentrationBC(species=H, value=1, subdomain=left_surface),\n",
    "    F.FixedConcentrationBC(species=H, value=0, subdomain=right_surface),\n",
    "]\n",
    "\n",
    "model.temperature = 823\n",
    "\n",
    "model.settings = F.Settings(atol=1e-10, rtol=1e-10, transient=False)\n",
    "\n",
    "model.initialise()\n",
    "model.run()"
   ]
  },
  {
   "cell_type": "code",
   "execution_count": 11,
   "id": "0310632a",
   "metadata": {
    "tags": [
     "hide-input"
    ]
   },
   "outputs": [
    {
     "data": {
      "application/vnd.jupyter.widget-view+json": {
       "model_id": "c0baa69ec57c4c4088f0b698ddb83ebc",
       "version_major": 2,
       "version_minor": 0
      },
      "text/plain": [
       "EmbeddableWidget(value='<iframe srcdoc=\"<!DOCTYPE html>\\n<html>\\n  <head>\\n    <meta http-equiv=&quot;Content-…"
      ]
     },
     "metadata": {},
     "output_type": "display_data"
    }
   ],
   "source": [
    "u = H.solution\n",
    "\n",
    "topology, cell_types, geometry = plot.vtk_mesh(u.function_space)\n",
    "u_grid = pyvista.UnstructuredGrid(topology, cell_types, geometry)\n",
    "u_grid.point_data[\"c\"] = u.x.array.real\n",
    "u_grid.set_active_scalars(\"c\")\n",
    "u_plotter = pyvista.Plotter()\n",
    "u_plotter.add_mesh(u_grid, cmap=\"viridis\", show_edges=False)\n",
    "u_plotter.add_mesh(u_grid, style=\"wireframe\", color=\"white\", opacity=0.2)\n",
    "\n",
    "u_plotter.view_xy()\n",
    "\n",
    "if not pyvista.OFF_SCREEN:\n",
    "    u_plotter.show()\n",
    "else:\n",
    "    figure = u_plotter.screenshot(\"concentration.png\")"
   ]
  },
  {
   "cell_type": "markdown",
   "id": "8cba2849",
   "metadata": {},
   "source": [
    "## Other example\n",
    "\n",
    "The [Monoblock](task08.ipynb) tutorial is another tutorial using a SALOME mesh."
   ]
  }
 ],
 "metadata": {
  "kernelspec": {
   "display_name": "festim-workshop",
   "language": "python",
   "name": "python3"
  },
  "language_info": {
   "codemirror_mode": {
    "name": "ipython",
    "version": 3
   },
   "file_extension": ".py",
   "mimetype": "text/x-python",
   "name": "python",
   "nbconvert_exporter": "python",
   "pygments_lexer": "ipython3",
   "version": "3.13.5"
  }
 },
 "nbformat": 4,
 "nbformat_minor": 5
}
