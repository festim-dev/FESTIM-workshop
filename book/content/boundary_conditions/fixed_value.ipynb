{
 "cells": [
  {
   "cell_type": "markdown",
   "id": "bbf47a5f",
   "metadata": {},
   "source": [
    "# Fixed concentration value\n",
    "\n"
   ]
  }
 ],
 "metadata": {
  "language_info": {
   "name": "python"
  }
 },
 "nbformat": 4,
 "nbformat_minor": 5
}
