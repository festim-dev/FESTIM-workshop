{
 "cells": [
  {
   "cell_type": "markdown",
   "id": "fb7b6492",
   "metadata": {},
   "source": [
    "# Mesh with GMSH"
   ]
  },
  {
   "cell_type": "markdown",
   "id": "66173f93",
   "metadata": {},
   "source": [
    "**Objectives**\n",
    "\n",
    "- Using GMSH from a python script\n",
    "- Converting a GMSH model to a ``dolfinx`` mesh\n",
    "- Generate a mesh from a CAD file\n",
    "\n",
    "```{admonition} Tip\n",
    ":class: tip\n",
    "GMSH can be installed with `conda install -c conda-forge python-gmsh`\n",
    "```"
   ]
  },
  {
   "cell_type": "markdown",
   "id": "7e2de8e0",
   "metadata": {},
   "source": [
    "## DFG 3D example\n",
    "\n",
    "This GMSH example is taken directly from [Jorgen Dokken's GMSH tutorial](https://jsdokken.com/src/tutorial_gmsh.html). "
   ]
  },
  {
   "cell_type": "code",
   "execution_count": null,
   "id": "ef764106",
   "metadata": {},
   "outputs": [
    {
     "name": "stdout",
     "output_type": "stream",
     "text": [
      "Info    : Meshing 1D...                                                                                                      \n",
      "Info    : [  0%] Meshing curve 13 (Circle)\n",
      "Info    : [ 10%] Meshing curve 14 (Line)\n",
      "Info    : [ 20%] Meshing curve 15 (Circle)\n",
      "Info    : [ 30%] Meshing curve 16 (Line)\n",
      "Info    : [ 30%] Meshing curve 17 (Line)\n",
      "Info    : [ 40%] Meshing curve 18 (Line)\n",
      "Info    : [ 50%] Meshing curve 19 (Line)\n",
      "Info    : [ 50%] Meshing curve 20 (Line)\n",
      "Info    : [ 60%] Meshing curve 21 (Line)\n",
      "Info    : [ 70%] Meshing curve 22 (Line)\n",
      "Info    : [ 70%] Meshing curve 23 (Line)\n",
      "Info    : [ 80%] Meshing curve 24 (Line)\n",
      "Info    : [ 90%] Meshing curve 25 (Line)\n",
      "Info    : [ 90%] Meshing curve 26 (Line)\n",
      "Info    : [100%] Meshing curve 27 (Line)\n",
      "Info    : Done meshing 1D (Wall 0.0151813s, CPU 0.015942s)\n",
      "Info    : Meshing 2D...\n",
      "Info    : [  0%] Meshing surface 7 (Cylinder, Frontal-Delaunay)\n",
      "Info    : [ 20%] Meshing surface 8 (Plane, Frontal-Delaunay)\n",
      "Info    : [ 30%] Meshing surface 9 (Plane, Frontal-Delaunay)\n",
      "Info    : [ 50%] Meshing surface 10 (Plane, Frontal-Delaunay)\n",
      "Info    : [ 60%] Meshing surface 11 (Plane, Frontal-Delaunay)\n",
      "Info    : [ 80%] Meshing surface 12 (Plane, Frontal-Delaunay)\n",
      "Info    : [ 90%] Meshing surface 13 (Plane, Frontal-Delaunay)\n",
      "Info    : Done meshing 2D (Wall 0.388338s, CPU 0.400451s)\n",
      "Info    : Meshing 3D...\n",
      "Info    : 3D Meshing 1 volume with 1 connected component\n",
      "Info    : Tetrahedrizing 10220 nodes...\n",
      "Info    : Done tetrahedrizing 10228 nodes (Wall 0.194808s, CPU 0.196426s)\n",
      "Info    : Reconstructing mesh...\n",
      "Info    :  - Creating surface mesh\n",
      "Info    :  - Identifying boundary edges\n",
      "Info    :  - Recovering boundary\n",
      "Info    : Done reconstructing mesh (Wall 0.451234s, CPU 0.440366s)\n",
      "Info    : Found volume 1\n",
      "Info    : It. 0 - 0 nodes created - worst tet radius 19.0147 (nodes removed 0 0)\n",
      "Info    : It. 500 - 500 nodes created - worst tet radius 4.00155 (nodes removed 0 0)\n",
      "Info    : It. 1000 - 1000 nodes created - worst tet radius 2.83444 (nodes removed 0 0)\n",
      "Info    : It. 1500 - 1500 nodes created - worst tet radius 2.47059 (nodes removed 0 0)\n",
      "Info    : It. 2000 - 2000 nodes created - worst tet radius 2.25416 (nodes removed 0 0)\n",
      "Info    : It. 2500 - 2500 nodes created - worst tet radius 2.10153 (nodes removed 0 0)\n",
      "Info    : It. 3000 - 3000 nodes created - worst tet radius 1.97652 (nodes removed 0 0)\n",
      "Info    : It. 3500 - 3500 nodes created - worst tet radius 1.88378 (nodes removed 0 0)\n",
      "Info    : It. 4000 - 4000 nodes created - worst tet radius 1.80401 (nodes removed 0 0)\n",
      "Info    : It. 4500 - 4500 nodes created - worst tet radius 1.73927 (nodes removed 0 0)\n",
      "Info    : It. 5000 - 5000 nodes created - worst tet radius 1.68425 (nodes removed 0 0)\n",
      "Info    : It. 5500 - 5500 nodes created - worst tet radius 1.63014 (nodes removed 0 0)\n",
      "Info    : It. 6000 - 6000 nodes created - worst tet radius 1.68971 (nodes removed 0 0)\n",
      "Info    : It. 6500 - 6500 nodes created - worst tet radius 1.55028 (nodes removed 0 0)\n",
      "Info    : It. 7000 - 7000 nodes created - worst tet radius 1.51584 (nodes removed 0 0)\n",
      "Info    : It. 7500 - 7500 nodes created - worst tet radius 1.48152 (nodes removed 0 0)\n",
      "Info    : It. 8000 - 8000 nodes created - worst tet radius 1.4497 (nodes removed 0 0)\n",
      "Info    : It. 8500 - 8500 nodes created - worst tet radius 1.42345 (nodes removed 0 0)\n",
      "Info    : It. 9000 - 9000 nodes created - worst tet radius 1.39898 (nodes removed 0 0)\n",
      "Info    : It. 9500 - 9500 nodes created - worst tet radius 1.37543 (nodes removed 0 0)\n",
      "Info    : It. 10000 - 10000 nodes created - worst tet radius 1.3546 (nodes removed 0 0)\n",
      "Info    : It. 10500 - 10500 nodes created - worst tet radius 1.33338 (nodes removed 0 0)\n",
      "Info    : It. 11000 - 11000 nodes created - worst tet radius 1.31297 (nodes removed 0 0)\n",
      "Info    : It. 11500 - 11500 nodes created - worst tet radius 1.29598 (nodes removed 0 0)\n",
      "Info    : It. 12000 - 12000 nodes created - worst tet radius 1.27871 (nodes removed 0 0)\n",
      "Info    : It. 12500 - 12500 nodes created - worst tet radius 1.26301 (nodes removed 0 0)\n",
      "Info    : It. 13000 - 13000 nodes created - worst tet radius 1.2476 (nodes removed 0 0)\n",
      "Info    : It. 13500 - 13500 nodes created - worst tet radius 1.2312 (nodes removed 0 0)\n",
      "Info    : It. 14000 - 14000 nodes created - worst tet radius 1.21708 (nodes removed 0 0)\n",
      "Info    : It. 14500 - 14500 nodes created - worst tet radius 1.2052 (nodes removed 0 0)\n",
      "Info    : It. 15000 - 15000 nodes created - worst tet radius 1.19237 (nodes removed 0 0)\n",
      "Info    : It. 15500 - 15500 nodes created - worst tet radius 1.17981 (nodes removed 0 0)\n",
      "Info    : It. 16000 - 16000 nodes created - worst tet radius 1.16865 (nodes removed 0 0)\n",
      "Info    : It. 16500 - 16500 nodes created - worst tet radius 1.157 (nodes removed 0 0)\n",
      "Info    : It. 17000 - 17000 nodes created - worst tet radius 1.15023 (nodes removed 0 0)\n",
      "Info    : It. 17500 - 17500 nodes created - worst tet radius 1.13574 (nodes removed 0 0)\n",
      "Info    : It. 18000 - 18000 nodes created - worst tet radius 1.12612 (nodes removed 0 0)\n",
      "Info    : It. 18500 - 18500 nodes created - worst tet radius 1.1161 (nodes removed 0 0)\n",
      "Info    : It. 19000 - 19000 nodes created - worst tet radius 1.10654 (nodes removed 0 0)\n",
      "Info    : It. 19500 - 19500 nodes created - worst tet radius 1.09712 (nodes removed 0 0)\n",
      "Info    : It. 20000 - 20000 nodes created - worst tet radius 1.08836 (nodes removed 0 0)\n",
      "Info    : It. 20500 - 20500 nodes created - worst tet radius 1.07939 (nodes removed 0 0)\n",
      "Info    : It. 21000 - 21000 nodes created - worst tet radius 1.07159 (nodes removed 0 0)\n",
      "Info    : It. 21500 - 21500 nodes created - worst tet radius 1.06419 (nodes removed 0 0)\n",
      "Info    : It. 22000 - 22000 nodes created - worst tet radius 1.05654 (nodes removed 0 0)\n",
      "Info    : It. 22500 - 22500 nodes created - worst tet radius 1.04855 (nodes removed 0 0)\n",
      "Info    : It. 23000 - 23000 nodes created - worst tet radius 1.04117 (nodes removed 0 0)\n",
      "Info    : It. 23500 - 23500 nodes created - worst tet radius 1.0342 (nodes removed 0 0)\n",
      "Info    : It. 24000 - 24000 nodes created - worst tet radius 1.027 (nodes removed 0 0)\n",
      "Info    : It. 24500 - 24500 nodes created - worst tet radius 1.02019 (nodes removed 0 0)\n",
      "Info    : It. 25000 - 25000 nodes created - worst tet radius 1.01376 (nodes removed 0 0)\n",
      "Info    : It. 25500 - 25500 nodes created - worst tet radius 1.18321 (nodes removed 0 0)\n",
      "Info    : It. 26000 - 26000 nodes created - worst tet radius 1.00122 (nodes removed 0 0)\n",
      "Info    : 3D refinement terminated (36312 nodes total):\n",
      "Info    :  - 0 Delaunay cavities modified for star shapeness\n",
      "Info    :  - 0 nodes could not be inserted\n",
      "Info    :  - 197113 tetrahedra created in 2.51079 sec. (78506 tets/s)\n",
      "Info    : 273 node relocations\n",
      "Info    : Done meshing 3D (Wall 4.40528s, CPU 4.48144s)\n",
      "Info    : Optimizing mesh...\n",
      "Info    : Optimizing volume 1\n",
      "Info    : Optimization starts (volume = 0.417034) with worst = 0.00483627 / average = 0.764894:\n",
      "Info    : 0.00 < quality < 0.10 :       430 elements\n",
      "Info    : 0.10 < quality < 0.20 :      1335 elements\n",
      "Info    : 0.20 < quality < 0.30 :      2539 elements\n",
      "Info    : 0.30 < quality < 0.40 :      4118 elements\n",
      "Info    : 0.40 < quality < 0.50 :      7033 elements\n",
      "Info    : 0.50 < quality < 0.60 :     11775 elements\n",
      "Info    : 0.60 < quality < 0.70 :     22444 elements\n",
      "Info    : 0.70 < quality < 0.80 :     45589 elements\n",
      "Info    : 0.80 < quality < 0.90 :     67356 elements\n",
      "Info    : 0.90 < quality < 1.00 :     34494 elements\n",
      "Info    : 4170 edge swaps, 210 node relocations (volume = 0.417034): worst = 0.158901 / average = 0.777335 (Wall 0.102236s, CPU 0.102676s)\n",
      "Info    : 4230 edge swaps, 223 node relocations (volume = 0.417034): worst = 0.163219 / average = 0.777424 (Wall 0.138785s, CPU 0.139415s)\n",
      "Info    : 4233 edge swaps, 226 node relocations (volume = 0.417034): worst = 0.163219 / average = 0.777434 (Wall 0.169563s, CPU 0.17038s)\n",
      "Info    : No ill-shaped tets in the mesh :-)\n",
      "Info    : 0.00 < quality < 0.10 :         0 elements\n",
      "Info    : 0.10 < quality < 0.20 :         1 elements\n",
      "Info    : 0.20 < quality < 0.30 :        13 elements\n",
      "Info    : 0.30 < quality < 0.40 :      4150 elements\n",
      "Info    : 0.40 < quality < 0.50 :      6922 elements\n",
      "Info    : 0.50 < quality < 0.60 :     11604 elements\n",
      "Info    : 0.60 < quality < 0.70 :     22562 elements\n",
      "Info    : 0.70 < quality < 0.80 :     46145 elements\n",
      "Info    : 0.80 < quality < 0.90 :     67834 elements\n",
      "Info    : 0.90 < quality < 1.00 :     34226 elements\n",
      "Info    : Done optimizing mesh (Wall 0.562218s, CPU 0.536521s)\n",
      "Info    : 36312 nodes 214446 elements\n",
      "Info    : Writing 'mesh3D.msh'...\n",
      "Info    : Done writing 'mesh3D.msh'\n"
     ]
    }
   ],
   "source": [
    "import gmsh\n",
    "import numpy as np\n",
    "\n",
    "gmsh.initialize()\n",
    "\n",
    "gmsh.model.add(\"DFG 3D\")\n",
    "L, B, H, r = 2.5, 0.41, 0.41, 0.05\n",
    "channel = gmsh.model.occ.addBox(0, 0, 0, L, B, H)\n",
    "\n",
    "cylinder = gmsh.model.occ.addCylinder(0.5, 0, 0.2, 0, B, 0, r)\n",
    "\n",
    "fluid = gmsh.model.occ.cut([(3, channel)], [(3, cylinder)])\n",
    "\n",
    "gmsh.model.occ.synchronize()\n",
    "volumes = gmsh.model.getEntities(dim=3)\n",
    "assert volumes == fluid[0]\n",
    "fluid_marker = 11\n",
    "gmsh.model.addPhysicalGroup(volumes[0][0], [volumes[0][1]], fluid_marker)\n",
    "gmsh.model.setPhysicalName(volumes[0][0], fluid_marker, \"Fluid volume\")\n",
    "\n",
    "\n",
    "surfaces = gmsh.model.occ.getEntities(dim=2)\n",
    "inlet_marker, outlet_marker, wall_marker, obstacle_marker = 1, 3, 5, 7\n",
    "walls = []\n",
    "obstacles = []\n",
    "for surface in surfaces:\n",
    "    com = gmsh.model.occ.getCenterOfMass(surface[0], surface[1])\n",
    "    if np.allclose(com, [0, B / 2, H / 2]):\n",
    "        gmsh.model.addPhysicalGroup(surface[0], [surface[1]], inlet_marker)\n",
    "        inlet = surface[1]\n",
    "        gmsh.model.setPhysicalName(surface[0], inlet_marker, \"Fluid inlet\")\n",
    "    elif np.allclose(com, [L, B / 2, H / 2]):\n",
    "        gmsh.model.addPhysicalGroup(surface[0], [surface[1]], outlet_marker)\n",
    "        gmsh.model.setPhysicalName(surface[0], outlet_marker, \"Fluid outlet\")\n",
    "    elif (\n",
    "        np.isclose(com[2], 0)\n",
    "        or np.isclose(com[1], B)\n",
    "        or np.isclose(com[2], H)\n",
    "        or np.isclose(com[1], 0)\n",
    "    ):\n",
    "        walls.append(surface[1])\n",
    "    else:\n",
    "        obstacles.append(surface[1])\n",
    "gmsh.model.addPhysicalGroup(2, walls, wall_marker)\n",
    "gmsh.model.setPhysicalName(2, wall_marker, \"Walls\")\n",
    "gmsh.model.addPhysicalGroup(2, obstacles, obstacle_marker)\n",
    "gmsh.model.setPhysicalName(2, obstacle_marker, \"Obstacle\")\n",
    "\n",
    "distance = gmsh.model.mesh.field.add(\"Distance\")\n",
    "gmsh.model.mesh.field.setNumbers(distance, \"FacesList\", obstacles)\n",
    "resolution = r / 10\n",
    "threshold = gmsh.model.mesh.field.add(\"Threshold\")\n",
    "gmsh.model.mesh.field.setNumber(threshold, \"IField\", distance)\n",
    "gmsh.model.mesh.field.setNumber(threshold, \"LcMin\", resolution)\n",
    "gmsh.model.mesh.field.setNumber(threshold, \"LcMax\", 20 * resolution)\n",
    "gmsh.model.mesh.field.setNumber(threshold, \"DistMin\", 0.5 * r)\n",
    "gmsh.model.mesh.field.setNumber(threshold, \"DistMax\", r)\n",
    "\n",
    "inlet_dist = gmsh.model.mesh.field.add(\"Distance\")\n",
    "gmsh.model.mesh.field.setNumbers(inlet_dist, \"FacesList\", [inlet])\n",
    "inlet_thre = gmsh.model.mesh.field.add(\"Threshold\")\n",
    "gmsh.model.mesh.field.setNumber(inlet_thre, \"IField\", inlet_dist)\n",
    "gmsh.model.mesh.field.setNumber(inlet_thre, \"LcMin\", 5 * resolution)\n",
    "gmsh.model.mesh.field.setNumber(inlet_thre, \"LcMax\", 10 * resolution)\n",
    "gmsh.model.mesh.field.setNumber(inlet_thre, \"DistMin\", 0.1)\n",
    "gmsh.model.mesh.field.setNumber(inlet_thre, \"DistMax\", 0.5)\n",
    "\n",
    "minimum = gmsh.model.mesh.field.add(\"Min\")\n",
    "gmsh.model.mesh.field.setNumbers(minimum, \"FieldsList\", [threshold, inlet_thre])\n",
    "gmsh.model.mesh.field.setAsBackgroundMesh(minimum)\n",
    "\n",
    "gmsh.model.occ.synchronize()\n",
    "gmsh.model.mesh.generate(3)\n",
    "\n",
    "gmsh.write(\"mesh3D.msh\")"
   ]
  },
  {
   "cell_type": "markdown",
   "id": "b16dbbea",
   "metadata": {},
   "source": [
    "### Reading GMSH models\n",
    "\n",
    "``dolfinx`` provides functionality to directly convert GMSH models to dolfinx meshes and mesh tags. Here we use ``dolfinx.io.gmshio.model_to_mesh()``:"
   ]
  },
  {
   "cell_type": "code",
   "execution_count": null,
   "id": "f31b244d",
   "metadata": {},
   "outputs": [],
   "source": [
    "from dolfinx.io import gmshio\n",
    "from mpi4py import MPI\n",
    "\n",
    "model_rank = 0\n",
    "mesh, cell_tags, facet_tags = gmshio.model_to_mesh(\n",
    "    gmsh.model, MPI.COMM_WORLD, model_rank\n",
    ")"
   ]
  },
  {
   "cell_type": "markdown",
   "id": "3ad888cd",
   "metadata": {},
   "source": [
    "It is also possible to read the ``.msh`` file:"
   ]
  },
  {
   "cell_type": "code",
   "execution_count": 3,
   "id": "46744902",
   "metadata": {},
   "outputs": [
    {
     "name": "stderr",
     "output_type": "stream",
     "text": [
      "Warning : Gmsh has aleady been initialized\n"
     ]
    },
    {
     "name": "stdout",
     "output_type": "stream",
     "text": [
      "Info    : Reading 'mesh3D.msh'...\n",
      "Info    : 33 entities\n",
      "Info    : 36312 nodes\n",
      "Info    : 213900 elements\n",
      "Info    : Done reading 'mesh3D.msh'                                                                              \n"
     ]
    }
   ],
   "source": [
    "mesh, cell_tags, facet_tags = gmshio.read_from_msh(\n",
    "    \"mesh3D.msh\", MPI.COMM_WORLD, 0, gdim=3\n",
    ")"
   ]
  },
  {
   "cell_type": "markdown",
   "id": "1095c641",
   "metadata": {},
   "source": [
    "We can now print the values of the meshtags:"
   ]
  },
  {
   "cell_type": "code",
   "execution_count": 4,
   "id": "97b6ba11",
   "metadata": {},
   "outputs": [
    {
     "name": "stdout",
     "output_type": "stream",
     "text": [
      "Cell tags: [11]\n",
      "Facet tags: [1 3 5 7]\n"
     ]
    }
   ],
   "source": [
    "print(f\"Cell tags: {np.unique(cell_tags.values)}\")\n",
    "print(f\"Facet tags: {np.unique(facet_tags.values)}\")"
   ]
  },
  {
   "cell_type": "markdown",
   "id": "4767ca40",
   "metadata": {},
   "source": [
    "And visualise the mesh:"
   ]
  },
  {
   "cell_type": "code",
   "execution_count": 5,
   "id": "a29a858a",
   "metadata": {
    "tags": [
     "hide-input"
    ]
   },
   "outputs": [
    {
     "data": {
      "application/vnd.jupyter.widget-view+json": {
       "model_id": "6fa7a743bfbd422dbf73bc3d58fa3f58",
       "version_major": 2,
       "version_minor": 0
      },
      "text/plain": [
       "EmbeddableWidget(value='<iframe srcdoc=\"<!DOCTYPE html>\\n<html>\\n  <head>\\n    <meta http-equiv=&quot;Content-…"
      ]
     },
     "metadata": {},
     "output_type": "display_data"
    }
   ],
   "source": [
    "from dolfinx import plot\n",
    "import pyvista\n",
    "\n",
    "pyvista.start_xvfb()\n",
    "pyvista.set_jupyter_backend(\"html\")\n",
    "\n",
    "\n",
    "tdim = mesh.topology.dim\n",
    "\n",
    "mesh.topology.create_connectivity(tdim, tdim)\n",
    "topology, cell_types, geometry = plot.vtk_mesh(mesh, tdim)\n",
    "grid = pyvista.UnstructuredGrid(topology, cell_types, geometry)\n",
    "\n",
    "plotter = pyvista.Plotter()\n",
    "plotter.add_mesh(grid, show_edges=True)\n",
    "# plotter.view_xy()\n",
    "if not pyvista.OFF_SCREEN:\n",
    "    plotter.show()\n",
    "else:\n",
    "    figure = plotter.screenshot(\"mesh.png\")"
   ]
  },
  {
   "cell_type": "markdown",
   "id": "c59ec0ee",
   "metadata": {},
   "source": [
    "It is also possible to visualise the meshtags:"
   ]
  },
  {
   "cell_type": "code",
   "execution_count": null,
   "id": "d6e7c7fb",
   "metadata": {
    "tags": [
     "hide-input"
    ]
   },
   "outputs": [
    {
     "data": {
      "application/vnd.jupyter.widget-view+json": {
       "model_id": "f22707aada73450b873173de70888f4d",
       "version_major": 2,
       "version_minor": 0
      },
      "text/plain": [
       "EmbeddableWidget(value='<iframe srcdoc=\"<!DOCTYPE html>\\n<html>\\n  <head>\\n    <meta http-equiv=&quot;Content-…"
      ]
     },
     "metadata": {},
     "output_type": "display_data"
    }
   ],
   "source": [
    "fdim = mesh.topology.dim - 1\n",
    "tdim = mesh.topology.dim\n",
    "mesh.topology.create_connectivity(fdim, tdim)\n",
    "topology, cell_types, x = plot.vtk_mesh(mesh, fdim, facet_tags.indices)\n",
    "\n",
    "p = pyvista.Plotter(window_size=[800, 800])\n",
    "grid = pyvista.UnstructuredGrid(topology, cell_types, x)\n",
    "grid.cell_data[\"Facet Marker\"] = facet_tags.values\n",
    "grid.set_active_scalars(\"Facet Marker\")\n",
    "p.add_mesh(grid, show_edges=True)\n",
    "if pyvista.OFF_SCREEN:\n",
    "    figure = p.screenshot(\"facet_marker.png\")\n",
    "p.show()"
   ]
  },
  {
   "cell_type": "code",
   "execution_count": null,
   "id": "0447974b",
   "metadata": {
    "tags": [
     "hide-input"
    ]
   },
   "outputs": [
    {
     "data": {
      "application/vnd.jupyter.widget-view+json": {
       "model_id": "a5b44ac6d9054a2e92836e11beaf3363",
       "version_major": 2,
       "version_minor": 0
      },
      "text/plain": [
       "EmbeddableWidget(value='<iframe srcdoc=\"<!DOCTYPE html>\\n<html>\\n  <head>\\n    <meta http-equiv=&quot;Content-…"
      ]
     },
     "metadata": {},
     "output_type": "display_data"
    }
   ],
   "source": [
    "topology, cell_types, x = plot.vtk_mesh(mesh, tdim, cell_tags.indices)\n",
    "p = pyvista.Plotter(window_size=[800, 800])\n",
    "grid = pyvista.UnstructuredGrid(topology, cell_types, x)\n",
    "grid.cell_data[\"Cell Marker\"] = cell_tags.values\n",
    "grid.set_active_scalars(\"Cell Marker\")\n",
    "p.add_mesh(grid, show_edges=True)\n",
    "if pyvista.OFF_SCREEN:\n",
    "    figure = p.screenshot(\"cell_marker.png\")\n",
    "p.show()"
   ]
  },
  {
   "cell_type": "markdown",
   "id": "c568d077",
   "metadata": {},
   "source": [
    "### FESTIM model\n",
    "\n",
    "We now show a complete FESTIM problem on this mesh.\n",
    "\n",
    "$$\n",
    "    \\nabla \\cdot (D \\nabla c) = 0\n",
    "$$\n",
    "\n",
    "with $D=1$.\n",
    "\n",
    "The boundary conditions are:\n",
    "\n",
    "$$\n",
    "    c = 1 \\quad \\text{on} \\ \\Gamma_\\mathrm{top}\n",
    "$$\n",
    "\n",
    "$$\n",
    "    c = 2 \\quad \\text{on} \\ \\Gamma_\\mathrm{bottom}\n",
    "$$\n",
    "\n",
    "$$\n",
    "    c = 0 \\quad \\text{on} \\ \\Gamma_\\mathrm{obstacle}\n",
    "$$"
   ]
  },
  {
   "cell_type": "code",
   "execution_count": null,
   "id": "85655898",
   "metadata": {},
   "outputs": [],
   "source": [
    "import festim as F\n",
    "\n",
    "material = F.Material(D_0=1, E_D=0)\n",
    "\n",
    "top_volume = F.VolumeSubdomain(id=11, material=material)\n",
    "\n",
    "tube_surf = F.SurfaceSubdomain(id=7)\n",
    "walls = F.SurfaceSubdomain(id=5)\n",
    "top_surface = F.SurfaceSubdomain(id=1)\n",
    "bottom_surface = F.SurfaceSubdomain(id=3)\n",
    "\n",
    "my_model = F.HydrogenTransportProblem()\n",
    "\n",
    "my_model.mesh = F.Mesh(mesh)\n",
    "\n",
    "# we need to pass the meshtags to the model directly\n",
    "my_model.facet_meshtags = facet_tags\n",
    "my_model.volume_meshtags = cell_tags\n",
    "\n",
    "my_model.subdomains = [top_surface, bottom_surface, tube_surf, walls, top_volume]\n",
    "\n",
    "H = F.Species(\"H\")\n",
    "my_model.species = [H]\n",
    "\n",
    "my_model.temperature = 400\n",
    "\n",
    "my_model.boundary_conditions = [\n",
    "    F.FixedConcentrationBC(subdomain=tube_surf, value=0, species=H),\n",
    "    F.FixedConcentrationBC(subdomain=top_surface, value=1, species=H),\n",
    "    F.FixedConcentrationBC(subdomain=bottom_surface, value=2, species=H),\n",
    "]\n",
    "\n",
    "my_model.settings = F.Settings(atol=1e-10, rtol=1e-10, transient=False)\n",
    "\n",
    "my_model.initialise()\n",
    "my_model.run()"
   ]
  },
  {
   "cell_type": "markdown",
   "id": "1853d763",
   "metadata": {},
   "source": [
    "### Visualisation"
   ]
  },
  {
   "cell_type": "code",
   "execution_count": 9,
   "id": "93074b04",
   "metadata": {
    "tags": [
     "hide-input"
    ]
   },
   "outputs": [
    {
     "data": {
      "application/vnd.jupyter.widget-view+json": {
       "model_id": "2fe74c08187b4b94a709e693fbf091e0",
       "version_major": 2,
       "version_minor": 0
      },
      "text/plain": [
       "EmbeddableWidget(value='<iframe srcdoc=\"<!DOCTYPE html>\\n<html>\\n  <head>\\n    <meta http-equiv=&quot;Content-…"
      ]
     },
     "metadata": {},
     "output_type": "display_data"
    }
   ],
   "source": [
    "hydrogen_concentration = H.solution\n",
    "\n",
    "topology, cell_types, geometry = plot.vtk_mesh(hydrogen_concentration.function_space)\n",
    "u_grid = pyvista.UnstructuredGrid(topology, cell_types, geometry)\n",
    "u_grid.point_data[\"c\"] = hydrogen_concentration.x.array.real\n",
    "u_grid.set_active_scalars(\"c\")\n",
    "u_plotter = pyvista.Plotter()\n",
    "u_plotter.add_mesh(u_grid, show_edges=True)\n",
    "\n",
    "if not pyvista.OFF_SCREEN:\n",
    "    u_plotter.show()\n",
    "else:\n",
    "    figure = u_plotter.screenshot(\"concentration.png\")"
   ]
  },
  {
   "cell_type": "markdown",
   "id": "f24ff863",
   "metadata": {},
   "source": [
    "## Import CAD in GMSH\n",
    "\n",
    "For complex geometries, it is possible to import CAD files in GMSH.\n",
    "Here, we use a CAD file from the GMSH tutorial, mesh it, and the import it in a FESTIM model."
   ]
  },
  {
   "cell_type": "code",
   "execution_count": null,
   "id": "6e8b62f9",
   "metadata": {},
   "outputs": [
    {
     "name": "stdout",
     "output_type": "stream",
     "text": [
      "Info    :  - Label 'Shapes/Rhino Product' (3D)\n",
      "Info    : Meshing 1D...\n",
      "Info    : [  0%] Meshing curve 1 (BSpline)\n",
      "Info    : [ 10%] Meshing curve 2 (BSpline)\n",
      "Info    : [ 10%] Meshing curve 3 (BSpline)\n",
      "Info    : [ 10%] Meshing curve 4 (BSpline)\n",
      "Info    : [ 10%] Meshing curve 5 (BSpline)\n",
      "Info    : [ 20%] Meshing curve 6 (BSpline)\n",
      "Info    : [ 20%] Meshing curve 7 (BSpline)\n",
      "Info    : [ 20%] Meshing curve 8 (BSpline)\n",
      "Info    : [ 20%] Meshing curve 9 (BSpline)\n",
      "Info    : [ 20%] Meshing curve 10 (BSpline)\n",
      "Info    : [ 30%] Meshing curve 11 (BSpline)\n",
      "Info    : [ 30%] Meshing curve 12 (BSpline)\n",
      "Info    : [ 30%] Meshing curve 13 (BSpline)\n",
      "Info    : [ 30%] Meshing curve 14 (BSpline)\n",
      "Info    : [ 30%] Meshing curve 15 (BSpline)\n",
      "Info    : [ 40%] Meshing curve 16 (BSpline)\n",
      "Info    : [ 40%] Meshing curve 17 (BSpline)\n",
      "Info    : [ 40%] Meshing curve 18 (BSpline)\n",
      "Info    : [ 40%] Meshing curve 19 (BSpline)\n",
      "Info    : [ 40%] Meshing curve 20 (BSpline)\n",
      "Info    : [ 50%] Meshing curve 21 (BSpline)\n",
      "Info    : [ 50%] Meshing curve 22 (BSpline)\n",
      "Info    : [ 50%] Meshing curve 23 (BSpline)\n",
      "Info    : [ 50%] Meshing curve 24 (BSpline)\n",
      "Info    : [ 60%] Meshing curve 25 (BSpline)\n",
      "Info    : [ 60%] Meshing curve 26 (BSpline)\n",
      "Info    : [ 60%] Meshing curve 27 (BSpline)\n",
      "Info    : [ 60%] Meshing curve 28 (BSpline)\n",
      "Info    : [ 60%] Meshing curve 29 (BSpline)\n",
      "Info    : [ 70%] Meshing curve 30 (BSpline)\n",
      "Info    : [ 70%] Meshing curve 31 (BSpline)\n",
      "Info    : [ 70%] Meshing curve 32 (BSpline)\n",
      "Info    : [ 70%] Meshing curve 33 (BSpline)\n",
      "Info    : [ 70%] Meshing curve 34 (BSpline)\n",
      "Info    : [ 80%] Meshing curve 35 (BSpline)\n",
      "Info    : [ 80%] Meshing curve 36 (BSpline)\n",
      "Info    : [ 80%] Meshing curve 37 (BSpline)\n",
      "Info    : [ 80%] Meshing curve 38 (BSpline)\n",
      "Info    : [ 80%] Meshing curve 39 (BSpline)\n",
      "Info    : [ 90%] Meshing curve 40 (BSpline)\n",
      "Info    : [ 90%] Meshing curve 41 (BSpline)\n",
      "Info    : [ 90%] Meshing curve 42 (BSpline)\n",
      "Info    : [ 90%] Meshing curve 43 (BSpline)\n",
      "Info    : [ 90%] Meshing curve 44 (BSpline)\n",
      "Info    : [100%] Meshing curve 45 (BSpline)\n",
      "Info    : [100%] Meshing curve 46 (BSpline)\n",
      "Info    : [100%] Meshing curve 47 (BSpline)\n",
      "Info    : [100%] Meshing curve 48 (BSpline)\n",
      "Info    : Done meshing 1D (Wall 0.0901856s, CPU 0.094079s)\n",
      "Info    : Meshing 2D...\n",
      "Info    : [  0%] Meshing surface 1 (BSpline surface, Frontal-Delaunay)\n",
      "Info    : [ 10%] Meshing surface 2 (BSpline surface, Frontal-Delaunay)\n",
      "Info    : [ 10%] Meshing surface 3 (BSpline surface, Frontal-Delaunay)\n",
      "Info    : [ 20%] Meshing surface 4 (BSpline surface, Frontal-Delaunay)\n",
      "Info    : [ 20%] Meshing surface 5 (BSpline surface, Frontal-Delaunay)\n",
      "Info    : [ 30%] Meshing surface 6 (BSpline surface, Frontal-Delaunay)\n",
      "Info    : [ 30%] Meshing surface 7 (BSpline surface, Frontal-Delaunay)\n",
      "Info    : [ 40%] Meshing surface 8 (BSpline surface, Frontal-Delaunay)\n",
      "Info    : [ 40%] Meshing surface 9 (BSpline surface, Frontal-Delaunay)\n",
      "Info    : [ 50%] Meshing surface 10 (BSpline surface, Frontal-Delaunay)\n",
      "Info    : [ 50%] Meshing surface 11 (BSpline surface, Frontal-Delaunay)\n",
      "Info    : [ 60%] Meshing surface 12 (BSpline surface, Frontal-Delaunay)\n",
      "Info    : [ 60%] Meshing surface 13 (BSpline surface, Frontal-Delaunay)\n",
      "Info    : [ 70%] Meshing surface 14 (BSpline surface, Frontal-Delaunay)\n",
      "Info    : [ 70%] Meshing surface 15 (BSpline surface, Frontal-Delaunay)\n",
      "Info    : [ 80%] Meshing surface 16 (BSpline surface, Frontal-Delaunay)\n",
      "Info    : [ 80%] Meshing surface 17 (BSpline surface, Frontal-Delaunay)\n",
      "Info    : [ 90%] Meshing surface 18 (BSpline surface, Frontal-Delaunay)\n",
      "Info    : [ 90%] Meshing surface 19 (BSpline surface, Frontal-Delaunay)\n",
      "Info    : [100%] Meshing surface 20 (BSpline surface, Frontal-Delaunay)\n",
      "Info    : [100%] Meshing surface 21 (BSpline surface, Frontal-Delaunay)\n",
      "Info    : Done meshing 2D (Wall 0.0465614s, CPU 0.047742s)\n",
      "Info    : Meshing 3D...\n",
      "Info    : 3D Meshing 1 volume with 1 connected component\n",
      "Info    : Tetrahedrizing 1081 nodes...\n",
      "Info    : Done tetrahedrizing 1089 nodes (Wall 0.0116956s, CPU 0.011783s)\n",
      "Info    : Reconstructing mesh...\n",
      "Info    :  - Creating surface mesh\n",
      "Info    :  - Identifying boundary edges\n",
      "Info    :  - Recovering boundary\n",
      "Info    : Done reconstructing mesh (Wall 0.0236775s, CPU 0.024275s)\n",
      "Info    : Found volume 1\n",
      "Info    : It. 0 - 0 nodes created - worst tet radius 1.55675 (nodes removed 0 0)\n",
      "Info    : 3D refinement terminated (1300 nodes total):\n",
      "Info    :  - 0 Delaunay cavities modified for star shapeness\n",
      "Info    :  - 12 nodes could not be inserted\n",
      "Info    :  - 4593 tetrahedra created in 0.00995853 sec. (461212 tets/s)\n",
      "Info    : 0 node relocations\n",
      "Info    : Done meshing 3D (Wall 0.0584445s, CPU 0.059467s)\n",
      "Info    : Optimizing mesh...\n",
      "Info    : Optimizing volume 1\n",
      "Info    : Optimization starts (volume = 18459.8) with worst = 0.0323706 / average = 0.727876:\n",
      "Info    : 0.00 < quality < 0.10 :        20 elements\n",
      "Info    : 0.10 < quality < 0.20 :        54 elements\n",
      "Info    : 0.20 < quality < 0.30 :        89 elements\n",
      "Info    : 0.30 < quality < 0.40 :        91 elements\n",
      "Info    : 0.40 < quality < 0.50 :       193 elements\n",
      "Info    : 0.50 < quality < 0.60 :       332 elements\n",
      "Info    : 0.60 < quality < 0.70 :       781 elements\n",
      "Info    : 0.70 < quality < 0.80 :      1279 elements\n",
      "Info    : 0.80 < quality < 0.90 :      1233 elements\n",
      "Info    : 0.90 < quality < 1.00 :       521 elements\n",
      "Info    : 130 edge swaps, 2 node relocations (volume = 18459.8): worst = 0.0873398 / average = 0.742268 (Wall 0.00138668s, CPU 0.001683s)\n",
      "Info    : 132 edge swaps, 2 node relocations (volume = 18459.8): worst = 0.0873398 / average = 0.742618 (Wall 0.00170749s, CPU 0.002106s)\n",
      "Info    : No ill-shaped tets in the mesh :-)\n",
      "Info    : 0.00 < quality < 0.10 :        12 elements\n",
      "Info    : 0.10 < quality < 0.20 :        24 elements\n",
      "Info    : 0.20 < quality < 0.30 :         6 elements\n",
      "Info    : 0.30 < quality < 0.40 :        99 elements\n",
      "Info    : 0.40 < quality < 0.50 :       184 elements\n",
      "Info    : 0.50 < quality < 0.60 :       330 elements\n",
      "Info    : 0.60 < quality < 0.70 :       770 elements\n",
      "Info    : 0.70 < quality < 0.80 :      1294 elements\n",
      "Info    : 0.80 < quality < 0.90 :      1239 elements\n",
      "Info    : 0.90 < quality < 1.00 :       527 elements\n",
      "Info    : Done optimizing mesh (Wall 0.00479304s, CPU 0.006161s)\n",
      "Info    : 1300 nodes 6985 elements\n",
      "Info    : Writing 't20.msh'...\n",
      "Info    : Done writing 't20.msh'\n"
     ]
    }
   ],
   "source": [
    "import gmsh\n",
    "import os\n",
    "\n",
    "gmsh.initialize()\n",
    "\n",
    "# download cad from https://gitlab.onelab.info/gmsh/gmsh/-/raw/gmsh_4_8_4/tutorial/t20_data.step?inline=false\n",
    "import requests\n",
    "\n",
    "if not os.path.exists(os.path.join(os.pardir, \"t20_data.step\")):\n",
    "    url = \"https://gitlab.onelab.info/gmsh/gmsh/-/raw/gmsh_4_8_4/tutorial/t20_data.step?inline=false\"\n",
    "    response = requests.get(url)\n",
    "    with open(\"t20_data.step\", \"wb\") as f:\n",
    "        f.write(response.content)\n",
    "\n",
    "gmsh.model.add(\"t20\")\n",
    "v = gmsh.model.occ.importShapes(\"t20_data.step\")\n",
    "\n",
    "gmsh.model.occ.synchronize()\n",
    "volumes = gmsh.model.getEntities(dim=3)\n",
    "vol_marker = 1\n",
    "gmsh.model.addPhysicalGroup(volumes[0][0], [volumes[0][1]], vol_marker)\n",
    "gmsh.model.setPhysicalName(volumes[0][0], vol_marker, \"Volume\")\n",
    "\n",
    "surfaces = gmsh.model.occ.getEntities(dim=2)\n",
    "gmsh.model.addPhysicalGroup(2, [surfaces[0][1]], 1)\n",
    "gmsh.model.setPhysicalName(2, 1, \"Surf1\")\n",
    "\n",
    "gmsh.model.addPhysicalGroup(2, [surfaces[3][1]], 2)\n",
    "gmsh.model.setPhysicalName(2, 2, \"Surf2\")\n",
    "\n",
    "# Finally, let's specify a global mesh size and mesh the partitioned model:\n",
    "gmsh.option.setNumber(\"Mesh.MeshSizeMin\", 3)\n",
    "gmsh.option.setNumber(\"Mesh.MeshSizeMax\", 3)\n",
    "gmsh.model.mesh.generate(3)\n",
    "gmsh.write(\"t20.msh\")\n",
    "gmsh.finalize()"
   ]
  },
  {
   "cell_type": "markdown",
   "id": "e68eb319",
   "metadata": {},
   "source": [
    "### FESTIM model"
   ]
  },
  {
   "cell_type": "code",
   "execution_count": null,
   "id": "cec1dd86",
   "metadata": {},
   "outputs": [],
   "source": [
    "model_rank = 0\n",
    "mesh, cell_tags, facet_tags = gmshio.read_from_msh(\n",
    "    \"t20.msh\", MPI.COMM_WORLD, model_rank, gdim=3\n",
    ")\n",
    "\n",
    "print(f\"Cell tags: {np.unique(cell_tags.values)}\")\n",
    "print(f\"Facet tags: {np.unique(facet_tags.values)}\")\n",
    "\n",
    "my_model = F.HydrogenTransportProblem()\n",
    "\n",
    "my_model.mesh = F.Mesh(mesh)\n",
    "\n",
    "material = F.Material(D_0=1, E_D=0)\n",
    "\n",
    "vol = F.VolumeSubdomain(id=1, material=material)\n",
    "\n",
    "surf1 = F.SurfaceSubdomain(id=1)\n",
    "surf2 = F.SurfaceSubdomain(id=2)\n",
    "\n",
    "# we need to pass the meshtags to the model directly\n",
    "my_model.facet_meshtags = facet_tags\n",
    "my_model.volume_meshtags = cell_tags\n",
    "\n",
    "my_model.subdomains = [surf1, surf2, vol]\n",
    "\n",
    "H = F.Species(\"H\")\n",
    "my_model.species = [H]\n",
    "\n",
    "my_model.temperature = 400\n",
    "\n",
    "my_model.boundary_conditions = [\n",
    "    F.FixedConcentrationBC(subdomain=surf1, value=1, species=H),\n",
    "    F.FixedConcentrationBC(subdomain=surf2, value=0, species=H),\n",
    "]\n",
    "\n",
    "my_model.settings = F.Settings(atol=1e-10, rtol=1e-10, transient=False)\n",
    "\n",
    "my_model.initialise()\n",
    "my_model.run()"
   ]
  },
  {
   "cell_type": "markdown",
   "id": "0053f33d",
   "metadata": {},
   "source": [
    "### Visualisation"
   ]
  },
  {
   "cell_type": "code",
   "execution_count": 19,
   "id": "d3ab2483",
   "metadata": {
    "tags": [
     "hide-input"
    ]
   },
   "outputs": [
    {
     "data": {
      "application/vnd.jupyter.widget-view+json": {
       "model_id": "d6fb7aa168ec42aa8ea65c80a727c54a",
       "version_major": 2,
       "version_minor": 0
      },
      "text/plain": [
       "EmbeddableWidget(value='<iframe srcdoc=\"<!DOCTYPE html>\\n<html>\\n  <head>\\n    <meta http-equiv=&quot;Content-…"
      ]
     },
     "metadata": {},
     "output_type": "display_data"
    }
   ],
   "source": [
    "hydrogen_concentration = H.solution\n",
    "\n",
    "topology, cell_types, geometry = plot.vtk_mesh(hydrogen_concentration.function_space)\n",
    "u_grid = pyvista.UnstructuredGrid(topology, cell_types, geometry)\n",
    "u_grid.point_data[\"c\"] = hydrogen_concentration.x.array.real\n",
    "u_grid.set_active_scalars(\"c\")\n",
    "u_plotter = pyvista.Plotter()\n",
    "u_plotter.add_mesh(u_grid, show_edges=True)\n",
    "\n",
    "if not pyvista.OFF_SCREEN:\n",
    "    u_plotter.show()\n",
    "else:\n",
    "    figure = u_plotter.screenshot(\"concentration.png\")"
   ]
  }
 ],
 "metadata": {
  "kernelspec": {
   "display_name": "festim-workshop",
   "language": "python",
   "name": "python3"
  },
  "language_info": {
   "codemirror_mode": {
    "name": "ipython",
    "version": 3
   },
   "file_extension": ".py",
   "mimetype": "text/x-python",
   "name": "python",
   "nbconvert_exporter": "python",
   "pygments_lexer": "ipython3",
   "version": "3.13.5"
  }
 },
 "nbformat": 4,
 "nbformat_minor": 5
}
