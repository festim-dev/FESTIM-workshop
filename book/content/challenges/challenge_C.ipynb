{
 "cells": [
  {
   "cell_type": "markdown",
   "metadata": {},
   "source": [
    "# Description\n",
    "\n",
    "When hydrogen being transported through a piping network, some may permeate through the pipe walls. For this challenge you will need to evaluate how much hydrogen permeates from the outer surface at steady-state.\n",
    "\n",
    "Consider a Eurofer pipe with an outer diameter of 25mm and inner diameter of 20mm at a fixed temperature of 600K. The hydrogen within the pipe is kept at a constant pressure of 50 MPa and the outer surface can be modelled by fixing a recombination coefficient.\n",
    "\n",
    "**📖 Task: Evaluate the hydrogen surface flux from the outer surface of the pipe**\n",
    "\n",
    "💡Hint: consider the <em>type</em> argument when defining the mesh."
   ]
  },
  {
   "cell_type": "code",
   "execution_count": 4,
   "metadata": {},
   "outputs": [
    {
     "name": "stdout",
     "output_type": "stream",
     "text": [
      "Diffusivity of Eurofer: \n",
      " \n",
      "        Author: Chen\n",
      "        Material: eurofer_97\n",
      "        Year: 2021\n",
      "        Isotope: D\n",
      "        Pre-exponential factor: 3.12×10⁻⁸ m²/s\n",
      "        Activation energy: 6.14×10⁻² eV/particle\n",
      "        \n",
      "Solubility of Eurofer: \n",
      " \n",
      "        Author: Chen\n",
      "        Material: eurofer_97\n",
      "        Year: 2021\n",
      "        Isotope: D\n",
      "        Pre-exponential factor: 2.41×10²³ particle/m³/Pa⁰⋅⁵\n",
      "        Activation energy: 3.03×10⁻¹ eV/particle\n",
      "        \n",
      "Hydrogen recombination on Eurofer: \n",
      " \n",
      "        Author: Grant\n",
      "        Material: 304_steel\n",
      "        Year: 1987\n",
      "        Isotope: H\n",
      "        Pre-exponential factor: 1.53×10⁻²⁸ m⁴/particle/s\n",
      "        Activation energy: 4.21×10⁻¹ eV/particle\n",
      "        \n"
     ]
    }
   ],
   "source": [
    "import h_transport_materials as htm\n",
    "\n",
    "# eurofer properties\n",
    "D_eurofer = htm.diffusivities.filter(material=\"eurofer_97\").filter(author=\"chen\")[0]\n",
    "S_eurofer = htm.solubilities.filter(material=\"eurofer_97\").filter(author=\"chen\")[0]\n",
    "Recomb_eurofer = htm.recombination_coeffs.filter(material=\"steel\").filter(\n",
    "    author=\"grant\"\n",
    ")[2]\n",
    "\n",
    "print(f\"Diffusivity of Eurofer: \\n {D_eurofer}\")\n",
    "print(f\"Solubility of Eurofer: \\n {S_eurofer}\")\n",
    "print(f\"Hydrogen recombination on Eurofer: \\n {Recomb_eurofer}\")"
   ]
  },
  {
   "cell_type": "code",
   "execution_count": 7,
   "metadata": {},
   "outputs": [],
   "source": [
    "import festim as F\n",
    "\n",
    "# YOUR CODE GOES HERE ...\n",
    "\n",
    "\n"
   ]
  }
 ],
 "metadata": {
  "kernelspec": {
   "display_name": "festim-env",
   "language": "python",
   "name": "python3"
  },
  "language_info": {
   "codemirror_mode": {
    "name": "ipython",
    "version": 3
   },
   "file_extension": ".py",
   "mimetype": "text/x-python",
   "name": "python",
   "nbconvert_exporter": "python",
   "pygments_lexer": "ipython3",
   "version": "3.11.9"
  }
 },
 "nbformat": 4,
 "nbformat_minor": 2
}
