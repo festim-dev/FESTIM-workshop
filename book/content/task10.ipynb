{
    "cells": [
        {
            "cell_type": "markdown",
            "metadata": {},
            "source": [
                "# Fitting a TDS spectrum\n",
                "\n",
                "In this task, we'll perform an automated identification of trapping site properties using a parametric optimisation algorithm.\n",
                "See [R. Delaporte-Mathurin et al. NME (2021)](https://doi.org/10.1016/j.nme.2021.100984) for more details."
            ]
        },
        {
            "cell_type": "markdown",
            "metadata": {},
            "source": [
                "## TDS model"
            ]
        },
        {
            "cell_type": "markdown",
            "metadata": {},
            "source": [
                "We have to define our FESTIM model, which we'll use in both task steps. The simulation will be performed for the case of H desorption from a W domain. Using the HTM library, we can get parameters of the H diffusivity in W that are required to set up the model."
            ]
        },
        {
            "cell_type": "code",
            "execution_count": 1,
            "metadata": {},
            "outputs": [
                {
                    "name": "stdout",
                    "output_type": "stream",
                    "text": [
                        "\n",
                        "        Author: Fernandez\n",
                        "        Material: tungsten\n",
                        "        Year: 2015\n",
                        "        Isotope: H\n",
                        "        Pre-exponential factor: 1.93×10⁻⁷ m²/s\n",
                        "        Activation energy: 2.00×10⁻¹ eV/particle\n",
                        "        \n"
                    ]
                }
            ],
            "source": [
                "import h_transport_materials as htm\n",
                "\n",
                "D = (\n",
                "    htm.diffusivities.filter(material=\"tungsten\")\n",
                "    .filter(isotope=\"h\")\n",
                "    .filter(author=\"fernandez\")[0]\n",
                ")\n",
                "print(D)"
            ]
        },
        {
            "cell_type": "markdown",
            "metadata": {},
            "source": [
                "For this task, we'll consider a simplified simulation scenario. Firstly, we'll set only one sort of trapping site characterised by a detrapping barrier `E_p` [eV] and uniformly distributed in the W domain with concentration `n` [at. fr.]. Secondly, we'll assume that this W sample was kept in a H environment infinetly long, so all the trap sites were filled with H atoms. Thirdly, we'll suppose that all mobile H atoms leave the sample before the TDS. Finally, we'll simulate simulate the TDS phase assuming a uniform heating ramp of 5 K/s.\n",
                "\n",
                "The initial conditions are:\n",
                "$$ \\left.c_{\\mathrm{m}}\\right\\vert_{t=0}=0 $$\n",
                "$$ \\left.c_{\\mathrm{t}}\\right\\vert_{t=0}=n $$\n",
                "which we'll set using the `InitialCondition` class.\n",
                "\n",
                "For the boundary conditions, we'll use the assumption of an instantaneous recombination (using `FixedConcentrationBC`):\n",
                "$$ \\left.c_{\\mathrm{m}}\\right\\vert_{x=0}=\\left.c_{\\mathrm{m}}\\right\\vert_{x=L}=0 $$\n",
                "\n",
                "For the fitting stage, we have to treat the detrapping energy and the trap concentration as variable parameters. Therefore, we'll define a function that encapsulates our `Simulation` object and accepts two input parameters: the trap density and detrapping energy."
            ]
        },
        {
            "cell_type": "code",
            "execution_count": 2,
            "metadata": {},
            "outputs": [],
            "source": [
                "import festim as F\n",
                "import numpy as np\n",
                "\n",
                "def temperature(t):\n",
                "    ramp = 5  # K/s\n",
                "    return 300 + ramp * t\n",
                "\n",
                "def TDS(n, E_p):\n",
                "    \"\"\"Runs the simulation with parameters p that represent:\n",
                "\n",
                "    Args:\n",
                "        n (float): concentration of trap 1, at. fr.\n",
                "        E_p (float): detrapping barrier from trap 1, eV\n",
                "\n",
                "    Returns:\n",
                "        F.DerivedQuantities: the derived quantities of the simulation\n",
                "    \"\"\"\n",
                "    w_atom_density = 6.3e28  # atom/m3\n",
                "    trap_conc = n * w_atom_density\n",
                "\n",
                "    # Define Simulation object\n",
                "    synthetic_TDS = F.HydrogenTransportProblem()\n",
                "\n",
                "    H = F.Species(\"H\")\n",
                "    trapped_species = F.Species(\"H_trapped\", mobile=False)\n",
                "    synthetic_TDS.species = [H, trapped_species]\n",
                "\n",
                "    # Define a simple mesh\n",
                "    vertices = np.linspace(0, 20e-6, num=200)\n",
                "    synthetic_TDS.mesh = F.Mesh1D(vertices)\n",
                "\n",
                "    # Define material properties\n",
                "    tungsten = F.Material(\n",
                "        D_0=D.pre_exp.magnitude,\n",
                "        E_D=D.act_energy.magnitude,\n",
                "    )\n",
                "\n",
                "    boundary_left = F.SurfaceSubdomain1D(id=1, x=0)\n",
                "    boundary_right = F.SurfaceSubdomain1D(id=2, x=20e-6)\n",
                "    volume_subdomain = F.VolumeSubdomain1D(id=3, borders=[0, 20e-6], material=tungsten)\n",
                "    synthetic_TDS.subdomains = [boundary_left, boundary_right, volume_subdomain]\n",
                "\n",
                "    # Define traps\n",
                "\n",
                "    empty_trap = F.ImplicitSpecies(\n",
                "        n=trap_conc,\n",
                "        others=[trapped_species],\n",
                "    )\n",
                "    trap_1_reaction = F.Reaction(\n",
                "        reactant=[H, empty_trap],\n",
                "        product=[trapped_species],\n",
                "        k_0=D.pre_exp.magnitude / (1.1e-10**2 * 6 * w_atom_density),\n",
                "        E_k=D.act_energy.magnitude,\n",
                "        p_0=1e13,\n",
                "        E_p=E_p,\n",
                "        volume=volume_subdomain,\n",
                "    )\n",
                "\n",
                "    synthetic_TDS.reactions = [trap_1_reaction]\n",
                "\n",
                "    # Set initial conditions\n",
                "    synthetic_TDS.initial_conditions = [\n",
                "        F.InitialCondition(species=trapped_species, value=trap_conc),\n",
                "    ]\n",
                "\n",
                "    # Set boundary conditions\n",
                "    synthetic_TDS.boundary_conditions = [\n",
                "        F.FixedConcentrationBC(subdomain=surf, value=0, species=H)\n",
                "        for surf in [boundary_left, boundary_right]\n",
                "    ]\n",
                "\n",
                "    # Define the material temperature evolution\n",
                "    synthetic_TDS.temperature = temperature\n",
                "\n",
                "    # Define the simulation settings\n",
                "    synthetic_TDS.settings = F.Settings(\n",
                "        atol=1e10,\n",
                "        rtol=1e-10,\n",
                "        final_time=140,\n",
                "        max_iterations=50,\n",
                "    )\n",
                "\n",
                "    synthetic_TDS.settings.stepsize = F.Stepsize(\n",
                "        initial_value=0.01,\n",
                "        growth_factor=1.2,\n",
                "        cutback_factor=0.9,\n",
                "        target_nb_iterations=4,\n",
                "        max_stepsize=lambda t: None if t < 1 else 1,\n",
                "    )\n",
                "\n",
                "    fluxes = [\n",
                "        F.SurfaceFlux(field=H, surface=boundary_left),\n",
                "        F.SurfaceFlux(field=H, surface=boundary_right),\n",
                "    ]\n",
                "\n",
                "    synthetic_TDS.exports = fluxes\n",
                "    synthetic_TDS.initialise()\n",
                "    synthetic_TDS.run()\n",
                "\n",
                "    return fluxes"
            ]
        },
        {
            "cell_type": "markdown",
            "metadata": {},
            "source": [
                "## Generate dummy data\n",
                "\n",
                "Now we can generate a reference TDS spectrum. For the reference case, we'll consider the following parameters: $n=0.01~\\text{at.fr}$ and $E_p=1~\\text{eV}$."
            ]
        },
        {
            "cell_type": "code",
            "execution_count": 3,
            "metadata": {},
            "outputs": [
                {
                    "name": "stderr",
                    "output_type": "stream",
                    "text": [
                        "Solving HydrogenTransportProblem: 100%|██████████| 140/140 [00:08<00:00, 15.9it/s] \n"
                    ]
                }
            ],
            "source": [
                "reference_prms = [1e-2, 1.0]\n",
                "data = TDS(*reference_prms)"
            ]
        },
        {
            "cell_type": "markdown",
            "metadata": {},
            "source": [
                "Additionally, we can add some noise to the generated TDS spectra to mimic the experimental conditions. We'll also save the noisy flux dependence on temperature into a file to use it further as a reference data."
            ]
        },
        {
            "cell_type": "code",
            "execution_count": 4,
            "metadata": {},
            "outputs": [
                {
                    "data": {
                        "image/png": "[encoded data removed]",
                        "text/plain": [
                            "<Figure size 640x480 with 1 Axes>"
                        ]
                    },
                    "metadata": {},
                    "output_type": "display_data"
                }
            ],
            "source": [
                "import matplotlib.pyplot as plt\n",
                "\n",
                "\n",
                "# Calculate the total desorption flux\n",
                "flux_left = data[0].data\n",
                "flux_right = data[1].data\n",
                "flux_total = (np.array(flux_left) + np.array(flux_right))\n",
                "\n",
                "# Get temperature\n",
                "T = temperature(np.array(data[0].t))\n",
                "\n",
                "# Add random noise\n",
                "noise = np.random.normal(0, 0.05 * max(flux_total), len(flux_total))\n",
                "noisy_flux = flux_total + noise\n",
                "\n",
                "# Save to file\n",
                "np.savetxt(\n",
                "    \"Noisy_TDS.csv\", np.column_stack([T, noisy_flux]), delimiter=\";\", fmt=\"%f\"\n",
                ")\n",
                "\n",
                "# Visualise\n",
                "plt.plot(T, noisy_flux, linewidth=2)\n",
                "\n",
                "plt.ylabel(r\"Desorption flux (m$^{-2}$ s$^{-1}$)\")\n",
                "plt.xlabel(r\"Temperature (K)\")\n",
                "plt.show()"
            ]
        },
        {
            "cell_type": "markdown",
            "metadata": {},
            "source": [
                "# Automated TDS fit"
            ]
        },
        {
            "cell_type": "markdown",
            "metadata": {},
            "source": [
                "Here we'll define the algorithm to fit the generated TDS spectra using the [`minimize`](https://docs.scipy.org/doc/scipy/reference/generated/scipy.optimize.minimize.html) method from the `scipy.optimize` python library. The initial implementation of the algorithm can be found in [this repository](https://github.com/RemDelaporteMathurin/tds_optimisation/tree/main). We'll try to find the values of the detrapping barrier and the trap concetration so the average absolute error between the reference and the fitted spectras satisfies the required tolerance. To start with, we'll read our reference data and define an auxiliary method to display information on the status of fitting."
            ]
        },
        {
            "cell_type": "code",
            "execution_count": 5,
            "metadata": {},
            "outputs": [],
            "source": [
                "ref = np.genfromtxt(\"Noisy_TDS.csv\", delimiter=\";\")\n",
                "\n",
                "\n",
                "\n",
                "def info(xk):\n",
                "    \"\"\"\n",
                "    Print information during the fitting procedure\n",
                "    \"\"\"\n",
                "    print(\"-\" * 40)\n",
                "    print(\"New iteration.\")\n",
                "    print(f\"Point is: {xk}\")\n"
            ]
        },
        {
            "cell_type": "markdown",
            "metadata": {},
            "source": [
                "Then, we define an error function `error_function` that:\n",
                "- runs the TDS model with a given set of parameters\n",
                "- calculates the mean absolute error between the reference and the simulated TDS\n",
                "- collects intermediate values of parameters and the calculated errors for visualisation purposes"
            ]
        },
        {
            "cell_type": "code",
            "execution_count": null,
            "metadata": {},
            "outputs": [],
            "source": [
                "from scipy.interpolate import interp1d\n",
                "\n",
                "prms = []\n",
                "errors = []\n",
                "\n",
                "i = 0\n",
                "\n",
                "def error_function(prm):\n",
                "    \"\"\"\n",
                "    Compute average absolute error between simulation and reference\n",
                "    \"\"\"\n",
                "    global i\n",
                "    global prms\n",
                "    global errors\n",
                "\n",
                "    i += 1\n",
                "    prms.append(prm)\n",
                "\n",
                "    # Filter the results if a negative value is found\n",
                "    if any([e < 0 for e in prm]):\n",
                "        return 1e30\n",
                "\n",
                "    # Get the simulation result\n",
                "    n, Ep = prm\n",
                "    res = TDS(n, Ep)\n",
                "\n",
                "    flux = np.array(res[0].data) + np.array(res[1].data)\n",
                "\n",
                "    T = temperature(np.array(res[0].t))\n",
                "    # Plot the intermediate TDS spectra\n",
                "    if i == 1:\n",
                "        plt.plot(T, flux, color=\"tab:red\", lw=2, label=\"Initial guess\")\n",
                "    else:\n",
                "        plt.plot(T, flux, color=\"tab:grey\", lw=0.5)\n",
                "\n",
                "    interp_tds = interp1d(T, flux, fill_value=\"extrapolate\")\n",
                "\n",
                "    # Compute the mean absolute error between sim and ref\n",
                "    err = np.abs(interp_tds(ref[:, 0]) - ref[:, 1]).mean()\n",
                "\n",
                "    print(f\"Average absolute error is : {err:.2e}\")\n",
                "    errors.append(err)\n",
                "    return err"
            ]
        },
        {
            "cell_type": "markdown",
            "metadata": {},
            "source": [
                "Finally, we'll minimise `error_function` to find the set of trap properties reproducing the reference TDS (within some tolerance). \n",
                "\n",
                "We'll use the Nelder-Mead minimisation algorithm with the initial guess: $n=0.02~\\text{at.fr.}$ and $E_p=1.1~\\text{eV}$."
            ]
        },
        {
            "cell_type": "code",
            "execution_count": null,
            "metadata": {},
            "outputs": [
                {
                    "name": "stderr",
                    "output_type": "stream",
                    "text": [
                        "Solving HydrogenTransportProblem: 100%|██████████| 140/140 [00:08<00:00, 17.4it/s] \n"
                    ]
                },
                {
                    "name": "stdout",
                    "output_type": "stream",
                    "text": [
                        "Average absolute error is : 1.02e+20\n"
                    ]
                },
                {
                    "name": "stderr",
                    "output_type": "stream",
                    "text": [
                        "Solving HydrogenTransportProblem: 100%|██████████| 140/140 [00:07<00:00, 17.7it/s] \n"
                    ]
                },
                {
                    "name": "stdout",
                    "output_type": "stream",
                    "text": [
                        "Average absolute error is : 1.08e+20\n"
                    ]
                },
                {
                    "name": "stderr",
                    "output_type": "stream",
                    "text": [
                        "Solving HydrogenTransportProblem: 100%|██████████| 140/140 [00:09<00:00, 15.2it/s] \n"
                    ]
                },
                {
                    "name": "stdout",
                    "output_type": "stream",
                    "text": [
                        "Average absolute error is : 1.27e+20\n"
                    ]
                },
                {
                    "name": "stderr",
                    "output_type": "stream",
                    "text": [
                        "Solving HydrogenTransportProblem: 100%|██████████| 140/140 [00:08<00:00, 16.4it/s] \n"
                    ]
                },
                {
                    "name": "stdout",
                    "output_type": "stream",
                    "text": [
                        "Average absolute error is : 9.23e+19\n"
                    ]
                },
                {
                    "name": "stderr",
                    "output_type": "stream",
                    "text": [
                        "Solving HydrogenTransportProblem: 100%|██████████| 140/140 [00:08<00:00, 17.1it/s] \n"
                    ]
                },
                {
                    "name": "stdout",
                    "output_type": "stream",
                    "text": [
                        "Average absolute error is : 9.44e+19\n",
                        "----------------------------------------\n",
                        "New iteration.\n",
                        "Point is: [0.021 1.045]\n"
                    ]
                },
                {
                    "name": "stderr",
                    "output_type": "stream",
                    "text": [
                        "Solving HydrogenTransportProblem: 100%|██████████| 140/140 [00:08<00:00, 17.4it/s] \n"
                    ]
                },
                {
                    "name": "stdout",
                    "output_type": "stream",
                    "text": [
                        "Average absolute error is : 8.49e+19\n"
                    ]
                },
                {
                    "name": "stderr",
                    "output_type": "stream",
                    "text": [
                        "Solving HydrogenTransportProblem: 100%|██████████| 140/140 [00:09<00:00, 15.3it/s] \n"
                    ]
                },
                {
                    "name": "stdout",
                    "output_type": "stream",
                    "text": [
                        "Average absolute error is : 7.94e+19\n",
                        "----------------------------------------\n",
                        "New iteration.\n",
                        "Point is: [0.0195 1.0175]\n"
                    ]
                },
                {
                    "name": "stderr",
                    "output_type": "stream",
                    "text": [
                        "Solving HydrogenTransportProblem: 100%|██████████| 140/140 [00:09<00:00, 14.9it/s] \n"
                    ]
                },
                {
                    "name": "stdout",
                    "output_type": "stream",
                    "text": [
                        "Average absolute error is : 8.71e+19\n",
                        "----------------------------------------\n",
                        "New iteration.\n",
                        "Point is: [0.0195 1.0175]\n"
                    ]
                },
                {
                    "name": "stderr",
                    "output_type": "stream",
                    "text": [
                        "Solving HydrogenTransportProblem: 100%|██████████| 140/140 [00:09<00:00, 15.4it/s] \n"
                    ]
                },
                {
                    "name": "stdout",
                    "output_type": "stream",
                    "text": [
                        "Average absolute error is : 7.91e+19\n"
                    ]
                },
                {
                    "name": "stderr",
                    "output_type": "stream",
                    "text": [
                        "Solving HydrogenTransportProblem: 100%|██████████| 140/140 [00:09<00:00, 14.6it/s] \n"
                    ]
                },
                {
                    "name": "stdout",
                    "output_type": "stream",
                    "text": [
                        "Average absolute error is : 1.01e+20\n",
                        "----------------------------------------\n",
                        "New iteration.\n",
                        "Point is: [0.019 0.935]\n"
                    ]
                },
                {
                    "name": "stderr",
                    "output_type": "stream",
                    "text": [
                        "Solving HydrogenTransportProblem: 100%|██████████| 140/140 [00:09<00:00, 15.1it/s] \n"
                    ]
                },
                {
                    "name": "stdout",
                    "output_type": "stream",
                    "text": [
                        "Average absolute error is : 6.76e+19\n"
                    ]
                },
                {
                    "name": "stderr",
                    "output_type": "stream",
                    "text": [
                        "Solving HydrogenTransportProblem: 100%|██████████| 140/140 [00:08<00:00, 16.6it/s] \n"
                    ]
                },
                {
                    "name": "stdout",
                    "output_type": "stream",
                    "text": [
                        "Average absolute error is : 5.82e+19\n",
                        "----------------------------------------\n",
                        "New iteration.\n",
                        "Point is: [0.01675 1.00375]\n"
                    ]
                },
                {
                    "name": "stderr",
                    "output_type": "stream",
                    "text": [
                        "Solving HydrogenTransportProblem: 100%|██████████| 140/140 [00:08<00:00, 15.6it/s] \n"
                    ]
                },
                {
                    "name": "stdout",
                    "output_type": "stream",
                    "text": [
                        "Average absolute error is : 7.00e+19\n",
                        "----------------------------------------\n",
                        "New iteration.\n",
                        "Point is: [0.01675 1.00375]\n"
                    ]
                },
                {
                    "name": "stderr",
                    "output_type": "stream",
                    "text": [
                        "Solving HydrogenTransportProblem: 100%|██████████| 140/140 [00:09<00:00, 14.9it/s] \n"
                    ]
                },
                {
                    "name": "stdout",
                    "output_type": "stream",
                    "text": [
                        "Average absolute error is : 3.76e+19\n"
                    ]
                },
                {
                    "name": "stderr",
                    "output_type": "stream",
                    "text": [
                        "Solving HydrogenTransportProblem: 100%|██████████| 140/140 [00:08<00:00, 16.7it/s] \n"
                    ]
                },
                {
                    "name": "stdout",
                    "output_type": "stream",
                    "text": [
                        "Average absolute error is : 2.30e+19\n",
                        "----------------------------------------\n",
                        "New iteration.\n",
                        "Point is: [0.0115 1.0175]\n"
                    ]
                },
                {
                    "name": "stderr",
                    "output_type": "stream",
                    "text": [
                        "Solving HydrogenTransportProblem: 100%|██████████| 140/140 [00:08<00:00, 17.5it/s] \n"
                    ]
                },
                {
                    "name": "stdout",
                    "output_type": "stream",
                    "text": [
                        "Average absolute error is : 6.15e+19\n"
                    ]
                },
                {
                    "name": "stderr",
                    "output_type": "stream",
                    "text": [
                        "Solving HydrogenTransportProblem: 100%|██████████| 140/140 [00:09<00:00, 15.4it/s] \n"
                    ]
                },
                {
                    "name": "stdout",
                    "output_type": "stream",
                    "text": [
                        "Average absolute error is : 4.54e+19\n",
                        "----------------------------------------\n",
                        "New iteration.\n",
                        "Point is: [0.0115 1.0175]\n"
                    ]
                },
                {
                    "name": "stderr",
                    "output_type": "stream",
                    "text": [
                        "Solving HydrogenTransportProblem: 100%|██████████| 140/140 [00:07<00:00, 18.0it/s] \n"
                    ]
                },
                {
                    "name": "stdout",
                    "output_type": "stream",
                    "text": [
                        "Average absolute error is : 3.90e+19\n",
                        "----------------------------------------\n",
                        "New iteration.\n",
                        "Point is: [0.0115 1.0175]\n"
                    ]
                },
                {
                    "name": "stderr",
                    "output_type": "stream",
                    "text": [
                        "Solving HydrogenTransportProblem: 100%|██████████| 140/140 [00:11<00:00, 12.1it/s] \n"
                    ]
                },
                {
                    "name": "stdout",
                    "output_type": "stream",
                    "text": [
                        "Average absolute error is : 3.78e+19\n",
                        "----------------------------------------\n",
                        "New iteration.\n",
                        "Point is: [0.0115 1.0175]\n"
                    ]
                },
                {
                    "name": "stderr",
                    "output_type": "stream",
                    "text": [
                        "Solving HydrogenTransportProblem: 100%|██████████| 140/140 [00:08<00:00, 16.8it/s] \n"
                    ]
                },
                {
                    "name": "stdout",
                    "output_type": "stream",
                    "text": [
                        "Average absolute error is : 1.90e+19\n"
                    ]
                },
                {
                    "name": "stderr",
                    "output_type": "stream",
                    "text": [
                        "Solving HydrogenTransportProblem: 100%|██████████| 140/140 [00:10<00:00, 13.6it/s] \n"
                    ]
                },
                {
                    "name": "stdout",
                    "output_type": "stream",
                    "text": [
                        "Average absolute error is : 4.29e+19\n",
                        "----------------------------------------\n",
                        "New iteration.\n",
                        "Point is: [0.0099375 0.9796875]\n"
                    ]
                },
                {
                    "name": "stderr",
                    "output_type": "stream",
                    "text": [
                        "Solving HydrogenTransportProblem: 100%|██████████| 140/140 [00:07<00:00, 18.3it/s] \n"
                    ]
                },
                {
                    "name": "stdout",
                    "output_type": "stream",
                    "text": [
                        "Average absolute error is : 4.74e+19\n"
                    ]
                },
                {
                    "name": "stderr",
                    "output_type": "stream",
                    "text": [
                        "Solving HydrogenTransportProblem: 100%|██████████| 140/140 [00:10<00:00, 13.9it/s] \n"
                    ]
                },
                {
                    "name": "stdout",
                    "output_type": "stream",
                    "text": [
                        "Average absolute error is : 2.13e+19\n",
                        "----------------------------------------\n",
                        "New iteration.\n",
                        "Point is: [0.0099375 0.9796875]\n"
                    ]
                },
                {
                    "name": "stderr",
                    "output_type": "stream",
                    "text": [
                        "Solving HydrogenTransportProblem: 100%|██████████| 140/140 [00:08<00:00, 17.2it/s] \n"
                    ]
                },
                {
                    "name": "stdout",
                    "output_type": "stream",
                    "text": [
                        "Average absolute error is : 3.42e+19\n"
                    ]
                },
                {
                    "name": "stderr",
                    "output_type": "stream",
                    "text": [
                        "Solving HydrogenTransportProblem: 100%|██████████| 140/140 [00:07<00:00, 17.6it/s] \n"
                    ]
                },
                {
                    "name": "stdout",
                    "output_type": "stream",
                    "text": [
                        "Average absolute error is : 1.52e+19\n",
                        "----------------------------------------\n",
                        "New iteration.\n",
                        "Point is: [0.01035547 1.00740234]\n"
                    ]
                },
                {
                    "name": "stderr",
                    "output_type": "stream",
                    "text": [
                        "Solving HydrogenTransportProblem: 100%|██████████| 140/140 [00:10<00:00, 13.6it/s] \n"
                    ]
                },
                {
                    "name": "stdout",
                    "output_type": "stream",
                    "text": [
                        "Average absolute error is : 2.65e+19\n"
                    ]
                },
                {
                    "name": "stderr",
                    "output_type": "stream",
                    "text": [
                        "Solving HydrogenTransportProblem: 100%|██████████| 140/140 [00:08<00:00, 16.6it/s] \n"
                    ]
                },
                {
                    "name": "stdout",
                    "output_type": "stream",
                    "text": [
                        "Average absolute error is : 1.56e+19\n",
                        "----------------------------------------\n",
                        "New iteration.\n",
                        "Point is: [0.01035547 1.00740234]\n"
                    ]
                },
                {
                    "name": "stderr",
                    "output_type": "stream",
                    "text": [
                        "Solving HydrogenTransportProblem: 100%|██████████| 140/140 [00:07<00:00, 17.8it/s] \n"
                    ]
                },
                {
                    "name": "stdout",
                    "output_type": "stream",
                    "text": [
                        "Average absolute error is : 2.38e+19\n"
                    ]
                },
                {
                    "name": "stderr",
                    "output_type": "stream",
                    "text": [
                        "Solving HydrogenTransportProblem: 100%|██████████| 140/140 [00:07<00:00, 19.0it/s] \n"
                    ]
                },
                {
                    "name": "stdout",
                    "output_type": "stream",
                    "text": [
                        "Average absolute error is : 1.49e+19\n",
                        "----------------------------------------\n",
                        "New iteration.\n",
                        "Point is: [0.00988647 0.99275269]\n"
                    ]
                },
                {
                    "name": "stderr",
                    "output_type": "stream",
                    "text": [
                        "Solving HydrogenTransportProblem: 100%|██████████| 140/140 [00:07<00:00, 17.6it/s] \n"
                    ]
                },
                {
                    "name": "stdout",
                    "output_type": "stream",
                    "text": [
                        "Average absolute error is : 1.62e+19\n"
                    ]
                },
                {
                    "name": "stderr",
                    "output_type": "stream",
                    "text": [
                        "Solving HydrogenTransportProblem: 100%|██████████| 140/140 [00:08<00:00, 15.8it/s] \n"
                    ]
                },
                {
                    "name": "stdout",
                    "output_type": "stream",
                    "text": [
                        "Average absolute error is : 1.40e+19\n",
                        "----------------------------------------\n",
                        "New iteration.\n",
                        "Point is: [0.0097182  1.00215546]\n"
                    ]
                },
                {
                    "name": "stderr",
                    "output_type": "stream",
                    "text": [
                        "Solving HydrogenTransportProblem: 100%|██████████| 140/140 [00:08<00:00, 16.5it/s] \n"
                    ]
                },
                {
                    "name": "stdout",
                    "output_type": "stream",
                    "text": [
                        "Average absolute error is : 1.86e+19\n"
                    ]
                },
                {
                    "name": "stderr",
                    "output_type": "stream",
                    "text": [
                        "Solving HydrogenTransportProblem: 100%|██████████| 140/140 [00:08<00:00, 15.8it/s] \n"
                    ]
                },
                {
                    "name": "stdout",
                    "output_type": "stream",
                    "text": [
                        "Average absolute error is : 1.37e+19\n",
                        "----------------------------------------\n",
                        "New iteration.\n",
                        "Point is: [0.0100789  1.00242821]\n"
                    ]
                },
                {
                    "name": "stderr",
                    "output_type": "stream",
                    "text": [
                        "Solving HydrogenTransportProblem: 100%|██████████| 140/140 [00:12<00:00, 11.4it/s] \n"
                    ]
                },
                {
                    "name": "stdout",
                    "output_type": "stream",
                    "text": [
                        "Average absolute error is : 1.58e+19\n"
                    ]
                },
                {
                    "name": "stderr",
                    "output_type": "stream",
                    "text": [
                        "Solving HydrogenTransportProblem: 100%|██████████| 140/140 [00:09<00:00, 14.7it/s] \n"
                    ]
                },
                {
                    "name": "stdout",
                    "output_type": "stream",
                    "text": [
                        "Average absolute error is : 1.40e+19\n",
                        "----------------------------------------\n",
                        "New iteration.\n",
                        "Point is: [0.0100789  1.00242821]\n"
                    ]
                },
                {
                    "name": "stderr",
                    "output_type": "stream",
                    "text": [
                        "Solving HydrogenTransportProblem: 100%|██████████| 140/140 [00:11<00:00, 11.9it/s] \n"
                    ]
                },
                {
                    "name": "stdout",
                    "output_type": "stream",
                    "text": [
                        "Average absolute error is : 1.41e+19\n"
                    ]
                },
                {
                    "name": "stderr",
                    "output_type": "stream",
                    "text": [
                        "Solving HydrogenTransportProblem: 100%|██████████| 140/140 [00:10<00:00, 13.1it/s] \n"
                    ]
                },
                {
                    "name": "stdout",
                    "output_type": "stream",
                    "text": [
                        "Average absolute error is : 1.37e+19\n",
                        "----------------------------------------\n",
                        "New iteration.\n",
                        "Point is: [0.0100789  1.00242821]\n"
                    ]
                },
                {
                    "name": "stderr",
                    "output_type": "stream",
                    "text": [
                        "Solving HydrogenTransportProblem: 100%|██████████| 140/140 [00:10<00:00, 13.2it/s] \n"
                    ]
                },
                {
                    "name": "stdout",
                    "output_type": "stream",
                    "text": [
                        "Average absolute error is : 1.42e+19\n"
                    ]
                },
                {
                    "name": "stderr",
                    "output_type": "stream",
                    "text": [
                        "Solving HydrogenTransportProblem: 100%|██████████| 140/140 [00:09<00:00, 14.3it/s] \n"
                    ]
                },
                {
                    "name": "stdout",
                    "output_type": "stream",
                    "text": [
                        "Average absolute error is : 1.37e+19\n",
                        "----------------------------------------\n",
                        "New iteration.\n",
                        "Point is: [0.00992897 0.99963452]\n"
                    ]
                },
                {
                    "name": "stderr",
                    "output_type": "stream",
                    "text": [
                        "Solving HydrogenTransportProblem: 100%|██████████| 140/140 [00:11<00:00, 12.7it/s] \n"
                    ]
                },
                {
                    "name": "stdout",
                    "output_type": "stream",
                    "text": [
                        "Average absolute error is : 1.38e+19\n"
                    ]
                },
                {
                    "name": "stderr",
                    "output_type": "stream",
                    "text": [
                        "Solving HydrogenTransportProblem: 100%|██████████| 140/140 [00:11<00:00, 12.3it/s] \n"
                    ]
                },
                {
                    "name": "stdout",
                    "output_type": "stream",
                    "text": [
                        "Average absolute error is : 1.36e+19\n",
                        "----------------------------------------\n",
                        "New iteration.\n",
                        "Point is: [0.00992795 1.00104835]\n"
                    ]
                },
                {
                    "name": "stderr",
                    "output_type": "stream",
                    "text": [
                        "Solving HydrogenTransportProblem: 100%|██████████| 140/140 [00:09<00:00, 14.3it/s] \n"
                    ]
                },
                {
                    "name": "stdout",
                    "output_type": "stream",
                    "text": [
                        "Average absolute error is : 1.41e+19\n"
                    ]
                },
                {
                    "name": "stderr",
                    "output_type": "stream",
                    "text": [
                        "Solving HydrogenTransportProblem: 100%|██████████| 140/140 [00:09<00:00, 14.6it/s] \n"
                    ]
                },
                {
                    "name": "stdout",
                    "output_type": "stream",
                    "text": [
                        "Average absolute error is : 1.36e+19\n",
                        "----------------------------------------\n",
                        "New iteration.\n",
                        "Point is: [0.01000368 1.00138482]\n"
                    ]
                },
                {
                    "name": "stderr",
                    "output_type": "stream",
                    "text": [
                        "Solving HydrogenTransportProblem: 100%|██████████| 140/140 [00:10<00:00, 13.7it/s] \n"
                    ]
                },
                {
                    "name": "stdout",
                    "output_type": "stream",
                    "text": [
                        "Average absolute error is : 1.37e+19\n"
                    ]
                },
                {
                    "name": "stderr",
                    "output_type": "stream",
                    "text": [
                        "Solving HydrogenTransportProblem: 100%|██████████| 140/140 [00:09<00:00, 14.4it/s] \n"
                    ]
                },
                {
                    "name": "stdout",
                    "output_type": "stream",
                    "text": [
                        "Average absolute error is : 1.36e+19\n",
                        "----------------------------------------\n",
                        "New iteration.\n",
                        "Point is: [0.01000368 1.00138482]\n",
                        "----------------------------------------\n",
                        "New iteration.\n",
                        "Point is: [0.01000368 1.00138482]\n",
                        "Optimization terminated successfully.\n",
                        "         Current function value: 13605020683665975296.000000\n",
                        "         Iterations: 24\n",
                        "         Function evaluations: 45\n"
                    ]
                },
                {
                    "name": "stderr",
                    "output_type": "stream",
                    "text": [
                        "Solving HydrogenTransportProblem: 100%|██████████| 140/140 [00:08<00:00, 16.3it/s] \n"
                    ]
                },
                {
                    "data": {
                        "image/png": "[encoded data removed]",
                        "text/plain": [
                            "<Figure size 640x480 with 1 Axes>"
                        ]
                    },
                    "metadata": {},
                    "output_type": "display_data"
                }
            ],
            "source": [
                "from scipy.optimize import minimize\n",
                "\n",
                "i = 0  # initialise counter\n",
                "\n",
                "# Set the tolerances\n",
                "fatol = 1e18\n",
                "xatol = 1e-3\n",
                "\n",
                "initial_guess = [2e-2, 1.1]\n",
                "\n",
                "# Minimise the error function\n",
                "res = minimize(\n",
                "    error_function,\n",
                "    np.array(initial_guess),\n",
                "    method=\"Nelder-Mead\",\n",
                "    options={\"disp\": True, \"fatol\": fatol, \"xatol\": xatol},\n",
                "    callback=info,\n",
                ")\n",
                "\n",
                "# Process the obtained results\n",
                "predicted_data = TDS(*res.x)\n",
                "\n",
                "T = temperature(np.array(predicted_data[0].t))\n",
                "\n",
                "flux_left = predicted_data[0].data\n",
                "flux_right = predicted_data[1].data\n",
                "flux_total = np.array(flux_left) + np.array(flux_right)\n",
                "\n",
                "# Visualise\n",
                "plt.plot(ref[:, 0], ref[:, 1], linewidth=2, label=\"Reference\")\n",
                "plt.plot(T, flux_total, linewidth=2, label=\"Optimised\")\n",
                "\n",
                "plt.ylabel(r\"Desorption flux (m$^{-2}$ s$^{-1}$)\")\n",
                "plt.xlabel(r\"Temperature (K)\")\n",
                "plt.legend()\n",
                "plt.show()"
            ]
        },
        {
            "cell_type": "markdown",
            "metadata": {},
            "source": [
                "Additionally, we can visualise how the parameters and the computed error varied during the optimisation process."
            ]
        },
        {
            "cell_type": "code",
            "execution_count": 10,
            "metadata": {},
            "outputs": [
                {
                    "ename": "IndexError",
                    "evalue": "too many indices for array: array is 1-dimensional, but 2 were indexed",
                    "output_type": "error",
                    "traceback": [
                        "\u001b[31m---------------------------------------------------------------------------\u001b[39m",
                        "\u001b[31mIndexError\u001b[39m                                Traceback (most recent call last)",
                        "\u001b[36mCell\u001b[39m\u001b[36m \u001b[39m\u001b[32mIn[10]\u001b[39m\u001b[32m, line 2\u001b[39m\n\u001b[32m      1\u001b[39m plt.scatter(\n\u001b[32m----> \u001b[39m\u001b[32m2\u001b[39m     \u001b[43mnp\u001b[49m\u001b[43m.\u001b[49m\u001b[43marray\u001b[49m\u001b[43m(\u001b[49m\u001b[43mprms\u001b[49m\u001b[43m)\u001b[49m\u001b[43m[\u001b[49m\u001b[43m:\u001b[49m\u001b[43m,\u001b[49m\u001b[43m \u001b[49m\u001b[32;43m0\u001b[39;49m\u001b[43m]\u001b[49m, np.array(prms)[:, \u001b[32m1\u001b[39m], c=np.array(errors), cmap=\u001b[33m\"\u001b[39m\u001b[33mviridis\u001b[39m\u001b[33m\"\u001b[39m\n\u001b[32m      3\u001b[39m )\n\u001b[32m      4\u001b[39m plt.plot(np.array(prms)[:, \u001b[32m0\u001b[39m], np.array(prms)[:, \u001b[32m1\u001b[39m], color=\u001b[33m\"\u001b[39m\u001b[33mtab:grey\u001b[39m\u001b[33m\"\u001b[39m, lw=\u001b[32m0.5\u001b[39m)\n\u001b[32m      6\u001b[39m plt.scatter(*reference_prms, c=\u001b[33m\"\u001b[39m\u001b[33mtab:red\u001b[39m\u001b[33m\"\u001b[39m)\n",
                        "\u001b[31mIndexError\u001b[39m: too many indices for array: array is 1-dimensional, but 2 were indexed"
                    ]
                }
            ],
            "source": [
                "plt.scatter(\n",
                "    np.array(prms)[:, 0], np.array(prms)[:, 1], c=np.array(errors), cmap=\"viridis\"\n",
                ")\n",
                "plt.plot(np.array(prms)[:, 0], np.array(prms)[:, 1], color=\"tab:grey\", lw=0.5)\n",
                "\n",
                "plt.scatter(*reference_prms, c=\"tab:red\")\n",
                "plt.annotate(\n",
                "    \"Reference\",\n",
                "    xy=reference_prms,\n",
                "    xytext=(reference_prms[0] - 0.003, reference_prms[1] + 0.1),\n",
                "    arrowprops=dict(facecolor=\"black\", arrowstyle=\"-|>\"),\n",
                ")\n",
                "plt.annotate(\n",
                "    \"Initial guess\",\n",
                "    xy=initial_guess,\n",
                "    xytext=(initial_guess[0] - 0.004, initial_guess[1] + 0.05),\n",
                "    arrowprops=dict(facecolor=\"black\", arrowstyle=\"-|>\"),\n",
                ")\n",
                "\n",
                "plt.xlabel(r\"Trap 1 concentration (at. fr.)\")\n",
                "plt.ylabel(r\"Detrapping barrier (eV)\")\n",
                "plt.show()"
            ]
        }
    ],
    "metadata": {
        "kernelspec": {
            "display_name": "festim-workshop",
            "language": "python",
            "name": "python3"
        },
        "language_info": {
            "codemirror_mode": {
                "name": "ipython",
                "version": 3
            },
            "file_extension": ".py",
            "mimetype": "text/x-python",
            "name": "python",
            "nbconvert_exporter": "python",
            "pygments_lexer": "ipython3",
            "version": "3.13.3"
        }
    },
    "nbformat": 4,
    "nbformat_minor": 2
}
