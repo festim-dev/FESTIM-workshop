{
    "cells": [
        {
            "attachments": {},
            "cell_type": "markdown",
            "metadata": {},
            "source": [
                "# Simple permeation simulation\n",
                "\n",
                "In this task, we'll go through the basics of FESTIM and run a simple permeation simulation on a 1D domain."
            ]
        },
        {
            "cell_type": "code",
            "execution_count": 1,
            "metadata": {},
            "outputs": [],
            "source": [
                "import festim as F"
            ]
        },
        {
            "attachments": {},
            "cell_type": "markdown",
            "metadata": {},
            "source": [
                "The first step is to create a model using a `Simulation` object."
            ]
        },
        {
            "cell_type": "code",
            "execution_count": 2,
            "metadata": {},
            "outputs": [],
            "source": [
                "my_model = F.HydrogenTransportProblem()\n",
                "\n",
                "H = F.Species(\"H\")\n",
                "my_model.species = [H]"
            ]
        },
        {
            "attachments": {},
            "cell_type": "markdown",
            "metadata": {},
            "source": [
                "We'll consider a 3 mm-thick material and a regular mesh (1000 cells)"
            ]
        },
        {
            "cell_type": "code",
            "execution_count": 3,
            "metadata": {},
            "outputs": [],
            "source": [
                "import numpy as np\n",
                "\n",
                "my_model.mesh = F.Mesh1D(vertices=np.linspace(0, 3e-4, num=1001))"
            ]
        },
        {
            "attachments": {},
            "cell_type": "markdown",
            "metadata": {},
            "source": [
                "`Material` objects hold the materials properties like diffusivity and solubility.\n",
                "\n",
                "Here we only need the diffusivity defined as an Arrhenius law: $D = D_0 \\exp{(-E_D/k_B T)}$ where $k_B$ is the Boltzmann constant in eV/K and $T$ is the temperature in K. From this, the pre-exponential coefficient, $D_0$ in units m<sup>2</sup>/s, and the diffusion actiavtion energy, $E_D$ in units eV are needed.`"
            ]
        },
        {
            "cell_type": "code",
            "execution_count": 4,
            "metadata": {},
            "outputs": [],
            "source": [
                "material = F.Material(D_0=1.9e-7, E_D=0.2)\n",
                "\n",
                "volume_subdomain = F.VolumeSubdomain1D(id=1, borders=(0, 3e-4), material=material)\n",
                "left_boundary = F.SurfaceSubdomain1D(id=1, x=0)\n",
                "right_boundary = F.SurfaceSubdomain1D(id=2, x=3e-4)\n",
                "\n",
                "my_model.subdomains = [volume_subdomain, left_boundary, right_boundary]"
            ]
        },
        {
            "attachments": {},
            "cell_type": "markdown",
            "metadata": {},
            "source": [
                "The temperature is set at 500 K"
            ]
        },
        {
            "cell_type": "code",
            "execution_count": 5,
            "metadata": {},
            "outputs": [],
            "source": [
                "my_model.temperature = 500"
            ]
        },
        {
            "attachments": {},
            "cell_type": "markdown",
            "metadata": {},
            "source": [
                "FESTIM has a `SievertsBC` class representing Sievert's law of solubility: $c = S \\ \\sqrt{P}$ at metal surfaces.\n",
                "\n",
                "> Note:\n",
                "> \n",
                "> A similar class exists for non-metallic materials behaving according to Henry's law: `HenrysBC`\n",
                "\n",
                "We'll use this boundary condition on the left surface (`id=1`) and will assume a zero concentration on the right side (`id=2`)."
            ]
        },
        {
            "cell_type": "code",
            "execution_count": 6,
            "metadata": {},
            "outputs": [],
            "source": [
                "P_up = 100  # Pa\n",
                "\n",
                "my_model.boundary_conditions = [\n",
                "    F.SievertsBC(subdomain=left_boundary, S_0=4.02e21, E_S=1.04, pressure=P_up, species=H),\n",
                "    F.FixedConcentrationBC(subdomain=right_boundary, value=0, species=H),\n",
                "]"
            ]
        },
        {
            "attachments": {},
            "cell_type": "markdown",
            "metadata": {},
            "source": [
                "With `Settings` we set the main solver parameters."
            ]
        },
        {
            "cell_type": "code",
            "execution_count": 7,
            "metadata": {},
            "outputs": [],
            "source": [
                "my_model.settings = F.Settings(atol=1e-2, rtol=1e-10, final_time=100)  # s"
            ]
        },
        {
            "attachments": {},
            "cell_type": "markdown",
            "metadata": {},
            "source": [
                "Let's choose a stepsize small enough to have good temporal resolution:"
            ]
        },
        {
            "cell_type": "code",
            "execution_count": 8,
            "metadata": {},
            "outputs": [],
            "source": [
                "my_model.settings.stepsize = F.Stepsize(1 / 20)"
            ]
        },
        {
            "attachments": {},
            "cell_type": "markdown",
            "metadata": {},
            "source": [
                "For this permeation experiment, we are only interested in the hydrogen flux on the right side:"
            ]
        },
        {
            "cell_type": "code",
            "execution_count": 9,
            "metadata": {},
            "outputs": [],
            "source": [
                "permeation_flux = F.SurfaceFlux(field=H, surface=right_boundary)\n",
                "\n",
                "my_model.exports = [permeation_flux]"
            ]
        },
        {
            "cell_type": "code",
            "execution_count": 10,
            "metadata": {},
            "outputs": [
                {
                    "name": "stderr",
                    "output_type": "stream",
                    "text": [
                        "Solving HydrogenTransportProblem:   0%|          | 0.00/100 [00:00<?, ?it/s]"
                    ]
                },
                {
                    "name": "stderr",
                    "output_type": "stream",
                    "text": [
                        "Solving HydrogenTransportProblem: 100%|██████████| 100/100 [00:13<00:00, 7.28it/s] \n"
                    ]
                }
            ],
            "source": [
                "my_model.initialise()\n",
                "\n",
                "my_model.run()"
            ]
        },
        {
            "attachments": {},
            "cell_type": "markdown",
            "metadata": {},
            "source": [
                "This problem can be solved analytically. The solution for the downstream flux is:\n",
                "\n",
                "$$\\mathrm{downstream \\ flux} = \\frac{P_\\mathrm{up} \\Phi}{L} \\left(1 + 2 \\sum_{n=1}^{\\infty} \\left(-1\\right)^{n} \\exp{(- \\frac{\\pi^{2} D n^{2} t}{L^{2}})}\\right) $$"
            ]
        },
        {
            "cell_type": "code",
            "execution_count": 11,
            "metadata": {},
            "outputs": [],
            "source": [
                "def downstream_flux(t, P_up, permeability, L, D):\n",
                "    \"\"\"calculates the downstream H flux at a given time t\n",
                "\n",
                "    Args:\n",
                "        t (float, np.array): the time\n",
                "        P_up (float): upstream partial pressure of H\n",
                "        permeability (float): material permeability\n",
                "        L (float): material thickness\n",
                "        D (float): diffusivity of H in the material\n",
                "\n",
                "    Returns:\n",
                "        float, np.array: the downstream flux of H\n",
                "    \"\"\"\n",
                "    n_array = np.arange(1, 10000)[:, np.newaxis]\n",
                "    summation = np.sum(\n",
                "        (-1) ** n_array * np.exp(-((np.pi * n_array) ** 2) * D / L**2 * t), axis=0\n",
                "    )\n",
                "    return P_up**0.5 * permeability / L * (2 * summation + 1)"
            ]
        },
        {
            "attachments": {},
            "cell_type": "markdown",
            "metadata": {},
            "source": [
                "We can compare the computed downstream flux to the analytical solution:"
            ]
        },
        {
            "cell_type": "code",
            "execution_count": 12,
            "metadata": {},
            "outputs": [
                {
                    "data": {
                        "image/png": "[encoded data removed]",
                        "text/plain": [
                            "<Figure size 640x480 with 1 Axes>"
                        ]
                    },
                    "metadata": {},
                    "output_type": "display_data"
                }
            ],
            "source": [
                "times = permeation_flux.t\n",
                "\n",
                "D = 1.9e-7 * np.exp(-0.2 / F.k_B / 500)\n",
                "S = 4.02e21 * np.exp(-1.04 / F.k_B / 500)\n",
                "\n",
                "import matplotlib.pyplot as plt\n",
                "\n",
                "plt.scatter(times, np.abs(permeation_flux.data), alpha=0.2, label=\"computed\")\n",
                "plt.plot(\n",
                "    times,\n",
                "    downstream_flux(times, P_up, permeability=D * S, L=3e-4, D=D),\n",
                "    color=\"tab:orange\",\n",
                "    label=\"analytical\",\n",
                ")\n",
                "plt.ylim(bottom=0)\n",
                "plt.xlabel(\"Time (s)\")\n",
                "plt.ylabel(\"Downstream flux (H/m2/s)\")\n",
                "plt.show()"
            ]
        },
        {
            "attachments": {},
            "cell_type": "markdown",
            "metadata": {},
            "source": [
                "Phew! We have a good agreement between our model and the analytical solution!\n",
                "\n",
                "To reproduce simple permeation experiments, the analytical solution is obviously enough.\n",
                "However, for more complex scenarios (transients, trapping regimes,..) a numerical model provides more flexibility."
            ]
        }
    ],
    "metadata": {
        "kernelspec": {
            "display_name": "festim-workshop",
            "language": "python",
            "name": "python3"
        },
        "language_info": {
            "codemirror_mode": {
                "name": "ipython",
                "version": 3
            },
            "file_extension": ".py",
            "mimetype": "text/x-python",
            "name": "python",
            "nbconvert_exporter": "python",
            "pygments_lexer": "ipython3",
            "version": "3.13.3"
        },
        "orig_nbformat": 4
    },
    "nbformat": 4,
    "nbformat_minor": 2
}
