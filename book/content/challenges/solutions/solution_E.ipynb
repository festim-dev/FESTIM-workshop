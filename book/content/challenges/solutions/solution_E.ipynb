{
 "cells": [
  {
   "cell_type": "markdown",
   "metadata": {},
   "source": [
    "# Solution\n",
    "\n",
    "Here you will find the solution for the challenge E."
   ]
  },
  {
   "cell_type": "code",
   "execution_count": 1,
   "metadata": {},
   "outputs": [],
   "source": [
    "from fenics import Point, CompiledSubDomain, MeshFunction, XDMFFile, SubDomain\n",
    "from mshr import Rectangle, generate_mesh\n",
    "\n",
    "inlet_id = 1\n",
    "vacuum_id = 2\n",
    "outlet_id = 3\n",
    "axis_id = 4\n",
    "\n",
    "id_fluid = 5\n",
    "id_pipe_walls = 6\n",
    "\n",
    "\n",
    "def create_mesh(length, inner_radius, pipe_thickness, refinement=300):\n",
    "    \"\"\"Creates a mesh for the challenge E and writes the XDMF files\n",
    "    to the challenge_E folder.\n",
    "\n",
    "    Args:\n",
    "        length (float): length of the pipe (m)\n",
    "        inner_radius (float): inner radius of the pipe (m)\n",
    "        pipe_thickness (float): pipe thickness (m)\n",
    "        refinement (int, optional): refinement index, the higher the index\n",
    "            the finer the mesh. Defaults to 300.\n",
    "    \"\"\"\n",
    "    p1 = Point(0, 0)\n",
    "    p2 = Point(inner_radius, length)\n",
    "    fluid_rectangle = Rectangle(p1, p2)\n",
    "\n",
    "    p1 = Point(inner_radius, 0)\n",
    "    p2 = Point(inner_radius + pipe_thickness, length)\n",
    "    pipe_rectangle = Rectangle(p1, p2)\n",
    "\n",
    "    domain = fluid_rectangle + pipe_rectangle\n",
    "\n",
    "    domain.set_subdomain(1, fluid_rectangle)\n",
    "    domain.set_subdomain(2, pipe_rectangle)\n",
    "    mesh = generate_mesh(domain, refinement)\n",
    "\n",
    "    # marking physical groups (volumes and surfaces)\n",
    "    volume_markers = MeshFunction(\"size_t\", mesh, mesh.topology().dim())\n",
    "    volume_markers.set_all(1)\n",
    "\n",
    "    tol = 1e-14\n",
    "\n",
    "    id_fluid = 5\n",
    "    id_pipe_walls = 6\n",
    "\n",
    "    class Fluid(SubDomain):\n",
    "        def inside(self, x, on_boundary):\n",
    "            return x[0] <= inner_radius + tol\n",
    "\n",
    "    class Pipe(SubDomain):\n",
    "        def inside(self, x, on_boundary):\n",
    "            return x[0] >= inner_radius - tol\n",
    "\n",
    "    fluid = Fluid()\n",
    "    pipe = Pipe()\n",
    "    # marking volumes\n",
    "    fluid.mark(volume_markers, id_fluid)\n",
    "    pipe.mark(volume_markers, id_pipe_walls)\n",
    "\n",
    "    tol = 1e-14\n",
    "\n",
    "    inlet_surface = CompiledSubDomain(\n",
    "        \"on_boundary && near(x[1], 0, tol) && x[0] < inner_radius + tol\",\n",
    "        tol=tol,\n",
    "        inner_radius=inner_radius,\n",
    "    )\n",
    "    outlet_surface = CompiledSubDomain(\n",
    "        \"on_boundary && near(x[1], outlet_x, tol) && x[0] < inner_radius + tol\",\n",
    "        tol=tol,\n",
    "        inner_radius=inner_radius,\n",
    "        outlet_x=length,\n",
    "    )\n",
    "    bottom_surface = CompiledSubDomain(\"on_boundary && near(x[0], 0, tol)\", tol=tol)\n",
    "    top_surface = CompiledSubDomain(\n",
    "        \"on_boundary && near(x[0], top_y, tol)\",\n",
    "        tol=tol,\n",
    "        top_y=inner_radius + pipe_thickness,\n",
    "    )\n",
    "\n",
    "    surface_markers = MeshFunction(\"size_t\", mesh, mesh.topology().dim() - 1)\n",
    "    surface_markers.set_all(0)\n",
    "\n",
    "    inlet_surface.mark(surface_markers, inlet_id)\n",
    "    outlet_surface.mark(surface_markers, outlet_id)\n",
    "    top_surface.mark(surface_markers, vacuum_id)\n",
    "    bottom_surface.mark(surface_markers, axis_id)\n",
    "\n",
    "    output_file = XDMFFile(\"challenge_E/surface_markers.xdmf\")\n",
    "    output_file.write(surface_markers)\n",
    "\n",
    "    output_file2 = XDMFFile(\"challenge_E/volume_markers.xdmf\")\n",
    "    output_file2.write(volume_markers)"
   ]
  },
  {
   "cell_type": "code",
   "execution_count": 2,
   "metadata": {},
   "outputs": [],
   "source": [
    "import festim as F\n",
    "\n",
    "\n",
    "class AverageSurfaceCylindrical(F.AverageSurface):\n",
    "    \"\"\"\n",
    "    Computes the average value of a field on a given surface\n",
    "    int(f ds) / int (1 * ds)\n",
    "    ds is the surface measure in cylindrical coordinates.\n",
    "    ds = r dr dtheta\n",
    "\n",
    "    Args:\n",
    "        field (str, int):  the field (\"solute\", 0, 1, \"T\", \"retention\")\n",
    "        surface (int): the surface id\n",
    "\n",
    "    Notes:\n",
    "        Units are in H/m3 for hydrogen concentration and K for temperature\n",
    "    \"\"\"\n",
    "\n",
    "    def __init__(self, field, surface) -> None:\n",
    "        super().__init__(field=field, surface=surface)\n",
    "        self.r = None\n",
    "\n",
    "    @property\n",
    "    def allowed_meshes(self):\n",
    "        return [\"cylindrical\"]\n",
    "\n",
    "    def compute(self):\n",
    "\n",
    "        if self.r is None:\n",
    "            mesh = (\n",
    "                self.function.function_space().mesh()\n",
    "            )  # get the mesh from the function\n",
    "            rthetaz = f.SpatialCoordinate(mesh)  # get the coordinates from the mesh\n",
    "            self.r = rthetaz[0]  # only care about r here\n",
    "\n",
    "        # dS_z = r dr dtheta , assuming axisymmetry dS_z = theta r dr\n",
    "        # dS_r = r dz dtheta , assuming axisymmetry dS_r = theta r dz\n",
    "        # in both cases the expression with self.dx is the same\n",
    "\n",
    "        avg_surf = f.assemble(\n",
    "            self.function * self.r * self.ds(self.surface)\n",
    "        ) / f.assemble(1 * self.r * self.ds(self.surface))\n",
    "\n",
    "        return avg_surf"
   ]
  },
  {
   "cell_type": "code",
   "execution_count": 3,
   "metadata": {},
   "outputs": [],
   "source": [
    "temperature = 800  # K\n",
    "length = 0.3  # m\n",
    "inner_radius = 1e-2  # m\n",
    "pipe_thickness = 4e-3  # m\n",
    "velocity = 40e-2  # m/s\n",
    "\n",
    "create_mesh(length, inner_radius, pipe_thickness)"
   ]
  },
  {
   "cell_type": "code",
   "execution_count": 4,
   "metadata": {},
   "outputs": [],
   "source": [
    "import h_transport_materials as htm\n",
    "\n",
    "D_pbli = (\n",
    "    htm.diffusivities.filter(material=\"lipb\")\n",
    "    .filter(isotope=\"h\")\n",
    "    .filter(author=\"reiter\")\n",
    ")[0]\n",
    "S_pbli = (\n",
    "    htm.solubilities.filter(material=\"lipb\").filter(isotope=\"h\").filter(author=\"aiello\")\n",
    ")[0]\n",
    "\n",
    "D_eurofer = htm.diffusivities.filter(material=\"eurofer_97\").filter(author=\"chen\")[0]\n",
    "S_eurofer = htm.solubilities.filter(material=\"eurofer_97\").filter(author=\"chen\")[0]"
   ]
  },
  {
   "cell_type": "code",
   "execution_count": 5,
   "metadata": {},
   "outputs": [
    {
     "name": "stdout",
     "output_type": "stream",
     "text": [
      "Succesfully load mesh with 24228 cells\n",
      "Defining initial values\n",
      "Defining variational problem\n",
      "Defining source terms\n",
      "Defining boundary conditions\n"
     ]
    }
   ],
   "source": [
    "my_model = F.Simulation()\n",
    "\n",
    "my_model.mesh = F.MeshFromXDMF(\n",
    "    volume_file=\"challenge_E/volume_markers.xdmf\",\n",
    "    boundary_file=\"challenge_E/surface_markers.xdmf\",\n",
    "    type=\"cylindrical\",\n",
    ")\n",
    "\n",
    "# materials\n",
    "eurofer = F.Material(\n",
    "    id=id_pipe_walls,\n",
    "    D_0=D_eurofer.pre_exp.magnitude,\n",
    "    E_D=D_eurofer.act_energy.magnitude,\n",
    "    S_0=S_eurofer.pre_exp.magnitude,\n",
    "    E_S=S_eurofer.act_energy.magnitude,\n",
    ")\n",
    "lipb = F.Material(\n",
    "    id=id_fluid,\n",
    "    D_0=D_pbli.pre_exp.magnitude,\n",
    "    E_D=D_pbli.act_energy.magnitude,\n",
    "    S_0=S_pbli.pre_exp.magnitude,\n",
    "    E_S=S_pbli.act_energy.magnitude,\n",
    ")\n",
    "my_model.materials = F.Materials([eurofer, lipb])\n",
    "\n",
    "my_model.T = temperature\n",
    "\n",
    "my_model.boundary_conditions = [\n",
    "    F.DirichletBC(field=\"solute\", surfaces=vacuum_id, value=0),\n",
    "    F.DirichletBC(field=\"solute\", surfaces=inlet_id, value=1e18),\n",
    "]\n",
    "\n",
    "c_in = AverageSurfaceCylindrical(\"solute\", inlet_id)\n",
    "c_out = AverageSurfaceCylindrical(\"solute\", outlet_id)\n",
    "\n",
    "derived_quantities = F.DerivedQuantities([c_in, c_out], show_units=True)\n",
    "\n",
    "my_model.exports = F.Exports(\n",
    "    [F.XDMFExport(\"solute\", folder=\"challenge_E/\", mode=1), derived_quantities]\n",
    ")\n",
    "\n",
    "my_model.settings = F.Settings(\n",
    "    absolute_tolerance=1e10,\n",
    "    relative_tolerance=1e-10,\n",
    "    transient=False,\n",
    "    chemical_pot=True,\n",
    ")\n",
    "my_model.initialise()"
   ]
  },
  {
   "cell_type": "code",
   "execution_count": 6,
   "metadata": {},
   "outputs": [
    {
     "name": "stdout",
     "output_type": "stream",
     "text": [
      "Solving steady state problem...\n",
      "Solved problem in 0.70 s\n"
     ]
    }
   ],
   "source": [
    "import fenics as f\n",
    "\n",
    "mesh_sub = f.SubMesh(my_model.mesh.mesh, my_model.mesh.volume_markers, id_fluid)\n",
    "\n",
    "functionspace = f.VectorFunctionSpace(mesh_sub, \"CG\", 1)\n",
    "\n",
    "velocity_expr = f.Expression(\n",
    "    (\"0\", \"v*(x[0] - inner_radius)*(x[0] + inner_radius)\"),\n",
    "    v=velocity,\n",
    "    inner_radius=inner_radius,\n",
    "    degree=2,\n",
    ")\n",
    "\n",
    "velocity_function = f.interpolate(velocity_expr, functionspace)\n",
    "\n",
    "V = f.VectorFunctionSpace(my_model.mesh.mesh, \"CG\", 1)\n",
    "u = f.Function(V)\n",
    "v = f.TestFunction(V)\n",
    "\n",
    "form = f.inner(u, v) * my_model.mesh.dx\n",
    "form += f.inner(velocity_function, v) * my_model.mesh.dx(id_fluid)\n",
    "f.solve(form == 0, u, bcs=[])\n",
    "\n",
    "velocity_function = u\n",
    "\n",
    "XDMFFile(\"challenge_E/velocity_field.xdmf\").write(velocity_function)\n",
    "hydrogen_concentration = my_model.h_transport_problem.mobile.mobile_concentration()\n",
    "test_function_mobile = my_model.h_transport_problem.mobile.test_function\n",
    "advection_term = f.inner(\n",
    "    f.dot(f.grad(hydrogen_concentration), velocity_function), test_function_mobile\n",
    ") * my_model.mesh.dx(id_fluid)\n",
    "my_model.h_transport_problem.F += advection_term\n",
    "\n",
    "my_model.run()"
   ]
  },
  {
   "cell_type": "code",
   "execution_count": 7,
   "metadata": {},
   "outputs": [],
   "source": [
    "c_out = c_out.data[0]\n",
    "c_in = c_in.data[0]"
   ]
  },
  {
   "cell_type": "code",
   "execution_count": 8,
   "metadata": {},
   "outputs": [
    {
     "name": "stdout",
     "output_type": "stream",
     "text": [
      "Efficiency: 62.11%\n"
     ]
    }
   ],
   "source": [
    "efficiency = 1 - c_out / c_in\n",
    "\n",
    "print(f\"Efficiency: {efficiency:.2%}\")"
   ]
  },
  {
   "cell_type": "markdown",
   "metadata": {},
   "source": [
    "You can also plot visualise the concentration field in Paraview to better see the discontinuities."
   ]
  },
  {
   "cell_type": "code",
   "execution_count": 20,
   "metadata": {},
   "outputs": [
    {
     "data": {
      "image/png": "[encoded data removed]",
      "text/plain": [
       "<Figure size 2400x1200 with 2 Axes>"
      ]
     },
     "metadata": {},
     "output_type": "display_data"
    }
   ],
   "source": [
    "mobile_concentration = my_model.h_transport_problem.mobile.mobile_concentration()\n",
    "import matplotlib.pyplot as plt\n",
    "plt.figure(figsize=(24, 12))\n",
    "CS = f.plot(mobile_concentration)\n",
    "plt.colorbar(CS, shrink=0.2, label=\"T concentration (m$^{-3}$)\")\n",
    "plt.show()"
   ]
  }
 ],
 "metadata": {
  "kernelspec": {
   "display_name": "festim-workshop",
   "language": "python",
   "name": "python3"
  },
  "language_info": {
   "codemirror_mode": {
    "name": "ipython",
    "version": 3
   },
   "file_extension": ".py",
   "mimetype": "text/x-python",
   "name": "python",
   "nbconvert_exporter": "python",
   "pygments_lexer": "ipython3",
   "version": "3.11.9"
  }
 },
 "nbformat": 4,
 "nbformat_minor": 2
}
