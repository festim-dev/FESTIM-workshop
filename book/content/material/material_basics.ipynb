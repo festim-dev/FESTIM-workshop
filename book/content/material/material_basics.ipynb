{
 "cells": [
  {
   "cell_type": "markdown",
   "id": "3e13639c",
   "metadata": {},
   "source": [
    "# Basic Material Features #\n",
    "\n",
    "Materials are key components of hydrogen transport simulations. They hold the properties like diffusivity, solubility and even thermal properties like thermal conductivity or heat capacity. Read more about the `Materials` class and syntax at __[Materials](https://festim.readthedocs.io/en/fenicsx/userguide/subdomains.html)__.\n",
    "\n",
    "\n",
    "Objectives:\n",
    "* Learn how to define material properties (thermal, solubility, diffusivity)\n",
    "* Learn how to define materials on different subdomains\n",
    "* Solve a multi-material diffusion problem"
   ]
  },
  {
   "cell_type": "markdown",
   "id": "f74f6710",
   "metadata": {},
   "source": [
    "## Defining material properties ##\n",
    "\n",
    "We can define a material using the diffusion exponential pre-factor $D_0$ and activation energy $E_D$. By default, FESTIM assumes they follow an Arrhenius law, which is of the following form:\n",
    "\n",
    "$$\n",
    "    D = D_0 \\exp{(-E_D/k_B T)}\n",
    "$$\n",
    "\n",
    "where $k_B$ is the Boltzmann constant in eV/K and $T$ is the temperature in K. To define a material using these two properties:"
   ]
  },
  {
   "cell_type": "code",
   "execution_count": 27,
   "id": "49eb9b3f",
   "metadata": {},
   "outputs": [],
   "source": [
    "import festim as F\n",
    "\n",
    "mat = F.Material(D_0=1.11e-6, E_D=0.4)  # m2/s, eV"
   ]
  },
  {
   "cell_type": "markdown",
   "id": "8e6b12b8",
   "metadata": {},
   "source": [
    "When considering chemical potential conservation at material interfaces, hydrogen solubility can be defined using the solubility coeffeicient prefactor `K_S_0`, solubility activation energy `E_K_S`, and solubility law `solubility_law` (either `\"henry\"` or `\"sievert\"`):"
   ]
  },
  {
   "cell_type": "code",
   "execution_count": 28,
   "id": "27fa60d5",
   "metadata": {},
   "outputs": [],
   "source": [
    "mat.K_S_0 = 1.0\n",
    "mat.E_K_S = 3.0\n",
    "mat.solubility_law = \"sievert\""
   ]
  },
  {
   "cell_type": "markdown",
   "id": "1a46777c",
   "metadata": {},
   "source": [
    "## Defining thermal properties ## \n",
    "\n",
    "Users can define thermal properties, such as thermal conductivity, heat capacity, and density as function of temperature in the following way:"
   ]
  },
  {
   "cell_type": "code",
   "execution_count": 29,
   "id": "6d52c3db",
   "metadata": {},
   "outputs": [],
   "source": [
    "import ufl\n",
    "\n",
    "mat.thermal_conductivity = lambda T: 3*T + 2*ufl.exp(-20*T)\n",
    "mat.heat_capacity = lambda T: 4*T + 8\n",
    "mat.density = lambda T: 7*T + 5"
   ]
  },
  {
   "cell_type": "markdown",
   "id": "8a92c46d",
   "metadata": {},
   "source": [
    "## Defining materials on different subdomains ##\n",
    "\n",
    "Volume subdomains are used to assign different materials or define regions with specific physical properties. Each volume subdomain must be associated with a `festim.Material` object. Read more about subdomains __[here](https://festim-workshop.readthedocs.io/en/festim2/content/meshes/mesh_fenics.html#defining-subdomains)__.\n",
    "\n",
    "Consider the following volume with two subdomains separated halfway through the mesh:"
   ]
  },
  {
   "cell_type": "markdown",
   "id": "3c595efa",
   "metadata": {},
   "source": [
    "To define one material on each subdomain:"
   ]
  },
  {
   "cell_type": "code",
   "execution_count": 30,
   "id": "31319b72",
   "metadata": {},
   "outputs": [],
   "source": [
    "mat1 = F.Material(D_0=1.11e-6, E_D=0.4)  # m2/s, eV\n",
    "\n",
    "top = F.VolumeSubdomain(id=1, material=mat, locator=lambda x: x[0] >= 0.5)\n",
    "bottom = F.VolumeSubdomain(id=2, material=mat, locator=lambda x: x[0] < 0.5)"
   ]
  },
  {
   "cell_type": "markdown",
   "id": "7032ee9b",
   "metadata": {},
   "source": [
    "Similarly, for two materials:"
   ]
  },
  {
   "cell_type": "code",
   "execution_count": 31,
   "id": "34e1adac",
   "metadata": {},
   "outputs": [],
   "source": [
    "mat1 = F.Material(D_0=1.11e-6, E_D=0.4)  # m2/s, eV\n",
    "mat2 = F.Material(D_0=2e-6, E_D=0.3)  # m2/s, eV\n",
    "\n",
    "top = F.VolumeSubdomain(id=1, material=mat1, locator=lambda x: x[0] >= 0.5)\n",
    "bottom = F.VolumeSubdomain(id=2, material=mat2, locator=lambda x: x[0] < 0.5)"
   ]
  },
  {
   "cell_type": "markdown",
   "id": "d5e000ca",
   "metadata": {},
   "source": [
    "## Multi-material example ##\n",
    "\n",
    "Considering the following 2D example, where hydrogen diffuses through a 2D domain composed of two materials with different diffusion and solubility properties. The top half (Material A) has a higher diffusion coefficient and solubility than the bottom half (Material B). The interface at $𝑦=0.5$ clearly separates the two materials, and the steady-state hydrogen distribution illustrates how material properties impact transport."
   ]
  },
  {
   "cell_type": "markdown",
   "id": "ce246803",
   "metadata": {},
   "source": [
    "First, create the mesh:"
   ]
  },
  {
   "cell_type": "code",
   "execution_count": 32,
   "id": "432eab6d",
   "metadata": {},
   "outputs": [],
   "source": [
    "from mpi4py import MPI\n",
    "\n",
    "import dolfinx\n",
    "import dolfinx.fem.petsc\n",
    "import numpy as np\n",
    "import ufl\n",
    "\n",
    "import festim as F\n",
    "\n",
    "\n",
    "# ---------------- Generate a mesh ----------------\n",
    "def generate_mesh():\n",
    "    def bottom_boundary(x):\n",
    "        return np.isclose(x[1], 0.0)\n",
    "\n",
    "    def top_boundary(x):\n",
    "        return np.isclose(x[1], 1.0)\n",
    "\n",
    "    def half(x):\n",
    "        return x[1] <= 0.5 + 1e-14\n",
    "\n",
    "    mesh = dolfinx.mesh.create_unit_square(\n",
    "        MPI.COMM_WORLD, 10, 10, dolfinx.mesh.CellType.triangle\n",
    "    )\n",
    "\n",
    "    # Split domain in half and set an interface tag of 5\n",
    "    gdim = mesh.geometry.dim\n",
    "    tdim = mesh.topology.dim\n",
    "    fdim = tdim - 1\n",
    "    top_facets = dolfinx.mesh.locate_entities_boundary(mesh, fdim, top_boundary)\n",
    "    bottom_facets = dolfinx.mesh.locate_entities_boundary(mesh, fdim, bottom_boundary)\n",
    "    num_facets_local = (\n",
    "        mesh.topology.index_map(fdim).size_local\n",
    "        + mesh.topology.index_map(fdim).num_ghosts\n",
    "    )\n",
    "    facets = np.arange(num_facets_local, dtype=np.int32)\n",
    "    values = np.full_like(facets, 0, dtype=np.int32)\n",
    "    values[top_facets] = 1\n",
    "    values[bottom_facets] = 2\n",
    "\n",
    "    bottom_cells = dolfinx.mesh.locate_entities(mesh, tdim, half)\n",
    "    num_cells_local = (\n",
    "        mesh.topology.index_map(tdim).size_local\n",
    "        + mesh.topology.index_map(tdim).num_ghosts\n",
    "    )\n",
    "    cells = np.full(num_cells_local, 4, dtype=np.int32)\n",
    "    cells[bottom_cells] = 3\n",
    "    ct = dolfinx.mesh.meshtags(\n",
    "        mesh, tdim, np.arange(num_cells_local, dtype=np.int32), cells\n",
    "    )\n",
    "    all_b_facets = dolfinx.mesh.compute_incident_entities(\n",
    "        mesh.topology, ct.find(3), tdim, fdim\n",
    "    )\n",
    "    all_t_facets = dolfinx.mesh.compute_incident_entities(\n",
    "        mesh.topology, ct.find(4), tdim, fdim\n",
    "    )\n",
    "    interface = np.intersect1d(all_b_facets, all_t_facets)\n",
    "    values[interface] = 5\n",
    "\n",
    "    mt = dolfinx.mesh.meshtags(mesh, mesh.topology.dim - 1, facets, values)\n",
    "    return mesh, mt, ct\n",
    "\n",
    "\n",
    "mesh, mt, ct = generate_mesh()\n",
    "\n",
    "my_model = F.HydrogenTransportProblemDiscontinuous()\n",
    "my_model.mesh = F.Mesh(mesh)\n",
    "my_model.volume_meshtags = ct\n",
    "my_model.facet_meshtags = mt"
   ]
  },
  {
   "cell_type": "code",
   "execution_count": 33,
   "id": "6e679139",
   "metadata": {},
   "outputs": [
    {
     "data": {
      "application/vnd.jupyter.widget-view+json": {
       "model_id": "34c24c0dbc2842d79698487219abad58",
       "version_major": 2,
       "version_minor": 0
      },
      "text/plain": [
       "EmbeddableWidget(value='<iframe srcdoc=\"<!DOCTYPE html>\\n<html>\\n  <head>\\n    <meta http-equiv=&quot;Content-…"
      ]
     },
     "metadata": {},
     "output_type": "display_data"
    }
   ],
   "source": [
    "import pyvista\n",
    "from dolfinx import plot\n",
    "\n",
    "pyvista.start_xvfb()\n",
    "pyvista.set_jupyter_backend(\"html\")\n",
    "\n",
    "\n",
    "fdim = my_model.mesh.mesh.topology.dim - 1\n",
    "tdim = my_model.mesh.mesh.topology.dim\n",
    "my_model.mesh.mesh.topology.create_connectivity(fdim, tdim)\n",
    "topology, cell_types, x = plot.vtk_mesh(\n",
    "    my_model.mesh.mesh, tdim, my_model.volume_meshtags.indices\n",
    ")\n",
    "\n",
    "p = pyvista.Plotter()\n",
    "grid = pyvista.UnstructuredGrid(topology, cell_types, x)\n",
    "grid.cell_data[\"Cell Marker\"] = my_model.volume_meshtags.values\n",
    "grid.set_active_scalars(\"Cell Marker\")\n",
    "p.add_mesh(grid, show_edges=True)\n",
    "\n",
    "if not pyvista.OFF_SCREEN:\n",
    "    p.show()\n",
    "else:\n",
    "    figure = p.screenshot(\"volume_markers.png\")\n"
   ]
  },
  {
   "cell_type": "code",
   "execution_count": 34,
   "id": "d5748216",
   "metadata": {},
   "outputs": [
    {
     "data": {
      "application/vnd.jupyter.widget-view+json": {
       "model_id": "e3c8ac59ac7b45d491398d743d7fa63e",
       "version_major": 2,
       "version_minor": 0
      },
      "text/plain": [
       "EmbeddableWidget(value='<iframe srcdoc=\"<!DOCTYPE html>\\n<html>\\n  <head>\\n    <meta http-equiv=&quot;Content-…"
      ]
     },
     "metadata": {},
     "output_type": "display_data"
    }
   ],
   "source": [
    "my_model.mesh.mesh.topology.create_connectivity(fdim, tdim)\n",
    "topology, cell_types, x = plot.vtk_mesh(\n",
    "    my_model.mesh.mesh, fdim, my_model.facet_meshtags.indices\n",
    ")\n",
    "\n",
    "p = pyvista.Plotter()\n",
    "grid = pyvista.UnstructuredGrid(topology, cell_types, x)\n",
    "grid.cell_data[\"Facet Marker\"] = my_model.facet_meshtags.values\n",
    "grid.set_active_scalars(\"Facet Marker\")\n",
    "p.add_mesh(grid, show_edges=True)\n",
    "\n",
    "if not pyvista.OFF_SCREEN:\n",
    "    p.show()\n",
    "else:\n",
    "    figure = p.screenshot(\"facet_markers.png\")\n"
   ]
  },
  {
   "cell_type": "markdown",
   "id": "9f941c7e",
   "metadata": {},
   "source": [
    "Then, we define materials:"
   ]
  },
  {
   "cell_type": "code",
   "execution_count": 35,
   "id": "a56a0f78",
   "metadata": {},
   "outputs": [],
   "source": [
    "# Top material (Material A)\n",
    "material_A = F.Material(\n",
    "    name=\"Material_A\",\n",
    "    D_0=1e-6,    # m²/s\n",
    "    E_D=0.3,     # eV\n",
    "    K_S_0=5e-3,    # mol/m³/Pa  (solubility prefactor)\n",
    "    E_K_S=0.1,     # eV (activation energy for solubility)\n",
    ")\n",
    "\n",
    "# Bottom material (Material B)\n",
    "material_B = F.Material(\n",
    "    name=\"Material_B\",\n",
    "    D_0=2e-7,    # m²/s\n",
    "    E_D=1.2,     # eV\n",
    "    K_S_0=2e-3,    # mol/m³/Pa\n",
    "    E_K_S=0.2,     # eV\n",
    ")"
   ]
  },
  {
   "cell_type": "code",
   "execution_count": 36,
   "id": "27425f9a",
   "metadata": {},
   "outputs": [],
   "source": [
    "# Top material (Material A)\n",
    "material_A = F.Material(\n",
    "    name=\"Material_A\",\n",
    "    D_0=1,    # m²/s\n",
    "    E_D=0,     # eV\n",
    "    K_S_0=1,    # mol/m³/Pa  (solubility prefactor)\n",
    "    E_K_S=0,     # eV (activation energy for solubility)\n",
    ")\n",
    "\n",
    "# Bottom material (Material B)\n",
    "material_B = F.Material(\n",
    "    name=\"Material_B\",\n",
    "    D_0=2,    # m²/s\n",
    "    E_D=0,     # eV\n",
    "    K_S_0=2,    # mol/m³/Pa\n",
    "    E_K_S=0,     # eV\n",
    ")"
   ]
  },
  {
   "cell_type": "markdown",
   "id": "a12422bc",
   "metadata": {},
   "source": [
    "Now subdomains:"
   ]
  },
  {
   "cell_type": "code",
   "execution_count": 37,
   "id": "171b13bb",
   "metadata": {},
   "outputs": [],
   "source": [
    "top_volume = F.VolumeSubdomain(id=3, material=material_A)\n",
    "bottom_volume = F.VolumeSubdomain(id=4, material=material_B)\n",
    "\n",
    "top_surface = F.SurfaceSubdomain(id=1)\n",
    "bottom_surface = F.SurfaceSubdomain(id=2)"
   ]
  },
  {
   "cell_type": "markdown",
   "id": "73d33226",
   "metadata": {},
   "source": [
    "Finally, we define the problem, boundary conditions, and then solve:"
   ]
  },
  {
   "cell_type": "code",
   "execution_count": null,
   "id": "40d3848e",
   "metadata": {},
   "outputs": [],
   "source": [
    "\n",
    "my_model.subdomains = [top_surface, bottom_surface, top_volume, bottom_volume]\n",
    "\n",
    "# Species\n",
    "H = F.Species(\"H\", subdomains=my_model.volume_subdomains)\n",
    "my_model.species = [H]\n",
    "\n",
    "\n",
    "my_model.interfaces = [\n",
    "    F.Interface(5, (bottom_volume, top_volume), penalty_term=1000),\n",
    "]\n",
    "my_model.surface_to_volume = {\n",
    "    top_surface: top_volume,\n",
    "    bottom_surface: bottom_volume,\n",
    "}\n",
    "\n",
    "my_model.temperature = 600  # K\n",
    "\n",
    "# Boundary conditions\n",
    "my_model.boundary_conditions = [\n",
    "    F.FixedConcentrationBC(subdomain=top_surface, value=1.0, species=H),\n",
    "    F.FixedConcentrationBC(subdomain=bottom_surface, value=0.0, species=H),\n",
    "]\n",
    "\n",
    "# Solver settings\n",
    "my_model.settings = F.Settings(atol=1e-10, rtol=1e-10, transient=False)\n",
    "\n",
    "my_model.exports = [\n",
    "    F.VTXSpeciesExport(f\"u_{subdomain.id}.bp\", field=H, subdomain=subdomain)\n",
    "    for subdomain in my_model.volume_subdomains\n",
    "]\n",
    "\n",
    "my_model.initialise()\n",
    "\n",
    "print(my_model.volume_meshtags.values)\n",
    "my_model.run()"
   ]
  },
  {
   "cell_type": "markdown",
   "id": "697be0f7",
   "metadata": {},
   "source": [
    "Visualizing the results:"
   ]
  },
  {
   "cell_type": "code",
   "execution_count": 39,
   "id": "a4719fb7",
   "metadata": {
    "tags": [
     "hide-input"
    ]
   },
   "outputs": [
    {
     "data": {
      "application/vnd.jupyter.widget-view+json": {
       "model_id": "a040da506b874ae7848965b7bf4f3926",
       "version_major": 2,
       "version_minor": 0
      },
      "text/plain": [
       "EmbeddableWidget(value='<iframe srcdoc=\"<!DOCTYPE html>\\n<html>\\n  <head>\\n    <meta http-equiv=&quot;Content-…"
      ]
     },
     "metadata": {},
     "output_type": "display_data"
    }
   ],
   "source": [
    "import pyvista\n",
    "from dolfinx import plot\n",
    "\n",
    "pyvista.start_xvfb()\n",
    "pyvista.set_jupyter_backend(\"html\")\n",
    "\n",
    "\n",
    "def make_ugrid(solution):\n",
    "    topology, cell_types, geometry = plot.vtk_mesh(solution.function_space)\n",
    "    u_grid = pyvista.UnstructuredGrid(topology, cell_types, geometry)\n",
    "    u_grid.point_data[\"c\"] = solution.x.array.real\n",
    "    u_grid.set_active_scalars(\"c\")\n",
    "    return u_grid\n",
    "\n",
    "u_plotter = pyvista.Plotter()\n",
    "u_grid_top = make_ugrid(H.subdomain_to_post_processing_solution[top_volume])\n",
    "u_grid_bottom = make_ugrid(H.subdomain_to_post_processing_solution[bottom_volume])\n",
    "u_plotter.add_mesh(u_grid_top, cmap=\"magma\", show_edges=False)\n",
    "u_plotter.add_mesh(u_grid_bottom, cmap=\"magma\", show_edges=False)\n",
    "u_plotter.view_xy()\n",
    "u_plotter.add_text(\"Hydrogen concentration in multi-material problem\", font_size=12)\n",
    "interface_line = pyvista.Line(pointa=(0, 0.5, 0), pointb=(1, 0.5, 0))\n",
    "# u_plotter.add_mesh(interface_line, color=\"black\", line_width=2, label=\"Material Interface\")\n",
    "\n",
    "if not pyvista.OFF_SCREEN:\n",
    "    u_plotter.show()\n",
    "else:\n",
    "    figure = u_plotter.screenshot(\"concentration.png\")"
   ]
  },
  {
   "cell_type": "code",
   "execution_count": 24,
   "id": "a2cc1e2f",
   "metadata": {},
   "outputs": [
    {
     "data": {
      "application/vnd.jupyter.widget-view+json": {
       "model_id": "8cd497cf23ea488695e461398bbfceb9",
       "version_major": 2,
       "version_minor": 0
      },
      "text/plain": [
       "EmbeddableWidget(value='<iframe srcdoc=\"<!DOCTYPE html>\\n<html>\\n  <head>\\n    <meta http-equiv=&quot;Content-…"
      ]
     },
     "metadata": {},
     "output_type": "display_data"
    }
   ],
   "source": [
    "import festim as F\n",
    "import numpy as np\n",
    "from dolfinx.mesh import create_unit_square\n",
    "\n",
    "fenics_mesh = create_unit_square(MPI.COMM_WORLD, 10, 10)\n",
    "\n",
    "festim_mesh = F.Mesh(fenics_mesh)\n",
    "\n",
    "material_top = F.Material(D_0=1, E_D=0, K_S_0=1, E_K_S=0)\n",
    "material_bot = F.Material(D_0=2, E_D=0, K_S_0=2, E_K_S=0)\n",
    "\n",
    "top_volume = F.VolumeSubdomain(id=3, material=material_top, locator=lambda x: x[1] >= 0.5)\n",
    "bottom_volume = F.VolumeSubdomain(id=4, material=material_bot, locator=lambda x: x[1] <= 0.5)\n",
    "\n",
    "top_surface = F.SurfaceSubdomain(id=1, locator=lambda x: np.isclose(x[1], 1.0))\n",
    "bottom_surface = F.SurfaceSubdomain(id=2, locator=lambda x: np.isclose(x[1], 0.0))\n",
    "\n",
    "my_model = F.HydrogenTransportProblemDiscontinuous()\n",
    "my_model.mesh = festim_mesh\n",
    "my_model.subdomains = [top_surface, bottom_surface, top_volume, bottom_volume]\n",
    "\n",
    "my_model.interfaces = [F.Interface(5, (bottom_volume, top_volume), penalty_term=100)]\n",
    "my_model.surface_to_volume = {\n",
    "    top_surface: top_volume,\n",
    "    bottom_surface: bottom_volume,\n",
    "}\n",
    "\n",
    "H = F.Species(\"H\")\n",
    "my_model.species = [H]\n",
    "\n",
    "for species in my_model.species:\n",
    "    species.subdomains = [bottom_volume, top_volume]\n",
    "\n",
    "my_model.temperature = 400\n",
    "\n",
    "my_model.boundary_conditions = [\n",
    "    F.FixedConcentrationBC(subdomain=top_surface, value=1.0, species=H),\n",
    "    F.FixedConcentrationBC(subdomain=bottom_surface, value=0.0, species=H),\n",
    "]\n",
    "\n",
    "my_model.settings = F.Settings(atol=1e-10, rtol=1e-10, transient=False)\n",
    "\n",
    "my_model.initialise()\n",
    "my_model.run()\n",
    "\n",
    "\n",
    "def make_ugrid(solution):\n",
    "    topology, cell_types, geometry = plot.vtk_mesh(solution.function_space)\n",
    "    u_grid = pyvista.UnstructuredGrid(topology, cell_types, geometry)\n",
    "    u_grid.point_data[\"c\"] = solution.x.array.real\n",
    "    u_grid.set_active_scalars(\"c\")\n",
    "    return u_grid\n",
    "\n",
    "u_plotter = pyvista.Plotter()\n",
    "u_grid_top = make_ugrid(H.subdomain_to_post_processing_solution[top_volume])\n",
    "u_grid_bottom = make_ugrid(H.subdomain_to_post_processing_solution[bottom_volume])\n",
    "u_plotter.add_mesh(u_grid_top, cmap=\"magma\", show_edges=False)\n",
    "u_plotter.add_mesh(u_grid_bottom, cmap=\"magma\", show_edges=False)\n",
    "u_plotter.view_xy()\n",
    "u_plotter.add_text(\"Hydrogen concentration in multi-material problem\", font_size=12)\n",
    "interface_line = pyvista.Line(pointa=(0, 0.5, 0), pointb=(1, 0.5, 0))\n",
    "# u_plotter.add_mesh(interface_line, color=\"black\", line_width=2, label=\"Material Interface\")\n",
    "\n",
    "if not pyvista.OFF_SCREEN:\n",
    "    u_plotter.show()\n",
    "else:\n",
    "    figure = u_plotter.screenshot(\"concentration.png\")\n"
   ]
  },
  {
   "cell_type": "code",
   "execution_count": null,
   "id": "180c65b9",
   "metadata": {},
   "outputs": [],
   "source": []
  }
 ],
 "metadata": {
  "jupytext": {
   "default_lexer": "ipython3",
   "formats": "md:myst,ipynb"
  },
  "kernelspec": {
   "display_name": "festim-workshop",
   "language": "python",
   "name": "python3"
  },
  "language_info": {
   "codemirror_mode": {
    "name": "ipython",
    "version": 3
   },
   "file_extension": ".py",
   "mimetype": "text/x-python",
   "name": "python",
   "nbconvert_exporter": "python",
   "pygments_lexer": "ipython3",
   "version": "3.13.7"
  }
 },
 "nbformat": 4,
 "nbformat_minor": 5
}
