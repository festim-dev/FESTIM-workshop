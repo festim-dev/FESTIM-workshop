{
 "cells": [
  {
   "cell_type": "markdown",
   "metadata": {},
   "source": [
    "# Description\n",
    "<div align=\"center\">\n",
    "    <img src=\"https://occ-0-8407-2219.1.nflxso.net/dnm/api/v6/E8vDc_W8CLv7-yMQu8KMEC7Rrr8/AAAABRa2Ojolth_4mw7fNztaPZJHe6V0oyMCD-NF0By0ddFyNQRb7NdWoHl3BPwSXVS3dbgG-jeiIaKzqAxqcpR_BGOHghInV3iHy6pY.jpg?r=f43\" alt=\"The Crown\" width=\"300\"/>\n",
    "</div>\n",
    "\n",
    "A complex geometry has been constructed and meshed in SALOME and the resulting .med file is located in the `challenge_D` folder. You will need to first convert this med file to .xdmf, the file format readable by FEniCS, a function has been provided for this, which will also produce the correspondance dictionary, providing the ids for each tagged volume and surface.\n",
    "\n",
    "The geometry has only one volume subdomain but several surfaces.\n",
    "\n",
    "The material of the problem is Gold.\n",
    "\n",
    "The temperature field is to be solved within FESTIM. Consider a thermal conductivity $315 \\ \\mathrm{W \\ m^{-1}\\  K^{-1}}$ and boundary conditions of a fixed temperature of $600 \\ \\mathrm{K}$ on $\\Gamma_{\\text{inner boundary}}$ and a convective heat flux on $\\Gamma_{\\text{outer boundary}}$, with a heat transfer coefficient of $10^{4} \\ \\mathrm{W \\ m^{-2} \\ K^{-1}}$ and outer temperature of $300\\ \\text{K}$.\n",
    "\n",
    "For the hydrogen transport problem, consider an implantation flux of $10^{19} \\ \\mathrm{m^{2} s^{-1}}$ with an implantation depth of $3 \\ \\mathrm{nm}$ on $\\Gamma_{\\text{inner boundary}}$ and a fixed concentration of $0$ on $\\Gamma_{\\text{outer boundary}}$.\n",
    "\n",
    "**📖 Tasks:**\n",
    "\n",
    "- Evaluate the time to reach 99% of the equilibrium\n",
    "- Evaluate the outwards flux\n",
    "- Evaluate the hydrogen inventory at steady state\n",
    "- Plot the temporal evolution of the outwards flux (on $\\Gamma_{\\text{outer boundary}}$) and hydrogen inventory\n",
    "- Plot steady state temperature and mobile concentration fields\n",
    "- Bonus: try and inspect the generated XDMF mesh files in Paraview\n",
    "\n",
    "The transport properties for the geometry's material can be found below:"
   ]
  },
  {
   "cell_type": "code",
   "execution_count": null,
   "metadata": {},
   "outputs": [],
   "source": [
    "import h_transport_materials as htm\n",
    "\n",
    "D_gold = htm.diffusivities.filter(material=\"gold\")[0]\n",
    "\n",
    "print(f\"Diffusivity of material: \\n {D_gold}\")"
   ]
  },
  {
   "cell_type": "markdown",
   "metadata": {},
   "source": [
    "**💡Hint**: to visualise the fields produced by FESTIM, you can either export to XDMF using the ``XDMFExport`` class and then open the files in Paraview. Alternatively, you can visualise it in python with the ``fenics.plot`` function:\n",
    "\n",
    "```python\n",
    "import fenics as f\n",
    "import festim as F\n",
    "import matplotlib.pyplot as plt\n",
    "\n",
    "my_model = F.Simulation(.....)\n",
    "my_model.initialise()\n",
    "my_model.run()\n",
    "\n",
    "plt.figure()\n",
    "c_mobile = my_model.h_transport_problem.mobile.mobile_concentration()\n",
    "f.plot(c_mobile)\n",
    "\n",
    "plt.figure()\n",
    "T = my_model.T.T\n",
    "f.plot(T)\n",
    "```"
   ]
  },
  {
   "cell_type": "code",
   "execution_count": null,
   "metadata": {},
   "outputs": [],
   "source": [
    "import meshio\n",
    "\n",
    "\n",
    "def convert_med_to_xdmf(\n",
    "    med_file,\n",
    "    cell_file=\"mesh_domains.xdmf\",\n",
    "    facet_file=\"mesh_boundaries.xdmf\",\n",
    "    cell_type=\"tetra\",\n",
    "    facet_type=\"triangle\",\n",
    "):\n",
    "    \"\"\"Converts a MED mesh to XDMF\n",
    "    Args:\n",
    "        med_file (str): the name of the MED file\n",
    "        cell_file (str, optional): the name of the file containing the\n",
    "            volume markers. Defaults to \"mesh_domains.xdmf\".\n",
    "        facet_file (str, optional): the name of the file containing the\n",
    "            surface markers.. Defaults to \"mesh_boundaries.xdmf\".\n",
    "        cell_type (str, optional): The topology of the cells. Defaults to \"tetra\".\n",
    "        facet_type (str, optional): The topology of the facets. Defaults to \"triangle\".\n",
    "    Returns:\n",
    "        dict, dict: the correspondance dict, the cell types\n",
    "    \"\"\"\n",
    "    msh = meshio.read(med_file)\n",
    "\n",
    "    correspondance_dict = msh.cell_tags\n",
    "\n",
    "    cell_data_types = msh.cell_data_dict[\"cell_tags\"].keys()\n",
    "\n",
    "    for mesh_block in msh.cells:\n",
    "        if mesh_block.type == cell_type:\n",
    "\n",
    "            meshio.write_points_cells(\n",
    "                cell_file,\n",
    "                msh.points,\n",
    "                [mesh_block],\n",
    "                cell_data={\"f\": [-1 * msh.cell_data_dict[\"cell_tags\"][cell_type]]},\n",
    "            )\n",
    "        elif mesh_block.type == facet_type:\n",
    "            meshio.write_points_cells(\n",
    "                facet_file,\n",
    "                msh.points,\n",
    "                [mesh_block],\n",
    "                cell_data={\"f\": [-1 * msh.cell_data_dict[\"cell_tags\"][facet_type]]},\n",
    "            )\n",
    "\n",
    "    return correspondance_dict, cell_data_types\n",
    "\n",
    "\n",
    "mesh_file = \"challenge_D/challenge_mesh.med\"\n",
    "\n",
    "correspondance_dict, cell_data_types = convert_med_to_xdmf(\n",
    "    mesh_file,\n",
    "    cell_type=\"triangle\",\n",
    "    facet_type=\"line\",\n",
    "    cell_file=\"challenge_D/mesh_domains.xdmf\",\n",
    "    facet_file=\"challenge_D/mesh_boundaries.xdmf\",\n",
    ")\n",
    "\n",
    "print(\"This is the correspondance dict:\")\n",
    "print(correspondance_dict)"
   ]
  },
  {
   "cell_type": "markdown",
   "metadata": {},
   "source": [
    "## Your answer"
   ]
  },
  {
   "cell_type": "code",
   "execution_count": null,
   "metadata": {},
   "outputs": [],
   "source": [
    "import festim as F\n",
    "\n",
    "# YOUR CODE GOES HERE ...\n"
   ]
  }
 ],
 "metadata": {
  "kernelspec": {
   "display_name": "festim-env",
   "language": "python",
   "name": "python3"
  },
  "language_info": {
   "codemirror_mode": {
    "name": "ipython",
    "version": 3
   },
   "file_extension": ".py",
   "mimetype": "text/x-python",
   "name": "python",
   "nbconvert_exporter": "python",
   "pygments_lexer": "ipython3",
   "version": "3.11.9"
  }
 },
 "nbformat": 4,
 "nbformat_minor": 2
}
