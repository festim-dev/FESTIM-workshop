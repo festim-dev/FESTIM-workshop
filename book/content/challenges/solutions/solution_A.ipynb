{
 "cells": [
  {
   "cell_type": "markdown",
   "metadata": {},
   "source": [
    "# Solution\n",
    "\n",
    "Here you will find the solution for the challenge A.\n",
    "\n",
    "Two simulations are needed, one with the barrier and one without."
   ]
  },
  {
   "cell_type": "code",
   "execution_count": 1,
   "metadata": {},
   "outputs": [],
   "source": [
    "import festim as F\n",
    "import h_transport_materials as htm\n",
    "import numpy as np\n",
    "\n",
    "upstream_pressure = 1e6  # Pa (=10 bar)\n",
    "barrier_thick = 2.5e-6\n",
    "substrate_thick = 0.02\n",
    "\n",
    "# eurofer properties\n",
    "diffusivity_eurofer = htm.diffusivities.filter(material=\"eurofer_97\").filter(\n",
    "    author=\"chen\"\n",
    ")\n",
    "D_eurofer = diffusivity_eurofer[0]\n",
    "\n",
    "solubility_eurofer = htm.solubilities.filter(material=\"eurofer_97\").filter(\n",
    "    author=\"chen\"\n",
    ")\n",
    "S_eurofer = solubility_eurofer[0]\n",
    "\n",
    "# Al2O3 properties\n",
    "diffusivity_al2o3 = (\n",
    "    htm.diffusivities.filter(material=\"alumina\")\n",
    "    .filter(isotope=\"h\")\n",
    "    .filter(author=\"serra\")\n",
    ")\n",
    "D_al2o3 = diffusivity_al2o3[0]\n",
    "solubility_al2o3 = (\n",
    "    htm.solubilities.filter(material=\"alumina\")\n",
    "    .filter(isotope=\"h\")\n",
    "    .filter(author=\"serra\")\n",
    ")\n",
    "S_al2o3 = solubility_al2o3[0]"
   ]
  },
  {
   "cell_type": "markdown",
   "metadata": {},
   "source": [
    "## Model with barrier"
   ]
  },
  {
   "cell_type": "code",
   "execution_count": 2,
   "metadata": {},
   "outputs": [
    {
     "name": "stdout",
     "output_type": "stream",
     "text": [
      "Defining initial values\n",
      "Defining variational problem\n",
      "Defining source terms\n",
      "Defining boundary conditions\n",
      "Time stepping...\n",
      "100.0 %        1.0e+05 s    Elapsed time so far: 1.1 s\n"
     ]
    }
   ],
   "source": [
    "model_with_barrier = F.Simulation(log_level=40)\n",
    "\n",
    "# define mesh\n",
    "vertices_left = np.linspace(0, substrate_thick, num=500)\n",
    "\n",
    "vertices_right = np.linspace(substrate_thick, substrate_thick + barrier_thick, num=500)\n",
    "\n",
    "\n",
    "vertices = np.concatenate([vertices_left, vertices_right])\n",
    "\n",
    "model_with_barrier.mesh = F.MeshFromVertices(vertices)\n",
    "\n",
    "# define materials\n",
    "eurofer = F.Material(\n",
    "    id=2,\n",
    "    borders=[0, substrate_thick],\n",
    "    D_0=D_eurofer.pre_exp.magnitude,\n",
    "    E_D=D_eurofer.act_energy.magnitude,\n",
    "    S_0=S_eurofer.pre_exp.magnitude,\n",
    "    E_S=S_eurofer.act_energy.magnitude,\n",
    ")\n",
    "al2o3 = F.Material(\n",
    "    id=1,\n",
    "    borders=[substrate_thick, substrate_thick + barrier_thick],\n",
    "    D_0=D_al2o3.pre_exp.magnitude,\n",
    "    E_D=D_al2o3.act_energy.magnitude,\n",
    "    S_0=S_al2o3.pre_exp.magnitude,\n",
    "    E_S=S_al2o3.act_energy.magnitude,\n",
    ")\n",
    "model_with_barrier.materials = [eurofer, al2o3]\n",
    "\n",
    "# define temperature\n",
    "model_with_barrier.T = 600\n",
    "\n",
    "# define boundary conditions\n",
    "model_with_barrier.boundary_conditions = [\n",
    "    F.SievertsBC(\n",
    "        surfaces=1, S_0=eurofer.S_0, E_S=eurofer.E_S, pressure=upstream_pressure\n",
    "    ),\n",
    "    F.DirichletBC(surfaces=2, value=0, field=\"solute\"),\n",
    "]\n",
    "\n",
    "# define settings\n",
    "model_with_barrier.settings = F.Settings(\n",
    "    absolute_tolerance=1e10,\n",
    "    relative_tolerance=1e-10,\n",
    "    transient=True,\n",
    "    chemical_pot=True,\n",
    "    final_time=1e5,\n",
    ")\n",
    "\n",
    "# define exports\n",
    "# define exports\n",
    "permeation_flux_with_barrier = F.SurfaceFlux(\"solute\", surface=2)\n",
    "model_with_barrier.exports = [\n",
    "    F.DerivedQuantities([permeation_flux_with_barrier], show_units=True)\n",
    "]\n",
    "\n",
    "model_with_barrier.dt = F.Stepsize(initial_value=0.5, stepsize_change_ratio=1.1)\n",
    "\n",
    "\n",
    "# run simulation\n",
    "model_with_barrier.initialise()\n",
    "model_with_barrier.run()"
   ]
  },
  {
   "cell_type": "markdown",
   "metadata": {},
   "source": [
    "# Model without barrier"
   ]
  },
  {
   "cell_type": "code",
   "execution_count": 3,
   "metadata": {},
   "outputs": [
    {
     "name": "stdout",
     "output_type": "stream",
     "text": [
      "Defining initial values\n",
      "Defining variational problem\n",
      "Defining source terms\n",
      "Defining boundary conditions\n",
      "Time stepping...\n",
      "100.0 %        1.0e+05 s    Elapsed time so far: 0.5 s\n"
     ]
    }
   ],
   "source": [
    "model_without_barrier = F.Simulation(log_level=40)\n",
    "\n",
    "# define mesh\n",
    "vertices = np.linspace(0, substrate_thick, num=500)\n",
    "\n",
    "model_without_barrier.mesh = F.MeshFromVertices(vertices)\n",
    "\n",
    "# define materials\n",
    "eurofer = F.Material(\n",
    "    id=2,\n",
    "    borders=[0, substrate_thick],\n",
    "    D_0=D_eurofer.pre_exp.magnitude,\n",
    "    E_D=D_eurofer.act_energy.magnitude,\n",
    "    S_0=S_eurofer.pre_exp.magnitude,\n",
    "    E_S=S_eurofer.act_energy.magnitude,\n",
    ")\n",
    "model_without_barrier.materials = eurofer\n",
    "\n",
    "# define temperature\n",
    "model_without_barrier.T = F.Temperature(value=600)\n",
    "\n",
    "# define boundary conditions\n",
    "model_without_barrier.boundary_conditions = [\n",
    "    F.SievertsBC(\n",
    "        surfaces=1, S_0=eurofer.S_0, E_S=eurofer.E_S, pressure=upstream_pressure\n",
    "    ),\n",
    "    F.DirichletBC(surfaces=2, value=0, field=\"solute\"),\n",
    "]\n",
    "\n",
    "# define settings\n",
    "model_without_barrier.settings = F.Settings(\n",
    "    absolute_tolerance=1e10,\n",
    "    relative_tolerance=1e-10,\n",
    "    transient=True,\n",
    "    chemical_pot=False,\n",
    "    final_time=1e5,\n",
    ")\n",
    "\n",
    "model_without_barrier.dt = F.Stepsize(initial_value=0.5, stepsize_change_ratio=1.1)\n",
    "\n",
    "# define exports\n",
    "permeation_flux_without_barrier = F.SurfaceFlux(\"solute\", surface=2)\n",
    "model_without_barrier.exports = [\n",
    "    F.DerivedQuantities([permeation_flux_without_barrier], show_units=True)\n",
    "]\n",
    "\n",
    "# run simulation\n",
    "model_without_barrier.initialise()\n",
    "model_without_barrier.run()"
   ]
  },
  {
   "cell_type": "markdown",
   "metadata": {},
   "source": [
    "## Results"
   ]
  },
  {
   "cell_type": "code",
   "execution_count": 7,
   "metadata": {},
   "outputs": [
    {
     "data": {
      "image/png": "[encoded data removed]",
      "text/plain": [
       "<Figure size 640x480 with 1 Axes>"
      ]
     },
     "metadata": {},
     "output_type": "display_data"
    }
   ],
   "source": [
    "t_without_barrier = permeation_flux_without_barrier.t\n",
    "t_with_barrier = permeation_flux_with_barrier.t\n",
    "\n",
    "permeation_flux_with_barrier_vals = -np.array(permeation_flux_with_barrier.data)\n",
    "permeation_flux_without_barrier_vals = -np.array(permeation_flux_without_barrier.data)\n",
    "\n",
    "import matplotlib.pyplot as plt\n",
    "\n",
    "plt.figure()\n",
    "\n",
    "plt.plot(t_without_barrier, permeation_flux_without_barrier_vals, label=\"without barrier\")\n",
    "plt.plot(t_with_barrier, permeation_flux_with_barrier_vals, label=\"with barrier\")\n",
    "\n",
    "plt.xscale(\"log\")\n",
    "plt.yscale(\"log\")\n",
    "plt.ylim(bottom=1e5)\n",
    "plt.legend()\n",
    "plt.xlabel(\"Time (s)\")\n",
    "plt.ylabel(\"Permeation flux (H/m2/s)\")\n",
    "plt.show()"
   ]
  },
  {
   "cell_type": "code",
   "execution_count": 8,
   "metadata": {},
   "outputs": [
    {
     "name": "stdout",
     "output_type": "stream",
     "text": [
      "PRF: 1.96e+03\n"
     ]
    }
   ],
   "source": [
    "PRF = permeation_flux_without_barrier_vals[-1] / permeation_flux_with_barrier_vals[-1]\n",
    "\n",
    "print(f\"PRF: {PRF:.2e}\")"
   ]
  }
 ],
 "metadata": {
  "kernelspec": {
   "display_name": "festim-workshop",
   "language": "python",
   "name": "python3"
  },
  "language_info": {
   "codemirror_mode": {
    "name": "ipython",
    "version": 3
   },
   "file_extension": ".py",
   "mimetype": "text/x-python",
   "name": "python",
   "nbconvert_exporter": "python",
   "pygments_lexer": "ipython3",
   "version": "3.11.10"
  }
 },
 "nbformat": 4,
 "nbformat_minor": 2
}
