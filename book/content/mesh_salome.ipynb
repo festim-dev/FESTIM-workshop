{
 "cells": [
  {
   "cell_type": "markdown",
   "id": "fb7b6492",
   "metadata": {},
   "source": [
    "# Mesh with SALOME"
   ]
  },
  {
   "cell_type": "code",
   "execution_count": 12,
   "id": "cfadc916",
   "metadata": {},
   "outputs": [],
   "source": [
    "import meshio\n",
    "\n",
    "\n",
    "def convert_med_to_xdmf(\n",
    "    med_file,\n",
    "    cell_file=\"mesh_domains.xdmf\",\n",
    "    facet_file=\"mesh_boundaries.xdmf\",\n",
    "    cell_type=\"tetra\",\n",
    "    facet_type=\"triangle\",\n",
    "):\n",
    "    \"\"\"Converts a MED mesh to XDMF\n",
    "    Args:\n",
    "        med_file (str): the name of the MED file\n",
    "        cell_file (str, optional): the name of the file containing the\n",
    "            volume markers. Defaults to \"mesh_domains.xdmf\".\n",
    "        facet_file (str, optional): the name of the file containing the\n",
    "            surface markers.. Defaults to \"mesh_boundaries.xdmf\".\n",
    "        cell_type (str, optional): The topology of the cells. Defaults to \"tetra\".\n",
    "        facet_type (str, optional): The topology of the facets. Defaults to \"triangle\".\n",
    "    Returns:\n",
    "        dict, dict: the correspondance dict, the cell types\n",
    "    \"\"\"\n",
    "    msh = meshio.read(med_file)\n",
    "\n",
    "    correspondance_dict = {-k: v for k, v in msh.cell_tags.items()}\n",
    "    \n",
    "    cell_data_types = msh.cell_data_dict[\"cell_tags\"].keys()\n",
    "\n",
    "    for mesh_block in msh.cells:\n",
    "        if mesh_block.type == cell_type:\n",
    "            meshio.write_points_cells(\n",
    "                cell_file,\n",
    "                msh.points,\n",
    "                [mesh_block],\n",
    "                cell_data={\"f\": [-1 * msh.cell_data_dict[\"cell_tags\"][cell_type]]},\n",
    "            )\n",
    "        elif mesh_block.type == facet_type:\n",
    "            meshio.write_points_cells(\n",
    "                facet_file,\n",
    "                msh.points,\n",
    "                [mesh_block],\n",
    "                cell_data={\"f\": [-1 * msh.cell_data_dict[\"cell_tags\"][facet_type]]},\n",
    "            )\n",
    "\n",
    "    return correspondance_dict, cell_data_types"
   ]
  },
  {
   "cell_type": "code",
   "execution_count": 13,
   "id": "14a963f8",
   "metadata": {},
   "outputs": [
    {
     "name": "stdout",
     "output_type": "stream",
     "text": [
      "{np.int64(6): ['tungsten'], np.int64(7): ['copper'], np.int64(8): ['cucrzr'], np.int64(9): ['top_surface'], np.int64(10): ['coolant_surface'], np.int64(11): ['poloidal_tungsten'], np.int64(12): ['poloidal_copper'], np.int64(13): ['poloidal_cucrzr'], np.int64(14): ['toroidal'], np.int64(15): ['bottom'], np.int64(16): ['interface_tungsten_copper'], np.int64(17): ['interface_copper_cucrzr']}\n"
     ]
    }
   ],
   "source": [
    "correspondance_dict, cell_data_types = convert_med_to_xdmf(\n",
    "    \"task08/mesh.med\",\n",
    "    cell_file=\"task08/mesh_domains.xdmf\",\n",
    "    facet_file=\"task08/mesh_boundaries.xdmf\",\n",
    ")\n",
    "\n",
    "print(correspondance_dict)"
   ]
  },
  {
   "cell_type": "code",
   "execution_count": 14,
   "id": "603fd229",
   "metadata": {},
   "outputs": [],
   "source": [
    "import festim as F\n",
    "\n",
    "mesh = F.MeshFromXDMF(\"task08/mesh_domains.xdmf\", \"task08/mesh_boundaries.xdmf\")"
   ]
  },
  {
   "cell_type": "code",
   "execution_count": 16,
   "id": "a1384f59",
   "metadata": {
    "tags": [
     "hide-input"
    ]
   },
   "outputs": [
    {
     "data": {
      "application/vnd.jupyter.widget-view+json": {
       "model_id": "084f6a7f64644188a06c71797fdf18d8",
       "version_major": 2,
       "version_minor": 0
      },
      "text/plain": [
       "EmbeddableWidget(value='<iframe srcdoc=\"<!DOCTYPE html>\\n<html>\\n  <head>\\n    <meta http-equiv=&quot;Content-…"
      ]
     },
     "metadata": {},
     "output_type": "display_data"
    }
   ],
   "source": [
    "from dolfinx import plot\n",
    "import pyvista\n",
    "\n",
    "pyvista.start_xvfb()\n",
    "pyvista.set_jupyter_backend(\"html\")\n",
    "\n",
    "tdim = mesh.mesh.topology.dim\n",
    "\n",
    "mesh.mesh.topology.create_connectivity(tdim, tdim)\n",
    "topology, cell_types, geometry = plot.vtk_mesh(mesh.mesh, tdim)\n",
    "grid = pyvista.UnstructuredGrid(topology, cell_types, geometry)\n",
    "\n",
    "plotter = pyvista.Plotter()\n",
    "plotter.add_mesh(grid, show_edges=True)\n",
    "plotter.view_isometric()\n",
    "if not pyvista.OFF_SCREEN:\n",
    "    plotter.show()\n",
    "else:\n",
    "    figure = plotter.screenshot(\"mesh.png\")"
   ]
  }
 ],
 "metadata": {
  "kernelspec": {
   "display_name": "festim-workshop",
   "language": "python",
   "name": "python3"
  },
  "language_info": {
   "codemirror_mode": {
    "name": "ipython",
    "version": 3
   },
   "file_extension": ".py",
   "mimetype": "text/x-python",
   "name": "python",
   "nbconvert_exporter": "python",
   "pygments_lexer": "ipython3",
   "version": "3.13.5"
  }
 },
 "nbformat": 4,
 "nbformat_minor": 5
}
