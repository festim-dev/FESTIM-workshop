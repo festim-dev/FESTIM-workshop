{
 "cells": [
  {
   "cell_type": "markdown",
   "id": "fb7b6492",
   "metadata": {},
   "source": [
    "# Mesh with SALOME"
   ]
  },
  {
   "cell_type": "markdown",
   "id": "31f8a86a",
   "metadata": {},
   "source": [
    "## Building the geometry in SALOME\n",
    "\n",
    "This is a step-by-step guide to meshing with [SALOME 9.12.0](https://www.salome-platform.org/>).\n",
    "\n",
    "1. Open SALOME and create a new study.\n",
    "2. Activate the Geometry module\n",
    "\n",
    "   ```{figure} salome/salome_guide_1.png\n",
    "   ---\n",
    "   width: 400\n",
    "   ---\n",
    "   ```\n",
    "\n",
    "3. Create a first square by clicking \"Create rectangular face\". Keep the default parameters. Click \"Apply and Close\"\n",
    "\n",
    "   ```{figure} salome/salome_guide_2.png\n",
    "   ---\n",
    "   width: 400\n",
    "   ---\n",
    "   ```\n",
    "\n",
    "4. Repeat the operation to create a second square\n",
    "\n",
    "5. Translate the second square by clicking \"Operations/Transformation/Translation\"\n",
    "\n",
    "\n",
    "   ```{figure} salome/salome_guide_3.png\n",
    "   ---\n",
    "   width: 400\n",
    "   ---\n",
    "   ```\n",
    "\n",
    "6. Make sure Face 2 is selected. Enter 100 for the Dx value. Click \"Apply and Close\"\n",
    "\n",
    "   ```{figure} salome/salome_guide_4.png\n",
    "   ---\n",
    "   width: 400\n",
    "   ---\n",
    "   ```\n",
    "\n",
    "7. Create a compound by clicking \"New Entity/Build/Compound\" make sure Face_1 and Translation_1 are selected then click \"Apply and Close\".\n",
    "\n",
    "   ```{figure} salome/salome_guide_5.png\n",
    "   ---\n",
    "   width: 400\n",
    "   ---\n",
    "   ```\n",
    "\n",
    "8. Create a group \"New Entity/Group/Create group\". In Shape Type, select the 2D surface. Name the group \"left_volume\". Make sure Compound_1 is selected.\n",
    "   Click on the left square and click \"Add\" (2 should appear in the white window). Click \"Apply and Close\".\n",
    "\n",
    "   ```{figure} salome/salome_guide_6.png\n",
    "   ---\n",
    "   width: 400\n",
    "   ---\n",
    "   ```\n",
    "\n",
    "9. Repeat the operation to create a group \"right_volume\" with the right square (12 should appear in the white window).\n",
    "\n",
    "10. Create another group \"left_boundary\" but this time in Shape Type select the 1D curve. Click on the left edge of the left square and click \"Add\". Click \"Apply and Close\".\n",
    "\n",
    "   ```{figure} salome/salome_guide_7.png\n",
    "   ---\n",
    "   width: 400\n",
    "   ---\n",
    "   ```\n",
    "\n",
    "11. Repeat the operation to create a group \"right_boundary\" with the right edge of the right square. Your study should look like:\n",
    "\n",
    "   ```{figure} salome/salome_guide_8.png\n",
    "   ---\n",
    "   width: 400\n",
    "   ---\n",
    "   ```\n",
    "\n",
    "12. Click on \"Mesh\" to activate the mesh module.\n",
    "\n",
    "   ```{figure} salome/salome_guide_9.png\n",
    "   ---\n",
    "   width: 400\n",
    "   ---\n",
    "   ```\n",
    "\n",
    "13. Create a mesh by clicking \"Mesh/Create Mesh\".\n",
    "\n",
    "14. Make sure Compound_1 is selected in \"Geometry\". Under the 2D tab, select \"NETGEN 1D-2D\" as algorithm.\n",
    "\n",
    "   ```{figure} salome/salome_guide_10.png\n",
    "   ---\n",
    "   width: 400\n",
    "   ---\n",
    "   ```\n",
    "\n",
    "15. Next to \"Hypothesis\" click on the gear symbol. Select \"NETGEN 2D Simple Parameters\". Click Ok. Click \"Apply and Close\".\n",
    "\n",
    "   ```{figure} salome/salome_guide_11.png\n",
    "   ---\n",
    "   width: 400\n",
    "   ---\n",
    "   ```\n",
    "\n",
    "    In the Objet Browser, under Mesh_1 you should see Groups of Edges and Groups of Faces, containing left_boundary, right_boundary, left_volume and right_volume.\n",
    "\n",
    "16. Export the mesh to MED by right clicking on Mesh_1 in the Object Browser, then Export/MED file. Choose a location where you want to write your MED file and click Save.\n",
    "\n",
    "   ```{figure} salome/salome_guide_12.png\n",
    "   ---\n",
    "   width: 400\n",
    "   ---\n",
    "   ```\n"
   ]
  },
  {
   "cell_type": "markdown",
   "id": "6e0fe5b9",
   "metadata": {},
   "source": [
    "## Convert the mesh to XDMF format\n",
    "\n",
    "Using [meshio](https://github.com/nschloe/meshio), the mesh file (here a .med file) can be converted to .xdmf format, readable by FESTIM.\n",
    "\n",
    "We wrote the following function `convert_med_to_xdmf` to convert .med files to .xdmf."
   ]
  },
  {
   "cell_type": "code",
   "execution_count": 1,
   "id": "cfadc916",
   "metadata": {},
   "outputs": [],
   "source": [
    "import meshio\n",
    "\n",
    "\n",
    "def convert_med_to_xdmf(\n",
    "    med_file,\n",
    "    cell_file=\"mesh_domains.xdmf\",\n",
    "    facet_file=\"mesh_boundaries.xdmf\",\n",
    "    cell_type=\"tetra\",\n",
    "    facet_type=\"triangle\",\n",
    "):\n",
    "    \"\"\"Converts a MED mesh to XDMF\n",
    "    Args:\n",
    "        med_file (str): the name of the MED file\n",
    "        cell_file (str, optional): the name of the file containing the\n",
    "            volume markers. Defaults to \"mesh_domains.xdmf\".\n",
    "        facet_file (str, optional): the name of the file containing the\n",
    "            surface markers.. Defaults to \"mesh_boundaries.xdmf\".\n",
    "        cell_type (str, optional): The topology of the cells. Defaults to \"tetra\".\n",
    "        facet_type (str, optional): The topology of the facets. Defaults to \"triangle\".\n",
    "    Returns:\n",
    "        dict, dict: the correspondance dict, the cell types\n",
    "    \"\"\"\n",
    "    msh = meshio.read(med_file)\n",
    "\n",
    "    correspondance_dict = {-k: v for k, v in msh.cell_tags.items()}\n",
    "    \n",
    "    cell_data_types = msh.cell_data_dict[\"cell_tags\"].keys()\n",
    "\n",
    "    for mesh_block in msh.cells:\n",
    "        if mesh_block.type == cell_type:\n",
    "            meshio.write_points_cells(\n",
    "                cell_file,\n",
    "                msh.points,\n",
    "                [mesh_block],\n",
    "                cell_data={\"f\": [-1 * msh.cell_data_dict[\"cell_tags\"][cell_type]]},\n",
    "            )\n",
    "        elif mesh_block.type == facet_type:\n",
    "            meshio.write_points_cells(\n",
    "                facet_file,\n",
    "                msh.points,\n",
    "                [mesh_block],\n",
    "                cell_data={\"f\": [-1 * msh.cell_data_dict[\"cell_tags\"][facet_type]]},\n",
    "            )\n",
    "\n",
    "    return correspondance_dict, cell_data_types"
   ]
  },
  {
   "cell_type": "markdown",
   "id": "3c599b5d",
   "metadata": {},
   "source": [
    "The subdomains (volumes and surfaces) in the .med file were given tags.\n",
    "\n",
    "This is very important to be able to assign materials properties and boundary conditions to these subdomains.\n",
    "\n",
    "The correspondance between tags and subdomains is returned by `convert_med_to_xdmf`.\n",
    "Here for example, the volume corresponding to `tungsten` is the tag `6`."
   ]
  },
  {
   "cell_type": "code",
   "execution_count": 2,
   "id": "14a963f8",
   "metadata": {},
   "outputs": [
    {
     "name": "stdout",
     "output_type": "stream",
     "text": [
      "{np.int64(6): ['left_volume'], np.int64(7): ['right_volume'], np.int64(8): ['left_boundary'], np.int64(9): ['right_boundary']}\n"
     ]
    }
   ],
   "source": [
    "correspondance_dict, cell_data_types = convert_med_to_xdmf(\n",
    "    \"salome/Mesh_1.med\",\n",
    "    cell_file=\"salome/mesh_domains.xdmf\",\n",
    "    facet_file=\"salome/mesh_boundaries.xdmf\",\n",
    "    cell_type=\"triangle\",\n",
    "    facet_type=\"line\",\n",
    ")\n",
    "\n",
    "print(correspondance_dict)"
   ]
  },
  {
   "cell_type": "code",
   "execution_count": 3,
   "id": "603fd229",
   "metadata": {},
   "outputs": [],
   "source": [
    "import festim as F\n",
    "\n",
    "mesh = F.MeshFromXDMF(\"salome/mesh_domains.xdmf\", \"salome/mesh_boundaries.xdmf\")"
   ]
  },
  {
   "cell_type": "code",
   "execution_count": 4,
   "id": "a1384f59",
   "metadata": {
    "tags": [
     "hide-input"
    ]
   },
   "outputs": [
    {
     "data": {
      "application/vnd.jupyter.widget-view+json": {
       "model_id": "6f270819935f4eb99af571eb946a91e1",
       "version_major": 2,
       "version_minor": 0
      },
      "text/plain": [
       "EmbeddableWidget(value='<iframe srcdoc=\"<!DOCTYPE html>\\n<html>\\n  <head>\\n    <meta http-equiv=&quot;Content-…"
      ]
     },
     "metadata": {},
     "output_type": "display_data"
    }
   ],
   "source": [
    "from dolfinx import plot\n",
    "import pyvista\n",
    "\n",
    "pyvista.start_xvfb()\n",
    "pyvista.set_jupyter_backend(\"html\")\n",
    "\n",
    "tdim = mesh.mesh.topology.dim\n",
    "\n",
    "mesh.mesh.topology.create_connectivity(tdim, tdim)\n",
    "topology, cell_types, geometry = plot.vtk_mesh(mesh.mesh, tdim)\n",
    "grid = pyvista.UnstructuredGrid(topology, cell_types, geometry)\n",
    "\n",
    "plotter = pyvista.Plotter()\n",
    "plotter.add_mesh(grid, show_edges=True)\n",
    "plotter.view_isometric()\n",
    "if not pyvista.OFF_SCREEN:\n",
    "    plotter.show()\n",
    "else:\n",
    "    figure = plotter.screenshot(\"mesh.png\")"
   ]
  }
 ],
 "metadata": {
  "kernelspec": {
   "display_name": "festim-workshop",
   "language": "python",
   "name": "python3"
  },
  "language_info": {
   "codemirror_mode": {
    "name": "ipython",
    "version": 3
   },
   "file_extension": ".py",
   "mimetype": "text/x-python",
   "name": "python",
   "nbconvert_exporter": "python",
   "pygments_lexer": "ipython3",
   "version": "3.13.5"
  }
 },
 "nbformat": 4,
 "nbformat_minor": 5
}
