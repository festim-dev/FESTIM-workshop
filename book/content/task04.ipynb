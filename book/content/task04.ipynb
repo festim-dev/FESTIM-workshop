{
   "cells": [
      {
         "attachments": {},
         "cell_type": "markdown",
         "metadata": {},
         "source": [
            "# Permeation barrier modelling\n",
            "\n",
            "In this task, we will model permeation barriers on tungsten and compute the associated Permeation Reduction Factor (PRF).\n",
            "\n",
            "The PRF is the ratio of the steady state permeation flux without barriers by that of the case with barriers."
         ]
      },
      {
         "attachments": {},
         "cell_type": "markdown",
         "metadata": {},
         "source": [
            "## 1) Model with barrier\n",
            "\n",
            "Let's first create a model where tungsten is coated with 1 micron of barrier material on both sides."
         ]
      },
      {
         "cell_type": "code",
         "execution_count": 1,
         "metadata": {},
         "outputs": [],
         "source": [
            "import festim as F\n",
            "\n",
            "model_barrier = F.HydrogenTransportProblemDiscontinuous()\n",
            "\n"
         ]
      },
      {
         "attachments": {},
         "cell_type": "markdown",
         "metadata": {},
         "source": [
            "Let's create three `Material` instances for the three subdomains and assign it to `model_barrier.materials`.\n",
            "\n",
            "> Note:\n",
            ">\n",
            "> By default, the solubility law of the materials is `\"sievert\"`.\n",
            ">\n",
            "> However, it can be changed by overriding the `solubility_law` argument to `\"henry\"`"
         ]
      },
      {
         "cell_type": "code",
         "execution_count": 2,
         "metadata": {},
         "outputs": [],
         "source": [
            "barrier_thick = 1e-6\n",
            "substrate_thick = 3e-3\n",
            "\n",
            "barrier = F.Material(\n",
            "    D_0=1e-8,\n",
            "    E_D=0.39,\n",
            "    K_S_0=1e22,\n",
            "    E_K_S=1.04,\n",
            ")\n",
            "\n",
            "tungsten = F.Material(\n",
            "    D_0=4.1e-7,\n",
            "    E_D=0.39,\n",
            "    K_S_0=1.87e24,\n",
            "    E_K_S=1.04,\n",
            ")\n",
            "\n",
            "volume_barrier_left = F.VolumeSubdomain1D(\n",
            "    id=1, borders=[0, barrier_thick], material=barrier\n",
            ")\n",
            "volume_tungsten = F.VolumeSubdomain1D(\n",
            "    id=2, borders=[barrier_thick, substrate_thick + barrier_thick], material=tungsten\n",
            ")\n",
            "volume_barrier_right = F.VolumeSubdomain1D(\n",
            "    id=3,\n",
            "    borders=[substrate_thick + barrier_thick, substrate_thick + 2 * barrier_thick],\n",
            "    material=barrier,\n",
            ")\n",
            "\n",
            "boundary_left = F.SurfaceSubdomain1D(id=1, x=0)\n",
            "boundary_right = F.SurfaceSubdomain1D(id=2, x=substrate_thick + 2 * barrier_thick)\n",
            "\n",
            "model_barrier.subdomains = [\n",
            "    volume_barrier_left,\n",
            "    volume_tungsten,\n",
            "    volume_barrier_right,\n",
            "    boundary_left,\n",
            "    boundary_right,\n",
            "]\n"
         ]
      },
      {
         "cell_type": "code",
         "execution_count": 3,
         "metadata": {},
         "outputs": [],
         "source": [
            "model_barrier.surface_to_volume = {\n",
            "    boundary_left: volume_barrier_left,\n",
            "    boundary_right: volume_barrier_right,\n",
            "}\n",
            "\n",
            "model_barrier.interfaces = [\n",
            "    F.Interface(id=3, subdomains=[volume_barrier_left, volume_tungsten]),\n",
            "    F.Interface(id=4, subdomains=[volume_tungsten, volume_barrier_right]),\n",
            "]"
         ]
      },
      {
         "cell_type": "code",
         "execution_count": 4,
         "metadata": {},
         "outputs": [],
         "source": [
            "H = F.Species(\"H\", subdomains=model_barrier.volume_subdomains)\n",
            "model_barrier.species = [H]"
         ]
      },
      {
         "attachments": {},
         "cell_type": "markdown",
         "metadata": {},
         "source": [
            "To avoid cells overlapping the domains boundaries, we create 3 lists of vertices."
         ]
      },
      {
         "cell_type": "code",
         "execution_count": 5,
         "metadata": {},
         "outputs": [],
         "source": [
            "import numpy as np\n",
            "\n",
            "vertices_left = np.linspace(0, barrier_thick, num=50)\n",
            "\n",
            "vertices_mid = np.linspace(barrier_thick, substrate_thick + barrier_thick, num=50)\n",
            "\n",
            "vertices_right = np.linspace(\n",
            "    substrate_thick + barrier_thick, substrate_thick + 2 * barrier_thick, num=50\n",
            ")\n",
            "\n",
            "vertices = np.concatenate([vertices_left, vertices_mid, vertices_right])\n",
            "\n",
            "model_barrier.mesh = F.Mesh1D(vertices)"
         ]
      },
      {
         "attachments": {},
         "cell_type": "markdown",
         "metadata": {},
         "source": [
            "The temperature is homogeneous across the domain."
         ]
      },
      {
         "cell_type": "code",
         "execution_count": 6,
         "metadata": {},
         "outputs": [],
         "source": [
            "model_barrier.temperature = 600"
         ]
      },
      {
         "attachments": {},
         "cell_type": "markdown",
         "metadata": {},
         "source": [
            "A Sievert's boundary condition is applied on the left surface and the concentration is assumed to be zero on the right surface."
         ]
      },
      {
         "cell_type": "code",
         "execution_count": 7,
         "metadata": {},
         "outputs": [],
         "source": [
            "left_bc = F.SievertsBC(\n",
            "    subdomain=boundary_left, S_0=barrier.K_S_0, E_S=barrier.E_K_S, pressure=100, species=H\n",
            ")\n",
            "\n",
            "right_bc = F.FixedConcentrationBC(species=H, subdomain=boundary_right, value=0)\n",
            "\n",
            "model_barrier.boundary_conditions = [left_bc, right_bc]"
         ]
      },
      {
         "attachments": {},
         "cell_type": "markdown",
         "metadata": {},
         "source": [
            "For this task, we want to compute the permeation flux, that is the flux at the right surface.\n",
            "\n",
            "We will also export the concentration profiles at three different times"
         ]
      },
      {
         "cell_type": "code",
         "execution_count": 8,
         "metadata": {},
         "outputs": [],
         "source": [
            "class ProfileExport(F.VolumeQuantity):\n",
            "\n",
            "    def compute(self):\n",
            "        profile = self.field.solution.x.array[:].copy()\n",
            "\n",
            "        self.data.append(profile)"
         ]
      },
      {
         "cell_type": "code",
         "execution_count": 9,
         "metadata": {},
         "outputs": [],
         "source": [
            "\n",
            "permeation_flux = F.SurfaceFlux(field=H, surface=boundary_right)\n",
            "\n",
            "profile_left = ProfileExport(\n",
            "    field=H,\n",
            "    volume=volume_barrier_left\n",
            ")\n",
            "profile_mid = ProfileExport(\n",
            "    field=H,\n",
            "    volume=volume_tungsten\n",
            ")\n",
            "profile_right = ProfileExport(\n",
            "    field=H,\n",
            "    volume=volume_barrier_right\n",
            ")\n",
            "\n",
            "model_barrier.exports = [permeation_flux, profile_left, profile_mid, profile_right]"
         ]
      },
      {
         "attachments": {},
         "cell_type": "markdown",
         "metadata": {},
         "source": [
            "In order to ensure the conservation of chemical potential at interfaces, the argument `chemical_pot=True` has to be specified.\n",
            "\n",
            "The reason it is fault by default is to save performance."
         ]
      },
      {
         "cell_type": "code",
         "execution_count": 10,
         "metadata": {},
         "outputs": [],
         "source": [
            "model_barrier.settings = F.Settings(\n",
            "    atol=1e0,\n",
            "    rtol=1e-09,\n",
            "    final_time=8e5,\n",
            ")\n",
            "\n",
            "\n",
            "model_barrier.settings.stepsize = F.Stepsize(\n",
            "    initial_value=5, growth_factor=1.1, cutback_factor=0.9, target_nb_iterations=4, milestones=[100, 17000, 8e5]\n",
            ")"
         ]
      },
      {
         "cell_type": "code",
         "execution_count": null,
         "metadata": {},
         "outputs": [
            {
               "ename": "NotImplementedError",
               "evalue": "Export type <class 'festim.exports.surface_flux.SurfaceFlux'> not implemented",
               "output_type": "error",
               "traceback": [
                  "\u001b[31m---------------------------------------------------------------------------\u001b[39m",
                  "\u001b[31mNotImplementedError\u001b[39m                       Traceback (most recent call last)",
                  "\u001b[36mCell\u001b[39m\u001b[36m \u001b[39m\u001b[32mIn[11]\u001b[39m\u001b[32m, line 1\u001b[39m\n\u001b[32m----> \u001b[39m\u001b[32m1\u001b[39m \u001b[43mmodel_barrier\u001b[49m\u001b[43m.\u001b[49m\u001b[43minitialise\u001b[49m\u001b[43m(\u001b[49m\u001b[43m)\u001b[49m\n\u001b[32m      2\u001b[39m model_barrier.run()\n",
                  "\u001b[36mFile \u001b[39m\u001b[32m~/anaconda3/envs/festim-workshop/lib/python3.13/site-packages/festim/hydrogen_transport_problem.py:1057\u001b[39m, in \u001b[36mHydrogenTransportProblemDiscontinuous.initialise\u001b[39m\u001b[34m(self)\u001b[39m\n\u001b[32m   1055\u001b[39m \u001b[38;5;28mself\u001b[39m.create_formulation()\n\u001b[32m   1056\u001b[39m \u001b[38;5;28mself\u001b[39m.create_solver()\n\u001b[32m-> \u001b[39m\u001b[32m1057\u001b[39m \u001b[38;5;28;43mself\u001b[39;49m\u001b[43m.\u001b[49m\u001b[43minitialise_exports\u001b[49m\u001b[43m(\u001b[49m\u001b[43m)\u001b[49m\n",
                  "\u001b[36mFile \u001b[39m\u001b[32m~/anaconda3/envs/festim-workshop/lib/python3.13/site-packages/festim/hydrogen_transport_problem.py:1485\u001b[39m, in \u001b[36mHydrogenTransportProblemDiscontinuous.initialise_exports\u001b[39m\u001b[34m(self)\u001b[39m\n\u001b[32m   1480\u001b[39m         \u001b[38;5;28;01mraise\u001b[39;00m \u001b[38;5;167;01mNotImplementedError\u001b[39;00m(\n\u001b[32m   1481\u001b[39m             \u001b[33mf\u001b[39m\u001b[33m\"\u001b[39m\u001b[33mExport type \u001b[39m\u001b[38;5;132;01m{\u001b[39;00m\u001b[38;5;28mtype\u001b[39m(export)\u001b[38;5;132;01m}\u001b[39;00m\u001b[33m not implemented for \u001b[39m\u001b[33m\"\u001b[39m\n\u001b[32m   1482\u001b[39m             \u001b[33mf\u001b[39m\u001b[33m\"\u001b[39m\u001b[33mmixed-domain approach\u001b[39m\u001b[33m\"\u001b[39m\n\u001b[32m   1483\u001b[39m         )\n\u001b[32m   1484\u001b[39m \u001b[38;5;28;01melse\u001b[39;00m:\n\u001b[32m-> \u001b[39m\u001b[32m1485\u001b[39m     \u001b[38;5;28;01mraise\u001b[39;00m \u001b[38;5;167;01mNotImplementedError\u001b[39;00m(\u001b[33mf\u001b[39m\u001b[33m\"\u001b[39m\u001b[33mExport type \u001b[39m\u001b[38;5;132;01m{\u001b[39;00m\u001b[38;5;28mtype\u001b[39m(export)\u001b[38;5;132;01m}\u001b[39;00m\u001b[33m not implemented\u001b[39m\u001b[33m\"\u001b[39m)\n",
                  "\u001b[31mNotImplementedError\u001b[39m: Export type <class 'festim.exports.surface_flux.SurfaceFlux'> not implemented"
               ]
            }
         ],
         "source": [
            "model_barrier.initialise()\n",
            "model_barrier.run()"
         ]
      },
      {
         "attachments": {},
         "cell_type": "markdown",
         "metadata": {},
         "source": [
            "We can plot the concentration profiles at different times and notice the jump of concentrations at interfaces:"
         ]
      },
      {
         "cell_type": "code",
         "execution_count": null,
         "metadata": {},
         "outputs": [
            {
               "data": {
                  "image/png": "[encoded data removed]",
                  "text/plain": [
                     "<Figure size 640x480 with 3 Axes>"
                  ]
               },
               "metadata": {},
               "output_type": "display_data"
            }
         ],
         "source": [
            "import matplotlib.pyplot as plt\n",
            "\n",
            "fig, axs = plt.subplots(nrows=1, ncols=3, sharey=True)\n",
            "data = np.genfromtxt(folder + f\"/mobile.txt\", skip_header=1, delimiter=\",\")\n",
            "data = data[data[:, 0].argsort()]  # make sure data is sorted\n",
            "\n",
            "xlim_left = (0, barrier_thick * 1.2)\n",
            "xlim_mid = (None, None)\n",
            "xlim_right = (substrate_thick, substrate_thick + 2 * barrier_thick)\n",
            "\n",
            "for ax, xlim in zip(\n",
            "    axs,\n",
            "    [xlim_left, xlim_mid, xlim_right],\n",
            "):\n",
            "    plt.sca(ax)\n",
            "    for i, time in enumerate(txt_export.times):\n",
            "        plt.plot(data[:, 0], data[:, i + 1], label=f\"{time:.0f} s\")\n",
            "\n",
            "    plt.xlabel(\"Depth (m)\")\n",
            "    plt.xlim(*xlim)\n",
            "\n",
            "axs[0].set_yscale(\"log\")\n",
            "axs[0].set_ylim(bottom=1e12)\n",
            "axs[0].set_ylabel(\"Mobile H concentration (H/m$^3$)\")\n",
            "axs[0].set_title(\"zoom left\")\n",
            "axs[2].set_title(\"zoom right\")\n",
            "axs[0].legend(reverse=True)\n",
            "plt.show()"
         ]
      },
      {
         "attachments": {},
         "cell_type": "markdown",
         "metadata": {},
         "source": [
            "## 2) Model without barrier\n",
            "\n",
            "We can also run the equivalent model without permeation barriers with bare tungsten.\n",
            "Let's make a few modifications:"
         ]
      },
      {
         "cell_type": "code",
         "execution_count": null,
         "metadata": {},
         "outputs": [
            {
               "name": "stdout",
               "output_type": "stream",
               "text": [
                  "Defining initial values\n",
                  "Defining variational problem\n",
                  "Defining source terms\n",
                  "Defining boundary conditions\n",
                  "Time stepping...\n",
                  "Calling FFC just-in-time (JIT) compiler, this may take some time.\n",
                  "Calling FFC just-in-time (JIT) compiler, this may take some time.\n",
                  "100.0 %        8.0e+05 s    Elapsed time so far: 0.9 s\n"
               ]
            }
         ],
         "source": [
            "model_no_barrier = F.HydrogenTransportProblem()\n",
            "\n",
            "tungsten.id = 1\n",
            "tungsten.borders = [0, 3e-3]\n",
            "model_no_barrier.materials = [tungsten]\n",
            "\n",
            "# new mesh\n",
            "model_no_barrier.mesh = F.Mesh1D(np.linspace(1e-6, 3e-3, num=50))\n",
            "\n",
            "# change the solubility of the Sievert's condition\n",
            "left_bc.S_0 = tungsten.S_0\n",
            "left_bc.E_S = tungsten.E_S\n",
            "\n",
            "model_no_barrier.T = model_barrier.T\n",
            "model_no_barrier.boundary_conditions = model_barrier.boundary_conditions\n",
            "\n",
            "model_no_barrier.settings = model_barrier.settings\n",
            "model_no_barrier.settings.chemical_pot = (\n",
            "    False  # no need for chemical potential anymore!\n",
            ")\n",
            "\n",
            "model_no_barrier.dt = model_barrier.dt\n",
            "\n",
            "derived_quantities_without_barrier = F.DerivedQuantities(\n",
            "    [F.HydrogenFlux(surface=2)], show_units=True\n",
            ")\n",
            "\n",
            "model_no_barrier.exports = [derived_quantities_without_barrier]\n",
            "\n",
            "model_no_barrier.initialise()\n",
            "model_no_barrier.run()"
         ]
      },
      {
         "attachments": {},
         "cell_type": "markdown",
         "metadata": {},
         "source": [
            "## 3) Calculate the PRF"
         ]
      },
      {
         "attachments": {},
         "cell_type": "markdown",
         "metadata": {},
         "source": [
            "We can plot the temporal evolution of permeation flux with or without permeation barriers:"
         ]
      },
      {
         "cell_type": "code",
         "execution_count": null,
         "metadata": {},
         "outputs": [
            {
               "data": {
                  "image/png": "[encoded data removed]",
                  "text/plain": [
                     "<Figure size 640x480 with 1 Axes>"
                  ]
               },
               "metadata": {},
               "output_type": "display_data"
            }
         ],
         "source": [
            "t_with_barrier = derived_quantities_with_barrier.t\n",
            "permeation_flux_with_barrier = derived_quantities_with_barrier.filter(\n",
            "    surfaces=2, fields=\"solute\"\n",
            ").data\n",
            "permeation_flux_with_barrier = -np.array(permeation_flux_with_barrier)\n",
            "\n",
            "t_without_barrier = derived_quantities_without_barrier.t\n",
            "permeation_flux_no_barrier = derived_quantities_without_barrier.filter(\n",
            "    surfaces=2, fields=\"solute\"\n",
            ").data\n",
            "permeation_flux_no_barrier = -np.array(permeation_flux_no_barrier)\n",
            "\n",
            "plt.figure()\n",
            "\n",
            "plt.plot(t_without_barrier, permeation_flux_no_barrier, label=\"without barrier\")\n",
            "plt.plot(t_with_barrier, permeation_flux_with_barrier, label=\"with barrier\")\n",
            "\n",
            "plt.xscale(\"log\")\n",
            "plt.legend()\n",
            "plt.xlabel(\"Time (s)\")\n",
            "plt.ylabel(\"Permeation flux (H/m2/s)\")\n",
            "plt.show()"
         ]
      },
      {
         "attachments": {},
         "cell_type": "markdown",
         "metadata": {},
         "source": [
            "Clearly, having the coating on both sides reduces the permeation flux!\n",
            "\n",
            "Moreover, it can be shown that the PRF of this configuration is:\n",
            "\n",
            "$$\\mathrm{PRF} = 1 + 2 \\alpha \\beta \\gamma$$\n",
            "\n",
            "With \n",
            "\n",
            "$$\\alpha = D_\\mathrm{substrate} / D_\\mathrm{barrier} $$\n",
            "\n",
            "$$\\beta = S_\\mathrm{substrate} / S_\\mathrm{barrier} $$\n",
            "\n",
            "$$\\gamma = e_\\mathrm{barrier} / e_\\mathrm{substrate} $$\n",
            "\n",
            "We can compare the computed PRF to the theory."
         ]
      },
      {
         "cell_type": "code",
         "execution_count": null,
         "metadata": {},
         "outputs": [
            {
               "name": "stdout",
               "output_type": "stream",
               "text": [
                  "Theoretical PRF = 6.1113\n",
                  "Computed PRF = 6.1135\n",
                  "Error = 0.03%\n"
               ]
            }
         ],
         "source": [
            "computed_PRF = permeation_flux_no_barrier[-1] / permeation_flux_with_barrier[-1]\n",
            "\n",
            "diff_ratio = tungsten.D_0 / barrier_left.D_0\n",
            "sol_ratio = tungsten.S_0 / barrier_left.S_0\n",
            "length_ratio = barrier_thick / substrate_thick\n",
            "\n",
            "theoretical_PRF = 1 + 2 * diff_ratio * sol_ratio * length_ratio\n",
            "\n",
            "print(f\"Theoretical PRF = {theoretical_PRF:.4f}\")\n",
            "print(f\"Computed PRF = {computed_PRF:.4f}\")\n",
            "print(f\"Error = {(computed_PRF - theoretical_PRF)/theoretical_PRF:.2%}\")"
         ]
      },
      {
         "attachments": {},
         "cell_type": "markdown",
         "metadata": {},
         "source": [
            "# Question\n",
            "Will adding traps to the simulation change the value of the PRF?\n",
            "\n",
            "<details>\n",
            "<summary>Show solution</summary>\n",
            "<br>\n",
            "No. The PRF is a measure of the flux of mobile particles and is computed at steady state.\n",
            "\n",
            "At steady state, the McNabb & Foster model states that the concentration of mobile particle is independent of the trapped concentration.\n",
            "\n",
            "Therefore, the steady state PRF is independent of trapping.\n",
            "\n",
            "</details>"
         ]
      }
   ],
   "metadata": {
      "kernelspec": {
         "display_name": "festim-workshop",
         "language": "python",
         "name": "python3"
      },
      "language_info": {
         "codemirror_mode": {
            "name": "ipython",
            "version": 3
         },
         "file_extension": ".py",
         "mimetype": "text/x-python",
         "name": "python",
         "nbconvert_exporter": "python",
         "pygments_lexer": "ipython3",
         "version": "3.13.3"
      },
      "orig_nbformat": 4
   },
   "nbformat": 4,
   "nbformat_minor": 2
}
