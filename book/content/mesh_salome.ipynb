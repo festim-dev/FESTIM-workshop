{
 "cells": [
  {
   "cell_type": "markdown",
   "id": "fb7b6492",
   "metadata": {},
   "source": [
    "# Mesh with SALOME"
   ]
  }
 ],
 "metadata": {
  "language_info": {
   "name": "python"
  }
 },
 "nbformat": 4,
 "nbformat_minor": 5
}
