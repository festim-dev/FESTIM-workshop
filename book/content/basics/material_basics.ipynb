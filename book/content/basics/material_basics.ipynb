{
 "cells": [
  {
   "cell_type": "markdown",
   "id": "cd250fc2",
   "metadata": {},
   "source": [
    "How to setup a material in FESTIM."
   ]
  }
 ],
 "metadata": {
  "language_info": {
   "name": "python"
  }
 },
 "nbformat": 4,
 "nbformat_minor": 5
}
