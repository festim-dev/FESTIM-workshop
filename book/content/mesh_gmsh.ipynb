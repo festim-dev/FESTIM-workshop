{
 "cells": [
  {
   "cell_type": "markdown",
   "id": "fb7b6492",
   "metadata": {},
   "source": [
    "# Using GMSH Meshes in FESTIM"
   ]
  },
  {
   "cell_type": "markdown",
   "id": "66173f93",
   "metadata": {},
   "source": [
    "GMSH is a powerful mesh generation tool that can be used to create complex geometries for FESTIM simulations. It supports a wide range of shapes, physical labels, and CAD import/export, making it ideal for defining detailed 2D or 3D domains.\n",
    "\n",
    "In this tutorial, we will cover:\n",
    "\n",
    "- Using GMSH directly from a Python script\n",
    "- Converting a GMSH model into a `dolfinx` mesh that can be used with FESTIM\n",
    "- Generating a mesh from a CAD geometry (e.g. STEP file)\n",
    "\n",
    "```{admonition} Tip\n",
    ":class: tip\n",
    "GMSH can be installed with `conda install -c conda-forge python-gmsh`\n",
    "```"
   ]
  },
  {
   "cell_type": "markdown",
   "id": "7e2de8e0",
   "metadata": {},
   "source": [
    "## DFG 3D example\n",
    "\n",
    "This GMSH example is taken directly from [Jørgen Dokken’s GMSH tutorial](https://jsdokken.com/src/tutorial_gmsh.html).\n",
    "\n",
    "The geometry corresponds to the domain used in the [DFG 3D CFD benchmark](https://wwwold.mathematik.tu-dortmund.de/~featflow/en/benchmarks/cfdbenchmarking/flow/dfg_flow3d.html) case. While we do not explore the physics of the benchmark here, the example serves as a practical demonstration of how to script mesh generation in GMSH, convert the resulting geometry into a DOLFINx mesh, and use it in a FESTIM simulation.\n"
   ]
  },
  {
   "cell_type": "code",
   "execution_count": 3,
   "id": "ef764106",
   "metadata": {},
   "outputs": [
    {
     "name": "stderr",
     "output_type": "stream",
     "text": [
      "Warning : Gmsh has aleady been initialized\n"
     ]
    },
    {
     "name": "stdout",
     "output_type": "stream",
     "text": [
      "Info    : Meshing 1D...                                                                                                      \n",
      "Info    : [  0%] Meshing curve 13 (Circle)\n",
      "Info    : [ 10%] Meshing curve 14 (Line)\n",
      "Info    : [ 20%] Meshing curve 15 (Circle)\n",
      "Info    : [ 30%] Meshing curve 16 (Line)\n",
      "Info    : [ 30%] Meshing curve 17 (Line)\n",
      "Info    : [ 40%] Meshing curve 18 (Line)\n",
      "Info    : [ 50%] Meshing curve 19 (Line)\n",
      "Info    : [ 50%] Meshing curve 20 (Line)\n",
      "Info    : [ 60%] Meshing curve 21 (Line)\n",
      "Info    : [ 70%] Meshing curve 22 (Line)\n",
      "Info    : [ 70%] Meshing curve 23 (Line)\n",
      "Info    : [ 80%] Meshing curve 24 (Line)\n",
      "Info    : [ 90%] Meshing curve 25 (Line)\n",
      "Info    : [ 90%] Meshing curve 26 (Line)\n",
      "Info    : [100%] Meshing curve 27 (Line)\n",
      "Info    : Done meshing 1D (Wall 0.00982643s, CPU 0.011498s)\n",
      "Info    : Meshing 2D...\n",
      "Info    : [  0%] Meshing surface 7 (Cylinder, Frontal-Delaunay)\n",
      "Info    : [ 20%] Meshing surface 8 (Plane, Frontal-Delaunay)\n",
      "Info    : [ 30%] Meshing surface 9 (Plane, Frontal-Delaunay)\n",
      "Info    : [ 50%] Meshing surface 10 (Plane, Frontal-Delaunay)\n",
      "Info    : [ 60%] Meshing surface 11 (Plane, Frontal-Delaunay)\n",
      "Info    : [ 80%] Meshing surface 12 (Plane, Frontal-Delaunay)\n",
      "Info    : [ 90%] Meshing surface 13 (Plane, Frontal-Delaunay)\n",
      "Info    : Done meshing 2D (Wall 0.376538s, CPU 0.400326s)\n",
      "Info    : Meshing 3D...\n",
      "Info    : 3D Meshing 1 volume with 1 connected component\n",
      "Info    : Tetrahedrizing 10220 nodes...\n",
      "Info    : Done tetrahedrizing 10228 nodes (Wall 0.137837s, CPU 0.146581s)\n",
      "Info    : Reconstructing mesh...\n",
      "Info    :  - Creating surface mesh\n",
      "Info    :  - Identifying boundary edges\n",
      "Info    :  - Recovering boundary\n",
      "Info    : Done reconstructing mesh (Wall 0.366401s, CPU 0.389899s)\n",
      "Info    : Found volume 1\n",
      "Info    : It. 0 - 0 nodes created - worst tet radius 19.0147 (nodes removed 0 0)\n",
      "Info    : It. 500 - 500 nodes created - worst tet radius 4.00155 (nodes removed 0 0)\n",
      "Info    : It. 1000 - 1000 nodes created - worst tet radius 2.83444 (nodes removed 0 0)\n",
      "Info    : It. 1500 - 1500 nodes created - worst tet radius 2.47059 (nodes removed 0 0)\n",
      "Info    : It. 2000 - 2000 nodes created - worst tet radius 2.25416 (nodes removed 0 0)\n",
      "Info    : It. 2500 - 2500 nodes created - worst tet radius 2.10153 (nodes removed 0 0)\n",
      "Info    : It. 3000 - 3000 nodes created - worst tet radius 1.97652 (nodes removed 0 0)\n",
      "Info    : It. 3500 - 3500 nodes created - worst tet radius 1.88378 (nodes removed 0 0)\n",
      "Info    : It. 4000 - 4000 nodes created - worst tet radius 1.80401 (nodes removed 0 0)\n",
      "Info    : It. 4500 - 4500 nodes created - worst tet radius 1.73927 (nodes removed 0 0)\n",
      "Info    : It. 5000 - 5000 nodes created - worst tet radius 1.68425 (nodes removed 0 0)\n",
      "Info    : It. 5500 - 5500 nodes created - worst tet radius 1.63014 (nodes removed 0 0)\n",
      "Info    : It. 6000 - 6000 nodes created - worst tet radius 1.68971 (nodes removed 0 0)\n",
      "Info    : It. 6500 - 6500 nodes created - worst tet radius 1.55028 (nodes removed 0 0)\n",
      "Info    : It. 7000 - 7000 nodes created - worst tet radius 1.51584 (nodes removed 0 0)\n",
      "Info    : It. 7500 - 7500 nodes created - worst tet radius 1.48152 (nodes removed 0 0)\n",
      "Info    : It. 8000 - 8000 nodes created - worst tet radius 1.4497 (nodes removed 0 0)\n",
      "Info    : It. 8500 - 8500 nodes created - worst tet radius 1.42345 (nodes removed 0 0)\n",
      "Info    : It. 9000 - 9000 nodes created - worst tet radius 1.39898 (nodes removed 0 0)\n",
      "Info    : It. 9500 - 9500 nodes created - worst tet radius 1.37543 (nodes removed 0 0)\n",
      "Info    : It. 10000 - 10000 nodes created - worst tet radius 1.3546 (nodes removed 0 0)\n",
      "Info    : It. 10500 - 10500 nodes created - worst tet radius 1.33338 (nodes removed 0 0)\n",
      "Info    : It. 11000 - 11000 nodes created - worst tet radius 1.31297 (nodes removed 0 0)\n",
      "Info    : It. 11500 - 11500 nodes created - worst tet radius 1.29598 (nodes removed 0 0)\n",
      "Info    : It. 12000 - 12000 nodes created - worst tet radius 1.27871 (nodes removed 0 0)\n",
      "Info    : It. 12500 - 12500 nodes created - worst tet radius 1.26301 (nodes removed 0 0)\n",
      "Info    : It. 13000 - 13000 nodes created - worst tet radius 1.2476 (nodes removed 0 0)\n",
      "Info    : It. 13500 - 13500 nodes created - worst tet radius 1.2312 (nodes removed 0 0)\n",
      "Info    : It. 14000 - 14000 nodes created - worst tet radius 1.21708 (nodes removed 0 0)\n",
      "Info    : It. 14500 - 14500 nodes created - worst tet radius 1.2052 (nodes removed 0 0)\n",
      "Info    : It. 15000 - 15000 nodes created - worst tet radius 1.19237 (nodes removed 0 0)\n",
      "Info    : It. 15500 - 15500 nodes created - worst tet radius 1.17981 (nodes removed 0 0)\n",
      "Info    : It. 16000 - 16000 nodes created - worst tet radius 1.16865 (nodes removed 0 0)\n",
      "Info    : It. 16500 - 16500 nodes created - worst tet radius 1.157 (nodes removed 0 0)\n",
      "Info    : It. 17000 - 17000 nodes created - worst tet radius 1.15023 (nodes removed 0 0)\n",
      "Info    : It. 17500 - 17500 nodes created - worst tet radius 1.13574 (nodes removed 0 0)\n",
      "Info    : It. 18000 - 18000 nodes created - worst tet radius 1.12612 (nodes removed 0 0)\n",
      "Info    : It. 18500 - 18500 nodes created - worst tet radius 1.1161 (nodes removed 0 0)\n",
      "Info    : It. 19000 - 19000 nodes created - worst tet radius 1.10654 (nodes removed 0 0)\n",
      "Info    : It. 19500 - 19500 nodes created - worst tet radius 1.09712 (nodes removed 0 0)\n",
      "Info    : It. 20000 - 20000 nodes created - worst tet radius 1.08836 (nodes removed 0 0)\n",
      "Info    : It. 20500 - 20500 nodes created - worst tet radius 1.07939 (nodes removed 0 0)\n",
      "Info    : It. 21000 - 21000 nodes created - worst tet radius 1.07159 (nodes removed 0 0)\n",
      "Info    : It. 21500 - 21500 nodes created - worst tet radius 1.06419 (nodes removed 0 0)\n",
      "Info    : It. 22000 - 22000 nodes created - worst tet radius 1.05654 (nodes removed 0 0)\n",
      "Info    : It. 22500 - 22500 nodes created - worst tet radius 1.04855 (nodes removed 0 0)\n",
      "Info    : It. 23000 - 23000 nodes created - worst tet radius 1.04117 (nodes removed 0 0)\n",
      "Info    : It. 23500 - 23500 nodes created - worst tet radius 1.0342 (nodes removed 0 0)\n",
      "Info    : It. 24000 - 24000 nodes created - worst tet radius 1.027 (nodes removed 0 0)\n",
      "Info    : It. 24500 - 24500 nodes created - worst tet radius 1.02019 (nodes removed 0 0)\n",
      "Info    : It. 25000 - 25000 nodes created - worst tet radius 1.01376 (nodes removed 0 0)\n",
      "Info    : It. 25500 - 25500 nodes created - worst tet radius 1.18321 (nodes removed 0 0)\n",
      "Info    : It. 26000 - 26000 nodes created - worst tet radius 1.00122 (nodes removed 0 0)\n",
      "Info    : 3D refinement terminated (36312 nodes total):\n",
      "Info    :  - 0 Delaunay cavities modified for star shapeness\n",
      "Info    :  - 0 nodes could not be inserted\n",
      "Info    :  - 197113 tetrahedra created in 1.90091 sec. (103694 tets/s)\n",
      "Info    : 273 node relocations\n",
      "Info    : Done meshing 3D (Wall 3.58091s, CPU 3.81162s)\n",
      "Info    : Optimizing mesh...\n",
      "Info    : Optimizing volume 1\n",
      "Info    : Optimization starts (volume = 0.417034) with worst = 0.00483627 / average = 0.764894:\n",
      "Info    : 0.00 < quality < 0.10 :       430 elements\n",
      "Info    : 0.10 < quality < 0.20 :      1335 elements\n",
      "Info    : 0.20 < quality < 0.30 :      2539 elements\n",
      "Info    : 0.30 < quality < 0.40 :      4118 elements\n",
      "Info    : 0.40 < quality < 0.50 :      7033 elements\n",
      "Info    : 0.50 < quality < 0.60 :     11775 elements\n",
      "Info    : 0.60 < quality < 0.70 :     22444 elements\n",
      "Info    : 0.70 < quality < 0.80 :     45589 elements\n",
      "Info    : 0.80 < quality < 0.90 :     67356 elements\n",
      "Info    : 0.90 < quality < 1.00 :     34494 elements\n",
      "Info    : 4170 edge swaps, 210 node relocations (volume = 0.417034): worst = 0.158901 / average = 0.777335 (Wall 0.0967769s, CPU 0.102963s)\n",
      "Info    : 4230 edge swaps, 223 node relocations (volume = 0.417034): worst = 0.163219 / average = 0.777424 (Wall 0.127976s, CPU 0.136199s)\n",
      "Info    : 4233 edge swaps, 226 node relocations (volume = 0.417034): worst = 0.163219 / average = 0.777434 (Wall 0.157317s, CPU 0.167465s)\n",
      "Info    : No ill-shaped tets in the mesh :-)\n",
      "Info    : 0.00 < quality < 0.10 :         0 elements\n",
      "Info    : 0.10 < quality < 0.20 :         1 elements\n",
      "Info    : 0.20 < quality < 0.30 :        13 elements\n",
      "Info    : 0.30 < quality < 0.40 :      4150 elements\n",
      "Info    : 0.40 < quality < 0.50 :      6922 elements\n",
      "Info    : 0.50 < quality < 0.60 :     11604 elements\n",
      "Info    : 0.60 < quality < 0.70 :     22562 elements\n",
      "Info    : 0.70 < quality < 0.80 :     46145 elements\n",
      "Info    : 0.80 < quality < 0.90 :     67834 elements\n",
      "Info    : 0.90 < quality < 1.00 :     34226 elements\n",
      "Info    : Done optimizing mesh (Wall 0.576088s, CPU 0.603093s)\n",
      "Info    : 36312 nodes 214446 elements\n",
      "Info    : Writing 'gmsh/mesh3D.msh'...\n",
      "Info    : Done writing 'gmsh/mesh3D.msh'\n"
     ]
    }
   ],
   "source": [
    "import gmsh\n",
    "import numpy as np\n",
    "import os\n",
    "\n",
    "# Initialize the GMSH API\n",
    "gmsh.initialize()\n",
    "gmsh.model.add(\"DFG 3D\")\n",
    "\n",
    "# Define geometry parameters (length L, breadth B, height H, cylinder radius r)\n",
    "L, B, H, r = 2.5, 0.41, 0.41, 0.05\n",
    "\n",
    "# Create the main channel as a rectangular box\n",
    "channel = gmsh.model.occ.addBox(0, 0, 0, L, B, H)\n",
    "\n",
    "# Create the obstacle cylinder inside the channel\n",
    "cylinder = gmsh.model.occ.addCylinder(0.5, 0, 0.2, 0, B, 0, r)\n",
    "\n",
    "# Subtract cylinder from channel to get the fluid region\n",
    "fluid = gmsh.model.occ.cut([(3, channel)], [(3, cylinder)])\n",
    "gmsh.model.occ.synchronize()\n",
    "\n",
    "# Mark the fluid volume for later identification\n",
    "volumes = gmsh.model.getEntities(dim=3)\n",
    "fluid_marker = 11\n",
    "gmsh.model.addPhysicalGroup(volumes[0][0], [volumes[0][1]], fluid_marker)\n",
    "gmsh.model.setPhysicalName(volumes[0][0], fluid_marker, \"Fluid volume\")\n",
    "\n",
    "# Identify and tag boundary surfaces based on their center of mass\n",
    "surfaces = gmsh.model.occ.getEntities(dim=2)\n",
    "inlet, outlet = None, None\n",
    "walls, obstacles = [], []\n",
    "\n",
    "inlet_marker, outlet_marker = 1, 3\n",
    "wall_marker, obstacle_marker = 5, 7\n",
    "\n",
    "for dim, tag in surfaces:\n",
    "    com = gmsh.model.occ.getCenterOfMass(dim, tag)\n",
    "    if np.allclose(com, [0, B / 2, H / 2]):\n",
    "        gmsh.model.addPhysicalGroup(dim, [tag], inlet_marker)\n",
    "        gmsh.model.setPhysicalName(dim, inlet_marker, \"Fluid inlet\")\n",
    "        inlet = tag\n",
    "    elif np.allclose(com, [L, B / 2, H / 2]):\n",
    "        gmsh.model.addPhysicalGroup(dim, [tag], outlet_marker)\n",
    "        gmsh.model.setPhysicalName(dim, outlet_marker, \"Fluid outlet\")\n",
    "    elif np.isclose(com[2], 0) or np.isclose(com[1], B) or \\\n",
    "         np.isclose(com[2], H) or np.isclose(com[1], 0):\n",
    "        walls.append(tag)\n",
    "    else:\n",
    "        obstacles.append(tag)\n",
    "\n",
    "# Tag wall and obstacle surfaces\n",
    "gmsh.model.addPhysicalGroup(2, walls, wall_marker)\n",
    "gmsh.model.setPhysicalName(2, wall_marker, \"Walls\")\n",
    "gmsh.model.addPhysicalGroup(2, obstacles, obstacle_marker)\n",
    "gmsh.model.setPhysicalName(2, obstacle_marker, \"Obstacle\")\n",
    "\n",
    "# Define mesh size field to refine near the obstacle\n",
    "distance = gmsh.model.mesh.field.add(\"Distance\")\n",
    "gmsh.model.mesh.field.setNumbers(distance, \"FacesList\", obstacles)\n",
    "resolution = r / 10\n",
    "threshold = gmsh.model.mesh.field.add(\"Threshold\")\n",
    "gmsh.model.mesh.field.setNumber(threshold, \"IField\", distance)\n",
    "gmsh.model.mesh.field.setNumber(threshold, \"LcMin\", resolution)\n",
    "gmsh.model.mesh.field.setNumber(threshold, \"LcMax\", 20 * resolution)\n",
    "gmsh.model.mesh.field.setNumber(threshold, \"DistMin\", 0.5 * r)\n",
    "gmsh.model.mesh.field.setNumber(threshold, \"DistMax\", r)\n",
    "\n",
    "# Optionally refine mesh near inlet\n",
    "inlet_dist = gmsh.model.mesh.field.add(\"Distance\")\n",
    "gmsh.model.mesh.field.setNumbers(inlet_dist, \"FacesList\", [inlet])\n",
    "inlet_thre = gmsh.model.mesh.field.add(\"Threshold\")\n",
    "gmsh.model.mesh.field.setNumber(inlet_thre, \"IField\", inlet_dist)\n",
    "gmsh.model.mesh.field.setNumber(inlet_thre, \"LcMin\", 5 * resolution)\n",
    "gmsh.model.mesh.field.setNumber(inlet_thre, \"LcMax\", 10 * resolution)\n",
    "gmsh.model.mesh.field.setNumber(inlet_thre, \"DistMin\", 0.1)\n",
    "gmsh.model.mesh.field.setNumber(inlet_thre, \"DistMax\", 0.5)\n",
    "\n",
    "# Apply the minimal field combining both refinement regions\n",
    "minimum = gmsh.model.mesh.field.add(\"Min\")\n",
    "gmsh.model.mesh.field.setNumbers(minimum, \"FieldsList\", [threshold, inlet_thre])\n",
    "gmsh.model.mesh.field.setAsBackgroundMesh(minimum)\n",
    "\n",
    "# Synchronize and generate 3D mesh\n",
    "gmsh.model.occ.synchronize()\n",
    "gmsh.model.mesh.generate(3)\n",
    "\n",
    "\n",
    "# Ensure the output folder exists\n",
    "os.makedirs(\"gmsh\", exist_ok=True)\n",
    "\n",
    "# Save the mesh in GMSH format for downstream use\n",
    "gmsh.write(\"gmsh/mesh3D.msh\")"
   ]
  },
  {
   "cell_type": "markdown",
   "id": "b16dbbea",
   "metadata": {},
   "source": [
    "### Reading GMSH models\n",
    "\n",
    "DOLFINx provides convenient tools to convert GMSH models directly into DOLFINx meshes and associated mesh tags, which can then be used within FESTIM.\n",
    "\n",
    "The function `gmshio.model_to_mesh()` takes a GMSH model object and converts it into a DOLFINx mesh along with cell and facet markers. This is useful when working directly with GMSH from a Python script, without writing intermediate files."
   ]
  },
  {
   "cell_type": "code",
   "execution_count": 4,
   "id": "f31b244d",
   "metadata": {},
   "outputs": [],
   "source": [
    "from dolfinx.io import gmshio\n",
    "from mpi4py import MPI\n",
    "\n",
    "model_rank = 0\n",
    "mesh, cell_tags, facet_tags = gmshio.model_to_mesh(\n",
    "    gmsh.model, MPI.COMM_WORLD, model_rank\n",
    ")"
   ]
  },
  {
   "cell_type": "markdown",
   "id": "3ad888cd",
   "metadata": {},
   "source": [
    "Alternatively, if you have saved your mesh to a `.msh` file, you can load it later using `gmshio.read_from_msh()`, specifying the mesh dimension (`gdim`)."
   ]
  },
  {
   "cell_type": "code",
   "execution_count": 5,
   "id": "46744902",
   "metadata": {},
   "outputs": [
    {
     "name": "stderr",
     "output_type": "stream",
     "text": [
      "Warning : Gmsh has aleady been initialized\n"
     ]
    },
    {
     "name": "stdout",
     "output_type": "stream",
     "text": [
      "Info    : Reading 'gmsh/mesh3D.msh'...\n",
      "Info    : 33 entities\n",
      "Info    : 36312 nodes\n",
      "Info    : 213900 elements\n",
      "Info    : Done reading 'gmsh/mesh3D.msh'                                                                         \n"
     ]
    }
   ],
   "source": [
    "mesh, cell_tags, facet_tags = gmshio.read_from_msh(\n",
    "    \"gmsh/mesh3D.msh\", MPI.COMM_WORLD, 0, gdim=3\n",
    ")"
   ]
  },
  {
   "cell_type": "markdown",
   "id": "1095c641",
   "metadata": {},
   "source": [
    "After loading the mesh and mesh tags, you can inspect the unique identifiers assigned to cells and facets by printing their values. This helps verify that physical groups have been correctly imported."
   ]
  },
  {
   "cell_type": "code",
   "execution_count": 6,
   "id": "97b6ba11",
   "metadata": {},
   "outputs": [
    {
     "name": "stdout",
     "output_type": "stream",
     "text": [
      "Cell tags: [11]\n",
      "Facet tags: [1 3 5 7]\n"
     ]
    }
   ],
   "source": [
    "print(f\"Cell tags: {np.unique(cell_tags.values)}\")\n",
    "print(f\"Facet tags: {np.unique(facet_tags.values)}\")"
   ]
  },
  {
   "cell_type": "markdown",
   "id": "4767ca40",
   "metadata": {},
   "source": [
    "You can visualise the mesh along with the cell and facet tags using PyVista. This provides an intuitive way to inspect the mesh structure and verify that subdomains and boundaries are correctly marked."
   ]
  },
  {
   "cell_type": "code",
   "execution_count": 7,
   "id": "a29a858a",
   "metadata": {
    "tags": [
     "hide-input"
    ]
   },
   "outputs": [
    {
     "data": {
      "application/vnd.jupyter.widget-view+json": {
       "model_id": "5d381e43c09049818989299f58366a43",
       "version_major": 2,
       "version_minor": 0
      },
      "text/plain": [
       "EmbeddableWidget(value='<iframe srcdoc=\"<!DOCTYPE html>\\n<html>\\n  <head>\\n    <meta http-equiv=&quot;Content-…"
      ]
     },
     "metadata": {},
     "output_type": "display_data"
    }
   ],
   "source": [
    "from dolfinx import plot\n",
    "import pyvista\n",
    "\n",
    "pyvista.start_xvfb()\n",
    "pyvista.set_jupyter_backend(\"html\")\n",
    "\n",
    "\n",
    "tdim = mesh.topology.dim\n",
    "\n",
    "mesh.topology.create_connectivity(tdim, tdim)\n",
    "topology, cell_types, geometry = plot.vtk_mesh(mesh, tdim)\n",
    "grid = pyvista.UnstructuredGrid(topology, cell_types, geometry)\n",
    "\n",
    "plotter = pyvista.Plotter()\n",
    "plotter.add_mesh(grid, show_edges=True)\n",
    "# plotter.view_xy()\n",
    "if not pyvista.OFF_SCREEN:\n",
    "    plotter.show()\n",
    "else:\n",
    "    figure = plotter.screenshot(\"mesh.png\")"
   ]
  },
  {
   "cell_type": "code",
   "execution_count": 8,
   "id": "d6e7c7fb",
   "metadata": {
    "tags": [
     "hide-input"
    ]
   },
   "outputs": [
    {
     "data": {
      "application/vnd.jupyter.widget-view+json": {
       "model_id": "0288b2b45e82440d8bfe48c07186a471",
       "version_major": 2,
       "version_minor": 0
      },
      "text/plain": [
       "EmbeddableWidget(value='<iframe srcdoc=\"<!DOCTYPE html>\\n<html>\\n  <head>\\n    <meta http-equiv=&quot;Content-…"
      ]
     },
     "metadata": {},
     "output_type": "display_data"
    }
   ],
   "source": [
    "fdim = mesh.topology.dim - 1\n",
    "tdim = mesh.topology.dim\n",
    "mesh.topology.create_connectivity(fdim, tdim)\n",
    "topology, cell_types, x = plot.vtk_mesh(mesh, fdim, facet_tags.indices)\n",
    "\n",
    "p = pyvista.Plotter()\n",
    "grid = pyvista.UnstructuredGrid(topology, cell_types, x)\n",
    "grid.cell_data[\"Facet Marker\"] = facet_tags.values\n",
    "grid.set_active_scalars(\"Facet Marker\")\n",
    "p.add_mesh(grid, show_edges=True)\n",
    "if pyvista.OFF_SCREEN:\n",
    "    figure = p.screenshot(\"facet_marker.png\")\n",
    "p.show()"
   ]
  },
  {
   "cell_type": "code",
   "execution_count": 9,
   "id": "0447974b",
   "metadata": {
    "tags": [
     "hide-input"
    ]
   },
   "outputs": [
    {
     "data": {
      "application/vnd.jupyter.widget-view+json": {
       "model_id": "a861f0fe53aa4b99b3bab659bf8c0929",
       "version_major": 2,
       "version_minor": 0
      },
      "text/plain": [
       "EmbeddableWidget(value='<iframe srcdoc=\"<!DOCTYPE html>\\n<html>\\n  <head>\\n    <meta http-equiv=&quot;Content-…"
      ]
     },
     "metadata": {},
     "output_type": "display_data"
    }
   ],
   "source": [
    "topology, cell_types, x = plot.vtk_mesh(mesh, tdim, cell_tags.indices)\n",
    "p = pyvista.Plotter()\n",
    "grid = pyvista.UnstructuredGrid(topology, cell_types, x)\n",
    "grid.cell_data[\"Cell Marker\"] = cell_tags.values\n",
    "grid.set_active_scalars(\"Cell Marker\")\n",
    "p.add_mesh(grid, show_edges=True)\n",
    "if pyvista.OFF_SCREEN:\n",
    "    figure = p.screenshot(\"cell_marker.png\")\n",
    "p.show()"
   ]
  },
  {
   "cell_type": "markdown",
   "id": "c568d077",
   "metadata": {},
   "source": [
    "### FESTIM Model Setup\n",
    "\n",
    "We now present a complete FESTIM simulation using the mesh generated from GMSH.\n",
    "\n",
    "The steady-state diffusion equation to solve is:\n",
    "\n",
    "$$\n",
    "    \\nabla \\cdot (D \\nabla c) = 0\n",
    "$$\n",
    "\n",
    "where the diffusion coefficient, $D=1$.\n",
    "\n",
    "The Dirichlet boundary conditions are applied as follows:\n",
    "\n",
    "$$\n",
    "    c = 1 \\quad \\text{on} \\ \\Gamma_{\\mathrm{top}}\n",
    "$$\n",
    "\n",
    "$$\n",
    "    c = 2 \\quad \\text{on} \\ \\Gamma_{\\mathrm{bottom}}\n",
    "$$\n",
    "\n",
    "$$\n",
    "    c = 0 \\quad \\text{on} \\ \\Gamma_{\\mathrm{obstacle}}\n",
    "$$\n",
    "\n",
    "Here, $\\Gamma_{\\mathrm{top}}$, $\\Gamma_{\\mathrm{bottom}}$, and $\\Gamma_{\\mathrm{obstacle}}$ correspond to the physical boundaries marked in the mesh.\n"
   ]
  },
  {
   "cell_type": "code",
   "execution_count": 10,
   "id": "85655898",
   "metadata": {},
   "outputs": [],
   "source": [
    "import festim as F\n",
    "\n",
    "material = F.Material(D_0=1, E_D=0)\n",
    "\n",
    "top_volume = F.VolumeSubdomain(id=11, material=material)\n",
    "\n",
    "tube_surf = F.SurfaceSubdomain(id=7)\n",
    "walls = F.SurfaceSubdomain(id=5)\n",
    "top_surface = F.SurfaceSubdomain(id=1)\n",
    "bottom_surface = F.SurfaceSubdomain(id=3)\n",
    "\n",
    "my_model = F.HydrogenTransportProblem()\n",
    "\n",
    "my_model.mesh = F.Mesh(mesh)\n",
    "\n",
    "# we need to pass the meshtags to the model directly\n",
    "my_model.facet_meshtags = facet_tags\n",
    "my_model.volume_meshtags = cell_tags\n",
    "\n",
    "my_model.subdomains = [top_surface, bottom_surface, tube_surf, walls, top_volume]\n",
    "\n",
    "H = F.Species(\"H\")\n",
    "my_model.species = [H]\n",
    "\n",
    "my_model.temperature = 400\n",
    "\n",
    "my_model.boundary_conditions = [\n",
    "    F.FixedConcentrationBC(subdomain=tube_surf, value=0, species=H),\n",
    "    F.FixedConcentrationBC(subdomain=top_surface, value=1, species=H),\n",
    "    F.FixedConcentrationBC(subdomain=bottom_surface, value=2, species=H),\n",
    "]\n",
    "\n",
    "my_model.settings = F.Settings(atol=1e-10, rtol=1e-10, transient=False)\n",
    "\n",
    "my_model.initialise()\n",
    "my_model.run()"
   ]
  },
  {
   "cell_type": "markdown",
   "id": "1853d763",
   "metadata": {},
   "source": [
    "### Visualisation"
   ]
  },
  {
   "cell_type": "code",
   "execution_count": 11,
   "id": "93074b04",
   "metadata": {
    "tags": [
     "hide-input"
    ]
   },
   "outputs": [
    {
     "data": {
      "application/vnd.jupyter.widget-view+json": {
       "model_id": "2925fc76b6f04a7db319f2ab62eae049",
       "version_major": 2,
       "version_minor": 0
      },
      "text/plain": [
       "EmbeddableWidget(value='<iframe srcdoc=\"<!DOCTYPE html>\\n<html>\\n  <head>\\n    <meta http-equiv=&quot;Content-…"
      ]
     },
     "metadata": {},
     "output_type": "display_data"
    }
   ],
   "source": [
    "hydrogen_concentration = H.solution\n",
    "\n",
    "topology, cell_types, geometry = plot.vtk_mesh(hydrogen_concentration.function_space)\n",
    "u_grid = pyvista.UnstructuredGrid(topology, cell_types, geometry)\n",
    "u_grid.point_data[\"c\"] = hydrogen_concentration.x.array.real\n",
    "u_grid.set_active_scalars(\"c\")\n",
    "u_plotter = pyvista.Plotter()\n",
    "u_plotter.add_mesh(u_grid, show_edges=True)\n",
    "\n",
    "if not pyvista.OFF_SCREEN:\n",
    "    u_plotter.show()\n",
    "else:\n",
    "    figure = u_plotter.screenshot(\"concentration.png\")"
   ]
  },
  {
   "cell_type": "markdown",
   "id": "f24ff863",
   "metadata": {},
   "source": [
    "## Import CAD in GMSH\n",
    "\n",
    "For complex geometries, GMSH allows importing CAD files such as STEP or IGES formats. \n",
    "\n",
    "In this example, we use a CAD model from the GMSH tutorial, generate a mesh from it, and then import the mesh into a FESTIM simulation."
   ]
  },
  {
   "cell_type": "code",
   "execution_count": 12,
   "id": "6e8b62f9",
   "metadata": {},
   "outputs": [
    {
     "name": "stdout",
     "output_type": "stream",
     "text": [
      "Info    :  - Label 'Shapes/Rhino Product' (3D)\n",
      "Info    : Meshing 1D...\n",
      "Info    : [  0%] Meshing curve 1 (BSpline)\n",
      "Info    : [ 10%] Meshing curve 2 (BSpline)\n",
      "Info    : [ 10%] Meshing curve 3 (BSpline)\n",
      "Info    : [ 10%] Meshing curve 4 (BSpline)\n",
      "Info    : [ 10%] Meshing curve 5 (BSpline)\n",
      "Info    : [ 20%] Meshing curve 6 (BSpline)\n",
      "Info    : [ 20%] Meshing curve 7 (BSpline)\n",
      "Info    : [ 20%] Meshing curve 8 (BSpline)\n",
      "Info    : [ 20%] Meshing curve 9 (BSpline)\n",
      "Info    : [ 20%] Meshing curve 10 (BSpline)\n",
      "Info    : [ 30%] Meshing curve 11 (BSpline)\n",
      "Info    : [ 30%] Meshing curve 12 (BSpline)\n",
      "Info    : [ 30%] Meshing curve 13 (BSpline)\n",
      "Info    : [ 30%] Meshing curve 14 (BSpline)\n",
      "Info    : [ 30%] Meshing curve 15 (BSpline)\n",
      "Info    : [ 40%] Meshing curve 16 (BSpline)\n",
      "Info    : [ 40%] Meshing curve 17 (BSpline)\n",
      "Info    : [ 40%] Meshing curve 18 (BSpline)\n",
      "Info    : [ 40%] Meshing curve 19 (BSpline)\n",
      "Info    : [ 40%] Meshing curve 20 (BSpline)\n",
      "Info    : [ 50%] Meshing curve 21 (BSpline)\n",
      "Info    : [ 50%] Meshing curve 22 (BSpline)\n",
      "Info    : [ 50%] Meshing curve 23 (BSpline)\n",
      "Info    : [ 50%] Meshing curve 24 (BSpline)\n",
      "Info    : [ 60%] Meshing curve 25 (BSpline)\n",
      "Info    : [ 60%] Meshing curve 26 (BSpline)\n",
      "Info    : [ 60%] Meshing curve 27 (BSpline)\n",
      "Info    : [ 60%] Meshing curve 28 (BSpline)\n",
      "Info    : [ 60%] Meshing curve 29 (BSpline)\n",
      "Info    : [ 70%] Meshing curve 30 (BSpline)\n",
      "Info    : [ 70%] Meshing curve 31 (BSpline)\n",
      "Info    : [ 70%] Meshing curve 32 (BSpline)\n",
      "Info    : [ 70%] Meshing curve 33 (BSpline)\n",
      "Info    : [ 70%] Meshing curve 34 (BSpline)\n",
      "Info    : [ 80%] Meshing curve 35 (BSpline)\n",
      "Info    : [ 80%] Meshing curve 36 (BSpline)\n",
      "Info    : [ 80%] Meshing curve 37 (BSpline)\n",
      "Info    : [ 80%] Meshing curve 38 (BSpline)\n",
      "Info    : [ 80%] Meshing curve 39 (BSpline)\n",
      "Info    : [ 90%] Meshing curve 40 (BSpline)\n",
      "Info    : [ 90%] Meshing curve 41 (BSpline)\n",
      "Info    : [ 90%] Meshing curve 42 (BSpline)\n",
      "Info    : [ 90%] Meshing curve 43 (BSpline)\n",
      "Info    : [ 90%] Meshing curve 44 (BSpline)\n",
      "Info    : [100%] Meshing curve 45 (BSpline)\n",
      "Info    : [100%] Meshing curve 46 (BSpline)\n",
      "Info    : [100%] Meshing curve 47 (BSpline)\n",
      "Info    : [100%] Meshing curve 48 (BSpline)\n",
      "Info    : Done meshing 1D (Wall 0.0647974s, CPU 0.072801s)\n",
      "Info    : Meshing 2D...\n",
      "Info    : [  0%] Meshing surface 1 (BSpline surface, Frontal-Delaunay)\n",
      "Info    : [ 10%] Meshing surface 2 (BSpline surface, Frontal-Delaunay)\n",
      "Info    : [ 10%] Meshing surface 3 (BSpline surface, Frontal-Delaunay)\n",
      "Info    : [ 20%] Meshing surface 4 (BSpline surface, Frontal-Delaunay)\n",
      "Info    : [ 20%] Meshing surface 5 (BSpline surface, Frontal-Delaunay)\n",
      "Info    : [ 30%] Meshing surface 6 (BSpline surface, Frontal-Delaunay)\n",
      "Info    : [ 30%] Meshing surface 7 (BSpline surface, Frontal-Delaunay)\n",
      "Info    : [ 40%] Meshing surface 8 (BSpline surface, Frontal-Delaunay)\n",
      "Info    : [ 40%] Meshing surface 9 (BSpline surface, Frontal-Delaunay)\n",
      "Info    : [ 50%] Meshing surface 10 (BSpline surface, Frontal-Delaunay)\n",
      "Info    : [ 50%] Meshing surface 11 (BSpline surface, Frontal-Delaunay)\n",
      "Info    : [ 60%] Meshing surface 12 (BSpline surface, Frontal-Delaunay)\n",
      "Info    : [ 60%] Meshing surface 13 (BSpline surface, Frontal-Delaunay)\n",
      "Info    : [ 70%] Meshing surface 14 (BSpline surface, Frontal-Delaunay)\n",
      "Info    : [ 70%] Meshing surface 15 (BSpline surface, Frontal-Delaunay)\n",
      "Info    : [ 80%] Meshing surface 16 (BSpline surface, Frontal-Delaunay)\n",
      "Info    : [ 80%] Meshing surface 17 (BSpline surface, Frontal-Delaunay)\n",
      "Info    : [ 90%] Meshing surface 18 (BSpline surface, Frontal-Delaunay)\n",
      "Info    : [ 90%] Meshing surface 19 (BSpline surface, Frontal-Delaunay)\n",
      "Info    : [100%] Meshing surface 20 (BSpline surface, Frontal-Delaunay)\n",
      "Info    : [100%] Meshing surface 21 (BSpline surface, Frontal-Delaunay)\n",
      "Info    : Done meshing 2D (Wall 0.0321224s, CPU 0.035773s)\n",
      "Info    : Meshing 3D...\n",
      "Info    : 3D Meshing 1 volume with 1 connected component\n",
      "Info    : Tetrahedrizing 1081 nodes...\n",
      "Info    : Done tetrahedrizing 1089 nodes (Wall 0.0107393s, CPU 0.011467s)\n",
      "Info    : Reconstructing mesh...\n",
      "Info    :  - Creating surface mesh\n",
      "Info    :  - Identifying boundary edges\n",
      "Info    :  - Recovering boundary\n",
      "Info    : Done reconstructing mesh (Wall 0.0193243s, CPU 0.021099s)\n",
      "Info    : Found volume 1\n",
      "Info    : It. 0 - 0 nodes created - worst tet radius 1.55675 (nodes removed 0 0)\n",
      "Info    : 3D refinement terminated (1300 nodes total):\n",
      "Info    :  - 0 Delaunay cavities modified for star shapeness\n",
      "Info    :  - 12 nodes could not be inserted\n",
      "Info    :  - 4593 tetrahedra created in 0.00822143 sec. (558661 tets/s)\n",
      "Info    : 0 node relocations\n",
      "Info    : Done meshing 3D (Wall 0.044633s, CPU 0.048429s)\n",
      "Info    : Optimizing mesh...\n",
      "Info    : Optimizing volume 1\n",
      "Info    : Optimization starts (volume = 18459.8) with worst = 0.0323706 / average = 0.727876:\n",
      "Info    : 0.00 < quality < 0.10 :        20 elements\n",
      "Info    : 0.10 < quality < 0.20 :        54 elements\n",
      "Info    : 0.20 < quality < 0.30 :        89 elements\n",
      "Info    : 0.30 < quality < 0.40 :        91 elements\n",
      "Info    : 0.40 < quality < 0.50 :       193 elements\n",
      "Info    : 0.50 < quality < 0.60 :       332 elements\n",
      "Info    : 0.60 < quality < 0.70 :       781 elements\n",
      "Info    : 0.70 < quality < 0.80 :      1279 elements\n",
      "Info    : 0.80 < quality < 0.90 :      1233 elements\n",
      "Info    : 0.90 < quality < 1.00 :       521 elements\n",
      "Info    : 130 edge swaps, 2 node relocations (volume = 18459.8): worst = 0.0873398 / average = 0.742268 (Wall 0.00113929s, CPU 0.001335s)\n",
      "Info    : 132 edge swaps, 2 node relocations (volume = 18459.8): worst = 0.0873398 / average = 0.742618 (Wall 0.00136731s, CPU 0.001579s)\n",
      "Info    : No ill-shaped tets in the mesh :-)\n",
      "Info    : 0.00 < quality < 0.10 :        12 elements\n",
      "Info    : 0.10 < quality < 0.20 :        24 elements\n",
      "Info    : 0.20 < quality < 0.30 :         6 elements\n",
      "Info    : 0.30 < quality < 0.40 :        99 elements\n",
      "Info    : 0.40 < quality < 0.50 :       184 elements\n",
      "Info    : 0.50 < quality < 0.60 :       330 elements\n",
      "Info    : 0.60 < quality < 0.70 :       770 elements\n",
      "Info    : 0.70 < quality < 0.80 :      1294 elements\n",
      "Info    : 0.80 < quality < 0.90 :      1239 elements\n",
      "Info    : 0.90 < quality < 1.00 :       527 elements\n",
      "Info    : Done optimizing mesh (Wall 0.00381051s, CPU 0.004511s)\n",
      "Info    : 1300 nodes 6985 elements\n",
      "Info    : Writing 'gmsh/t20.msh'...\n",
      "Info    : Done writing 'gmsh/t20.msh'\n"
     ]
    }
   ],
   "source": [
    "import gmsh\n",
    "import os\n",
    "\n",
    "gmsh.initialize()\n",
    "\n",
    "# download cad from https://gitlab.onelab.info/gmsh/gmsh/-/raw/gmsh_4_8_4/tutorial/t20_data.step?inline=false\n",
    "import requests\n",
    "\n",
    "if not os.path.exists(os.path.join(os.pardir, \"gmsh/t20_data.step\")):\n",
    "    url = \"https://gitlab.onelab.info/gmsh/gmsh/-/raw/gmsh_4_8_4/tutorial/t20_data.step?inline=false\"\n",
    "    response = requests.get(url)\n",
    "    with open(\"gmsh/t20_data.step\", \"wb\") as f:\n",
    "        f.write(response.content)\n",
    "\n",
    "gmsh.model.add(\"t20\")\n",
    "v = gmsh.model.occ.importShapes(\"gmsh/t20_data.step\")\n",
    "\n",
    "gmsh.model.occ.synchronize()\n",
    "volumes = gmsh.model.getEntities(dim=3)\n",
    "vol_marker = 1\n",
    "gmsh.model.addPhysicalGroup(volumes[0][0], [volumes[0][1]], vol_marker)\n",
    "gmsh.model.setPhysicalName(volumes[0][0], vol_marker, \"Volume\")\n",
    "\n",
    "surfaces = gmsh.model.occ.getEntities(dim=2)\n",
    "gmsh.model.addPhysicalGroup(2, [surfaces[0][1]], 1)\n",
    "gmsh.model.setPhysicalName(2, 1, \"Surf1\")\n",
    "\n",
    "gmsh.model.addPhysicalGroup(2, [surfaces[3][1]], 2)\n",
    "gmsh.model.setPhysicalName(2, 2, \"Surf2\")\n",
    "\n",
    "# Finally, let's specify a global mesh size and mesh the partitioned model:\n",
    "gmsh.option.setNumber(\"Mesh.MeshSizeMin\", 3)\n",
    "gmsh.option.setNumber(\"Mesh.MeshSizeMax\", 3)\n",
    "gmsh.model.mesh.generate(3)\n",
    "gmsh.write(\"gmsh/t20.msh\")\n",
    "gmsh.finalize()"
   ]
  },
  {
   "cell_type": "markdown",
   "id": "e68eb319",
   "metadata": {},
   "source": [
    "### FESTIM model"
   ]
  },
  {
   "cell_type": "code",
   "execution_count": null,
   "id": "cec1dd86",
   "metadata": {},
   "outputs": [
    {
     "name": "stderr",
     "output_type": "stream",
     "text": [
      "Error   : Unable to open file 't20.msh'\n"
     ]
    },
    {
     "ename": "Exception",
     "evalue": "Unable to open file 't20.msh'",
     "output_type": "error",
     "traceback": [
      "\u001b[31m---------------------------------------------------------------------------\u001b[39m",
      "\u001b[31mException\u001b[39m                                 Traceback (most recent call last)",
      "\u001b[32m/tmp/ipykernel_81432/3084962898.py\u001b[39m in \u001b[36m?\u001b[39m\u001b[34m()\u001b[39m\n\u001b[32m      1\u001b[39m model_rank = \u001b[32m0\u001b[39m\n\u001b[32m----> \u001b[39m\u001b[32m2\u001b[39m mesh, cell_tags, facet_tags = gmshio.read_from_msh(\n\u001b[32m      3\u001b[39m     \u001b[33m\"t20.msh\"\u001b[39m, MPI.COMM_WORLD, model_rank, gdim=\u001b[32m3\u001b[39m\n\u001b[32m      4\u001b[39m )\n\u001b[32m      5\u001b[39m \n",
      "\u001b[32m~/anaconda3/envs/festim-workshop-2/lib/python3.13/site-packages/dolfinx/io/gmshio.py\u001b[39m in \u001b[36m?\u001b[39m\u001b[34m(filename, comm, rank, gdim, partitioner)\u001b[39m\n\u001b[32m    369\u001b[39m \n\u001b[32m    370\u001b[39m     \u001b[38;5;28;01mif\u001b[39;00m comm.rank == rank:\n\u001b[32m    371\u001b[39m         gmsh.initialize()\n\u001b[32m    372\u001b[39m         gmsh.model.add(\u001b[33m\"Mesh from file\"\u001b[39m)\n\u001b[32m--> \u001b[39m\u001b[32m373\u001b[39m         gmsh.merge(str(filename))\n\u001b[32m    374\u001b[39m         msh = model_to_mesh(gmsh.model, comm, rank, gdim=gdim, partitioner=partitioner)\n\u001b[32m    375\u001b[39m         gmsh.finalize()\n\u001b[32m    376\u001b[39m         \u001b[38;5;28;01mreturn\u001b[39;00m msh\n",
      "\u001b[32m~/anaconda3/envs/festim-workshop-2/lib/python3.13/site-packages/gmsh.py\u001b[39m in \u001b[36m?\u001b[39m\u001b[34m(fileName)\u001b[39m\n\u001b[32m    355\u001b[39m     lib.gmshMerge(\n\u001b[32m    356\u001b[39m         c_char_p(fileName.encode()),\n\u001b[32m    357\u001b[39m         byref(ierr))\n\u001b[32m    358\u001b[39m     \u001b[38;5;28;01mif\u001b[39;00m ierr.value != \u001b[32m0\u001b[39m:\n\u001b[32m--> \u001b[39m\u001b[32m359\u001b[39m         \u001b[38;5;28;01mraise\u001b[39;00m Exception(logger.getLastError())\n",
      "\u001b[31mException\u001b[39m: Unable to open file 't20.msh'"
     ]
    }
   ],
   "source": [
    "model_rank = 0\n",
    "mesh, cell_tags, facet_tags = gmshio.read_from_msh(\n",
    "    \"gmsh/t20.msh\", MPI.COMM_WORLD, model_rank, gdim=3\n",
    ")\n",
    "\n",
    "print(f\"Cell tags: {np.unique(cell_tags.values)}\")\n",
    "print(f\"Facet tags: {np.unique(facet_tags.values)}\")\n",
    "\n",
    "my_model = F.HydrogenTransportProblem()\n",
    "\n",
    "my_model.mesh = F.Mesh(mesh)\n",
    "\n",
    "material = F.Material(D_0=1, E_D=0)\n",
    "\n",
    "vol = F.VolumeSubdomain(id=1, material=material)\n",
    "\n",
    "surf1 = F.SurfaceSubdomain(id=1)\n",
    "surf2 = F.SurfaceSubdomain(id=2)\n",
    "\n",
    "# we need to pass the meshtags to the model directly\n",
    "my_model.facet_meshtags = facet_tags\n",
    "my_model.volume_meshtags = cell_tags\n",
    "\n",
    "my_model.subdomains = [surf1, surf2, vol]\n",
    "\n",
    "H = F.Species(\"H\")\n",
    "my_model.species = [H]\n",
    "\n",
    "my_model.temperature = 400\n",
    "\n",
    "my_model.boundary_conditions = [\n",
    "    F.FixedConcentrationBC(subdomain=surf1, value=1, species=H),\n",
    "    F.FixedConcentrationBC(subdomain=surf2, value=0, species=H),\n",
    "]\n",
    "\n",
    "my_model.settings = F.Settings(atol=1e-10, rtol=1e-10, transient=False)\n",
    "\n",
    "my_model.initialise()\n",
    "my_model.run()"
   ]
  },
  {
   "cell_type": "markdown",
   "id": "0053f33d",
   "metadata": {},
   "source": [
    "### Visualisation"
   ]
  },
  {
   "cell_type": "code",
   "execution_count": null,
   "id": "d3ab2483",
   "metadata": {
    "tags": [
     "hide-input"
    ]
   },
   "outputs": [
    {
     "data": {
      "application/vnd.jupyter.widget-view+json": {
       "model_id": "253181d715834e05aba931f08b2ca7cc",
       "version_major": 2,
       "version_minor": 0
      },
      "text/plain": [
       "EmbeddableWidget(value='<iframe srcdoc=\"<!DOCTYPE html>\\n<html>\\n  <head>\\n    <meta http-equiv=&quot;Content-…"
      ]
     },
     "metadata": {},
     "output_type": "display_data"
    }
   ],
   "source": [
    "hydrogen_concentration = H.solution\n",
    "\n",
    "topology, cell_types, geometry = plot.vtk_mesh(hydrogen_concentration.function_space)\n",
    "u_grid = pyvista.UnstructuredGrid(topology, cell_types, geometry)\n",
    "u_grid.point_data[\"c\"] = hydrogen_concentration.x.array.real\n",
    "u_grid.set_active_scalars(\"c\")\n",
    "u_plotter = pyvista.Plotter()\n",
    "u_plotter.add_mesh(u_grid, show_edges=True)\n",
    "\n",
    "if not pyvista.OFF_SCREEN:\n",
    "    u_plotter.show()\n",
    "else:\n",
    "    figure = u_plotter.screenshot(\"concentration.png\")"
   ]
  }
 ],
 "metadata": {
  "kernelspec": {
   "display_name": "festim-workshop-2",
   "language": "python",
   "name": "python3"
  },
  "language_info": {
   "codemirror_mode": {
    "name": "ipython",
    "version": 3
   },
   "file_extension": ".py",
   "mimetype": "text/x-python",
   "name": "python",
   "nbconvert_exporter": "python",
   "pygments_lexer": "ipython3",
   "version": "3.13.5"
  }
 },
 "nbformat": 4,
 "nbformat_minor": 5
}
